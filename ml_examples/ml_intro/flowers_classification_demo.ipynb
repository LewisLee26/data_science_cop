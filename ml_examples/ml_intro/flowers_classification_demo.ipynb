{
 "cells": [
  {
   "cell_type": "markdown",
   "metadata": {},
   "source": [
    "# Flower Species Classifcation\n",
    "\n",
    "This famous dataset demonstrates classifying the species of an Iris flower based on measurements of the flower such as the length and width of the petal and sepal.\n",
    "\n",
    "The input features are:\n",
    "1. sepal length in cm\n",
    "1. sepal width in cm\n",
    "1. petal length in cm\n",
    "1. petal width in cm\n",
    "\n",
    "The target feature is the species of the flower, of which there are three classes:\n",
    "* Iris Setosa\n",
    "* Iris Versicolour\n",
    "* Iris Virginica\n",
    "\n",
    "One class is linearly separable from the other 2, the other classses are not linearly separable.\n",
    "\n",
    "Sources and further learning:\n",
    "* http://archive.ics.uci.edu/ml/datasets/iris\n",
    "* https://scikit-learn.org/stable/datasets/index.html#iris-plants-dataset\n",
    "* https://www.kaggle.com/uciml/iris\n",
    "\n",
    "<p><a href=\"https://commons.wikimedia.org/wiki/File:Iris_germanica_(Purple_bearded_Iris),_Wakehurst_Place,_UK_-_Diliff.jpg#/media/File:Iris_germanica_(Purple_bearded_Iris),_Wakehurst_Place,_UK_-_Diliff.jpg\"><img src=\"https://upload.wikimedia.org/wikipedia/commons/thumb/4/49/Iris_germanica_%28Purple_bearded_Iris%29%2C_Wakehurst_Place%2C_UK_-_Diliff.jpg/1200px-Iris_germanica_%28Purple_bearded_Iris%29%2C_Wakehurst_Place%2C_UK_-_Diliff.jpg\" alt=\"Iris germanica (Purple bearded Iris), Wakehurst Place, UK - Diliff.jpg\" width=\"300\" height=\"300\"></a><br>By <a href=\"//commons.wikimedia.org/wiki/User:Diliff\" title=\"User:Diliff\">Diliff</a> - <span class=\"int-own-work\" lang=\"en\">Own work</span>, <a href=\"https://creativecommons.org/licenses/by-sa/3.0\" title=\"Creative Commons Attribution-Share Alike 3.0\">CC BY-SA 3.0</a>, <a href=\"https://commons.wikimedia.org/w/index.php?curid=33037509\">Link</a></p>\n"
   ]
  },
  {
   "cell_type": "code",
   "execution_count": 1,
   "metadata": {},
   "outputs": [],
   "source": [
    "import pandas\n",
    "import numpy\n",
    "import matplotlib\n",
    "import matplotlib.pyplot\n",
    "import matplotlib.colors\n",
    "import sklearn.datasets\n",
    "import sklearn.model_selection\n",
    "import sklearn.preprocessing\n",
    "import sklearn.decomposition\n",
    "import sklearn.metrics\n",
    "import sklearn.linear_model\n",
    "import sklearn.neighbors\n",
    "%matplotlib inline"
   ]
  },
  {
   "cell_type": "code",
   "execution_count": 2,
   "metadata": {},
   "outputs": [],
   "source": [
    "# some constants\n",
    "num_classes = 3\n",
    "input_features = [\n",
    "    'sepal length (cm)',\n",
    "    'sepal width (cm)',\n",
    "    'petal length (cm)',\n",
    "    'petal width (cm)']\n",
    "target_feature = 'species'"
   ]
  },
  {
   "cell_type": "code",
   "execution_count": 3,
   "metadata": {},
   "outputs": [],
   "source": [
    "# This data is also available through scikit-learn example datasets by calling the funcation sklearn.datasets.load_iris()\n",
    "flowers_df_raw = pandas.read_csv('./Data/flowers.csv', names=(input_features + [target_feature]))\n",
    "species_names = list(flowers_df_raw.species.unique())"
   ]
  },
  {
   "cell_type": "markdown",
   "metadata": {},
   "source": [
    "### Data exploration"
   ]
  },
  {
   "cell_type": "code",
   "execution_count": 4,
   "metadata": {},
   "outputs": [
    {
     "data": {
      "image/png": "[encoded data removed]",
      "text/plain": [
       "<Figure size 864x864 with 4 Axes>"
      ]
     },
     "metadata": {
      "needs_background": "light"
     },
     "output_type": "display_data"
    }
   ],
   "source": [
    "_ = flowers_df_raw[input_features[:4]].hist(figsize=(12,12))"
   ]
  },
  {
   "cell_type": "code",
   "execution_count": 5,
   "metadata": {},
   "outputs": [
    {
     "data": {
      "text/plain": [
       "<BarContainer object of 3 artists>"
      ]
     },
     "execution_count": 5,
     "metadata": {},
     "output_type": "execute_result"
    },
    {
     "data": {
      "image/png": "[encoded data removed]",
      "text/plain": [
       "<Figure size 432x288 with 1 Axes>"
      ]
     },
     "metadata": {
      "needs_background": "light"
     },
     "output_type": "display_data"
    }
   ],
   "source": [
    "fig1 = matplotlib.pyplot.figure('species_dist')\n",
    "ax1 = fig1.add_subplot(111)\n",
    "ax1.bar(list(flowers_df_raw.species.unique()), (flowers_df_raw.species.value_counts().values))"
   ]
  },
  {
   "cell_type": "markdown",
   "metadata": {},
   "source": [
    "### Data preprocessing"
   ]
  },
  {
   "cell_type": "code",
   "execution_count": 6,
   "metadata": {},
   "outputs": [],
   "source": [
    "species_encoder = sklearn.preprocessing.LabelEncoder()\n",
    "species_encoder.fit(flowers_df_raw.species)\n",
    "species_encoded = pandas.DataFrame(species_encoder.transform(flowers_df_raw.species), columns=[target_feature])\n",
    "\n",
    "\n",
    "input_normaliser = sklearn.preprocessing.StandardScaler()\n",
    "input_normaliser.fit(flowers_df_raw[input_features])\n",
    "inputs_scaled = pandas.DataFrame(input_normaliser.transform(flowers_df_raw[input_features]),columns=input_features)\n",
    "\n",
    "flowers_df_ml = pandas.concat([inputs_scaled, species_encoded],axis=1)"
   ]
  },
  {
   "cell_type": "code",
   "execution_count": 7,
   "metadata": {},
   "outputs": [
    {
     "data": {
      "text/html": [
       "<div>\n",
       "<style scoped>\n",
       "    .dataframe tbody tr th:only-of-type {\n",
       "        vertical-align: middle;\n",
       "    }\n",
       "\n",
       "    .dataframe tbody tr th {\n",
       "        vertical-align: top;\n",
       "    }\n",
       "\n",
       "    .dataframe thead th {\n",
       "        text-align: right;\n",
       "    }\n",
       "</style>\n",
       "<table border=\"1\" class=\"dataframe\">\n",
       "  <thead>\n",
       "    <tr style=\"text-align: right;\">\n",
       "      <th></th>\n",
       "      <th>sepal length (cm)</th>\n",
       "      <th>sepal width (cm)</th>\n",
       "      <th>petal length (cm)</th>\n",
       "      <th>petal width (cm)</th>\n",
       "      <th>species</th>\n",
       "    </tr>\n",
       "  </thead>\n",
       "  <tbody>\n",
       "    <tr>\n",
       "      <th>0</th>\n",
       "      <td>5.1</td>\n",
       "      <td>3.5</td>\n",
       "      <td>1.4</td>\n",
       "      <td>0.2</td>\n",
       "      <td>Iris-setosa</td>\n",
       "    </tr>\n",
       "    <tr>\n",
       "      <th>1</th>\n",
       "      <td>4.9</td>\n",
       "      <td>3.0</td>\n",
       "      <td>1.4</td>\n",
       "      <td>0.2</td>\n",
       "      <td>Iris-setosa</td>\n",
       "    </tr>\n",
       "    <tr>\n",
       "      <th>2</th>\n",
       "      <td>4.7</td>\n",
       "      <td>3.2</td>\n",
       "      <td>1.3</td>\n",
       "      <td>0.2</td>\n",
       "      <td>Iris-setosa</td>\n",
       "    </tr>\n",
       "    <tr>\n",
       "      <th>3</th>\n",
       "      <td>4.6</td>\n",
       "      <td>3.1</td>\n",
       "      <td>1.5</td>\n",
       "      <td>0.2</td>\n",
       "      <td>Iris-setosa</td>\n",
       "    </tr>\n",
       "    <tr>\n",
       "      <th>4</th>\n",
       "      <td>5.0</td>\n",
       "      <td>3.6</td>\n",
       "      <td>1.4</td>\n",
       "      <td>0.2</td>\n",
       "      <td>Iris-setosa</td>\n",
       "    </tr>\n",
       "    <tr>\n",
       "      <th>...</th>\n",
       "      <td>...</td>\n",
       "      <td>...</td>\n",
       "      <td>...</td>\n",
       "      <td>...</td>\n",
       "      <td>...</td>\n",
       "    </tr>\n",
       "    <tr>\n",
       "      <th>145</th>\n",
       "      <td>6.7</td>\n",
       "      <td>3.0</td>\n",
       "      <td>5.2</td>\n",
       "      <td>2.3</td>\n",
       "      <td>Iris-virginica</td>\n",
       "    </tr>\n",
       "    <tr>\n",
       "      <th>146</th>\n",
       "      <td>6.3</td>\n",
       "      <td>2.5</td>\n",
       "      <td>5.0</td>\n",
       "      <td>1.9</td>\n",
       "      <td>Iris-virginica</td>\n",
       "    </tr>\n",
       "    <tr>\n",
       "      <th>147</th>\n",
       "      <td>6.5</td>\n",
       "      <td>3.0</td>\n",
       "      <td>5.2</td>\n",
       "      <td>2.0</td>\n",
       "      <td>Iris-virginica</td>\n",
       "    </tr>\n",
       "    <tr>\n",
       "      <th>148</th>\n",
       "      <td>6.2</td>\n",
       "      <td>3.4</td>\n",
       "      <td>5.4</td>\n",
       "      <td>2.3</td>\n",
       "      <td>Iris-virginica</td>\n",
       "    </tr>\n",
       "    <tr>\n",
       "      <th>149</th>\n",
       "      <td>5.9</td>\n",
       "      <td>3.0</td>\n",
       "      <td>5.1</td>\n",
       "      <td>1.8</td>\n",
       "      <td>Iris-virginica</td>\n",
       "    </tr>\n",
       "  </tbody>\n",
       "</table>\n",
       "<p>150 rows × 5 columns</p>\n",
       "</div>"
      ],
      "text/plain": [
       "     sepal length (cm)  sepal width (cm)  petal length (cm)  petal width (cm)  \\\n",
       "0                  5.1               3.5                1.4               0.2   \n",
       "1                  4.9               3.0                1.4               0.2   \n",
       "2                  4.7               3.2                1.3               0.2   \n",
       "3                  4.6               3.1                1.5               0.2   \n",
       "4                  5.0               3.6                1.4               0.2   \n",
       "..                 ...               ...                ...               ...   \n",
       "145                6.7               3.0                5.2               2.3   \n",
       "146                6.3               2.5                5.0               1.9   \n",
       "147                6.5               3.0                5.2               2.0   \n",
       "148                6.2               3.4                5.4               2.3   \n",
       "149                5.9               3.0                5.1               1.8   \n",
       "\n",
       "            species  \n",
       "0       Iris-setosa  \n",
       "1       Iris-setosa  \n",
       "2       Iris-setosa  \n",
       "3       Iris-setosa  \n",
       "4       Iris-setosa  \n",
       "..              ...  \n",
       "145  Iris-virginica  \n",
       "146  Iris-virginica  \n",
       "147  Iris-virginica  \n",
       "148  Iris-virginica  \n",
       "149  Iris-virginica  \n",
       "\n",
       "[150 rows x 5 columns]"
      ]
     },
     "execution_count": 7,
     "metadata": {},
     "output_type": "execute_result"
    }
   ],
   "source": [
    "flowers_df_raw"
   ]
  },
  {
   "cell_type": "code",
   "execution_count": 8,
   "metadata": {},
   "outputs": [],
   "source": [
    "(X_train, X_test,\n",
    " y_train, y_test) = sklearn.model_selection.train_test_split(\n",
    "    flowers_df_ml[input_features], flowers_df_ml[target_feature], test_size=0.2)\n"
   ]
  },
  {
   "cell_type": "markdown",
   "metadata": {},
   "source": [
    "### Dimensionality reduction and visualisation\n",
    "\n",
    "It is important to understand your data. Visualisation is the easiest to develop some intuition about a dataset but most datasets will have more that 2 features, and so cannot immediately be visualised. Dimensionality reduction techniques aim to present as much of the information as possible with fewer features, exploiting correlations in the data. Using an aglorithm like PCA, the first 2 dimensions have the most information in them, so we can visualise those and see how separable the classes might be."
   ]
  },
  {
   "cell_type": "code",
   "execution_count": 9,
   "metadata": {},
   "outputs": [],
   "source": [
    "dim_red_pca = sklearn.decomposition.PCA(n_components=2)\n",
    "dim_red_pca.fit(flowers_df_ml[input_features])\n",
    "input_vis = dim_red_pca.transform(flowers_df_ml[input_features])"
   ]
  },
  {
   "cell_type": "code",
   "execution_count": 10,
   "metadata": {},
   "outputs": [
    {
     "data": {
      "image/png": "[encoded data removed]",
      "text/plain": [
       "<Figure size 432x288 with 1 Axes>"
      ]
     },
     "metadata": {
      "needs_background": "light"
     },
     "output_type": "display_data"
    }
   ],
   "source": [
    "fig_pca = matplotlib.pyplot.figure('dimension_reduction')\n",
    "ax_pca = fig_pca.add_subplot(111,title='2D reduction of the flower input features.')\n",
    "_= ax_pca.scatter(input_vis[:,0],input_vis[:,1],c=list(flowers_df_ml[target_feature]),cmap=matplotlib.colors.ListedColormap(['#FF0000','#00FF00','#0000FF']))"
   ]
  },
  {
   "cell_type": "markdown",
   "metadata": {},
   "source": [
    "### Linear Classification\n",
    " Start by applying linear classifiers. Our PCA has shown that the classes are not all linearly separable, but we can find a baseline for accuracy. More complex algorithms must be better than a simple linear one to be worth the effort!"
   ]
  },
  {
   "cell_type": "code",
   "execution_count": 11,
   "metadata": {},
   "outputs": [],
   "source": [
    "clf_lin_svc = sklearn.svm.LinearSVC()\n",
    "clf_lin_svc.fit(X_train, y_train)\n",
    "y_res_train_svc = clf_lin_svc.predict(X_train)\n",
    "df_res_train_svc = pandas.concat([X_train, pandas.DataFrame(y_res_train_svc,columns=[target_feature])],axis=1)\n",
    "y_res_test_svc = clf_lin_svc.predict(X_test)\n",
    "df_res_test_svc = pandas.concat([X_test, pandas.DataFrame(y_res_test_svc,columns=[target_feature])],axis=1)\n",
    "score_f1_train = sklearn.metrics.f1_score(y_train,y_res_train_svc,average=None)\n",
    "score_f1_test = sklearn.metrics.f1_score(y_test,y_res_test_svc,average=None)"
   ]
  },
  {
   "cell_type": "code",
   "execution_count": 12,
   "metadata": {},
   "outputs": [
    {
     "data": {
      "image/png": "[encoded data removed]",
      "text/plain": [
       "<Figure size 432x432 with 1 Axes>"
      ]
     },
     "metadata": {
      "needs_background": "light"
     },
     "output_type": "display_data"
    }
   ],
   "source": [
    "fig_svc_f1 = matplotlib.pyplot.figure('results_svc_f1',figsize=(6,6))\n",
    "ax_svc_f1 = fig_svc_f1.add_subplot(111,title='F1 Score - Linear SVC')\n",
    "bar_width = 0.4\n",
    "bar_pos_train = numpy.arange(0,num_classes)\n",
    "_ = ax_svc_f1.bar(bar_pos_train, score_f1_train, label='train',width=bar_width)\n",
    "bar_pos_test = [x1 + bar_width for x1 in bar_pos_train]\n",
    "_ = ax_svc_f1.bar(bar_pos_test, score_f1_test, label='test',width=bar_width)\n",
    "_ = ax_svc_f1.legend(loc=4)\n",
    "_ = ax_svc_f1.set_xticks(bar_pos_train)\n",
    "_ = ax_svc_f1.set_xticklabels(species_names)"
   ]
  },
  {
   "cell_type": "code",
   "execution_count": 13,
   "metadata": {},
   "outputs": [],
   "source": [
    "clf_logreg = sklearn.linear_model.LogisticRegression()\n",
    "clf_logreg.fit(X_train, y_train)\n",
    "y_res_train_logreg = clf_logreg.predict(X_train)\n",
    "df_res_train_logreg = pandas.concat([X_train, pandas.DataFrame(y_res_train_logreg,columns=[target_feature])],axis=1)\n",
    "y_res_test_logreg = clf_logreg.predict(X_test)\n",
    "df_res_test_logreg = pandas.concat([X_test, pandas.DataFrame(y_res_test_logreg,columns=[target_feature])],axis=1)\n",
    "score_f1_train_logreg = sklearn.metrics.f1_score(y_train,y_res_train_logreg,average=None)\n",
    "score_f1_test_logreg = sklearn.metrics.f1_score(y_test,y_res_test_logreg,average=None)"
   ]
  },
  {
   "cell_type": "code",
   "execution_count": 14,
   "metadata": {},
   "outputs": [
    {
     "data": {
      "image/png": "[encoded data removed]",
      "text/plain": [
       "<Figure size 432x432 with 1 Axes>"
      ]
     },
     "metadata": {
      "needs_background": "light"
     },
     "output_type": "display_data"
    }
   ],
   "source": [
    "fig_logreg_f1 = matplotlib.pyplot.figure('results_logreg_f1',figsize=(6,6))\n",
    "ax_logreg_f1 = fig_logreg_f1.add_subplot(111,title='F1 Score - Logistic Regression')\n",
    "_ = ax_logreg_f1.bar(bar_pos_train, score_f1_train_logreg, label='train',width=bar_width)\n",
    "_ = ax_logreg_f1.bar(bar_pos_test, score_f1_test_logreg, label='test',width=bar_width)\n",
    "_ = ax_logreg_f1.legend(loc=4)\n",
    "_ = ax_logreg_f1.set_xticks(bar_pos_train)\n",
    "_ = ax_logreg_f1.set_xticklabels(species_names)"
   ]
  },
  {
   "cell_type": "markdown",
   "metadata": {},
   "source": [
    "### Nearest Neighbour\n",
    "\n",
    "\n",
    "adasdasd\n"
   ]
  },
  {
   "cell_type": "code",
   "execution_count": 15,
   "metadata": {},
   "outputs": [],
   "source": [
    "clf_nn5 = sklearn.neighbors.KNeighborsClassifier(n_neighbors=2)\n",
    "clf_nn5.fit(X_train, y_train)\n",
    "y_res_train_nn5 = clf_nn5.predict(X_train)\n",
    "df_res_train_nn5 = pandas.concat([X_train, pandas.DataFrame(y_res_train_nn5,columns=[target_feature])],axis=1)\n",
    "y_res_test_nn5 = clf_nn5.predict(X_test)\n",
    "df_res_test_nn5 = pandas.concat([X_test, pandas.DataFrame(y_res_test_nn5,columns=[target_feature])],axis=1)\n",
    "score_f1_train_nn5 = sklearn.metrics.f1_score(y_train,y_res_train_nn5,average=None)\n",
    "score_f1_test_nn5 = sklearn.metrics.f1_score(y_test,y_res_test_nn5,average=None)"
   ]
  },
  {
   "cell_type": "code",
   "execution_count": 16,
   "metadata": {},
   "outputs": [
    {
     "data": {
      "image/png": "[encoded data removed]",
      "text/plain": [
       "<Figure size 432x432 with 1 Axes>"
      ]
     },
     "metadata": {
      "needs_background": "light"
     },
     "output_type": "display_data"
    }
   ],
   "source": [
    "fig_nn5_f1 = matplotlib.pyplot.figure('results_nn5_f1',figsize=(6,6))\n",
    "ax_nn5_f1 = fig_nn5_f1.add_subplot(111,title='F1 Score - Logistic Regression')\n",
    "_ = ax_nn5_f1.bar(bar_pos_train, score_f1_train_nn5, label='train',width=bar_width)\n",
    "_ = ax_nn5_f1.bar(bar_pos_test, score_f1_test_nn5, label='test',width=bar_width)\n",
    "_ = ax_nn5_f1.legend(loc=4)\n",
    "_ = ax_nn5_f1.set_xticks(bar_pos_train)\n",
    "_ = ax_nn5_f1.set_xticklabels(species_names)"
   ]
  },
  {
   "cell_type": "markdown",
   "metadata": {},
   "source": [
    "### Decision trees"
   ]
  },
  {
   "cell_type": "code",
   "execution_count": null,
   "metadata": {},
   "outputs": [],
   "source": []
  },
  {
   "cell_type": "code",
   "execution_count": null,
   "metadata": {},
   "outputs": [],
   "source": []
  },
  {
   "cell_type": "markdown",
   "metadata": {},
   "source": [
    "### Meauring sucess: metrics"
   ]
  },
  {
   "cell_type": "code",
   "execution_count": null,
   "metadata": {},
   "outputs": [],
   "source": []
  },
  {
   "cell_type": "markdown",
   "metadata": {},
   "source": [
    "### Hyperparameter tuning"
   ]
  },
  {
   "cell_type": "code",
   "execution_count": null,
   "metadata": {},
   "outputs": [],
   "source": []
  }
 ],
 "metadata": {
  "kernelspec": {
   "display_name": "Python 3",
   "language": "python",
   "name": "python3"
  },
  "language_info": {
   "codemirror_mode": {
    "name": "ipython",
    "version": 3
   },
   "file_extension": ".py",
   "mimetype": "text/x-python",
   "name": "python",
   "nbconvert_exporter": "python",
   "pygments_lexer": "ipython3",
   "version": "3.6.8"
  },
  "vscode": {
   "interpreter": {
    "hash": "916dbcbb3f70747c44a77c7bcd40155683ae19c65e1c03b4aa3499c5328201f1"
   }
  }
 },
 "nbformat": 4,
 "nbformat_minor": 4
}
