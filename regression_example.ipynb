{
 "cells": [
  {
   "cell_type": "markdown",
   "metadata": {},
   "source": [
    "# Supervised learning - regression\n",
    "\n",
    "In supervised regression, we want to train the algorithm to predict a value, rather than a categorical value as do in classification. These techniques are essentially the same as regression in statistics.\n",
    "\n",
    "In this notebook we will look at how to create a regression pipeline using the tools available in the Scikit-learn library. See the scikit-learn documentation for more information on the functions used:\n",
    "\n",
    "* user Guide: https://scikit-learn.org/stable/user_guide.html\n",
    "* API reference: https://scikit-learn.org/stable/modules/classes.html"
   ]
  },
  {
   "cell_type": "code",
   "execution_count": 1,
   "metadata": {},
   "outputs": [],
   "source": [
    "import os"
   ]
  },
  {
   "cell_type": "code",
   "execution_count": 24,
   "metadata": {},
   "outputs": [],
   "source": [
    "import numpy\n",
    "import pandas\n",
    "import matplotlib\n",
    "import matplotlib.pyplot\n",
    "import mpl_toolkits.mplot3d"
   ]
  },
  {
   "cell_type": "code",
   "execution_count": 95,
   "metadata": {},
   "outputs": [],
   "source": [
    "import sklearn\n",
    "import sklearn.datasets\n",
    "import sklearn.model_selection\n",
    "import sklearn.preprocessing\n",
    "import sklearn.linear_model\n",
    "import sklearn.metrics"
   ]
  },
  {
   "cell_type": "markdown",
   "metadata": {},
   "source": [
    "## Data loading and exploration\n",
    "We will use a generated dataset from scikit-learn to demonstrate the regression pipeline. To better demonstrate a standard pipeline, I am changing the mean and standard deviation of the input features to represent a dataset closer to a real example where preprpocessing is required.\n",
    "\n",
    "Documentation:\n",
    "* https://scikit-learn.org/stable/modules/generated/sklearn.datasets.make_regression.html#sklearn.datasets.make_regression"
   ]
  },
  {
   "cell_type": "code",
   "execution_count": 23,
   "metadata": {},
   "outputs": [],
   "source": [
    "n_samples=1000\n",
    "n_features=10\n",
    "n_informative=5\n",
    "n_targets = 1\n",
    "noise_std = 0.2"
   ]
  },
  {
   "cell_type": "code",
   "execution_count": 81,
   "metadata": {},
   "outputs": [],
   "source": [
    "scale_random = numpy.repeat(numpy.random.random([1,n_features])*5, n_samples, axis=0)\n",
    "translate_random = numpy.repeat(numpy.array(numpy.random.random([1,n_features])*10-5,dtype=numpy.int32), n_samples, axis=0)\n",
    "input_features, target_feature, coef1 =  sklearn.datasets.make_regression(n_samples=n_samples, \n",
    "                                         n_features=n_features, \n",
    "                                         n_informative=n_informative, \n",
    "                                         n_targets=n_targets, \n",
    "                                         noise=noise_std,\n",
    "                                         coef=True)\n",
    "input_features = (input_features * scale_random) + translate_random"
   ]
  },
  {
   "cell_type": "code",
   "execution_count": 82,
   "metadata": {},
   "outputs": [
    {
     "data": {
      "text/plain": [
       "array([ 0.        , 90.91238786, 93.36253291,  0.        , 89.10777337,\n",
       "        0.        ,  0.        , 66.89337894, 18.09660984,  0.        ])"
      ]
     },
     "execution_count": 82,
     "metadata": {},
     "output_type": "execute_result"
    }
   ],
   "source": [
    "coef1"
   ]
  },
  {
   "cell_type": "code",
   "execution_count": 83,
   "metadata": {},
   "outputs": [
    {
     "data": {
      "text/plain": [
       "array([-2.08635773e+00, -3.08418204e+00,  3.19026051e-03, -1.94716593e+00,\n",
       "       -3.54290089e-02,  1.99152353e+00, -3.09384437e+00, -4.01785782e+00,\n",
       "       -3.00026743e+00, -6.06944446e-02])"
      ]
     },
     "execution_count": 83,
     "metadata": {},
     "output_type": "execute_result"
    }
   ],
   "source": [
    "input_features.mean(axis=0)"
   ]
  },
  {
   "cell_type": "code",
   "execution_count": 84,
   "metadata": {},
   "outputs": [
    {
     "data": {
      "text/plain": [
       "array([4.43414389, 1.78519554, 3.44177786, 2.47964482, 3.72483471,\n",
       "       1.22571448, 4.71310688, 0.7202224 , 0.45396689, 1.89564103])"
      ]
     },
     "execution_count": 84,
     "metadata": {},
     "output_type": "execute_result"
    }
   ],
   "source": [
    "input_features.std(axis=0)"
   ]
  },
  {
   "cell_type": "code",
   "execution_count": 85,
   "metadata": {},
   "outputs": [
    {
     "name": "stdout",
     "output_type": "stream",
     "text": [
      "target variable range=[-562.8482776890254,659.9814371374064] mean=-6.7749403837336954 std=177.67507055910667\n"
     ]
    }
   ],
   "source": [
    "print(f'target variable range=[{target_feature.min()},{target_feature.max()}] mean={target_feature.mean()} std={target_feature.std()}')"
   ]
  },
  {
   "cell_type": "markdown",
   "metadata": {},
   "source": [
    "## Data preprocessing\n",
    "\n",
    "\n",
    "Documentation:\n",
    "* https://scikit-learn.org/stable/modules/generated/sklearn.model_selection.train_test_split.html\n",
    "* https://scikit-learn.org/stable/modules/generated/sklearn.preprocessing.StandardScaler.html"
   ]
  },
  {
   "cell_type": "code",
   "execution_count": 86,
   "metadata": {},
   "outputs": [],
   "source": [
    "input_train, input_test, target_train, target_test = sklearn.model_selection.train_test_split(input_features, target_feature)"
   ]
  },
  {
   "cell_type": "code",
   "execution_count": 87,
   "metadata": {},
   "outputs": [],
   "source": [
    "input_scaler = sklearn.preprocessing.StandardScaler()\n",
    "input_scaler.fit(input_train)\n",
    "X_train = input_scaler.transform(input_train)\n",
    "X_test = input_scaler.transform(input_test)\n",
    "y_train = target_train\n",
    "y_test = target_test"
   ]
  },
  {
   "cell_type": "code",
   "execution_count": 88,
   "metadata": {},
   "outputs": [
    {
     "data": {
      "text/plain": [
       "array([ 5.28466160e-17, -3.59712260e-17, -2.53130850e-17,  7.44737605e-16,\n",
       "       -3.70074342e-18,  3.76365605e-16,  7.98028310e-16,  4.32128407e-15,\n",
       "        5.31064082e-15, -1.83556873e-17])"
      ]
     },
     "execution_count": 88,
     "metadata": {},
     "output_type": "execute_result"
    }
   ],
   "source": [
    "X_train.mean(axis=0)"
   ]
  },
  {
   "cell_type": "code",
   "execution_count": 89,
   "metadata": {},
   "outputs": [
    {
     "data": {
      "text/plain": [
       "array([1., 1., 1., 1., 1., 1., 1., 1., 1., 1.])"
      ]
     },
     "execution_count": 89,
     "metadata": {},
     "output_type": "execute_result"
    }
   ],
   "source": [
    "X_train.std(axis=0)"
   ]
  },
  {
   "cell_type": "markdown",
   "metadata": {},
   "source": [
    "## Training regression algorithms\n",
    "\n",
    "Documentation: \n",
    "* https://scikit-learn.org/stable/modules/generated/sklearn.linear_model.LinearRegression.html"
   ]
  },
  {
   "cell_type": "code",
   "execution_count": 92,
   "metadata": {},
   "outputs": [
    {
     "data": {
      "text/plain": [
       "array([ 6.03809056e-03,  9.23329128e+01,  9.35872814e+01, -1.99057648e-03,\n",
       "        9.32641654e+01,  6.03841251e-03,  5.01223321e-03,  6.53609042e+01,\n",
       "        1.76552912e+01, -3.60678660e-03])"
      ]
     },
     "execution_count": 92,
     "metadata": {},
     "output_type": "execute_result"
    }
   ],
   "source": [
    "linear_regressor1 = sklearn.linear_model.LinearRegression()\n",
    "linear_regressor1.fit(X_train, y_train)\n",
    "linear_regressor1.coef_"
   ]
  },
  {
   "cell_type": "code",
   "execution_count": 91,
   "metadata": {},
   "outputs": [
    {
     "data": {
      "text/plain": [
       "array([ 6.03809056e-03,  1.42052495e+00,  2.24748462e-01, -1.99057648e-03,\n",
       "        4.15639204e+00,  6.03841251e-03,  5.01223321e-03, -1.53247474e+00,\n",
       "       -4.41318657e-01, -3.60678660e-03])"
      ]
     },
     "execution_count": 91,
     "metadata": {},
     "output_type": "execute_result"
    }
   ],
   "source": [
    "linear_regressor1.coef_ - coef1"
   ]
  },
  {
   "cell_type": "code",
   "execution_count": 93,
   "metadata": {},
   "outputs": [],
   "source": [
    "y_out_train = linear_regressor1.predict(X_train)"
   ]
  },
  {
   "cell_type": "code",
   "execution_count": 94,
   "metadata": {},
   "outputs": [],
   "source": [
    "y_out_test = linear_regressor1.predict(X_test)"
   ]
  },
  {
   "cell_type": "markdown",
   "metadata": {},
   "source": [
    "## Performance metrics\n",
    "\n",
    "https://scikit-learn.org/stable/modules/generated/sklearn.metrics.mean_squared_error.html"
   ]
  },
  {
   "cell_type": "code",
   "execution_count": 96,
   "metadata": {},
   "outputs": [],
   "source": [
    "err_train = sklearn.metrics.mean_squared_error(y_train, y_out_train, squared=False)"
   ]
  },
  {
   "cell_type": "code",
   "execution_count": 102,
   "metadata": {},
   "outputs": [],
   "source": [
    "err_test = sklearn.metrics.mean_squared_error(y_test, y_out_test, squared=False)"
   ]
  },
  {
   "cell_type": "code",
   "execution_count": 103,
   "metadata": {},
   "outputs": [
    {
     "data": {
      "text/plain": [
       "0.042411641945348466"
      ]
     },
     "execution_count": 103,
     "metadata": {},
     "output_type": "execute_result"
    }
   ],
   "source": [
    "err_train"
   ]
  },
  {
   "cell_type": "code",
   "execution_count": 104,
   "metadata": {},
   "outputs": [
    {
     "data": {
      "text/plain": [
       "0.18094292582481272"
      ]
     },
     "execution_count": 104,
     "metadata": {},
     "output_type": "execute_result"
    }
   ],
   "source": [
    "err_test"
   ]
  }
 ],
 "metadata": {
  "kernelspec": {
   "display_name": "Data Science CoP",
   "language": "python",
   "name": "ds_cop_env"
  },
  "language_info": {
   "codemirror_mode": {
    "name": "ipython",
    "version": 3
   },
   "file_extension": ".py",
   "mimetype": "text/x-python",
   "name": "python",
   "nbconvert_exporter": "python",
   "pygments_lexer": "ipython3",
   "version": "3.7.7"
  }
 },
 "nbformat": 4,
 "nbformat_minor": 4
}
