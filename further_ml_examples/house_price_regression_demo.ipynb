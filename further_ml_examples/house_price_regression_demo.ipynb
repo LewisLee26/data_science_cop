{
 "cells": [
  {
   "cell_type": "markdown",
   "metadata": {},
   "source": [
    "# Boston house price regression\n",
    "\n",
    "This is a dataset of house prices in Boston, which can be used to understand regression algorithms. The input data is variety of value and category based data so it also demonstrates various types of data preparation.\n",
    "\n",
    "Sources and further learning:\n",
    "    \n",
    "* http://archive.ics.uci.edu/ml/machine-learning-databases/housing/\n",
    "* https://scikit-learn.org/stable/datasets/index.html#boston-house-prices-dataset\n",
    "* https://www.kaggle.com/vikrishnan/boston-house-prices"
   ]
  },
  {
   "cell_type": "code",
   "execution_count": null,
   "metadata": {},
   "outputs": [],
   "source": []
  }
 ],
 "metadata": {
  "kernelspec": {
   "display_name": "XBT test 20200128",
   "language": "python",
   "name": "xbt_test_20200128"
  },
  "language_info": {
   "codemirror_mode": {
    "name": "ipython",
    "version": 3
   },
   "file_extension": ".py",
   "mimetype": "text/x-python",
   "name": "python",
   "nbconvert_exporter": "python",
   "pygments_lexer": "ipython3",
   "version": "3.8.1"
  }
 },
 "nbformat": 4,
 "nbformat_minor": 4
}
