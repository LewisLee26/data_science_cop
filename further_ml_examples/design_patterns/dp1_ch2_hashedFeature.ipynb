{
 "cells": [
  {
   "cell_type": "markdown",
   "id": "f238e8e8-e5e4-4bbb-b888-fc1864855125",
   "metadata": {},
   "source": [
    "# Design Pattern 1 - Hashed Feature (Chapter 2)"
   ]
  },
  {
   "cell_type": "markdown",
   "id": "23b59ac7-4bf4-48b2-99ca-2fb081742946",
   "metadata": {},
   "source": [
    "## Introduction to Design Pattern"
   ]
  },
  {
   "cell_type": "markdown",
   "id": "d4d344f3-5c8f-4f3c-8c32-d3ab3d23cbbf",
   "metadata": {},
   "source": [
    "This is pattern is for using with categortical input values where there are a large number of categories compared to the number of training samples available. In this case, the aim is to collapse the categories into a smaller number by merging them, while hopefully not losing too much predictive skill. The books description when this is approproiate to use, and when alternatives should be sought.\n",
    "\n",
    "Link to original example code\n",
    "* https://github.com/GoogleCloudPlatform/ml-design-patterns/blob/master/02_data_representation/hashed_feature.ipynb "
   ]
  },
  {
   "cell_type": "markdown",
   "id": "5b8f07e1-7cb6-4958-bcd5-631d904e9620",
   "metadata": {},
   "source": [
    "## Example python implementation - XBT\n",
    "\n",
    "In this example we will use the data from the [XBT project](https://github.com/MetOffice/XBTs_classification). The platform and institute variables both contain many categories (hundreds or thousands), so we will demonstrate using the hashed feature pattern. \n",
    "\n",
    "As described in the book, we need to use a *fingerprint hash* rather than a *cryptographic hash*, so we will be using the farm hash as used in the original example.\n",
    "\n",
    "### Library Requirements\n",
    "* pandas\n",
    "* scikit-learn\n",
    "* [pyfarmhash](https://pypi.org/project/pyfarmhash/)"
   ]
  },
  {
   "cell_type": "code",
   "execution_count": 5,
   "id": "d8892579-19b0-4f08-b870-e68ad4bd9f62",
   "metadata": {},
   "outputs": [],
   "source": [
    "import pathlib\n",
    "import pandas"
   ]
  },
  {
   "cell_type": "code",
   "execution_count": 1,
   "id": "2c7bb760-019b-4314-b287-2d5a195f3c5c",
   "metadata": {},
   "outputs": [],
   "source": [
    "import farmhash"
   ]
  },
  {
   "cell_type": "code",
   "execution_count": 6,
   "id": "944989fb-3810-4cb4-aa88-9f8d2118d68d",
   "metadata": {},
   "outputs": [],
   "source": [
    "root_data_loc = pathlib.Path('/Users/stephen.haddad/data/xbt-data/dask_clean')"
   ]
  },
  {
   "cell_type": "code",
   "execution_count": 7,
   "id": "695bed72-0fdc-4f75-ac83-ac0c9bbc5cbe",
   "metadata": {},
   "outputs": [],
   "source": [
    "xbt_fname_template = 'xbt_{year}.csv'"
   ]
  },
  {
   "cell_type": "code",
   "execution_count": 8,
   "id": "93a23960-cf0f-49dd-9114-29cec5bf4986",
   "metadata": {},
   "outputs": [],
   "source": [
    "year_range= (1966,2015)"
   ]
  },
  {
   "cell_type": "code",
   "execution_count": 9,
   "id": "d20f315e-3758-4c89-a866-17c314760202",
   "metadata": {},
   "outputs": [
    {
     "data": {
      "text/html": [
       "<div>\n",
       "<style scoped>\n",
       "    .dataframe tbody tr th:only-of-type {\n",
       "        vertical-align: middle;\n",
       "    }\n",
       "\n",
       "    .dataframe tbody tr th {\n",
       "        vertical-align: top;\n",
       "    }\n",
       "\n",
       "    .dataframe thead th {\n",
       "        text-align: right;\n",
       "    }\n",
       "</style>\n",
       "<table border=\"1\" class=\"dataframe\">\n",
       "  <thead>\n",
       "    <tr style=\"text-align: right;\">\n",
       "      <th></th>\n",
       "      <th>Unnamed: 0</th>\n",
       "      <th>country</th>\n",
       "      <th>lat</th>\n",
       "      <th>lon</th>\n",
       "      <th>date</th>\n",
       "      <th>year</th>\n",
       "      <th>month</th>\n",
       "      <th>day</th>\n",
       "      <th>institute</th>\n",
       "      <th>platform</th>\n",
       "      <th>cruise_number</th>\n",
       "      <th>instrument</th>\n",
       "      <th>model</th>\n",
       "      <th>manufacturer</th>\n",
       "      <th>max_depth</th>\n",
       "      <th>imeta_applied</th>\n",
       "      <th>id</th>\n",
       "    </tr>\n",
       "  </thead>\n",
       "  <tbody>\n",
       "    <tr>\n",
       "      <th>0</th>\n",
       "      <td>0</td>\n",
       "      <td>UNITED STATES</td>\n",
       "      <td>32.966667</td>\n",
       "      <td>-117.633331</td>\n",
       "      <td>19660412</td>\n",
       "      <td>1966</td>\n",
       "      <td>4</td>\n",
       "      <td>12</td>\n",
       "      <td>US NAVY SHIPS OF OPPORTUNITY</td>\n",
       "      <td>KEARSARGE</td>\n",
       "      <td>US044120</td>\n",
       "      <td>XBT: T4 (SIPPICAN)</td>\n",
       "      <td>T4</td>\n",
       "      <td>SIPPICAN</td>\n",
       "      <td>466.892670</td>\n",
       "      <td>1</td>\n",
       "      <td>2052528</td>\n",
       "    </tr>\n",
       "    <tr>\n",
       "      <th>1</th>\n",
       "      <td>1</td>\n",
       "      <td>UNITED STATES</td>\n",
       "      <td>33.016666</td>\n",
       "      <td>-118.116669</td>\n",
       "      <td>19660413</td>\n",
       "      <td>1966</td>\n",
       "      <td>4</td>\n",
       "      <td>13</td>\n",
       "      <td>US NAVY SHIPS OF OPPORTUNITY</td>\n",
       "      <td>KEARSARGE</td>\n",
       "      <td>US044120</td>\n",
       "      <td>XBT: T4 (SIPPICAN)</td>\n",
       "      <td>T4</td>\n",
       "      <td>SIPPICAN</td>\n",
       "      <td>466.852051</td>\n",
       "      <td>1</td>\n",
       "      <td>2052529</td>\n",
       "    </tr>\n",
       "    <tr>\n",
       "      <th>2</th>\n",
       "      <td>2</td>\n",
       "      <td>UNITED STATES</td>\n",
       "      <td>33.066666</td>\n",
       "      <td>-118.466667</td>\n",
       "      <td>19660414</td>\n",
       "      <td>1966</td>\n",
       "      <td>4</td>\n",
       "      <td>14</td>\n",
       "      <td>US NAVY SHIPS OF OPPORTUNITY</td>\n",
       "      <td>KEARSARGE</td>\n",
       "      <td>US044120</td>\n",
       "      <td>XBT: T4 (SIPPICAN)</td>\n",
       "      <td>T4</td>\n",
       "      <td>SIPPICAN</td>\n",
       "      <td>70.602089</td>\n",
       "      <td>1</td>\n",
       "      <td>2052530</td>\n",
       "    </tr>\n",
       "    <tr>\n",
       "      <th>3</th>\n",
       "      <td>3</td>\n",
       "      <td>UNITED STATES</td>\n",
       "      <td>32.700001</td>\n",
       "      <td>-118.666664</td>\n",
       "      <td>19660414</td>\n",
       "      <td>1966</td>\n",
       "      <td>4</td>\n",
       "      <td>14</td>\n",
       "      <td>US NAVY SHIPS OF OPPORTUNITY</td>\n",
       "      <td>KEARSARGE</td>\n",
       "      <td>US044120</td>\n",
       "      <td>XBT: T4 (SIPPICAN)</td>\n",
       "      <td>T4</td>\n",
       "      <td>SIPPICAN</td>\n",
       "      <td>466.907410</td>\n",
       "      <td>1</td>\n",
       "      <td>2052531</td>\n",
       "    </tr>\n",
       "    <tr>\n",
       "      <th>4</th>\n",
       "      <td>4</td>\n",
       "      <td>UNITED STATES</td>\n",
       "      <td>32.933334</td>\n",
       "      <td>-117.916664</td>\n",
       "      <td>19660414</td>\n",
       "      <td>1966</td>\n",
       "      <td>4</td>\n",
       "      <td>14</td>\n",
       "      <td>US NAVY SHIPS OF OPPORTUNITY</td>\n",
       "      <td>KEARSARGE</td>\n",
       "      <td>US044120</td>\n",
       "      <td>XBT: T4 (SIPPICAN)</td>\n",
       "      <td>T4</td>\n",
       "      <td>SIPPICAN</td>\n",
       "      <td>466.811493</td>\n",
       "      <td>1</td>\n",
       "      <td>2052532</td>\n",
       "    </tr>\n",
       "    <tr>\n",
       "      <th>...</th>\n",
       "      <td>...</td>\n",
       "      <td>...</td>\n",
       "      <td>...</td>\n",
       "      <td>...</td>\n",
       "      <td>...</td>\n",
       "      <td>...</td>\n",
       "      <td>...</td>\n",
       "      <td>...</td>\n",
       "      <td>...</td>\n",
       "      <td>...</td>\n",
       "      <td>...</td>\n",
       "      <td>...</td>\n",
       "      <td>...</td>\n",
       "      <td>...</td>\n",
       "      <td>...</td>\n",
       "      <td>...</td>\n",
       "      <td>...</td>\n",
       "    </tr>\n",
       "    <tr>\n",
       "      <th>18995</th>\n",
       "      <td>18995</td>\n",
       "      <td>UNITED STATES</td>\n",
       "      <td>-58.394001</td>\n",
       "      <td>-63.181000</td>\n",
       "      <td>20141231</td>\n",
       "      <td>2014</td>\n",
       "      <td>12</td>\n",
       "      <td>31</td>\n",
       "      <td>0</td>\n",
       "      <td>LAURENCE M. GOULD (R/V; call sign WCX7445; bui...</td>\n",
       "      <td>US036605</td>\n",
       "      <td>XBT: DEEP BLUE (SIPPICAN)</td>\n",
       "      <td>DEEP BLUE</td>\n",
       "      <td>SIPPICAN</td>\n",
       "      <td>899.722412</td>\n",
       "      <td>0</td>\n",
       "      <td>16686048</td>\n",
       "    </tr>\n",
       "    <tr>\n",
       "      <th>18996</th>\n",
       "      <td>18996</td>\n",
       "      <td>UNITED STATES</td>\n",
       "      <td>-58.500999</td>\n",
       "      <td>-63.125000</td>\n",
       "      <td>20141231</td>\n",
       "      <td>2014</td>\n",
       "      <td>12</td>\n",
       "      <td>31</td>\n",
       "      <td>0</td>\n",
       "      <td>LAURENCE M. GOULD (R/V; call sign WCX7445; bui...</td>\n",
       "      <td>US036605</td>\n",
       "      <td>XBT: DEEP BLUE (SIPPICAN)</td>\n",
       "      <td>DEEP BLUE</td>\n",
       "      <td>SIPPICAN</td>\n",
       "      <td>929.809082</td>\n",
       "      <td>0</td>\n",
       "      <td>16686049</td>\n",
       "    </tr>\n",
       "    <tr>\n",
       "      <th>18997</th>\n",
       "      <td>18997</td>\n",
       "      <td>UNITED STATES</td>\n",
       "      <td>-58.598000</td>\n",
       "      <td>-63.064999</td>\n",
       "      <td>20141231</td>\n",
       "      <td>2014</td>\n",
       "      <td>12</td>\n",
       "      <td>31</td>\n",
       "      <td>0</td>\n",
       "      <td>LAURENCE M. GOULD (R/V; call sign WCX7445; bui...</td>\n",
       "      <td>US036605</td>\n",
       "      <td>XBT: DEEP BLUE (SIPPICAN)</td>\n",
       "      <td>DEEP BLUE</td>\n",
       "      <td>SIPPICAN</td>\n",
       "      <td>908.195984</td>\n",
       "      <td>0</td>\n",
       "      <td>16686051</td>\n",
       "    </tr>\n",
       "    <tr>\n",
       "      <th>18998</th>\n",
       "      <td>18998</td>\n",
       "      <td>UNITED STATES</td>\n",
       "      <td>-58.681999</td>\n",
       "      <td>-63.015999</td>\n",
       "      <td>20141231</td>\n",
       "      <td>2014</td>\n",
       "      <td>12</td>\n",
       "      <td>31</td>\n",
       "      <td>0</td>\n",
       "      <td>LAURENCE M. GOULD (R/V; call sign WCX7445; bui...</td>\n",
       "      <td>US036605</td>\n",
       "      <td>XBT: DEEP BLUE (SIPPICAN)</td>\n",
       "      <td>DEEP BLUE</td>\n",
       "      <td>SIPPICAN</td>\n",
       "      <td>914.778015</td>\n",
       "      <td>0</td>\n",
       "      <td>16686052</td>\n",
       "    </tr>\n",
       "    <tr>\n",
       "      <th>18999</th>\n",
       "      <td>18999</td>\n",
       "      <td>LIBERIA</td>\n",
       "      <td>-13.661000</td>\n",
       "      <td>-174.035004</td>\n",
       "      <td>20141231</td>\n",
       "      <td>2014</td>\n",
       "      <td>12</td>\n",
       "      <td>31</td>\n",
       "      <td>SCRIPPS INSTITUTION OF OCEANOGRAPHY; LA JOLLA; CA</td>\n",
       "      <td>E. R. WILHELMSHAVEN (Call sign ELZY3)</td>\n",
       "      <td>LR000315</td>\n",
       "      <td>XBT: DEEP BLUE (SIPPICAN)</td>\n",
       "      <td>DEEP BLUE</td>\n",
       "      <td>SIPPICAN</td>\n",
       "      <td>985.260437</td>\n",
       "      <td>0</td>\n",
       "      <td>16686050</td>\n",
       "    </tr>\n",
       "  </tbody>\n",
       "</table>\n",
       "<p>2253127 rows × 17 columns</p>\n",
       "</div>"
      ],
      "text/plain": [
       "       Unnamed: 0        country        lat         lon      date  year  \\\n",
       "0               0  UNITED STATES  32.966667 -117.633331  19660412  1966   \n",
       "1               1  UNITED STATES  33.016666 -118.116669  19660413  1966   \n",
       "2               2  UNITED STATES  33.066666 -118.466667  19660414  1966   \n",
       "3               3  UNITED STATES  32.700001 -118.666664  19660414  1966   \n",
       "4               4  UNITED STATES  32.933334 -117.916664  19660414  1966   \n",
       "...           ...            ...        ...         ...       ...   ...   \n",
       "18995       18995  UNITED STATES -58.394001  -63.181000  20141231  2014   \n",
       "18996       18996  UNITED STATES -58.500999  -63.125000  20141231  2014   \n",
       "18997       18997  UNITED STATES -58.598000  -63.064999  20141231  2014   \n",
       "18998       18998  UNITED STATES -58.681999  -63.015999  20141231  2014   \n",
       "18999       18999        LIBERIA -13.661000 -174.035004  20141231  2014   \n",
       "\n",
       "       month  day                                          institute  \\\n",
       "0          4   12                       US NAVY SHIPS OF OPPORTUNITY   \n",
       "1          4   13                       US NAVY SHIPS OF OPPORTUNITY   \n",
       "2          4   14                       US NAVY SHIPS OF OPPORTUNITY   \n",
       "3          4   14                       US NAVY SHIPS OF OPPORTUNITY   \n",
       "4          4   14                       US NAVY SHIPS OF OPPORTUNITY   \n",
       "...      ...  ...                                                ...   \n",
       "18995     12   31                                                  0   \n",
       "18996     12   31                                                  0   \n",
       "18997     12   31                                                  0   \n",
       "18998     12   31                                                  0   \n",
       "18999     12   31  SCRIPPS INSTITUTION OF OCEANOGRAPHY; LA JOLLA; CA   \n",
       "\n",
       "                                                platform cruise_number  \\\n",
       "0                                              KEARSARGE      US044120   \n",
       "1                                              KEARSARGE      US044120   \n",
       "2                                              KEARSARGE      US044120   \n",
       "3                                              KEARSARGE      US044120   \n",
       "4                                              KEARSARGE      US044120   \n",
       "...                                                  ...           ...   \n",
       "18995  LAURENCE M. GOULD (R/V; call sign WCX7445; bui...      US036605   \n",
       "18996  LAURENCE M. GOULD (R/V; call sign WCX7445; bui...      US036605   \n",
       "18997  LAURENCE M. GOULD (R/V; call sign WCX7445; bui...      US036605   \n",
       "18998  LAURENCE M. GOULD (R/V; call sign WCX7445; bui...      US036605   \n",
       "18999              E. R. WILHELMSHAVEN (Call sign ELZY3)      LR000315   \n",
       "\n",
       "                      instrument      model manufacturer   max_depth  \\\n",
       "0             XBT: T4 (SIPPICAN)         T4     SIPPICAN  466.892670   \n",
       "1             XBT: T4 (SIPPICAN)         T4     SIPPICAN  466.852051   \n",
       "2             XBT: T4 (SIPPICAN)         T4     SIPPICAN   70.602089   \n",
       "3             XBT: T4 (SIPPICAN)         T4     SIPPICAN  466.907410   \n",
       "4             XBT: T4 (SIPPICAN)         T4     SIPPICAN  466.811493   \n",
       "...                          ...        ...          ...         ...   \n",
       "18995  XBT: DEEP BLUE (SIPPICAN)  DEEP BLUE     SIPPICAN  899.722412   \n",
       "18996  XBT: DEEP BLUE (SIPPICAN)  DEEP BLUE     SIPPICAN  929.809082   \n",
       "18997  XBT: DEEP BLUE (SIPPICAN)  DEEP BLUE     SIPPICAN  908.195984   \n",
       "18998  XBT: DEEP BLUE (SIPPICAN)  DEEP BLUE     SIPPICAN  914.778015   \n",
       "18999  XBT: DEEP BLUE (SIPPICAN)  DEEP BLUE     SIPPICAN  985.260437   \n",
       "\n",
       "       imeta_applied        id  \n",
       "0                  1   2052528  \n",
       "1                  1   2052529  \n",
       "2                  1   2052530  \n",
       "3                  1   2052531  \n",
       "4                  1   2052532  \n",
       "...              ...       ...  \n",
       "18995              0  16686048  \n",
       "18996              0  16686049  \n",
       "18997              0  16686051  \n",
       "18998              0  16686052  \n",
       "18999              0  16686050  \n",
       "\n",
       "[2253127 rows x 17 columns]"
      ]
     },
     "execution_count": 9,
     "metadata": {},
     "output_type": "execute_result"
    }
   ],
   "source": [
    "xbt_df = pandas.concat([pandas.read_csv(root_data_loc / xbt_fname_template.format(year=year1)) for year1 in range(year_range[0], year_range[1])])\n",
    "xbt_df"
   ]
  },
  {
   "cell_type": "markdown",
   "id": "d0757140-c330-4113-90a2-c3c1a75f0315",
   "metadata": {},
   "source": [
    "Having loaded the data into memory, we can see how many categories the *institute* and *platform* features contain."
   ]
  },
  {
   "cell_type": "code",
   "execution_count": 14,
   "id": "d9f3e32c-0bee-429f-bb16-a0804b5fc8ff",
   "metadata": {},
   "outputs": [
    {
     "data": {
      "text/plain": [
       "249"
      ]
     },
     "execution_count": 14,
     "metadata": {},
     "output_type": "execute_result"
    }
   ],
   "source": [
    "len(xbt_df['institute'].unique())"
   ]
  },
  {
   "cell_type": "code",
   "execution_count": 60,
   "id": "9d31e690-3270-4c6a-82fe-d2f4a19c4b19",
   "metadata": {},
   "outputs": [
    {
     "data": {
      "text/plain": [
       "2632"
      ]
     },
     "execution_count": 60,
     "metadata": {},
     "output_type": "execute_result"
    }
   ],
   "source": [
    "len(xbt_df['platform'].unique())"
   ]
  },
  {
   "cell_type": "markdown",
   "id": "b03f7ec6-5d57-4ded-8fb6-1d16b8adcc28",
   "metadata": {},
   "source": [
    "Doing this in the real world, we would start creating a train/test split, using pandas sample function in this case."
   ]
  },
  {
   "cell_type": "code",
   "execution_count": 61,
   "id": "e890b33b-2b67-440e-bf00-05f9d5cc62c2",
   "metadata": {},
   "outputs": [],
   "source": [
    "import sklearn.model_selection"
   ]
  },
  {
   "cell_type": "code",
   "execution_count": 64,
   "id": "f7ca088b-d648-4b87-813a-c7cb5d4511d4",
   "metadata": {},
   "outputs": [],
   "source": [
    "xbt_train, xbt_test = sklearn.model_selection.train_test_split(xbt_df)"
   ]
  },
  {
   "cell_type": "code",
   "execution_count": 65,
   "id": "feaf4e48-76cc-4779-9981-aad44342a67a",
   "metadata": {},
   "outputs": [
    {
     "data": {
      "text/plain": [
       "(1689845, 19)"
      ]
     },
     "execution_count": 65,
     "metadata": {},
     "output_type": "execute_result"
    }
   ],
   "source": [
    "xbt_train.shape"
   ]
  },
  {
   "cell_type": "code",
   "execution_count": 66,
   "id": "c41b2b23-6610-448b-8abf-f702abbccab9",
   "metadata": {},
   "outputs": [
    {
     "data": {
      "text/plain": [
       "(563282, 19)"
      ]
     },
     "execution_count": 66,
     "metadata": {},
     "output_type": "execute_result"
    }
   ],
   "source": [
    "xbt_test.shape"
   ]
  },
  {
   "cell_type": "markdown",
   "id": "bc4beebc-546f-46bd-886b-d4537053d327",
   "metadata": {},
   "source": [
    "Now we create the hashed feature. In this example we are selecting a relatively small number of hashes."
   ]
  },
  {
   "cell_type": "code",
   "execution_count": 67,
   "id": "e54b9139-e4d8-4e09-b41b-b3ae45e33f7a",
   "metadata": {},
   "outputs": [],
   "source": [
    "num_hashes = 10"
   ]
  },
  {
   "cell_type": "code",
   "execution_count": 68,
   "id": "42f5c385-374d-4e69-82ea-a8afaa152b31",
   "metadata": {},
   "outputs": [
    {
     "data": {
      "text/plain": [
       "0        1\n",
       "1        1\n",
       "2        1\n",
       "3        1\n",
       "4        1\n",
       "        ..\n",
       "18995    9\n",
       "18996    9\n",
       "18997    9\n",
       "18998    9\n",
       "18999    7\n",
       "Name: platform_hashed, Length: 2253127, dtype: int64"
      ]
     },
     "execution_count": 68,
     "metadata": {},
     "output_type": "execute_result"
    }
   ],
   "source": [
    "xbt_df['platform_hashed'] = xbt_df['platform'].apply(lambda s1: farmhash.fingerprint64(s1) % num_hashes) \n",
    "xbt_df['platform_hashed']"
   ]
  },
  {
   "cell_type": "code",
   "execution_count": 69,
   "id": "112a9ed3-5091-4a4b-9f5a-c7b52ee00b12",
   "metadata": {},
   "outputs": [
    {
     "data": {
      "text/plain": [
       "5    520113\n",
       "1    270603\n",
       "8    220289\n",
       "2    189834\n",
       "7    185400\n",
       "9    185351\n",
       "0    182578\n",
       "3    167636\n",
       "6    165933\n",
       "4    165390\n",
       "Name: platform_hashed, dtype: int64"
      ]
     },
     "execution_count": 69,
     "metadata": {},
     "output_type": "execute_result"
    }
   ],
   "source": [
    "xbt_df['platform_hashed'].value_counts()"
   ]
  },
  {
   "cell_type": "markdown",
   "id": "fb2df050-7062-4d9b-8fc9-2a235336b1fc",
   "metadata": {},
   "source": [
    "Once the feature is created in can be used the same as any other categorical feature, as demonstrated below."
   ]
  },
  {
   "cell_type": "code",
   "execution_count": 70,
   "id": "f223d605-671d-4acb-8f68-c9b9b8379e5e",
   "metadata": {},
   "outputs": [],
   "source": [
    "import sklearn.preprocessing\n",
    "import numpy"
   ]
  },
  {
   "cell_type": "code",
   "execution_count": 71,
   "id": "bacc4a98-75ca-4c36-a997-e73f11073938",
   "metadata": {},
   "outputs": [],
   "source": [
    "scaler_year1 = sklearn.preprocessing.MinMaxScaler().fit(xbt_train[['year']])"
   ]
  },
  {
   "cell_type": "code",
   "execution_count": 72,
   "id": "8afc9095-fe8d-4802-ad01-93cca9bf459d",
   "metadata": {},
   "outputs": [],
   "source": [
    "scaler_maxDepth1 = sklearn.preprocessing.MinMaxScaler().fit(xbt_train[['max_depth']])"
   ]
  },
  {
   "cell_type": "code",
   "execution_count": 73,
   "id": "f8b0efe8-fd1b-4f94-baee-b9b3179278bd",
   "metadata": {},
   "outputs": [],
   "source": [
    "ohe_platform = sklearn.preprocessing.OneHotEncoder(sparse=False).fit(xbt_train[['platform_hashed']])"
   ]
  },
  {
   "cell_type": "code",
   "execution_count": 74,
   "id": "491050e7-c1a2-4cb1-be3f-1cd43f4e624a",
   "metadata": {},
   "outputs": [],
   "source": [
    "X_train = numpy.concatenate([\n",
    "    scaler_year1.transform(xbt_train[['year']]),\n",
    "    scaler_maxDepth1.transform(xbt_train[['max_depth']]),\n",
    "    ohe_platform.transform(xbt_train[['platform_hashed']]),\n",
    "], axis=1)"
   ]
  },
  {
   "cell_type": "code",
   "execution_count": 75,
   "id": "2a497c31-24b1-4d4a-9852-6c21539f23f1",
   "metadata": {},
   "outputs": [
    {
     "data": {
      "text/plain": [
       "(1689845, 12)"
      ]
     },
     "execution_count": 75,
     "metadata": {},
     "output_type": "execute_result"
    }
   ],
   "source": [
    "X_train.shape"
   ]
  },
  {
   "cell_type": "markdown",
   "id": "8e68703c-8ea3-4399-a1b1-e2725791900b",
   "metadata": {},
   "source": [
    "## Real world examples\n",
    "\n",
    "It's quite to imagine when one might use this in the real world. The original example is predicting fraction of planes that will be late for an airport, using airport ID as an input. This does lump together many different airports into a single value, but was considered to provide sufficient description. A weather dataset with station or used IDs where there are many IDs compared to data points might be an example. In reality as pointed out in the book, other data about a weather station, such as location given by latitude / longitude, might be a better bet. \n"
   ]
  }
 ],
 "metadata": {
  "kernelspec": {
   "display_name": "Python 3 (ipykernel)",
   "language": "python",
   "name": "python3"
  },
  "language_info": {
   "codemirror_mode": {
    "name": "ipython",
    "version": 3
   },
   "file_extension": ".py",
   "mimetype": "text/x-python",
   "name": "python",
   "nbconvert_exporter": "python",
   "pygments_lexer": "ipython3",
   "version": "3.8.11"
  }
 },
 "nbformat": 4,
 "nbformat_minor": 5
}
