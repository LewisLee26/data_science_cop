{
 "cells": [
  {
   "cell_type": "markdown",
   "id": "f238e8e8-e5e4-4bbb-b888-fc1864855125",
   "metadata": {},
   "source": [
    "# Design Pattern 10 - Rebalancing (Chapter 3)"
   ]
  },
  {
   "cell_type": "markdown",
   "id": "23b59ac7-4bf4-48b2-99ca-2fb081742946",
   "metadata": {},
   "source": [
    "## Introduction to Design Pattern"
   ]
  },
  {
   "cell_type": "markdown",
   "id": "d4d344f3-5c8f-4f3c-8c32-d3ab3d23cbbf",
   "metadata": {},
   "source": [
    "Overview:\n",
    "\n",
    "Class imbalance often occurs in classification problems (binary, multiclass and multilabel), but can also occur in a regression problems. In regression cases, imbalanced datasets have outliers that are either much higher or lower than the median (e.g. if you are interested in predicting extremes or anomoly detection).\n",
    "\n",
    "The methods here are focus on datasets that are inherently imbalanced e.g. fraud detection, flagging errors in software logs, precipitiation. <b>Scenarios where datasets lack representation for a specific population or real-world environment can often only be solved by collecting more data.</b>\n",
    "\n",
    "Solutions for class imbalance:\n",
    "- Upsampling\n",
    "- Downsampling\n",
    "- Weighted classes\n",
    "\n",
    "Architectures better suited to imbalanced datasets:\n",
    "- Tree-based models\n",
    "- Long-Short Term Memory (LSTM) for detecting anomolies in timeseries\n",
    "\n",
    "<i>Common pitfall</i>  \n",
    "- Accuracy can often be a misleading metric if data is imbalanced. \n",
    "- ROC curves and ROC area under the curve (AUC) score, which are used to assess the performance of a model over all thresholds, is not a useful metric for imbalanced datasets as it treats both classes equally.\n",
    "- Better metrics (for classification): precision, recall, f-score\n",
    "\n",
    "Note: metrics should be calculated on unsampled data no how the training data has been classified\n",
    "\n",
    "<img src=\"Images/recall_precision_accuracy.png\">"
   ]
  },
  {
   "cell_type": "markdown",
   "id": "9bd22939-e0cb-43a1-b128-00ff20a081fa",
   "metadata": {},
   "source": [
    "## Imports"
   ]
  },
  {
   "cell_type": "code",
   "execution_count": 1,
   "id": "92a52603-d8c5-4140-8737-aa295adae01b",
   "metadata": {},
   "outputs": [],
   "source": [
    "import pandas as pd\n",
    "import xgboost as xgb\n",
    "import matplotlib.pyplot as plt\n",
    "\n",
    "from sklearn.utils import shuffle\n",
    "from sklearn.metrics import plot_confusion_matrix, precision_score, recall_score, accuracy_score\n",
    "\n",
    "import warnings\n",
    "warnings.filterwarnings('ignore')"
   ]
  },
  {
   "cell_type": "markdown",
   "id": "5b8f07e1-7cb6-4958-bcd5-631d904e9620",
   "metadata": {},
   "source": [
    "## Example python implementation"
   ]
  },
  {
   "cell_type": "markdown",
   "id": "7953b05d-060f-425f-be66-078542b1a3a1",
   "metadata": {},
   "source": [
    "Download fraud kaggle dataset, or it is available here: /data/users/hbrown/fraud_data_kaggle.csv"
   ]
  },
  {
   "cell_type": "code",
   "execution_count": 2,
   "id": "2c7bb760-019b-4314-b287-2d5a195f3c5c",
   "metadata": {},
   "outputs": [],
   "source": [
    "#!gsutil cp gs://ml-design-patterns/fraud_data_kaggle.csv ."
   ]
  },
  {
   "cell_type": "code",
   "execution_count": 3,
   "id": "d20f315e-3758-4c89-a866-17c314760202",
   "metadata": {},
   "outputs": [
    {
     "data": {
      "text/html": [
       "<div>\n",
       "<style scoped>\n",
       "    .dataframe tbody tr th:only-of-type {\n",
       "        vertical-align: middle;\n",
       "    }\n",
       "\n",
       "    .dataframe tbody tr th {\n",
       "        vertical-align: top;\n",
       "    }\n",
       "\n",
       "    .dataframe thead th {\n",
       "        text-align: right;\n",
       "    }\n",
       "</style>\n",
       "<table border=\"1\" class=\"dataframe\">\n",
       "  <thead>\n",
       "    <tr style=\"text-align: right;\">\n",
       "      <th></th>\n",
       "      <th>step</th>\n",
       "      <th>type</th>\n",
       "      <th>amount</th>\n",
       "      <th>nameOrig</th>\n",
       "      <th>oldbalanceOrg</th>\n",
       "      <th>newbalanceOrig</th>\n",
       "      <th>nameDest</th>\n",
       "      <th>oldbalanceDest</th>\n",
       "      <th>newbalanceDest</th>\n",
       "      <th>isFraud</th>\n",
       "      <th>isFlaggedFraud</th>\n",
       "    </tr>\n",
       "  </thead>\n",
       "  <tbody>\n",
       "    <tr>\n",
       "      <th>0</th>\n",
       "      <td>1</td>\n",
       "      <td>PAYMENT</td>\n",
       "      <td>9839.64</td>\n",
       "      <td>C1231006815</td>\n",
       "      <td>170136.0</td>\n",
       "      <td>160296.36</td>\n",
       "      <td>M1979787155</td>\n",
       "      <td>0.0</td>\n",
       "      <td>0.0</td>\n",
       "      <td>0</td>\n",
       "      <td>0</td>\n",
       "    </tr>\n",
       "    <tr>\n",
       "      <th>1</th>\n",
       "      <td>1</td>\n",
       "      <td>PAYMENT</td>\n",
       "      <td>1864.28</td>\n",
       "      <td>C1666544295</td>\n",
       "      <td>21249.0</td>\n",
       "      <td>19384.72</td>\n",
       "      <td>M2044282225</td>\n",
       "      <td>0.0</td>\n",
       "      <td>0.0</td>\n",
       "      <td>0</td>\n",
       "      <td>0</td>\n",
       "    </tr>\n",
       "    <tr>\n",
       "      <th>2</th>\n",
       "      <td>1</td>\n",
       "      <td>TRANSFER</td>\n",
       "      <td>181.00</td>\n",
       "      <td>C1305486145</td>\n",
       "      <td>181.0</td>\n",
       "      <td>0.00</td>\n",
       "      <td>C553264065</td>\n",
       "      <td>0.0</td>\n",
       "      <td>0.0</td>\n",
       "      <td>1</td>\n",
       "      <td>0</td>\n",
       "    </tr>\n",
       "    <tr>\n",
       "      <th>3</th>\n",
       "      <td>1</td>\n",
       "      <td>CASH_OUT</td>\n",
       "      <td>181.00</td>\n",
       "      <td>C840083671</td>\n",
       "      <td>181.0</td>\n",
       "      <td>0.00</td>\n",
       "      <td>C38997010</td>\n",
       "      <td>21182.0</td>\n",
       "      <td>0.0</td>\n",
       "      <td>1</td>\n",
       "      <td>0</td>\n",
       "    </tr>\n",
       "    <tr>\n",
       "      <th>4</th>\n",
       "      <td>1</td>\n",
       "      <td>PAYMENT</td>\n",
       "      <td>11668.14</td>\n",
       "      <td>C2048537720</td>\n",
       "      <td>41554.0</td>\n",
       "      <td>29885.86</td>\n",
       "      <td>M1230701703</td>\n",
       "      <td>0.0</td>\n",
       "      <td>0.0</td>\n",
       "      <td>0</td>\n",
       "      <td>0</td>\n",
       "    </tr>\n",
       "  </tbody>\n",
       "</table>\n",
       "</div>"
      ],
      "text/plain": [
       "   step      type    amount     nameOrig  oldbalanceOrg  newbalanceOrig  \\\n",
       "0     1   PAYMENT   9839.64  C1231006815       170136.0       160296.36   \n",
       "1     1   PAYMENT   1864.28  C1666544295        21249.0        19384.72   \n",
       "2     1  TRANSFER    181.00  C1305486145          181.0            0.00   \n",
       "3     1  CASH_OUT    181.00   C840083671          181.0            0.00   \n",
       "4     1   PAYMENT  11668.14  C2048537720        41554.0        29885.86   \n",
       "\n",
       "      nameDest  oldbalanceDest  newbalanceDest  isFraud  isFlaggedFraud  \n",
       "0  M1979787155             0.0             0.0        0               0  \n",
       "1  M2044282225             0.0             0.0        0               0  \n",
       "2   C553264065             0.0             0.0        1               0  \n",
       "3    C38997010         21182.0             0.0        1               0  \n",
       "4  M1230701703             0.0             0.0        0               0  "
      ]
     },
     "execution_count": 3,
     "metadata": {},
     "output_type": "execute_result"
    }
   ],
   "source": [
    "fraud_data = pd.read_csv('/data/users/hbrown/fraud_data_kaggle.csv')\n",
    "fraud_data.head()"
   ]
  },
  {
   "cell_type": "code",
   "execution_count": 4,
   "id": "89ee02af-9826-418d-90ab-ad0c4daaacaf",
   "metadata": {},
   "outputs": [
    {
     "data": {
      "text/plain": [
       "0    6354407\n",
       "1       8213\n",
       "Name: isFraud, dtype: int64"
      ]
     },
     "execution_count": 4,
     "metadata": {},
     "output_type": "execute_result"
    }
   ],
   "source": [
    "fraud_data.isFraud.value_counts()"
   ]
  },
  {
   "cell_type": "markdown",
   "id": "8a75890b-9da7-4429-9af5-34ed8a56184b",
   "metadata": {},
   "source": [
    "### Downsampling "
   ]
  },
  {
   "cell_type": "markdown",
   "id": "235d5f73-b033-4894-8b41-ba92074f1520",
   "metadata": {},
   "source": [
    "Downsampling is a solution for handling imbalanced datasets, but changing the underlying dataset, rather than the model. Downsampling reduces the number of examples from the majority class used during model training.\n",
    "\n",
    "<img src=\"Images/undersampling.png\">"
   ]
  },
  {
   "cell_type": "code",
   "execution_count": 5,
   "id": "e7366740-98c3-478b-b61f-b5bca8ff6ff7",
   "metadata": {},
   "outputs": [],
   "source": [
    "# Drop a few columns we won't use for this demo\n",
    "fraud_data = fraud_data.drop(columns=['nameOrig', 'nameDest', 'isFlaggedFraud'])\n",
    "fraud_data = pd.get_dummies(fraud_data)"
   ]
  },
  {
   "cell_type": "markdown",
   "id": "4e701175-0ab8-4792-8c9f-bae59f9dcf8b",
   "metadata": {},
   "source": [
    "Train model on unsampled data"
   ]
  },
  {
   "cell_type": "code",
   "execution_count": 6,
   "id": "643ed2b8-8426-4db0-b1b1-4105954789ca",
   "metadata": {},
   "outputs": [],
   "source": [
    "train_test_split = int(len(fraud_data) * .8)\n",
    "\n",
    "train_data = fraud_data[:train_test_split]\n",
    "test_data = fraud_data[train_test_split:]\n",
    "\n",
    "train_labels = train_data.pop('isFraud')\n",
    "test_labels = test_data.pop('isFraud')"
   ]
  },
  {
   "cell_type": "code",
   "execution_count": 7,
   "id": "cce27701-9f69-46e4-8c3f-44616bfbbbc7",
   "metadata": {},
   "outputs": [],
   "source": [
    "model = xgb.XGBClassifier()"
   ]
  },
  {
   "cell_type": "code",
   "execution_count": 8,
   "id": "18848838-606b-4f63-a3d0-3482f1c4eec9",
   "metadata": {},
   "outputs": [
    {
     "name": "stdout",
     "output_type": "stream",
     "text": [
      "[09:14:00] WARNING: /home/conda/feedstock_root/build_artifacts/xgboost-split_1645117766796/work/src/learner.cc:1115: Starting in XGBoost 1.3.0, the default evaluation metric used with the objective 'binary:logistic' was changed from 'error' to 'logloss'. Explicitly set eval_metric if you'd like to restore the old behavior.\n"
     ]
    },
    {
     "data": {
      "text/plain": [
       "XGBClassifier(base_score=0.5, booster='gbtree', colsample_bylevel=1,\n",
       "              colsample_bynode=1, colsample_bytree=1, enable_categorical=False,\n",
       "              gamma=0, gpu_id=-1, importance_type=None,\n",
       "              interaction_constraints='', learning_rate=0.300000012,\n",
       "              max_delta_step=0, max_depth=6, min_child_weight=1, missing=nan,\n",
       "              monotone_constraints='()', n_estimators=100, n_jobs=16,\n",
       "              num_parallel_tree=1, predictor='auto', random_state=0,\n",
       "              reg_alpha=0, reg_lambda=1, scale_pos_weight=1, subsample=1,\n",
       "              tree_method='approx', validate_parameters=1, verbosity=None)"
      ]
     },
     "execution_count": 8,
     "metadata": {},
     "output_type": "execute_result"
    }
   ],
   "source": [
    "model.fit(train_data.values, train_labels)"
   ]
  },
  {
   "cell_type": "code",
   "execution_count": 9,
   "id": "bedfd081-d487-440b-a744-88b486cdabcb",
   "metadata": {},
   "outputs": [],
   "source": [
    "# Get some test predictions\n",
    "y_pred = model.predict(test_data.values)"
   ]
  },
  {
   "cell_type": "code",
   "execution_count": 10,
   "id": "ca79f2e8-7563-466b-9f47-80027b6df1fb",
   "metadata": {},
   "outputs": [
    {
     "data": {
      "image/png": "[encoded data removed]",
      "text/plain": [
       "<Figure size 432x288 with 2 Axes>"
      ]
     },
     "metadata": {
      "needs_background": "light"
     },
     "output_type": "display_data"
    }
   ],
   "source": [
    "from sklearn.metrics import confusion_matrix\n",
    "plot_confusion_matrix(model, test_data, test_labels.values)\n",
    "plt.show()"
   ]
  },
  {
   "cell_type": "code",
   "execution_count": 11,
   "id": "298776ea-c27e-4c2f-a939-11a902c804e2",
   "metadata": {},
   "outputs": [
    {
     "name": "stdout",
     "output_type": "stream",
     "text": [
      "Accuracy = 0.999\n",
      "Recall = 0.713\n",
      "Precision = 0.999\n"
     ]
    }
   ],
   "source": [
    "print(f'Accuracy = {accuracy_score(test_labels.values, y_pred):.3f}')\n",
    "print(f'Recall = {recall_score(test_labels.values, y_pred):.3f}')\n",
    "print(f'Precision = {precision_score(test_labels.values, y_pred):.3f}')"
   ]
  },
  {
   "cell_type": "markdown",
   "id": "2d7daeb9-e203-4943-a52f-46fc38eb7866",
   "metadata": {},
   "source": [
    "Now we downsample the data, to create more even classes and retrain the same model"
   ]
  },
  {
   "cell_type": "code",
   "execution_count": 12,
   "id": "2d573fe7-a866-4d7a-b1f6-5dde0cd16d00",
   "metadata": {},
   "outputs": [],
   "source": [
    "# Split into separate dataframes\n",
    "fraud = fraud_data[fraud_data['isFraud'] == 1]\n",
    "not_fraud = fraud_data[fraud_data['isFraud'] == 0]\n",
    "\n",
    "# Take a random sample of non-fraud data\n",
    "# The .005 frac will give us around an 80/20 split of not-fraud/fraud samples\n",
    "# You can experiment with this value\n",
    "not_fraud_sample = not_fraud.sample(random_state=2, frac=.005)"
   ]
  },
  {
   "cell_type": "code",
   "execution_count": 13,
   "id": "c7402b3f-e05d-4720-b1a8-a6e74238a7b7",
   "metadata": {},
   "outputs": [],
   "source": [
    "# Put the data back together and shuffle\n",
    "fraud_data_resampled = pd.concat([not_fraud_sample,fraud])\n",
    "fraud_data_resampled = shuffle(fraud_data_resampled, random_state=2)"
   ]
  },
  {
   "cell_type": "code",
   "execution_count": 14,
   "id": "bbc0c762-5124-42e8-bcf2-07b6824e77ec",
   "metadata": {},
   "outputs": [
    {
     "data": {
      "text/plain": [
       "0    31772\n",
       "1     8213\n",
       "Name: isFraud, dtype: int64"
      ]
     },
     "execution_count": 14,
     "metadata": {},
     "output_type": "execute_result"
    }
   ],
   "source": [
    "# Look at our data balance after downsampling\n",
    "fraud_data_resampled['isFraud'].value_counts()"
   ]
  },
  {
   "cell_type": "code",
   "execution_count": 15,
   "id": "d64162d5-8c82-4af0-84c4-99d3e99418cd",
   "metadata": {},
   "outputs": [],
   "source": [
    "train_test_split = int(len(fraud_data_resampled) * .8)\n",
    "\n",
    "train_data = fraud_data_resampled[:train_test_split]\n",
    "test_data = fraud_data_resampled[train_test_split:]\n",
    "\n",
    "train_labels = train_data.pop('isFraud')\n",
    "test_labels = test_data.pop('isFraud')"
   ]
  },
  {
   "cell_type": "code",
   "execution_count": 16,
   "id": "76e91053-4069-4e2a-9884-3a42776104e2",
   "metadata": {},
   "outputs": [],
   "source": [
    "balanced_model = xgb.XGBClassifier()"
   ]
  },
  {
   "cell_type": "code",
   "execution_count": 17,
   "id": "32d7678f-77a0-4d11-8332-30f6374ed90f",
   "metadata": {},
   "outputs": [
    {
     "name": "stdout",
     "output_type": "stream",
     "text": [
      "[09:19:30] WARNING: /home/conda/feedstock_root/build_artifacts/xgboost-split_1645117766796/work/src/learner.cc:1115: Starting in XGBoost 1.3.0, the default evaluation metric used with the objective 'binary:logistic' was changed from 'error' to 'logloss'. Explicitly set eval_metric if you'd like to restore the old behavior.\n"
     ]
    },
    {
     "data": {
      "text/plain": [
       "XGBClassifier(base_score=0.5, booster='gbtree', colsample_bylevel=1,\n",
       "              colsample_bynode=1, colsample_bytree=1, enable_categorical=False,\n",
       "              gamma=0, gpu_id=-1, importance_type=None,\n",
       "              interaction_constraints='', learning_rate=0.300000012,\n",
       "              max_delta_step=0, max_depth=6, min_child_weight=1, missing=nan,\n",
       "              monotone_constraints='()', n_estimators=100, n_jobs=16,\n",
       "              num_parallel_tree=1, predictor='auto', random_state=0,\n",
       "              reg_alpha=0, reg_lambda=1, scale_pos_weight=1, subsample=1,\n",
       "              tree_method='exact', validate_parameters=1, verbosity=None)"
      ]
     },
     "execution_count": 17,
     "metadata": {},
     "output_type": "execute_result"
    }
   ],
   "source": [
    "balanced_model.fit(train_data.values, train_labels)"
   ]
  },
  {
   "cell_type": "code",
   "execution_count": 18,
   "id": "e4406e3c-15a1-4941-8289-dd177e2907a3",
   "metadata": {},
   "outputs": [],
   "source": [
    "# Get some test predictions\n",
    "y_pred = balanced_model.predict(test_data.values)"
   ]
  },
  {
   "cell_type": "code",
   "execution_count": 19,
   "id": "f9bf4526-3168-41aa-8bc5-a8099cbbac11",
   "metadata": {},
   "outputs": [
    {
     "data": {
      "image/png": "[encoded data removed]",
      "text/plain": [
       "<Figure size 432x288 with 2 Axes>"
      ]
     },
     "metadata": {
      "needs_background": "light"
     },
     "output_type": "display_data"
    }
   ],
   "source": [
    "from sklearn.metrics import confusion_matrix\n",
    "plot_confusion_matrix(balanced_model, test_data, test_labels.values)\n",
    "plt.show()"
   ]
  },
  {
   "cell_type": "code",
   "execution_count": 20,
   "id": "18aa231a-ccfd-47f9-9e91-2b57fb04068a",
   "metadata": {},
   "outputs": [
    {
     "name": "stdout",
     "output_type": "stream",
     "text": [
      "Accuracy = 0.996\n",
      "Recall = 0.996\n",
      "Precision = 0.985\n"
     ]
    }
   ],
   "source": [
    "print(f'Accuracy = {accuracy_score(test_labels.values, y_pred):.3f}')\n",
    "print(f'Recall = {recall_score(test_labels.values, y_pred):.3f}')\n",
    "print(f'Precision = {precision_score(test_labels.values, y_pred):.3f}')"
   ]
  },
  {
   "cell_type": "markdown",
   "id": "5d6f7a7b-3c1a-446a-9c53-4556fbcb23d1",
   "metadata": {},
   "source": [
    "Downsampling can also be combined with the [ensemble pattern](https://github.com/MetOffice/data_science_cop/blob/ml_design_patterns/further_ml_examples/design_patterns/dp7_ch3_ensembles.ipynb), to avoid discarding lots of data from the majority class. e.g. if you have a minority class with 100 samples and a majority class with 1000 samples, you could split the majority class dataset into 10 sets of 100 samples. Combining each of these majority class sets with the 100 minority class samples, you could train 10 seperate models and treat these as an ensemble. "
   ]
  },
  {
   "cell_type": "markdown",
   "id": "937a31db-da53-4cbf-9952-7be630e32dfc",
   "metadata": {},
   "source": [
    "### Upsampling"
   ]
  },
  {
   "cell_type": "markdown",
   "id": "de6323b6-aecf-4f6f-b579-baad28b6ad4d",
   "metadata": {},
   "source": [
    "With upsampling, we overrepresent the minority class by both replicating minority class examples and generating additional, synthetic examples. This is often done in combination with downsampling of the majority class.\n",
    "\n",
    "Combining downsampling and upsampling is referred to as synthetic minority over-sampling technique (SMOTE).\n",
    "\n",
    "<img src=\"Images/oversampling.png\">"
   ]
  },
  {
   "cell_type": "markdown",
   "id": "cfd5c877-2c7a-47de-977b-be04b93b13dc",
   "metadata": {},
   "source": [
    "### Weighted classes and output bias"
   ]
  },
  {
   "cell_type": "markdown",
   "id": "663673db-81d0-420b-9127-793285381faf",
   "metadata": {},
   "source": [
    "Changing the <i>weight</i> our model gives to examples from each class is one way to handle class imbalance. By weighting classes, we tell our model to treat specific label classes with more importance during training, assigning more wait to examples from the minority class. \n",
    "\n",
    "The exact weights you assign to each class is something you can experiment with, the suggested example here was:\n",
    "```Python\n",
    "minority_class_weight = 1 / (num_minority_examples / total_examples) / 2\n",
    "majority_class_weight = 1 / (num_majority_examples / total_examples) / 2\n",
    "```"
   ]
  },
  {
   "cell_type": "markdown",
   "id": "aefec751-3cd3-4c68-ac6d-7efa8979bf5d",
   "metadata": {
    "tags": []
   },
   "source": [
    "### Link to explainable AI"
   ]
  },
  {
   "cell_type": "code",
   "execution_count": 21,
   "id": "34fcf26c-2fe9-4456-a206-df0b694d85c6",
   "metadata": {},
   "outputs": [
    {
     "data": {
      "image/png": "[encoded data removed]",
      "text/plain": [
       "<Figure size 432x288 with 1 Axes>"
      ]
     },
     "metadata": {
      "needs_background": "light"
     },
     "output_type": "display_data"
    }
   ],
   "source": [
    "sorted_idx = model.feature_importances_.argsort()\n",
    "plt.barh(test_data.columns[sorted_idx], model.feature_importances_[sorted_idx])\n",
    "plt.xlabel(\"Unbalance Dataset Feature Importance\")\n",
    "plt.show()"
   ]
  },
  {
   "cell_type": "code",
   "execution_count": 22,
   "id": "0275e761-e54d-4189-8838-ee263e2c1b76",
   "metadata": {},
   "outputs": [
    {
     "data": {
      "text/plain": [
       "Text(0.5, 0, 'Balance Dataset Feature Importance')"
      ]
     },
     "execution_count": 22,
     "metadata": {},
     "output_type": "execute_result"
    },
    {
     "data": {
      "image/png": "[encoded data removed]",
      "text/plain": [
       "<Figure size 432x288 with 1 Axes>"
      ]
     },
     "metadata": {
      "needs_background": "light"
     },
     "output_type": "display_data"
    }
   ],
   "source": [
    "sorted_idx = balanced_model.feature_importances_.argsort()\n",
    "plt.barh(test_data.columns[sorted_idx], balanced_model.feature_importances_[sorted_idx])\n",
    "plt.xlabel(\"Balance Dataset Feature Importance\")"
   ]
  },
  {
   "cell_type": "markdown",
   "id": "8e68703c-8ea3-4399-a1b1-e2725791900b",
   "metadata": {
    "tags": []
   },
   "source": [
    "## Real world examples\n",
    "\n",
    "\n",
    "Try to include some actual/possible examples of where this DP could be used in a weather and climate context."
   ]
  },
  {
   "cell_type": "markdown",
   "id": "acdb14a7-53c6-4cd8-b2fe-e4037443ba77",
   "metadata": {},
   "source": [
    "- Extremes modelling \n",
    "- Anomoly detection \n",
    "- Precipitation rain or no rain modelling "
   ]
  },
  {
   "cell_type": "code",
   "execution_count": null,
   "id": "8de750c1-d419-4259-a13e-3dbda1310223",
   "metadata": {},
   "outputs": [],
   "source": []
  }
 ],
 "metadata": {
  "kernelspec": {
   "display_name": "Python 3 (ipykernel)",
   "language": "python",
   "name": "python3"
  },
  "language_info": {
   "codemirror_mode": {
    "name": "ipython",
    "version": 3
   },
   "file_extension": ".py",
   "mimetype": "text/x-python",
   "name": "python",
   "nbconvert_exporter": "python",
   "pygments_lexer": "ipython3",
   "version": "3.7.7"
  }
 },
 "nbformat": 4,
 "nbformat_minor": 5
}
