{
 "cells": [
  {
   "cell_type": "markdown",
   "id": "f238e8e8-e5e4-4bbb-b888-fc1864855125",
   "metadata": {},
   "source": [
    "# Design Pattern 5 (Chapter 3)\n",
    "\n",
    "<div>\n",
    "<center><img src=\"Images/reframing/reframing.png\" width=\"300\" alt=\"reframing\" /></center>\n",
    "</div>"
   ]
  },
  {
   "cell_type": "markdown",
   "id": "23b59ac7-4bf4-48b2-99ca-2fb081742946",
   "metadata": {},
   "source": [
    "## Introduction to Design Pattern"
   ]
  },
  {
   "cell_type": "markdown",
   "id": "d4d344f3-5c8f-4f3c-8c32-d3ab3d23cbbf",
   "metadata": {},
   "source": [
    "This design pattern begins to considering the way we are posing the problem we are trying to solve with the ML model, in order to allow a good fit between the data and model. An example of this would be predictions of rainfall rate over a given period: \n",
    "\n",
    "<div>\n",
    "<center><img src=\"Images/reframing/question.png\" width=\"500\"/></center>\n",
    "</div>\n",
    "\n",
    "Here the real valued nature of the problem might lead to the intial design decision to treat the problem as a regression problem, trying to estimate a real valued output value. However it is often intuatively and pratically simpler to treat it as a classification problem through discretization of the input space. This intuative simplification is the key the design pattern.\n",
    "\n",
    "However reframing the pattern can have positive side effects depending on the 'default' choices are within the problem type that you're looking at. Within regression Mean Squared Error (MSE), and Catagorical Cross Entropy (CCE) are common choices for losses. This change in loss enforces a change in the output type that may better fit the data, with CCE the output is considered a discrete  Probability Desnsity Function which can in code some uncertainty in the prediction. \n",
    "\n",
    "\n",
    "<div>\n",
    "<center><img src=\"Images/reframing/regression_mse.png\" width=\"500\"/></center>\n",
    "</div>\n",
    "\n",
    "<div>\n",
    "<center><img src=\"Images/reframing/classification_cce.png\" width=\"500\"/></center>\n",
    "</div>\n",
    "\n",
    "The differing output types may match the underlying data distribution better, for example if the distribution of the data for a given rainfall prediction followed a roughly normal distribution as in the diagram as regression using MSE could only ever achieve its best loss by predicting the mean of the distribution. By using CCE you are allowing the distribution to be represented in the output, and so the output from the model may be more useful. \n",
    "\n",
    "<div>\n",
    "<center><img src=\"Images/reframing/distributions.png\" width=\"500\"/></center>\n",
    "</div>\n",
    "\n",
    "_However, as is noted in the book this is not the only way of representing uncertainty in the output of a model but by being from the default choice for a lot of NN based classification problems it might be a reasonable starting place!. Endless possabilites...._ \n",
    "\n",
    "Reframing often comes with comparamises, as discussed with the example above this could be in the precission of the output. Ultimately the choice of Inputs / Questions / Outputs should be driven by the domains experties and the requirements of the end user of the system. For example a memeber of the public might be interested in the impact on the weather on how they want to behave where a coarser output is more accessible, compared to a farm trying to understand how the rainfall might affect their crop yeild.\n",
    "\n",
    "<div>\n",
    "<center><img src=\"Images/reframing/output_usage.png\" width=\"700\"/></center>\n",
    "</div>\n",
    "\n",
    "A further compramise is the lack of  comparison models when a problem is reframed. Comparision between a regression and classification model is not straight forward.\n",
    "\n",
    "# Best of Both Worlds\n",
    "\n",
    "Maybe you can reframe your problem as 2 problems with a similar goal to get the best of both worlds in the end. The book mentions both hard weight sharing (sharing some layers) and soft weight sharing (including weight similarity in the loss, W <sub>penalty</sub>), allowing you to leverage both the probabalistic and  \n",
    "\n",
    "<div>\n",
    "<center><img src=\"Images/reframing/weight_sharing.png\" width=\"700\"/></center>\n",
    "</div>\n",
    "\n",
    "\n",
    "## Summary\n",
    "\n",
    "Although this chapter introduces alot of seperate ideas, maybe it can be 'reframed' as being concious of the choices you are making throughout the design process. Particualry your 'input(s)', 'question(s)' and 'output(s)', these aspects of your problem can often be tweaked in order to benifit your overall system.\n",
    "\n",
    "<div>\n",
    "<center><img src=\"Images/reframing/summary.png\" width=\"700\"/></center>\n",
    "</div>\n",
    "\n",
    "- Inputs - What is  nature of the data you want to present to the mode?\n",
    "    - Time of day - Is the time important or is it the point on the cycle?!\n",
    "    - Textual - Some sort of embedding previosuly discussed?!\n",
    "- Question - Can we make the problem any simpler?\n",
    "    - Regression / Classification?!\n",
    "- Outputs - What is useful to the end user of the system?\n",
    "    - Is the output probabilistic?\n",
    "    \n",
    "## Extra Credit\n",
    "\n",
    "For something really at the extreme end of reframing, look at the area of self-supervised learning which ties together many of the ideas touched upon in the book so far. A nice starting point is the paper: [Unsupervised Visual Representation Learning by Context Prediction, Doresh et Al ICCV 2015](https://ieeexplore.ieee.org/document/7410524). It presents the idea of learning some task that is trivial to generate labels for, with the goal to learn some representation / embedding along the way that encodes something useful for a different task, such as object recogni\n",
    "\n",
    "\n",
    "<div>\n",
    "<center><img src=\"Images/reframing/pretext.png\" width=\"700\"/></center>\n",
    "</div>\n",
    "\n"
   ]
  },
  {
   "cell_type": "markdown",
   "id": "5b8f07e1-7cb6-4958-bcd5-631d904e9620",
   "metadata": {},
   "source": [
    "## Example python implementation"
   ]
  },
  {
   "cell_type": "code",
   "execution_count": null,
   "id": "2c7bb760-019b-4314-b287-2d5a195f3c5c",
   "metadata": {},
   "outputs": [],
   "source": []
  },
  {
   "cell_type": "code",
   "execution_count": null,
   "id": "d20f315e-3758-4c89-a866-17c314760202",
   "metadata": {},
   "outputs": [],
   "source": []
  },
  {
   "cell_type": "markdown",
   "id": "8e68703c-8ea3-4399-a1b1-e2725791900b",
   "metadata": {},
   "source": [
    "## Real world examples\n",
    "\n",
    "\n",
    "Try to include some actual/possible examples of where this DP could be used in a weather and climate context."
   ]
  },
  {
   "cell_type": "code",
   "execution_count": null,
   "id": "01239aff-9f4e-43c4-b603-2da55882a8c4",
   "metadata": {},
   "outputs": [],
   "source": []
  },
  {
   "cell_type": "code",
   "execution_count": null,
   "id": "2dcf247c-46d8-4aa1-b8c5-3776596232e4",
   "metadata": {},
   "outputs": [],
   "source": []
  }
 ],
 "metadata": {
  "kernelspec": {
   "display_name": "Python 3 (ipykernel)",
   "language": "python",
   "name": "python3"
  },
  "language_info": {
   "codemirror_mode": {
    "name": "ipython",
    "version": 3
   },
   "file_extension": ".py",
   "mimetype": "text/x-python",
   "name": "python",
   "nbconvert_exporter": "python",
   "pygments_lexer": "ipython3",
   "version": "3.8.13"
  }
 },
 "nbformat": 4,
 "nbformat_minor": 5
}
