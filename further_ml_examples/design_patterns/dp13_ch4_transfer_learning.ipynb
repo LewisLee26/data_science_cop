{
 "cells": [
  {
   "cell_type": "markdown",
   "id": "f238e8e8-e5e4-4bbb-b888-fc1864855125",
   "metadata": {},
   "source": [
    "# Design Pattern 13 - Transfer Learning (Chapter 4)"
   ]
  },
  {
   "cell_type": "markdown",
   "id": "23b59ac7-4bf4-48b2-99ca-2fb081742946",
   "metadata": {},
   "source": [
    "## Introduction to Design Pattern\n",
    "\n",
    "Transfert learning is tyhe process of taking a pre-trained model that has been trained on \"similar\" data to the problem we are interested in, preferably trained for a \"similar\" task, and fine-tuning or retraining it with the dataset that directly models the problem of interest.\n",
    "\n",
    "Conditions that make a problem suitable for transfer learning:\n",
    "* we have a small dataset on which to train for our problem\n",
    "* The problem can be broken down conceptually into two parts:\n",
    "  * Transforming the input features into a lower dimension feature space, encapsulating understanding of the structure of the data that is pertinent to the task required of the ML model\n",
    "  * Predicting the output from the feature space.\n",
    "* The dataset for the target task is similar to that used to train the initial model\n",
    "* The target task is similar to the task for which the orginal model was trained\n",
    "  * put another way, the feature space required for the original task, as contained in the last layer reused from the original model, is similar to the frature space required for the new task\n",
    "\n",
    "Disucssion questions:\n",
    "* how can we decide if a dataset is sufficiently similar?\n",
    "* how can we decide if a task is sufficiently similar?\n"
   ]
  },
  {
   "cell_type": "markdown",
   "id": "7426f7d0-6692-4818-a26b-d82c57d07a19",
   "metadata": {},
   "source": [
    "### Bottleneck layer\n",
    "\n",
    "In the previous section, we talked about a feature space. Typicall what happens in transfer learning, the initial model is prepared for use in transfer learning in the following way:\n",
    "* load in the model \n",
    "* remove the last layer\n",
    "* set all remaining layers to frozen (i.e. the weights will not be updated in subsequent training)\n",
    "* add on one or more layers at the end to learn the mapping to the particular target outputs of this problem\n",
    "\n",
    "The last remaining layer from original model before the new layers that have been added is called the *bottleneck* layer. This is because it is the smallest layer or lowest dimensional representation of the features you wish to capture (like the neck of bottle). So whether or not a model is suitable for transfer learning for your problem, comes down to whether the features captured in the bottleneck layer represented the important features to use as predictors. One can view the output of transfer learning as really 2 models:\n",
    "* a feature engineering model to produce some lower dimensional predctors for a small model\n",
    "* a regression or classsification model to predict the targets of your specific problem\n",
    "\n",
    "Sometimes you may wish to explicitly use 2 separate models (a bit like the cascade pattern #8. The disadvantage of that is you are unable to subsequently use fine tuning.\n",
    "\n",
    "The feature space represented by the bottlneck layer can be compared:\n",
    "* an embedding layer for text models\n",
    "* the latent space in an autoencoder\n",
    "  * One could create the feature engineering part by creating an autoencoder, removing the decoder layer, and using the encoder part as the model up to the bottleneck, freezing the enoder and adding addtional ayers to train for your specific problem.\n",
    "\n",
    "*COMMON PITFALL* - Don't forget to strip off the layers after the bottleneck, otherwise you will get poor performance from your model."
   ]
  },
  {
   "cell_type": "markdown",
   "id": "e48983f6-5429-46c0-92eb-ebc0bbc582e2",
   "metadata": {},
   "source": [
    "### Model source\n",
    "When doing transfer learning, you can either:\n",
    "* use your own model that you have trained on another larger dataset, which you load into the framework of choice,\n",
    "* Load a generic model froman external source or repository of such models, for example:\n",
    "  * [tensorflow hub](https://tfhub.dev/)\n",
    "\n",
    "Discussion questions:\n",
    "* What are the challenges around using a pre-trained model for an external source?"
   ]
  },
  {
   "cell_type": "markdown",
   "id": "6df41c45-8447-4a76-b78e-17899fb170e6",
   "metadata": {},
   "source": [
    "### Why it works\n",
    "\n",
    "It is worth a brief digression to think about *why* this might work. Lets consider for a moment a young child learning to speak. They want to learn to associate objects with their name. They might lwarn to recognise a cat and associate with the sound of thew word cat by watching an adult, who when there is a cat will point to the cat and say \"cat\". They will then try to do the same, probably initially pointing to many non-cat objects and saying \"cat\" and being corrected, and occasionally getting it right and getting positive reinforcement. Initially this is slow, because the child is not just learning about a cat, but all the nerual pathways about recognising objects in their field of vision and associting image with sounds. When an adult or older child encounters a new animal, it is a much faster process, becuase gthey have learned how to recognise objects and associate them with words, they only need to learn the specifics of the new sort of animal. This is transfer learning, where we reuse the part of the task that is common (how to recognise objkect in vision associate it with sounds) and only train new connections for what is different. When the aformentioned toddler moves on from recognising cats to learning to recognise dogs, it will be easier and hopefully faster because they will have the feature engineering to recognise fluffy animals that can be repurposed for recognising dogs as well as cats.\n",
    "\n",
    "In our neural network, the early layers are typically about recognising low level features, then groups or aggregations of features, and the last layer or last few layers is about the specfics of the classification or regression task. By stripping off the last few layers and adding our own, we can reuse the feayure engineering layers with new layers trained for our specific task. These ayers should have far fewer trainable parameters than the whole network, so can be trained with a much smaller training dataset."
   ]
  },
  {
   "cell_type": "markdown",
   "id": "37eefeb7-7eeb-416d-af2f-deacf8ab701a",
   "metadata": {},
   "source": [
    "## *When transfer learning goes bad* - trade-offs and alternatives\n",
    "\n",
    "### Fine-tuning vs feature extraction\n",
    "\n",
    "There are two different ways of using an existing model.\n",
    "* **feature extraction** - This is where you chop off layer after bottleneck, freeze remaining layer and some extra layers and only train the new layers, not frozen layers up to bottleneck\n",
    "* **fine-tuning** - This is where no weights are frozen and you update all the weights from the new dataset\n",
    "  *  In fine tuning it is.common to still leave some layers frozen, so that you don't change the layers representing the lowest level features, which should be constant, a bit like nerves between the eye and the brain which do some basic feature extraction.\n",
    "\n",
    "A combination of the two approaches is progressive fine tuning. Here you start with a frozen model and gradually unfreeze more layers for fine-tuning, reducing the learning rate as you progress. This way the earliest layers get some fine tuning, but not a lot, and the later layers representing higher level features get more retraining.\n",
    "\n",
    "Finding the balance between the two apporaches is still an art, and related to the question of how similar the data and task are to that of the original model training. The more different thety are, the more likely you are to just use feature extraction and avoid finetuning. The following table taken from the MLDP book gives some guidance around these choices:\n",
    "\n",
    "| Criterion | feature extraction | fine tuning |\n",
    "|------|------|-----|\n",
    "| How large is the dataset? | small | large |\n",
    "|is your prection task similar to pretrained model | different | similar |\n",
    "| compute budget for transfer learning | small | large |\n",
    "\n",
    "### Image and text data vs general tabular data\n",
    "Transfer learning so far has mainly been applied to image and text data, where the common elements of feature extraction are clearer. In general tabiular datasets, it is harder to specify a common data strcuture and feature extraction layers to go with it, so transfer learning is less common for tabular datasets. That being said, work is being done on developing base models for tabular data.\n",
    "* [TabNet generalised tabular data model](https://arxiv.org/abs/1908.07442)\n",
    "\n",
    "Discussion questions:\n",
    "* What are the other potential pitfalls of transfer learning?\n",
    "* What particular opportunities might treansfer learning present in weather & climate research?\n",
    "* What particular problems might there be in applying tranfer learning to weather and climate problems?\n"
   ]
  },
  {
   "cell_type": "markdown",
   "id": "d4d344f3-5c8f-4f3c-8c32-d3ab3d23cbbf",
   "metadata": {
    "tags": []
   },
   "source": [
    "Examples of when to use transfer learning\n",
    "* Image-based tasks - We want to predict something specific in an image. General image characteristics and strcuture can be learned from a larger more general dataset, and the ML model can learn the specific task from the smaller dataset using transfer learning, starting from a model with \"understanding\" of image features.\n",
    "* We want to predict a specific thing from natural langauge report. An exmaple might be to predict yes/no diagnosis for a disease from written medical reports. The models needs to understnd langauge generally, which can be learny from any text, then transfer learning to learn the specific task."
   ]
  },
  {
   "cell_type": "markdown",
   "id": "6c335d4e-1d12-469c-b029-3bdb75431222",
   "metadata": {},
   "source": [
    "### technical underpinnings of transfer learning\n",
    "\n",
    "Certain design patterns and other skills are important for implemente\n",
    "* check points (see DP #12)\n",
    "* model saving\n",
    "* freezing/unfreezing model layers\n",
    "* adding model layers\n",
    "* transforming input data to fit the original model"
   ]
  },
  {
   "cell_type": "markdown",
   "id": "1dcf7d34-210d-4ffd-82b4-e31d8386861a",
   "metadata": {},
   "source": [
    "Example code from the book:\n",
    "* [GitHub repo - transfer_learning.ipynb](https://github.com/GoogleCloudPlatform/ml-design-patterns/blob/master/04_hacking_training_loop/transfer_learning.ipynb)"
   ]
  },
  {
   "cell_type": "markdown",
   "id": "5b8f07e1-7cb6-4958-bcd5-631d904e9620",
   "metadata": {},
   "source": [
    "## Example - classifying the weather in images of the sky\n",
    "\n",
    "This example is taken from the following blog post:\n",
    "https://www.h2kinfosys.com/blog/transfer-learning-in-keras-with-examples/\n",
    "\n",
    "The data used in this is avilable here, together with 2 test images in this repository:\n",
    "https://data.mendeley.com/datasets/4drtyfjtfy/1\n",
    "\n",
    "Other tutorials:\n",
    "* https://medium.com/analytics-vidhya/transfer-learning-with-keras-9a1b3253211c \n",
    "* https://keras.io/guides/transfer_learning/"
   ]
  },
  {
   "cell_type": "markdown",
   "id": "f7a98803-4d96-4485-ae8e-7cd24ab39514",
   "metadata": {},
   "source": [
    "the following requirements definition should create a conda envirnoment for running this notebook:\n",
    "```\n",
    "name: mldp_tf\n",
    "channels:\n",
    "  - conda-forge\n",
    "dependencies:\n",
    "  - ipywidgets\n",
    "  - python=3.8\n",
    "  - jupyterlab\n",
    "  - ipykernel\n",
    "  - pandas=1.5\n",
    "  - matplotlib=3.4\n",
    "  - scikit-learn=1.2\n",
    "  - tensorflow=2.9\n",
    "  - tensorboard=2.9\n",
    "  - mlflow=2.1\n",
    "  - tensorflow-datasets\n",
    "  - keras-applications\n",
    "```"
   ]
  },
  {
   "cell_type": "code",
   "execution_count": 2,
   "id": "3ed60cc1-d1bd-49d4-be10-4173fea18c99",
   "metadata": {
    "tags": []
   },
   "outputs": [],
   "source": [
    "import pathlib\n",
    "import os\n",
    "from glob import glob"
   ]
  },
  {
   "cell_type": "code",
   "execution_count": 3,
   "id": "efb87559-1128-4d94-bf2b-2d0bf2107216",
   "metadata": {
    "tags": []
   },
   "outputs": [],
   "source": [
    "import numpy as np\n",
    "import matplotlib.pyplot as plt\n"
   ]
  },
  {
   "cell_type": "code",
   "execution_count": 35,
   "id": "e603f418-74bd-4bf6-a497-ebf8d7c471b3",
   "metadata": {
    "tags": []
   },
   "outputs": [],
   "source": [
    "from tensorflow.keras.applications.vgg16 import VGG16, preprocess_input, decode_predictions\n",
    "from tensorflow.keras import Input\n",
    "from tensorflow.keras.preprocessing.image import load_img, img_to_array, ImageDataGenerator\n",
    "from tensorflow.keras.models import Model\n",
    "from tensorflow.keras.layers import Dense, Flatten    "
   ]
  },
  {
   "cell_type": "markdown",
   "id": "c38d2a0c-3769-4560-a379-013036c6f824",
   "metadata": {},
   "source": [
    "First we demonstrate doing a classification with a base model as is, doing the task fro which it was orginally trained, in this case recognising objects"
   ]
  },
  {
   "cell_type": "code",
   "execution_count": 5,
   "id": "ad57ebda-42bd-42cb-9fda-4d74b68e49c6",
   "metadata": {
    "tags": []
   },
   "outputs": [],
   "source": [
    "#load the image\n",
    "my_image = load_img('cup.jpeg', target_size=(224, 224))\n"
   ]
  },
  {
   "cell_type": "code",
   "execution_count": 6,
   "id": "faa72d4d-ef48-4c03-be8c-7590980a6dd1",
   "metadata": {
    "tags": []
   },
   "outputs": [],
   "source": [
    "#convert the image to an array\n",
    "my_image = img_to_array(my_image)"
   ]
  },
  {
   "cell_type": "code",
   "execution_count": 7,
   "id": "7bafeeb3-00c9-4a3b-a483-be8903e444ad",
   "metadata": {
    "tags": []
   },
   "outputs": [],
   "source": [
    "#reshape the image\n",
    "my_image = my_image.reshape((1, my_image.shape[0], my_image.shape[1], my_image.shape[2]))\n",
    "#preprocess the image to be in the best form for the model\n",
    "my_image = preprocess_input(my_image)"
   ]
  },
  {
   "cell_type": "code",
   "execution_count": 8,
   "id": "b0225174-f036-4b24-81ab-72faa2267686",
   "metadata": {
    "tags": []
   },
   "outputs": [
    {
     "name": "stderr",
     "output_type": "stream",
     "text": [
      "2023-02-24 19:09:11.160893: I tensorflow/core/platform/cpu_feature_guard.cc:193] This TensorFlow binary is optimized with oneAPI Deep Neural Network Library (oneDNN) to use the following CPU instructions in performance-critical operations:  SSE4.1 SSE4.2 AVX AVX2 AVX512F AVX512_VNNI FMA\n",
      "To enable them in other operations, rebuild TensorFlow with the appropriate compiler flags.\n"
     ]
    }
   ],
   "source": [
    "#instantiate the model\n",
    "vgg = VGG16()\n"
   ]
  },
  {
   "cell_type": "code",
   "execution_count": 9,
   "id": "f4e15894-01c0-4dc0-87a1-dfa1f6fddd15",
   "metadata": {
    "tags": []
   },
   "outputs": [
    {
     "name": "stdout",
     "output_type": "stream",
     "text": [
      "Model: \"vgg16\"\n",
      "_________________________________________________________________\n",
      " Layer (type)                Output Shape              Param #   \n",
      "=================================================================\n",
      " input_1 (InputLayer)        [(None, 224, 224, 3)]     0         \n",
      "                                                                 \n",
      " block1_conv1 (Conv2D)       (None, 224, 224, 64)      1792      \n",
      "                                                                 \n",
      " block1_conv2 (Conv2D)       (None, 224, 224, 64)      36928     \n",
      "                                                                 \n",
      " block1_pool (MaxPooling2D)  (None, 112, 112, 64)      0         \n",
      "                                                                 \n",
      " block2_conv1 (Conv2D)       (None, 112, 112, 128)     73856     \n",
      "                                                                 \n",
      " block2_conv2 (Conv2D)       (None, 112, 112, 128)     147584    \n",
      "                                                                 \n",
      " block2_pool (MaxPooling2D)  (None, 56, 56, 128)       0         \n",
      "                                                                 \n",
      " block3_conv1 (Conv2D)       (None, 56, 56, 256)       295168    \n",
      "                                                                 \n",
      " block3_conv2 (Conv2D)       (None, 56, 56, 256)       590080    \n",
      "                                                                 \n",
      " block3_conv3 (Conv2D)       (None, 56, 56, 256)       590080    \n",
      "                                                                 \n",
      " block3_pool (MaxPooling2D)  (None, 28, 28, 256)       0         \n",
      "                                                                 \n",
      " block4_conv1 (Conv2D)       (None, 28, 28, 512)       1180160   \n",
      "                                                                 \n",
      " block4_conv2 (Conv2D)       (None, 28, 28, 512)       2359808   \n",
      "                                                                 \n",
      " block4_conv3 (Conv2D)       (None, 28, 28, 512)       2359808   \n",
      "                                                                 \n",
      " block4_pool (MaxPooling2D)  (None, 14, 14, 512)       0         \n",
      "                                                                 \n",
      " block5_conv1 (Conv2D)       (None, 14, 14, 512)       2359808   \n",
      "                                                                 \n",
      " block5_conv2 (Conv2D)       (None, 14, 14, 512)       2359808   \n",
      "                                                                 \n",
      " block5_conv3 (Conv2D)       (None, 14, 14, 512)       2359808   \n",
      "                                                                 \n",
      " block5_pool (MaxPooling2D)  (None, 7, 7, 512)         0         \n",
      "                                                                 \n",
      " flatten (Flatten)           (None, 25088)             0         \n",
      "                                                                 \n",
      " fc1 (Dense)                 (None, 4096)              102764544 \n",
      "                                                                 \n",
      " fc2 (Dense)                 (None, 4096)              16781312  \n",
      "                                                                 \n",
      " predictions (Dense)         (None, 1000)              4097000   \n",
      "                                                                 \n",
      "=================================================================\n",
      "Total params: 138,357,544\n",
      "Trainable params: 138,357,544\n",
      "Non-trainable params: 0\n",
      "_________________________________________________________________\n"
     ]
    }
   ],
   "source": [
    "vgg.summary()"
   ]
  },
  {
   "cell_type": "code",
   "execution_count": 10,
   "id": "6c48c51f-1fdb-4547-85d8-8c61ac913f3b",
   "metadata": {
    "tags": []
   },
   "outputs": [
    {
     "name": "stdout",
     "output_type": "stream",
     "text": [
      "1/1 [==============================] - 0s 365ms/step\n"
     ]
    },
    {
     "data": {
      "text/plain": [
       "array([[1.14899848e-07, 2.01750072e-06, 5.83161572e-08, 2.72453008e-07,\n",
       "        4.95119934e-07, 1.02457228e-07, 1.77291938e-07, 2.62034973e-07,\n",
       "        3.06131170e-07, 9.90755566e-08, 2.83425209e-07, 4.45042446e-07,\n",
       "        8.58935380e-07, 2.21858204e-06, 6.28068506e-07, 1.58606255e-07,\n",
       "        4.11044681e-07, 3.28922170e-06, 5.28788132e-06, 2.41434213e-06,\n",
       "        1.00847387e-06, 6.75838976e-08, 8.18259025e-08, 1.25732953e-07,\n",
       "        9.78722809e-08, 5.19143306e-08, 2.85867614e-08, 3.11764779e-07,\n",
       "        2.51977355e-07, 6.84918064e-07, 3.17099534e-07, 9.14077418e-07,\n",
       "        9.92205997e-08, 5.19820027e-08, 5.32923536e-07, 1.64831803e-07,\n",
       "        3.90857537e-07, 1.20607780e-07, 1.52453794e-07, 6.28273682e-08,\n",
       "        2.49924199e-07, 7.26121883e-08, 6.63093900e-08, 6.22913774e-08,\n",
       "        2.78855254e-07, 2.38300387e-07, 2.31861151e-07, 1.51379083e-07,\n",
       "        1.06476499e-07, 1.27459131e-07, 1.56106196e-07, 7.09011800e-08,\n",
       "        6.59244847e-07, 4.86526574e-07, 6.23193955e-07, 2.26288222e-07,\n",
       "        1.33483911e-06, 4.50178774e-08, 1.40896162e-07, 5.52397296e-07,\n",
       "        2.96562035e-07, 7.25406551e-07, 9.37355153e-08, 1.21619919e-07,\n",
       "        1.74738474e-07, 2.10678351e-07, 2.63342201e-07, 2.74269524e-07,\n",
       "        9.97921603e-08, 5.05453784e-07, 2.43405879e-07, 1.87648641e-06,\n",
       "        2.18278888e-08, 6.99499054e-08, 3.00377430e-08, 4.53706718e-07,\n",
       "        6.47974048e-07, 5.16907562e-07, 5.57058820e-06, 1.70441376e-06,\n",
       "        4.48098149e-07, 1.07838204e-07, 3.48781924e-07, 1.34330634e-07,\n",
       "        1.87596314e-07, 1.49789582e-06, 2.73975161e-07, 1.40277562e-05,\n",
       "        7.63131993e-08, 5.42555199e-07, 1.12345674e-06, 1.97214803e-07,\n",
       "        1.09720411e-07, 3.26756265e-07, 2.04178855e-06, 2.64481930e-08,\n",
       "        1.66875418e-06, 1.23371103e-06, 2.84851353e-07, 2.28934027e-07,\n",
       "        9.91229001e-08, 3.95933348e-08, 1.70688381e-07, 5.80831340e-07,\n",
       "        1.74909360e-07, 1.37918875e-07, 7.11564553e-07, 1.83238782e-07,\n",
       "        2.91903166e-06, 1.63946197e-07, 1.24917833e-07, 9.34914738e-07,\n",
       "        1.23282134e-05, 2.70618443e-06, 2.39626411e-06, 2.04774281e-07,\n",
       "        4.86775527e-08, 2.01385501e-05, 6.39902009e-06, 7.61387696e-07,\n",
       "        5.85796158e-07, 1.36486847e-06, 9.88376451e-06, 4.38356693e-07,\n",
       "        8.33836111e-06, 8.61081480e-06, 2.66061676e-07, 3.66766315e-08,\n",
       "        1.18746817e-08, 2.96998852e-08, 1.28082661e-07, 1.12234659e-07,\n",
       "        3.02467129e-07, 1.32454915e-07, 4.23301252e-08, 5.11637026e-08,\n",
       "        2.89761800e-07, 4.84096745e-07, 5.67090410e-08, 3.42315843e-07,\n",
       "        6.21201366e-07, 3.44099021e-07, 1.25404227e-07, 2.32641909e-07,\n",
       "        1.52605082e-07, 6.41065299e-07, 2.38032612e-07, 3.74628435e-08,\n",
       "        1.45340618e-06, 3.63360400e-08, 2.96290352e-07, 1.45230206e-06,\n",
       "        2.14458197e-07, 7.68850043e-07, 2.72332863e-06, 1.32502737e-06,\n",
       "        7.87000261e-07, 5.22527671e-07, 8.76133754e-07, 5.26098290e-07,\n",
       "        6.69204070e-08, 7.90020567e-06, 2.74311788e-06, 6.30808756e-07,\n",
       "        3.32497052e-06, 9.94817015e-07, 5.04948389e-07, 2.67092844e-07,\n",
       "        9.30809051e-07, 1.03279909e-07, 1.08540114e-07, 2.96676444e-06,\n",
       "        6.41248107e-07, 2.29020273e-07, 8.88050408e-07, 1.06965842e-07,\n",
       "        2.49700946e-07, 9.61747872e-08, 3.90834430e-07, 4.66720849e-07,\n",
       "        1.69775177e-07, 7.52167466e-08, 4.56945054e-06, 7.49153287e-07,\n",
       "        2.13541148e-06, 3.23636846e-06, 1.59428896e-06, 1.01977571e-06,\n",
       "        1.87170116e-07, 4.38181132e-07, 6.22637856e-07, 5.88087801e-07,\n",
       "        1.21966934e-06, 5.10816278e-07, 2.47754940e-07, 1.93718847e-06,\n",
       "        1.18461560e-06, 4.45166393e-07, 3.90629481e-07, 4.89945592e-07,\n",
       "        2.80900309e-07, 2.18942091e-06, 2.34738968e-06, 9.12398264e-07,\n",
       "        3.77758306e-06, 4.60851595e-07, 1.11343084e-07, 1.55596837e-07,\n",
       "        9.72306793e-07, 8.42177599e-07, 6.03607987e-07, 6.99359248e-07,\n",
       "        5.32430761e-07, 3.24538547e-07, 2.90495564e-07, 5.51051357e-07,\n",
       "        5.62641347e-08, 1.71704312e-06, 2.19010781e-06, 1.26032307e-06,\n",
       "        2.90777450e-07, 2.19563603e-07, 7.91796069e-08, 1.97427357e-06,\n",
       "        3.44488399e-07, 1.96708953e-07, 1.55156599e-07, 2.41338768e-07,\n",
       "        2.83107617e-08, 2.45927026e-07, 9.50823733e-07, 1.23038001e-06,\n",
       "        7.47293029e-07, 3.84594983e-07, 5.98097870e-07, 3.27091755e-07,\n",
       "        1.38449963e-07, 8.94076209e-07, 7.25503412e-07, 1.10217786e-06,\n",
       "        1.02553088e-06, 5.76515163e-07, 3.22452735e-07, 2.51596532e-07,\n",
       "        7.99926383e-08, 1.76931064e-06, 1.15483289e-07, 3.79297376e-07,\n",
       "        2.72455054e-07, 4.82225971e-07, 7.64141760e-07, 1.66244331e-06,\n",
       "        8.75125394e-08, 1.57786974e-06, 1.58172963e-06, 2.68242939e-08,\n",
       "        3.83398969e-07, 2.67475173e-07, 6.11783435e-07, 9.26585301e-07,\n",
       "        1.21366995e-07, 4.18326408e-07, 3.53943136e-07, 3.52897791e-06,\n",
       "        1.63607490e-06, 9.22426466e-07, 6.43327098e-07, 2.09134555e-07,\n",
       "        5.89496878e-08, 9.42741281e-08, 4.86813576e-08, 2.09724664e-08,\n",
       "        3.33688597e-08, 2.11933809e-07, 5.66400224e-08, 2.33954047e-08,\n",
       "        5.57196920e-08, 8.02743187e-08, 8.78279209e-08, 3.81401577e-07,\n",
       "        3.86951399e-07, 3.76096136e-06, 2.01183479e-06, 2.28600993e-06,\n",
       "        1.77445941e-06, 2.47522917e-06, 1.31981437e-07, 5.27530688e-07,\n",
       "        5.55335404e-08, 2.31323781e-07, 9.92671687e-08, 4.35184155e-08,\n",
       "        7.49083569e-08, 1.28739543e-07, 4.76817199e-08, 1.07965185e-07,\n",
       "        7.19382953e-08, 2.98931404e-08, 1.05205004e-07, 1.12709508e-07,\n",
       "        1.51976352e-07, 8.94994116e-07, 3.72846131e-07, 3.78255976e-07,\n",
       "        2.90414675e-07, 5.88344164e-07, 2.47503317e-06, 4.21302303e-07,\n",
       "        1.72925198e-07, 4.86257534e-07, 6.72074179e-07, 2.81254444e-07,\n",
       "        1.62597689e-06, 6.28647399e-07, 2.56874773e-06, 4.06238456e-07,\n",
       "        1.82632348e-07, 7.23768423e-08, 2.44019958e-07, 5.46310673e-07,\n",
       "        5.00359420e-07, 1.11371122e-07, 4.01015967e-08, 4.16881285e-08,\n",
       "        1.37381051e-07, 2.46483367e-08, 7.75556330e-08, 2.53160977e-07,\n",
       "        2.09966015e-06, 4.35169426e-07, 1.43268255e-06, 4.04211477e-07,\n",
       "        1.27719966e-06, 6.32867477e-06, 2.47750222e-07, 5.83211630e-08,\n",
       "        1.10546480e-07, 1.77596206e-07, 1.72759719e-05, 1.81546920e-08,\n",
       "        4.29968523e-08, 3.46479609e-08, 1.91337826e-08, 1.05668143e-07,\n",
       "        1.33000981e-07, 5.46671508e-08, 2.74383716e-08, 1.59838862e-08,\n",
       "        2.73103975e-08, 1.15168888e-08, 5.75189709e-08, 2.40355575e-08,\n",
       "        1.80930559e-08, 1.11936004e-07, 2.55852282e-08, 1.89608897e-08,\n",
       "        2.84777866e-06, 3.39383490e-07, 6.33137574e-07, 7.10806262e-07,\n",
       "        2.62669971e-07, 3.03946331e-06, 3.59223054e-06, 6.43219664e-07,\n",
       "        8.25962800e-08, 7.77201450e-08, 1.43615779e-07, 3.40014566e-07,\n",
       "        6.24881409e-08, 8.55299191e-08, 9.12816489e-08, 5.10130036e-08,\n",
       "        1.56594897e-08, 3.65641419e-08, 5.46033228e-08, 1.90936163e-07,\n",
       "        4.47783535e-08, 9.68994200e-08, 5.79600901e-08, 1.18461834e-07,\n",
       "        6.59268977e-08, 2.18608456e-08, 1.15389270e-07, 2.35885338e-07,\n",
       "        2.89747799e-08, 2.09846682e-08, 2.04020605e-08, 3.35412579e-07,\n",
       "        2.88256899e-07, 3.21797913e-08, 4.37447937e-07, 4.75645692e-07,\n",
       "        1.26107204e-06, 3.95834832e-06, 7.07210148e-08, 1.97323928e-07,\n",
       "        2.01315970e-07, 3.84871271e-07, 4.16221474e-06, 5.46129343e-07,\n",
       "        1.08301265e-07, 9.62188665e-07, 4.43356075e-05, 1.20462246e-07,\n",
       "        3.22150271e-07, 1.07297944e-06, 2.97293724e-07, 4.97694082e-08,\n",
       "        4.95669106e-08, 5.06671677e-06, 5.73304177e-08, 1.24623386e-06,\n",
       "        3.32524833e-05, 2.37375886e-07, 1.13906687e-07, 8.02166960e-06,\n",
       "        1.16764141e-07, 3.53766495e-06, 1.29086866e-05, 1.03100128e-05,\n",
       "        9.22666629e-07, 3.08534413e-06, 4.23783149e-06, 6.86463238e-07,\n",
       "        8.41159817e-07, 7.94016231e-08, 1.77980837e-06, 6.78153629e-06,\n",
       "        2.89325658e-06, 5.53421069e-06, 7.86281907e-06, 3.14169512e-07,\n",
       "        1.67358485e-06, 2.76969945e-06, 1.88318324e-07, 1.90447536e-05,\n",
       "        1.41543424e-07, 2.71871357e-07, 1.01605248e-04, 7.44980412e-07,\n",
       "        2.82486963e-05, 6.93420006e-05, 2.16372973e-06, 5.44926536e-07,\n",
       "        6.15065048e-08, 1.94442634e-07, 1.62864922e-06, 7.03070109e-05,\n",
       "        2.38350549e-06, 1.54949575e-07, 7.38591041e-07, 1.90069659e-06,\n",
       "        7.62245008e-07, 1.14251088e-06, 2.98872294e-07, 3.87783191e-04,\n",
       "        3.22228317e-07, 8.77956700e-06, 1.98670037e-07, 1.64776873e-06,\n",
       "        4.53782256e-08, 3.85011504e-07, 5.08919675e-06, 2.71965750e-04,\n",
       "        1.72702305e-04, 9.15151617e-08, 2.35155039e-06, 7.29295522e-08,\n",
       "        2.56152475e-07, 5.54312719e-04, 3.35883320e-04, 1.12287933e-06,\n",
       "        9.23759700e-08, 4.84767370e-04, 2.14378645e-07, 3.21088407e-07,\n",
       "        1.36806705e-07, 7.01092233e-07, 1.06447569e-05, 6.71201497e-06,\n",
       "        8.53800444e-08, 2.73541150e-06, 1.55048258e-06, 9.65954072e-08,\n",
       "        2.94521261e-08, 3.07415830e-05, 5.14943906e-07, 2.28172685e-05,\n",
       "        1.03747361e-05, 8.71487089e-07, 4.48359316e-07, 1.44102827e-07,\n",
       "        1.76405399e-06, 2.02503472e-07, 3.61599632e-07, 6.61485865e-06,\n",
       "        5.24830966e-07, 1.41300518e-07, 8.83533460e-07, 1.27636798e-04,\n",
       "        7.37974588e-08, 4.12225702e-08, 1.17938922e-04, 2.90368043e-04,\n",
       "        2.53300607e-01, 5.41114109e-03, 2.85667229e-05, 1.05733079e-05,\n",
       "        1.34338970e-05, 2.20597417e-06, 9.67782171e-07, 7.05799224e-08,\n",
       "        1.71572698e-04, 2.98964949e-07, 9.26420057e-07, 2.57520855e-06,\n",
       "        1.64570201e-06, 3.23301975e-07, 5.53100035e-05, 8.65581342e-07,\n",
       "        1.76030213e-07, 1.30426575e-04, 1.70110361e-05, 3.82522967e-06,\n",
       "        7.57644756e-08, 3.11826028e-07, 7.43578221e-06, 1.87336457e-06,\n",
       "        2.74743379e-05, 4.50526414e-07, 6.82091704e-05, 4.90812236e-05,\n",
       "        3.36306257e-05, 1.75283913e-05, 6.49114281e-06, 3.42401540e-06,\n",
       "        3.14112299e-07, 2.08758451e-08, 1.33944377e-06, 1.90929336e-06,\n",
       "        2.66994022e-07, 8.15947374e-07, 4.58004342e-06, 1.00450152e-05,\n",
       "        6.32843410e-04, 4.92481558e-06, 6.21579193e-06, 1.61405573e-08,\n",
       "        4.07888308e-07, 1.13038425e-06, 1.72996474e-03, 1.94310851e-05,\n",
       "        5.41164582e-07, 7.09497840e-07, 1.97494487e-07, 2.46141347e-08,\n",
       "        7.80275002e-07, 1.51694280e-07, 2.49856657e-06, 3.18262323e-07,\n",
       "        2.84401303e-05, 1.00944028e-07, 1.75850096e-06, 3.88295884e-05,\n",
       "        3.39471669e-08, 8.89799736e-08, 1.11838756e-06, 1.23906194e-03,\n",
       "        1.13061160e-08, 2.17463150e-08, 3.19526112e-06, 4.82276299e-08,\n",
       "        5.31648402e-04, 8.07028357e-07, 1.01617943e-05, 4.82995262e-08,\n",
       "        1.32048337e-08, 3.05191378e-07, 4.06406038e-08, 2.54325050e-06,\n",
       "        2.13555083e-07, 5.10536722e-07, 6.23215328e-07, 1.56410874e-06,\n",
       "        6.95029848e-06, 1.54185582e-05, 5.85616000e-08, 8.98728922e-06,\n",
       "        3.70600924e-06, 1.44365004e-05, 4.54476094e-06, 4.37212111e-06,\n",
       "        1.16635829e-05, 4.03914601e-06, 1.63164728e-07, 3.74836411e-08,\n",
       "        7.17806415e-07, 1.39718873e-06, 7.14676673e-07, 5.38652694e-06,\n",
       "        2.21943610e-05, 4.70189647e-08, 1.03963160e-07, 1.26121389e-08,\n",
       "        2.42109672e-05, 1.83093362e-04, 1.01935129e-05, 3.29805130e-06,\n",
       "        6.10768495e-07, 2.26572308e-08, 6.83066787e-07, 1.22212559e-05,\n",
       "        2.86622424e-08, 8.23622395e-05, 6.81973589e-08, 1.86919033e-06,\n",
       "        6.92499816e-06, 6.24034271e-07, 6.71330513e-03, 1.93041196e-05,\n",
       "        1.99206988e-05, 9.90585463e-08, 4.48403647e-04, 4.45434416e-05,\n",
       "        1.08926952e-06, 3.29827756e-08, 5.78717008e-05, 1.69399812e-07,\n",
       "        8.06074581e-07, 1.41489045e-05, 5.67295001e-06, 1.11125955e-04,\n",
       "        1.23405829e-04, 6.70103065e-04, 2.28705872e-08, 5.34856808e-05,\n",
       "        1.40656795e-07, 1.75785118e-07, 5.75225158e-07, 2.99061895e-07,\n",
       "        5.60960096e-08, 3.50277915e-05, 3.78387284e-07, 5.07972663e-06,\n",
       "        1.48768904e-05, 3.24312843e-08, 2.96488656e-06, 8.20457265e-02,\n",
       "        2.67813016e-06, 1.20921326e-08, 8.35173250e-06, 1.96998662e-05,\n",
       "        7.71316522e-08, 2.48907127e-05, 1.34725923e-07, 2.16656346e-07,\n",
       "        3.01067153e-08, 1.27642647e-06, 5.57049316e-06, 4.45521325e-02,\n",
       "        4.77743427e-08, 9.53925010e-08, 2.30829301e-05, 2.70294187e-08,\n",
       "        2.82186579e-06, 1.01452535e-07, 2.40301993e-02, 1.10180792e-06,\n",
       "        8.01724127e-08, 8.81371136e-08, 9.64534252e-07, 8.50720880e-08,\n",
       "        3.85138357e-08, 1.36853301e-03, 2.77923937e-05, 8.74642669e-09,\n",
       "        6.30407612e-07, 1.35740197e-06, 2.28807239e-05, 1.06975949e-05,\n",
       "        1.32096786e-04, 1.46231896e-05, 2.31787084e-07, 2.55923328e-06,\n",
       "        9.42373754e-06, 2.05308038e-06, 1.80231818e-05, 5.05856462e-07,\n",
       "        1.40368354e-06, 1.22568125e-08, 1.14108429e-08, 8.24596157e-07,\n",
       "        1.16382716e-05, 3.15767210e-07, 7.57882432e-08, 2.08476945e-06,\n",
       "        6.24946697e-05, 1.61851744e-07, 5.37415019e-08, 1.50240533e-06,\n",
       "        2.65743456e-05, 5.37673372e-08, 2.72485465e-07, 1.21028336e-07,\n",
       "        5.95104552e-07, 5.51980968e-08, 4.19374146e-07, 1.10697975e-07,\n",
       "        1.04235539e-06, 1.85433464e-06, 6.88313230e-05, 1.66769078e-05,\n",
       "        9.52198116e-06, 4.53481789e-07, 6.88416258e-05, 3.49920327e-07,\n",
       "        5.04025337e-08, 1.24380648e-07, 2.99247347e-07, 5.88031180e-05,\n",
       "        2.13284002e-04, 7.12411975e-07, 8.99510982e-04, 1.30552644e-06,\n",
       "        1.01505961e-07, 1.41534610e-02, 7.80425671e-06, 4.40106214e-06,\n",
       "        1.08469089e-06, 2.21089304e-05, 1.13504925e-07, 2.00227096e-05,\n",
       "        1.34125194e-05, 1.42400069e-07, 3.27245395e-08, 2.64879361e-07,\n",
       "        9.95612754e-06, 1.41949249e-05, 3.15928541e-04, 6.11651631e-05,\n",
       "        4.39614996e-06, 2.83168788e-07, 1.27704016e-06, 9.18898593e-07,\n",
       "        1.60456807e-06, 6.09574490e-05, 2.56173866e-04, 1.34089692e-06,\n",
       "        4.26111819e-06, 6.26638066e-05, 1.81132833e-07, 1.36015819e-06,\n",
       "        2.83311829e-06, 1.98724729e-06, 6.98536451e-06, 9.74283012e-07,\n",
       "        2.18144464e-06, 1.22179813e-07, 7.77403875e-06, 1.53939909e-05,\n",
       "        1.17041918e-06, 2.87437233e-05, 5.93799814e-06, 4.34519825e-06,\n",
       "        1.39897008e-06, 2.39325163e-06, 1.73260972e-07, 1.58028306e-05,\n",
       "        3.69880945e-06, 2.20933962e-05, 1.13190372e-05, 2.04006005e-06,\n",
       "        4.99603448e-06, 1.02490233e-03, 1.86008492e-05, 6.21934859e-08,\n",
       "        2.07673475e-06, 8.76676154e-07, 9.85335719e-05, 2.39715519e-08,\n",
       "        1.32284370e-07, 2.08336303e-07, 1.74893103e-06, 3.29610793e-06,\n",
       "        2.26524680e-05, 2.52504537e-06, 1.88686408e-06, 2.42834699e-06,\n",
       "        1.50726601e-06, 6.94557366e-06, 1.97606505e-06, 4.91730020e-07,\n",
       "        4.52948689e-06, 5.90161562e-07, 7.93603249e-07, 4.16154592e-07,\n",
       "        2.76332230e-06, 1.05089775e-07, 1.51137976e-06, 8.03059095e-07,\n",
       "        1.75752589e-07, 1.74683908e-06, 3.42745565e-08, 3.14708544e-08,\n",
       "        9.98956311e-05, 4.12691816e-06, 1.46620584e-06, 3.58116858e-06,\n",
       "        2.77281265e-06, 1.60990313e-01, 8.52497521e-07, 3.19642209e-06,\n",
       "        9.36128708e-06, 4.17211646e-04, 1.87869531e-07, 2.13613134e-07,\n",
       "        1.42450335e-05, 2.61826131e-07, 7.60191324e-05, 7.71925812e-08,\n",
       "        1.28913200e-08, 1.84759692e-08, 7.62366426e-07, 3.22027736e-05,\n",
       "        2.50250355e-06, 8.73496120e-08, 1.26224222e-05, 5.16626242e-05,\n",
       "        1.04265474e-02, 8.45341930e-08, 7.92519046e-08, 5.08898040e-07,\n",
       "        1.04471042e-07, 2.22367518e-07, 2.56203322e-07, 3.65812525e-07,\n",
       "        3.05349786e-05, 8.58779968e-05, 6.62569937e-06, 3.03806502e-07,\n",
       "        5.42583184e-05, 1.14365804e-07, 3.55271510e-07, 2.67353272e-07,\n",
       "        6.02752334e-06, 3.58487414e-05, 1.39094082e-05, 9.43588532e-08,\n",
       "        1.55134182e-06, 4.72225398e-02, 5.28436249e-06, 1.06334483e-06,\n",
       "        5.28146074e-06, 2.37309425e-08, 1.89743915e-07, 1.33990266e-04,\n",
       "        1.86128535e-08, 2.88692785e-08, 4.03896678e-07, 1.16152305e-05,\n",
       "        3.21254419e-07, 2.89414384e-05, 2.23816860e-05, 2.79264949e-08,\n",
       "        4.13374046e-08, 2.44712794e-07, 5.27829300e-08, 3.56965337e-08,\n",
       "        2.34631984e-03, 7.14260651e-08, 7.77974606e-07, 1.61476493e-07,\n",
       "        3.24046687e-06, 9.32655055e-08, 1.89019964e-08, 5.02169769e-07,\n",
       "        3.96891883e-05, 4.90438367e-07, 1.19305071e-06, 2.36252987e-07,\n",
       "        3.34805065e-07, 5.42892167e-07, 1.90512565e-05, 5.94049343e-04,\n",
       "        2.86992929e-07, 3.65216806e-07, 1.93553277e-07, 2.89271824e-08,\n",
       "        1.00947972e-07, 2.34032609e-06, 3.07814662e-06, 7.64402066e-05,\n",
       "        1.33664548e-06, 2.25452368e-06, 2.26424021e-07, 1.93761053e-07,\n",
       "        7.21294142e-04, 3.11735471e-06, 4.19312164e-05, 1.94743392e-03,\n",
       "        5.14394685e-07, 1.58997747e-04, 1.72892396e-05, 4.95442578e-07,\n",
       "        1.33630510e-06, 6.38561801e-07, 6.37919015e-07, 2.01426028e-05,\n",
       "        2.88628962e-06, 2.65755132e-03, 2.18166318e-03, 6.86075509e-06,\n",
       "        7.31612770e-09, 6.98584373e-08, 1.00911585e-07, 3.40688864e-08,\n",
       "        6.03089518e-07, 4.56885090e-07, 3.55369819e-04, 1.32436287e-06,\n",
       "        1.17567492e-06, 6.92081221e-06, 1.77939000e-05, 1.82641932e-04,\n",
       "        9.78776588e-05, 6.66744309e-03, 8.60930450e-05, 1.40641641e-05,\n",
       "        1.40982942e-04, 3.09843040e-06, 3.98795191e-06, 4.17032250e-04,\n",
       "        6.20110586e-05, 6.86984913e-06, 1.87010610e-05, 3.17865270e-05,\n",
       "        6.92699905e-06, 3.42287785e-05, 1.70167623e-05, 1.64185894e-05,\n",
       "        7.04690183e-06, 3.00803331e-05, 8.84650799e-05, 1.43426087e-05,\n",
       "        7.42781594e-06, 5.86191309e-05, 4.73327262e-08, 1.09651012e-06,\n",
       "        3.93482660e-05, 9.29452381e-06, 8.86174021e-05, 2.84919006e-05,\n",
       "        2.43779923e-05, 3.14214617e-06, 2.63274414e-05, 3.65784956e-07,\n",
       "        1.40872589e-06, 5.92101696e-06, 3.01133383e-07, 9.93060530e-05,\n",
       "        9.91038745e-04, 1.65876379e-04, 9.21943229e-06, 9.48692559e-07,\n",
       "        1.48568997e-05, 1.47437986e-05, 2.64357397e-04, 1.41526982e-01,\n",
       "        1.70939118e-01, 2.62870104e-04, 6.77649936e-08, 1.45325175e-05,\n",
       "        4.49050219e-08, 5.68319763e-07, 9.00071271e-08, 4.09976678e-07,\n",
       "        1.65323286e-07, 4.34812250e-07, 5.53988457e-07, 1.04695850e-07,\n",
       "        2.48189622e-07, 4.34749211e-07, 7.90674761e-08, 8.62088783e-08,\n",
       "        3.20380451e-08, 1.37866357e-06, 8.35597760e-08, 2.59815624e-05,\n",
       "        5.51683443e-05, 4.61605936e-07, 1.75572677e-05, 4.85329110e-07,\n",
       "        6.68121984e-08, 6.34997903e-08, 2.21168897e-08, 4.45346870e-07,\n",
       "        3.02478247e-06, 2.94557935e-07, 4.40044914e-06, 3.19507380e-05]],\n",
       "      dtype=float32)"
      ]
     },
     "execution_count": 10,
     "metadata": {},
     "output_type": "execute_result"
    }
   ],
   "source": [
    "#make predictions\n",
    "prediction = vgg.predict(my_image)\n",
    "prediction"
   ]
  },
  {
   "cell_type": "markdown",
   "id": "6026bb50-4802-4e76-b6dc-f9f668a6325a",
   "metadata": {},
   "source": [
    "what does our prediction mean in terms of objects?"
   ]
  },
  {
   "cell_type": "code",
   "execution_count": 11,
   "id": "096a8214-7461-4846-97b7-1ee3d161ff0c",
   "metadata": {
    "tags": []
   },
   "outputs": [
    {
     "name": "stdout",
     "output_type": "stream",
     "text": [
      "coffee_mug with a probability of 25%\n"
     ]
    }
   ],
   "source": [
    "#change the probabilities to actual labels\n",
    "prediction = decode_predictions(prediction)\n",
    "#return the label with the highest probability\n",
    "item = prediction[0][0]\n",
    " \n",
    "# print the result\n",
    "print(f\"{item[1]} with a probability of {int(item[2]*100)}%\")"
   ]
  },
  {
   "cell_type": "markdown",
   "id": "8b3d55e8-ef96-4449-b002-7c81eb6c7fd6",
   "metadata": {},
   "source": [
    "Now lets try using the model for transfer learning. We are going try to repurpose our ibject detector to classify images of the sky."
   ]
  },
  {
   "cell_type": "markdown",
   "id": "1b944c43-1a15-4f22-bd4b-b4025c75c44b",
   "metadata": {},
   "source": [
    "First we wll get the data. The data is available here. You will need to run some processing to prepare it for use.\n",
    "\n",
    "```\n",
    "wget https://data.mendeley.com/public-files/datasets/4drtyfjtfy/files/a03e6097-f7fb-4e1a-9c6a-8923c6a0d3e0/file_downloaded --output-document weather_image_classification.zip\n",
    "unzip weather_image_classification.zip\n",
    "mv dataset2 weather_image_classfication\n",
    "cd weather_image_classfication\n",
    "\n",
    "for f1 in *.jpeg; do mv $f1 ${f1%.jpeg}.jpg; done\n",
    "mkdir Train\n",
    "mkdir Test\n",
    "for class in rain cloudy shine sunrise; \n",
    "do mkdir Train/${class};\n",
    "for image_num in $(seq 0 200); \n",
    "do  mv ${class}${image_num}.jpg Train/${class}/${class}${image_num}.jpg; \n",
    "done; done\n",
    "\n",
    "for class in rain cloudy shine sunrise; \n",
    "do mkdir Test/${class}; mv ${class}*.jpg Test/${class}/; \n",
    "done\n",
    "\n",
    "```\n",
    "```"
   ]
  },
  {
   "cell_type": "code",
   "execution_count": 12,
   "id": "10e53a86-35ec-47ea-aad4-1b5bca9179f3",
   "metadata": {
    "tags": []
   },
   "outputs": [],
   "source": [
    "#generate the train and test data \n",
    "train_data_gen = ImageDataGenerator(rescale=1.0/255, \n",
    "                               shear_range=0.5,\n",
    "                                zoom_range=0.7, \n",
    "                                horizontal_flip=True,\n",
    "                                vertical_flip=True)\n",
    " "
   ]
  },
  {
   "cell_type": "code",
   "execution_count": 13,
   "id": "bfce8f05-01ac-43fb-97c1-f3f8445f2ea1",
   "metadata": {
    "tags": []
   },
   "outputs": [],
   "source": [
    "test_data_gen = ImageDataGenerator(rescale=1.0/255)\n",
    " \n"
   ]
  },
  {
   "cell_type": "code",
   "execution_count": 14,
   "id": "9e60240f-8d3e-42d3-8ae0-1026e9c81f17",
   "metadata": {
    "tags": []
   },
   "outputs": [
    {
     "data": {
      "text/plain": [
       "PosixPath('/Users/stephen.haddad/data/ml_benchmark/weather_image_classification')"
      ]
     },
     "execution_count": 14,
     "metadata": {},
     "output_type": "execute_result"
    }
   ],
   "source": [
    "data_dir = pathlib.Path(os.environ['HOME']) / 'data' / 'ml_benchmark' / 'weather_image_classification'\n",
    "data_dir"
   ]
  },
  {
   "cell_type": "code",
   "execution_count": 15,
   "id": "ffb37ca9-da28-47fe-b280-e2bf1cf29e0d",
   "metadata": {
    "tags": []
   },
   "outputs": [
    {
     "data": {
      "text/plain": [
       "True"
      ]
     },
     "execution_count": 15,
     "metadata": {},
     "output_type": "execute_result"
    }
   ],
   "source": [
    "data_dir.is_dir()"
   ]
  },
  {
   "cell_type": "code",
   "execution_count": 16,
   "id": "52857e28-1bb6-41fd-9c01-4a6f708daa94",
   "metadata": {
    "tags": []
   },
   "outputs": [
    {
     "name": "stdout",
     "output_type": "stream",
     "text": [
      "Found 800 images belonging to 4 classes.\n"
     ]
    }
   ],
   "source": [
    "train_data = train_data_gen.flow_from_directory(data_dir / 'Train',\n",
    "                                               target_size=(224, 224),\n",
    "                                               class_mode='categorical')\n"
   ]
  },
  {
   "cell_type": "code",
   "execution_count": 17,
   "id": "e3c266d2-1f2e-41b9-b19d-4a013161b8af",
   "metadata": {
    "tags": []
   },
   "outputs": [
    {
     "name": "stdout",
     "output_type": "stream",
     "text": [
      "Found 325 images belonging to 4 classes.\n"
     ]
    }
   ],
   "source": [
    " \n",
    "test_data = test_data_gen.flow_from_directory(data_dir / 'Test',\n",
    "                                               target_size=(224, 224),\n",
    "                                               class_mode='categorical')"
   ]
  },
  {
   "cell_type": "markdown",
   "id": "91696d64-822f-473e-9580-553ba06be091",
   "metadata": {},
   "source": [
    "Now lets prepare a model tu use with transfer learning. In this example, we're taking the feature extraction approach, so we will:\n",
    "* load the model\n",
    "* freeze all layers\n",
    "* strip off the final few layers to expose the bottleneck layer\n",
    "* add on additional layer to map from the feature space of the bottleneck layer to our target outputs\n",
    "* run training, only updating the trainable parameters of the final layers we have added, not the layers from the base model"
   ]
  },
  {
   "cell_type": "code",
   "execution_count": 18,
   "id": "f12f126d-709a-4d67-a452-262663862bd9",
   "metadata": {
    "tags": []
   },
   "outputs": [],
   "source": [
    "vgg_tl = VGG16()"
   ]
  },
  {
   "cell_type": "code",
   "execution_count": 19,
   "id": "bb83bbd6-210a-4e25-b956-b429fba522f3",
   "metadata": {
    "tags": []
   },
   "outputs": [],
   "source": [
    "for layer in vgg_tl.layers:\n",
    "    layer.trainable = False\n"
   ]
  },
  {
   "cell_type": "code",
   "execution_count": 20,
   "id": "cc97f43f-c365-4ea2-9af7-b4ad91d82c1b",
   "metadata": {
    "tags": []
   },
   "outputs": [
    {
     "name": "stdout",
     "output_type": "stream",
     "text": [
      "Model: \"vgg16\"\n",
      "_________________________________________________________________\n",
      " Layer (type)                Output Shape              Param #   \n",
      "=================================================================\n",
      " input_2 (InputLayer)        [(None, 224, 224, 3)]     0         \n",
      "                                                                 \n",
      " block1_conv1 (Conv2D)       (None, 224, 224, 64)      1792      \n",
      "                                                                 \n",
      " block1_conv2 (Conv2D)       (None, 224, 224, 64)      36928     \n",
      "                                                                 \n",
      " block1_pool (MaxPooling2D)  (None, 112, 112, 64)      0         \n",
      "                                                                 \n",
      " block2_conv1 (Conv2D)       (None, 112, 112, 128)     73856     \n",
      "                                                                 \n",
      " block2_conv2 (Conv2D)       (None, 112, 112, 128)     147584    \n",
      "                                                                 \n",
      " block2_pool (MaxPooling2D)  (None, 56, 56, 128)       0         \n",
      "                                                                 \n",
      " block3_conv1 (Conv2D)       (None, 56, 56, 256)       295168    \n",
      "                                                                 \n",
      " block3_conv2 (Conv2D)       (None, 56, 56, 256)       590080    \n",
      "                                                                 \n",
      " block3_conv3 (Conv2D)       (None, 56, 56, 256)       590080    \n",
      "                                                                 \n",
      " block3_pool (MaxPooling2D)  (None, 28, 28, 256)       0         \n",
      "                                                                 \n",
      " block4_conv1 (Conv2D)       (None, 28, 28, 512)       1180160   \n",
      "                                                                 \n",
      " block4_conv2 (Conv2D)       (None, 28, 28, 512)       2359808   \n",
      "                                                                 \n",
      " block4_conv3 (Conv2D)       (None, 28, 28, 512)       2359808   \n",
      "                                                                 \n",
      " block4_pool (MaxPooling2D)  (None, 14, 14, 512)       0         \n",
      "                                                                 \n",
      " block5_conv1 (Conv2D)       (None, 14, 14, 512)       2359808   \n",
      "                                                                 \n",
      " block5_conv2 (Conv2D)       (None, 14, 14, 512)       2359808   \n",
      "                                                                 \n",
      " block5_conv3 (Conv2D)       (None, 14, 14, 512)       2359808   \n",
      "                                                                 \n",
      " block5_pool (MaxPooling2D)  (None, 7, 7, 512)         0         \n",
      "                                                                 \n",
      " flatten (Flatten)           (None, 25088)             0         \n",
      "                                                                 \n",
      " fc1 (Dense)                 (None, 4096)              102764544 \n",
      "                                                                 \n",
      " fc2 (Dense)                 (None, 4096)              16781312  \n",
      "                                                                 \n",
      " predictions (Dense)         (None, 1000)              4097000   \n",
      "                                                                 \n",
      "=================================================================\n",
      "Total params: 138,357,544\n",
      "Trainable params: 0\n",
      "Non-trainable params: 138,357,544\n",
      "_________________________________________________________________\n"
     ]
    }
   ],
   "source": [
    "vgg_tl.summary()"
   ]
  },
  {
   "cell_type": "markdown",
   "id": "44cb93de-4591-4c65-830d-c65e7b7ead15",
   "metadata": {},
   "source": [
    "we still have the final dense layer from training ion imagenet with 1000 classes. We will replace these with similar layers targeting the 4 classes of our dataset, which are\n",
    "* rain\n",
    "* cloudy\n",
    "* sunny\n",
    "* sunrise"
   ]
  },
  {
   "cell_type": "code",
   "execution_count": 21,
   "id": "a4a9e08c-9ac3-449d-9434-12e2ca9beb49",
   "metadata": {
    "tags": []
   },
   "outputs": [],
   "source": [
    "hidden = Flatten()(vgg_tl.layers[-5].output)\n",
    "outputs_tl = Dense(4, activation='softmax')(hidden)"
   ]
  },
  {
   "cell_type": "code",
   "execution_count": 22,
   "id": "5c144eb7-303b-45a4-a7bf-bcee99981ce3",
   "metadata": {
    "tags": []
   },
   "outputs": [
    {
     "name": "stdout",
     "output_type": "stream",
     "text": [
      "Model: \"model\"\n",
      "_________________________________________________________________\n",
      " Layer (type)                Output Shape              Param #   \n",
      "=================================================================\n",
      " input_2 (InputLayer)        [(None, 224, 224, 3)]     0         \n",
      "                                                                 \n",
      " block1_conv1 (Conv2D)       (None, 224, 224, 64)      1792      \n",
      "                                                                 \n",
      " block1_conv2 (Conv2D)       (None, 224, 224, 64)      36928     \n",
      "                                                                 \n",
      " block1_pool (MaxPooling2D)  (None, 112, 112, 64)      0         \n",
      "                                                                 \n",
      " block2_conv1 (Conv2D)       (None, 112, 112, 128)     73856     \n",
      "                                                                 \n",
      " block2_conv2 (Conv2D)       (None, 112, 112, 128)     147584    \n",
      "                                                                 \n",
      " block2_pool (MaxPooling2D)  (None, 56, 56, 128)       0         \n",
      "                                                                 \n",
      " block3_conv1 (Conv2D)       (None, 56, 56, 256)       295168    \n",
      "                                                                 \n",
      " block3_conv2 (Conv2D)       (None, 56, 56, 256)       590080    \n",
      "                                                                 \n",
      " block3_conv3 (Conv2D)       (None, 56, 56, 256)       590080    \n",
      "                                                                 \n",
      " block3_pool (MaxPooling2D)  (None, 28, 28, 256)       0         \n",
      "                                                                 \n",
      " block4_conv1 (Conv2D)       (None, 28, 28, 512)       1180160   \n",
      "                                                                 \n",
      " block4_conv2 (Conv2D)       (None, 28, 28, 512)       2359808   \n",
      "                                                                 \n",
      " block4_conv3 (Conv2D)       (None, 28, 28, 512)       2359808   \n",
      "                                                                 \n",
      " block4_pool (MaxPooling2D)  (None, 14, 14, 512)       0         \n",
      "                                                                 \n",
      " block5_conv1 (Conv2D)       (None, 14, 14, 512)       2359808   \n",
      "                                                                 \n",
      " block5_conv2 (Conv2D)       (None, 14, 14, 512)       2359808   \n",
      "                                                                 \n",
      " block5_conv3 (Conv2D)       (None, 14, 14, 512)       2359808   \n",
      "                                                                 \n",
      " block5_pool (MaxPooling2D)  (None, 7, 7, 512)         0         \n",
      "                                                                 \n",
      " flatten (Flatten)           (None, 25088)             0         \n",
      "                                                                 \n",
      " dense (Dense)               (None, 4)                 100356    \n",
      "                                                                 \n",
      "=================================================================\n",
      "Total params: 14,815,044\n",
      "Trainable params: 100,356\n",
      "Non-trainable params: 14,714,688\n",
      "_________________________________________________________________\n"
     ]
    }
   ],
   "source": [
    "#create the model\n",
    "model_tl = Model(inputs=vgg_tl.input, outputs=outputs_tl)\n",
    " \n",
    "#check the model architecture\n",
    "model_tl.summary()"
   ]
  },
  {
   "cell_type": "code",
   "execution_count": 23,
   "id": "fd2115c4-73b2-43ae-93d3-6b9ed6b8c5a2",
   "metadata": {
    "tags": []
   },
   "outputs": [],
   "source": [
    "#compile the model\n",
    "model_tl.compile(optimizer='adam', loss='categorical_crossentropy', metrics='accuracy')"
   ]
  },
  {
   "cell_type": "code",
   "execution_count": 24,
   "id": "652ccb63-47a8-49dd-99a1-57103374c182",
   "metadata": {
    "tags": []
   },
   "outputs": [
    {
     "name": "stderr",
     "output_type": "stream",
     "text": [
      "<timed exec>:1: UserWarning: `Model.fit_generator` is deprecated and will be removed in a future version. Please use `Model.fit`, which supports generators.\n"
     ]
    },
    {
     "name": "stdout",
     "output_type": "stream",
     "text": [
      "Epoch 1/5\n",
      "25/25 [==============================] - 144s 6s/step - loss: 1.1041 - accuracy: 0.5362 - val_loss: 0.7618 - val_accuracy: 0.7415\n",
      "Epoch 2/5\n",
      "25/25 [==============================] - 128s 5s/step - loss: 0.5291 - accuracy: 0.8188 - val_loss: 0.6657 - val_accuracy: 0.8000\n",
      "Epoch 3/5\n",
      "25/25 [==============================] - 128s 5s/step - loss: 0.4238 - accuracy: 0.8450 - val_loss: 0.5688 - val_accuracy: 0.8062\n",
      "Epoch 4/5\n",
      "25/25 [==============================] - 127s 5s/step - loss: 0.4216 - accuracy: 0.8388 - val_loss: 0.4036 - val_accuracy: 0.8585\n",
      "Epoch 5/5\n",
      "25/25 [==============================] - 127s 5s/step - loss: 0.3372 - accuracy: 0.8900 - val_loss: 0.3068 - val_accuracy: 0.9046\n",
      "CPU times: user 1h 13min 8s, sys: 4min 55s, total: 1h 18min 4s\n",
      "Wall time: 10min 55s\n"
     ]
    }
   ],
   "source": [
    "%%time\n",
    "history = model_tl.fit_generator(train_data, \n",
    "                                 validation_data=test_data, \n",
    "                                 epochs=5)"
   ]
  },
  {
   "cell_type": "markdown",
   "id": "0d18f70e-0c16-4ecc-803b-56da759680c7",
   "metadata": {},
   "source": [
    "Now lets test on a new image"
   ]
  },
  {
   "cell_type": "code",
   "execution_count": 38,
   "id": "75b42bc5-c2f4-4f4e-9e7b-ad0793477a53",
   "metadata": {
    "tags": []
   },
   "outputs": [],
   "source": [
    "#load the image\n",
    "my_image = load_img('weather_test.jpg', target_size=(224, 224))\n",
    " "
   ]
  },
  {
   "cell_type": "code",
   "execution_count": 39,
   "id": "3a5aee38-9a75-4b27-bd03-df73ff6e7e87",
   "metadata": {
    "tags": []
   },
   "outputs": [
    {
     "data": {
      "image/png": "[encoded data removed]",
      "text/plain": [
       "<PIL.Image.Image image mode=RGB size=224x224>"
      ]
     },
     "execution_count": 39,
     "metadata": {},
     "output_type": "execute_result"
    }
   ],
   "source": [
    "my_image"
   ]
  },
  {
   "cell_type": "code",
   "execution_count": 40,
   "id": "11ec9729-f650-4069-a6f6-392de5f22de6",
   "metadata": {
    "tags": []
   },
   "outputs": [],
   "source": [
    "#preprocess the image\n",
    "my_image_data = img_to_array(my_image)\n",
    "my_image_data = my_image_data.reshape((1, my_image_data.shape[0], my_image_data.shape[1], my_image_data.shape[2]))\n",
    "my_image_data = preprocess_input(my_image_data)\n",
    " "
   ]
  },
  {
   "cell_type": "code",
   "execution_count": 41,
   "id": "f28ad252-12de-4318-a6d3-179e72bf9a36",
   "metadata": {
    "tags": []
   },
   "outputs": [
    {
     "name": "stdout",
     "output_type": "stream",
     "text": [
      "1/1 [==============================] - 0s 157ms/step\n"
     ]
    }
   ],
   "source": [
    "#make the prediction\n",
    "prediction = model_tl.predict(my_image_data)"
   ]
  },
  {
   "cell_type": "code",
   "execution_count": 42,
   "id": "dbcf35a8-69e6-4e7e-afb8-2cd6e3fec69a",
   "metadata": {
    "tags": []
   },
   "outputs": [
    {
     "data": {
      "text/plain": [
       "array([[2.3016612e-27, 3.3600987e-13, 1.4358255e-23, 1.0000000e+00]],\n",
       "      dtype=float32)"
      ]
     },
     "execution_count": 42,
     "metadata": {},
     "output_type": "execute_result"
    }
   ],
   "source": [
    "prediction"
   ]
  }
 ],
 "metadata": {
  "kernelspec": {
   "display_name": "Python 3 (ipykernel)",
   "language": "python",
   "name": "python3"
  },
  "language_info": {
   "codemirror_mode": {
    "name": "ipython",
    "version": 3
   },
   "file_extension": ".py",
   "mimetype": "text/x-python",
   "name": "python",
   "nbconvert_exporter": "python",
   "pygments_lexer": "ipython3",
   "version": "3.8.15"
  }
 },
 "nbformat": 4,
 "nbformat_minor": 5
}
