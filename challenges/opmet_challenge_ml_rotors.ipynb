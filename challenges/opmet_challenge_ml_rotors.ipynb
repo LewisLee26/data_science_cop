{
 "cells": [
  {
   "cell_type": "code",
   "execution_count": 1,
   "id": "greenhouse-clarity",
   "metadata": {},
   "outputs": [],
   "source": [
    "import pathlib\n",
    "import datetime\n",
    "import math\n",
    "import functools\n",
    "import numpy"
   ]
  },
  {
   "cell_type": "code",
   "execution_count": 2,
   "id": "described-houston",
   "metadata": {},
   "outputs": [],
   "source": [
    "import pandas"
   ]
  },
  {
   "cell_type": "code",
   "execution_count": 3,
   "id": "healthy-prevention",
   "metadata": {},
   "outputs": [],
   "source": [
    "import iris"
   ]
  },
  {
   "cell_type": "code",
   "execution_count": 4,
   "id": "christian-christopher",
   "metadata": {},
   "outputs": [],
   "source": [
    "import matplotlib"
   ]
  },
  {
   "cell_type": "code",
   "execution_count": 5,
   "id": "studied-morrison",
   "metadata": {},
   "outputs": [],
   "source": [
    "%matplotlib inline"
   ]
  },
  {
   "cell_type": "code",
   "execution_count": 6,
   "id": "discrete-staff",
   "metadata": {},
   "outputs": [],
   "source": [
    "import sklearn\n",
    "import sklearn.tree\n",
    "import sklearn.preprocessing\n",
    "import sklearn.ensemble\n",
    "import sklearn.neural_network\n",
    "import sklearn.metrics"
   ]
  },
  {
   "cell_type": "code",
   "execution_count": 7,
   "id": "victorian-reaction",
   "metadata": {},
   "outputs": [],
   "source": [
    "# root_data_dir = '/data/users/shaddad/ds_cop/2021_opmet_challenge/ML'\n",
    "root_data_dir = '/project/informatics_lab/data_science_cop/ML_challenges/2021_opmet_challenge'"
   ]
  },
  {
   "cell_type": "markdown",
   "id": "cloudy-checkout",
   "metadata": {},
   "source": [
    "## Exploring Falklands Rotor Data"
   ]
  },
  {
   "cell_type": "code",
   "execution_count": 8,
   "id": "absolute-peripheral",
   "metadata": {},
   "outputs": [],
   "source": [
    "falklands_dir = 'Rotors'\n",
    "falklands_data_path = pathlib.Path(root_data_dir, falklands_dir)"
   ]
  },
  {
   "cell_type": "code",
   "execution_count": 9,
   "id": "european-correspondence",
   "metadata": {},
   "outputs": [],
   "source": [
    "falklands_new_training_data_path = pathlib.Path(falklands_data_path, 'new_training.csv')"
   ]
  },
  {
   "cell_type": "code",
   "execution_count": 10,
   "id": "meaningful-promise",
   "metadata": {},
   "outputs": [
    {
     "data": {
      "text/html": [
       "<div>\n",
       "<style scoped>\n",
       "    .dataframe tbody tr th:only-of-type {\n",
       "        vertical-align: middle;\n",
       "    }\n",
       "\n",
       "    .dataframe tbody tr th {\n",
       "        vertical-align: top;\n",
       "    }\n",
       "\n",
       "    .dataframe thead th {\n",
       "        text-align: right;\n",
       "    }\n",
       "</style>\n",
       "<table border=\"1\" class=\"dataframe\">\n",
       "  <thead>\n",
       "    <tr style=\"text-align: right;\">\n",
       "      <th></th>\n",
       "      <th>DTG</th>\n",
       "      <th>air_temp_obs</th>\n",
       "      <th>dewpoint_obs</th>\n",
       "      <th>wind_direction_obs</th>\n",
       "      <th>wind_speed_obs</th>\n",
       "      <th>wind_gust_obs</th>\n",
       "      <th>air_temp_1</th>\n",
       "      <th>air_temp_2</th>\n",
       "      <th>air_temp_3</th>\n",
       "      <th>air_temp_4</th>\n",
       "      <th>...</th>\n",
       "      <th>windspd_18</th>\n",
       "      <th>winddir_19</th>\n",
       "      <th>windspd_19</th>\n",
       "      <th>winddir_20</th>\n",
       "      <th>windspd_20</th>\n",
       "      <th>winddir_21</th>\n",
       "      <th>windspd_21</th>\n",
       "      <th>winddir_22</th>\n",
       "      <th>windspd_22</th>\n",
       "      <th>Rotors 1 is true</th>\n",
       "    </tr>\n",
       "  </thead>\n",
       "  <tbody>\n",
       "    <tr>\n",
       "      <th>1</th>\n",
       "      <td>01/01/2015 00:00</td>\n",
       "      <td>283.9</td>\n",
       "      <td>280.7</td>\n",
       "      <td>110.0</td>\n",
       "      <td>4.1</td>\n",
       "      <td>-9999999.0</td>\n",
       "      <td>284.000</td>\n",
       "      <td>283.625</td>\n",
       "      <td>283.250</td>\n",
       "      <td>282.625</td>\n",
       "      <td>...</td>\n",
       "      <td>5.8</td>\n",
       "      <td>341.0</td>\n",
       "      <td>6.0</td>\n",
       "      <td>334.0</td>\n",
       "      <td>6.1</td>\n",
       "      <td>330.0</td>\n",
       "      <td>6.0</td>\n",
       "      <td>329.0</td>\n",
       "      <td>5.8</td>\n",
       "      <td>NaN</td>\n",
       "    </tr>\n",
       "    <tr>\n",
       "      <th>2</th>\n",
       "      <td>01/01/2015 03:00</td>\n",
       "      <td>280.7</td>\n",
       "      <td>279.7</td>\n",
       "      <td>90.0</td>\n",
       "      <td>7.7</td>\n",
       "      <td>-9999999.0</td>\n",
       "      <td>281.500</td>\n",
       "      <td>281.250</td>\n",
       "      <td>280.750</td>\n",
       "      <td>280.250</td>\n",
       "      <td>...</td>\n",
       "      <td>6.8</td>\n",
       "      <td>344.0</td>\n",
       "      <td>5.3</td>\n",
       "      <td>348.0</td>\n",
       "      <td>3.8</td>\n",
       "      <td>360.0</td>\n",
       "      <td>3.2</td>\n",
       "      <td>12.0</td>\n",
       "      <td>3.5</td>\n",
       "      <td>NaN</td>\n",
       "    </tr>\n",
       "    <tr>\n",
       "      <th>3</th>\n",
       "      <td>01/01/2015 06:00</td>\n",
       "      <td>279.8</td>\n",
       "      <td>278.1</td>\n",
       "      <td>100.0</td>\n",
       "      <td>7.7</td>\n",
       "      <td>-9999999.0</td>\n",
       "      <td>279.875</td>\n",
       "      <td>279.625</td>\n",
       "      <td>279.125</td>\n",
       "      <td>278.625</td>\n",
       "      <td>...</td>\n",
       "      <td>6.0</td>\n",
       "      <td>345.0</td>\n",
       "      <td>5.5</td>\n",
       "      <td>358.0</td>\n",
       "      <td>5.0</td>\n",
       "      <td>10.0</td>\n",
       "      <td>4.2</td>\n",
       "      <td>38.0</td>\n",
       "      <td>4.0</td>\n",
       "      <td>NaN</td>\n",
       "    </tr>\n",
       "    <tr>\n",
       "      <th>4</th>\n",
       "      <td>01/01/2015 09:00</td>\n",
       "      <td>279.9</td>\n",
       "      <td>277.0</td>\n",
       "      <td>120.0</td>\n",
       "      <td>7.2</td>\n",
       "      <td>-9999999.0</td>\n",
       "      <td>279.625</td>\n",
       "      <td>279.250</td>\n",
       "      <td>278.875</td>\n",
       "      <td>278.250</td>\n",
       "      <td>...</td>\n",
       "      <td>3.1</td>\n",
       "      <td>338.0</td>\n",
       "      <td>3.5</td>\n",
       "      <td>354.0</td>\n",
       "      <td>3.9</td>\n",
       "      <td>9.0</td>\n",
       "      <td>4.4</td>\n",
       "      <td>22.0</td>\n",
       "      <td>4.6</td>\n",
       "      <td>NaN</td>\n",
       "    </tr>\n",
       "    <tr>\n",
       "      <th>5</th>\n",
       "      <td>01/01/2015 12:00</td>\n",
       "      <td>279.9</td>\n",
       "      <td>277.4</td>\n",
       "      <td>120.0</td>\n",
       "      <td>8.7</td>\n",
       "      <td>-9999999.0</td>\n",
       "      <td>279.250</td>\n",
       "      <td>278.875</td>\n",
       "      <td>278.375</td>\n",
       "      <td>277.875</td>\n",
       "      <td>...</td>\n",
       "      <td>1.6</td>\n",
       "      <td>273.0</td>\n",
       "      <td>2.0</td>\n",
       "      <td>303.0</td>\n",
       "      <td>2.3</td>\n",
       "      <td>329.0</td>\n",
       "      <td>2.5</td>\n",
       "      <td>338.0</td>\n",
       "      <td>2.4</td>\n",
       "      <td>NaN</td>\n",
       "    </tr>\n",
       "    <tr>\n",
       "      <th>...</th>\n",
       "      <td>...</td>\n",
       "      <td>...</td>\n",
       "      <td>...</td>\n",
       "      <td>...</td>\n",
       "      <td>...</td>\n",
       "      <td>...</td>\n",
       "      <td>...</td>\n",
       "      <td>...</td>\n",
       "      <td>...</td>\n",
       "      <td>...</td>\n",
       "      <td>...</td>\n",
       "      <td>...</td>\n",
       "      <td>...</td>\n",
       "      <td>...</td>\n",
       "      <td>...</td>\n",
       "      <td>...</td>\n",
       "      <td>...</td>\n",
       "      <td>...</td>\n",
       "      <td>...</td>\n",
       "      <td>...</td>\n",
       "      <td>...</td>\n",
       "    </tr>\n",
       "    <tr>\n",
       "      <th>20101</th>\n",
       "      <td>31/12/2020 06:00</td>\n",
       "      <td>276.7</td>\n",
       "      <td>275.5</td>\n",
       "      <td>270.0</td>\n",
       "      <td>3.6</td>\n",
       "      <td>-9999999.0</td>\n",
       "      <td>277.875</td>\n",
       "      <td>277.750</td>\n",
       "      <td>277.625</td>\n",
       "      <td>277.500</td>\n",
       "      <td>...</td>\n",
       "      <td>12.1</td>\n",
       "      <td>223.0</td>\n",
       "      <td>11.8</td>\n",
       "      <td>221.0</td>\n",
       "      <td>11.4</td>\n",
       "      <td>219.0</td>\n",
       "      <td>11.3</td>\n",
       "      <td>215.0</td>\n",
       "      <td>11.4</td>\n",
       "      <td>NaN</td>\n",
       "    </tr>\n",
       "    <tr>\n",
       "      <th>20102</th>\n",
       "      <td>31/12/2020 09:00</td>\n",
       "      <td>277.9</td>\n",
       "      <td>276.9</td>\n",
       "      <td>270.0</td>\n",
       "      <td>3.1</td>\n",
       "      <td>-9999999.0</td>\n",
       "      <td>277.875</td>\n",
       "      <td>277.625</td>\n",
       "      <td>277.875</td>\n",
       "      <td>277.875</td>\n",
       "      <td>...</td>\n",
       "      <td>10.2</td>\n",
       "      <td>230.0</td>\n",
       "      <td>10.8</td>\n",
       "      <td>230.0</td>\n",
       "      <td>11.6</td>\n",
       "      <td>227.0</td>\n",
       "      <td>12.3</td>\n",
       "      <td>222.0</td>\n",
       "      <td>12.0</td>\n",
       "      <td>NaN</td>\n",
       "    </tr>\n",
       "    <tr>\n",
       "      <th>20103</th>\n",
       "      <td>31/12/2020 12:00</td>\n",
       "      <td>283.5</td>\n",
       "      <td>277.1</td>\n",
       "      <td>220.0</td>\n",
       "      <td>3.6</td>\n",
       "      <td>-9999999.0</td>\n",
       "      <td>281.125</td>\n",
       "      <td>280.625</td>\n",
       "      <td>280.125</td>\n",
       "      <td>279.625</td>\n",
       "      <td>...</td>\n",
       "      <td>10.3</td>\n",
       "      <td>218.0</td>\n",
       "      <td>11.9</td>\n",
       "      <td>221.0</td>\n",
       "      <td>12.8</td>\n",
       "      <td>222.0</td>\n",
       "      <td>11.9</td>\n",
       "      <td>225.0</td>\n",
       "      <td>10.6</td>\n",
       "      <td>NaN</td>\n",
       "    </tr>\n",
       "    <tr>\n",
       "      <th>20104</th>\n",
       "      <td>31/12/2020 15:00</td>\n",
       "      <td>286.1</td>\n",
       "      <td>276.9</td>\n",
       "      <td>250.0</td>\n",
       "      <td>3.6</td>\n",
       "      <td>-9999999.0</td>\n",
       "      <td>284.625</td>\n",
       "      <td>284.125</td>\n",
       "      <td>283.625</td>\n",
       "      <td>283.000</td>\n",
       "      <td>...</td>\n",
       "      <td>9.4</td>\n",
       "      <td>218.0</td>\n",
       "      <td>8.6</td>\n",
       "      <td>212.0</td>\n",
       "      <td>8.3</td>\n",
       "      <td>218.0</td>\n",
       "      <td>8.7</td>\n",
       "      <td>226.0</td>\n",
       "      <td>10.1</td>\n",
       "      <td>NaN</td>\n",
       "    </tr>\n",
       "    <tr>\n",
       "      <th>20105</th>\n",
       "      <td>01/01/2021 00:00</td>\n",
       "      <td>285.1</td>\n",
       "      <td>279.3</td>\n",
       "      <td>300.0</td>\n",
       "      <td>6.2</td>\n",
       "      <td>-9999999.0</td>\n",
       "      <td>284.250</td>\n",
       "      <td>284.000</td>\n",
       "      <td>283.750</td>\n",
       "      <td>283.250</td>\n",
       "      <td>...</td>\n",
       "      <td>8.6</td>\n",
       "      <td>241.0</td>\n",
       "      <td>10.2</td>\n",
       "      <td>236.0</td>\n",
       "      <td>10.5</td>\n",
       "      <td>232.0</td>\n",
       "      <td>10.5</td>\n",
       "      <td>227.0</td>\n",
       "      <td>11.3</td>\n",
       "      <td>NaN</td>\n",
       "    </tr>\n",
       "  </tbody>\n",
       "</table>\n",
       "<p>20105 rows × 95 columns</p>\n",
       "</div>"
      ],
      "text/plain": [
       "                    DTG  air_temp_obs  dewpoint_obs  wind_direction_obs  \\\n",
       "1      01/01/2015 00:00         283.9         280.7               110.0   \n",
       "2      01/01/2015 03:00         280.7         279.7                90.0   \n",
       "3      01/01/2015 06:00         279.8         278.1               100.0   \n",
       "4      01/01/2015 09:00         279.9         277.0               120.0   \n",
       "5      01/01/2015 12:00         279.9         277.4               120.0   \n",
       "...                 ...           ...           ...                 ...   \n",
       "20101  31/12/2020 06:00         276.7         275.5               270.0   \n",
       "20102  31/12/2020 09:00         277.9         276.9               270.0   \n",
       "20103  31/12/2020 12:00         283.5         277.1               220.0   \n",
       "20104  31/12/2020 15:00         286.1         276.9               250.0   \n",
       "20105  01/01/2021 00:00         285.1         279.3               300.0   \n",
       "\n",
       "       wind_speed_obs  wind_gust_obs  air_temp_1  air_temp_2  air_temp_3  \\\n",
       "1                 4.1     -9999999.0     284.000     283.625     283.250   \n",
       "2                 7.7     -9999999.0     281.500     281.250     280.750   \n",
       "3                 7.7     -9999999.0     279.875     279.625     279.125   \n",
       "4                 7.2     -9999999.0     279.625     279.250     278.875   \n",
       "5                 8.7     -9999999.0     279.250     278.875     278.375   \n",
       "...               ...            ...         ...         ...         ...   \n",
       "20101             3.6     -9999999.0     277.875     277.750     277.625   \n",
       "20102             3.1     -9999999.0     277.875     277.625     277.875   \n",
       "20103             3.6     -9999999.0     281.125     280.625     280.125   \n",
       "20104             3.6     -9999999.0     284.625     284.125     283.625   \n",
       "20105             6.2     -9999999.0     284.250     284.000     283.750   \n",
       "\n",
       "       air_temp_4  ...  windspd_18  winddir_19  windspd_19  winddir_20  \\\n",
       "1         282.625  ...         5.8       341.0         6.0       334.0   \n",
       "2         280.250  ...         6.8       344.0         5.3       348.0   \n",
       "3         278.625  ...         6.0       345.0         5.5       358.0   \n",
       "4         278.250  ...         3.1       338.0         3.5       354.0   \n",
       "5         277.875  ...         1.6       273.0         2.0       303.0   \n",
       "...           ...  ...         ...         ...         ...         ...   \n",
       "20101     277.500  ...        12.1       223.0        11.8       221.0   \n",
       "20102     277.875  ...        10.2       230.0        10.8       230.0   \n",
       "20103     279.625  ...        10.3       218.0        11.9       221.0   \n",
       "20104     283.000  ...         9.4       218.0         8.6       212.0   \n",
       "20105     283.250  ...         8.6       241.0        10.2       236.0   \n",
       "\n",
       "       windspd_20  winddir_21  windspd_21  winddir_22  windspd_22  \\\n",
       "1             6.1       330.0         6.0       329.0         5.8   \n",
       "2             3.8       360.0         3.2        12.0         3.5   \n",
       "3             5.0        10.0         4.2        38.0         4.0   \n",
       "4             3.9         9.0         4.4        22.0         4.6   \n",
       "5             2.3       329.0         2.5       338.0         2.4   \n",
       "...           ...         ...         ...         ...         ...   \n",
       "20101        11.4       219.0        11.3       215.0        11.4   \n",
       "20102        11.6       227.0        12.3       222.0        12.0   \n",
       "20103        12.8       222.0        11.9       225.0        10.6   \n",
       "20104         8.3       218.0         8.7       226.0        10.1   \n",
       "20105        10.5       232.0        10.5       227.0        11.3   \n",
       "\n",
       "       Rotors 1 is true  \n",
       "1                   NaN  \n",
       "2                   NaN  \n",
       "3                   NaN  \n",
       "4                   NaN  \n",
       "5                   NaN  \n",
       "...                 ...  \n",
       "20101               NaN  \n",
       "20102               NaN  \n",
       "20103               NaN  \n",
       "20104               NaN  \n",
       "20105               NaN  \n",
       "\n",
       "[20105 rows x 95 columns]"
      ]
     },
     "execution_count": 10,
     "metadata": {},
     "output_type": "execute_result"
    }
   ],
   "source": [
    "falklands_training_df = pandas.read_csv(falklands_new_training_data_path, header=0).loc[1:,:]\n",
    "falklands_training_df"
   ]
  },
  {
   "cell_type": "code",
   "execution_count": 11,
   "id": "handmade-shelf",
   "metadata": {},
   "outputs": [],
   "source": [
    "falklands_training_df = falklands_training_df.drop_duplicates(subset='DTG')"
   ]
  },
  {
   "cell_type": "code",
   "execution_count": 12,
   "id": "impressed-inventory",
   "metadata": {},
   "outputs": [
    {
     "data": {
      "text/plain": [
       "(17507, 95)"
      ]
     },
     "execution_count": 12,
     "metadata": {},
     "output_type": "execute_result"
    }
   ],
   "source": [
    "falklands_training_df.shape"
   ]
  },
  {
   "cell_type": "markdown",
   "id": "hidden-retirement",
   "metadata": {},
   "source": [
    "### Specify and create input features"
   ]
  },
  {
   "cell_type": "code",
   "execution_count": 13,
   "id": "further-battle",
   "metadata": {},
   "outputs": [],
   "source": [
    "temp_feature_names = [f'air_temp_{i1}' for i1 in range(1,23)]\n",
    "humidity_feature_names = [f'sh_{i1}' for i1 in range(1,23)]\n",
    "wind_direction_feature_names = [f'winddir_{i1}' for i1 in range(1,23)]\n",
    "wind_speed_feature_names = [f'windspd_{i1}' for i1 in range(1,23)]\n",
    "target_feature_name = 'rotors_present'"
   ]
  },
  {
   "cell_type": "code",
   "execution_count": 14,
   "id": "unlimited-caribbean",
   "metadata": {},
   "outputs": [],
   "source": [
    "def get_v_wind(wind_dir_name, wind_speed_name, row1):\n",
    "    return math.cos(math.radians(row1[wind_dir_name])) * row1[wind_speed_name]\n",
    "\n",
    "def get_u_wind(wind_dir_name, wind_speed_name, row1):\n",
    "    return math.sin(math.radians(row1[wind_dir_name])) * row1[wind_speed_name]"
   ]
  },
  {
   "cell_type": "code",
   "execution_count": 15,
   "id": "caring-playlist",
   "metadata": {},
   "outputs": [
    {
     "name": "stderr",
     "output_type": "stream",
     "text": [
      "/opt/scitools/environments/experimental/current/lib/python3.6/site-packages/ipykernel/__main__.py:9: SettingWithCopyWarning: \n",
      "A value is trying to be set on a copy of a slice from a DataFrame.\n",
      "Try using .loc[row_indexer,col_indexer] = value instead\n",
      "\n",
      "See the caveats in the documentation: https://pandas.pydata.org/pandas-docs/stable/user_guide/indexing.html#returning-a-view-versus-a-copy\n",
      "/opt/scitools/environments/experimental/current/lib/python3.6/site-packages/ipykernel/__main__.py:12: SettingWithCopyWarning: \n",
      "A value is trying to be set on a copy of a slice from a DataFrame.\n",
      "Try using .loc[row_indexer,col_indexer] = value instead\n",
      "\n",
      "See the caveats in the documentation: https://pandas.pydata.org/pandas-docs/stable/user_guide/indexing.html#returning-a-view-versus-a-copy\n"
     ]
    }
   ],
   "source": [
    "u_feature_template = 'u_wind_{level_ix}'\n",
    "v_feature_template = 'v_wind_{level_ix}'\n",
    "u_wind_feature_names = []\n",
    "v_wind_features_names = []\n",
    "for wsn1, wdn1 in zip(wind_speed_feature_names, wind_direction_feature_names):\n",
    "    level_ix = int( wsn1.split('_')[1])\n",
    "    u_feature = u_feature_template.format(level_ix=level_ix)\n",
    "    u_wind_feature_names += [u_feature]\n",
    "    falklands_training_df[u_feature_template.format(level_ix=level_ix)] = falklands_training_df.apply(functools.partial(get_u_wind, wdn1, wsn1), axis='columns')\n",
    "    v_feature = v_feature_template.format(level_ix=level_ix)\n",
    "    v_wind_features_names += [v_feature]\n",
    "    falklands_training_df[v_feature_template.format(level_ix=level_ix)] = falklands_training_df.apply(functools.partial(get_v_wind, wdn1, wsn1), axis='columns')"
   ]
  },
  {
   "cell_type": "code",
   "execution_count": 16,
   "id": "controversial-chinese",
   "metadata": {},
   "outputs": [
    {
     "name": "stderr",
     "output_type": "stream",
     "text": [
      "/opt/scitools/environments/experimental/current/lib/python3.6/site-packages/ipykernel/__main__.py:1: SettingWithCopyWarning: \n",
      "A value is trying to be set on a copy of a slice from a DataFrame.\n",
      "Try using .loc[row_indexer,col_indexer] = value instead\n",
      "\n",
      "See the caveats in the documentation: https://pandas.pydata.org/pandas-docs/stable/user_guide/indexing.html#returning-a-view-versus-a-copy\n",
      "  if __name__ == '__main__':\n",
      "/opt/scitools/environments/experimental/current/lib/python3.6/site-packages/pandas/core/indexing.py:1763: SettingWithCopyWarning: \n",
      "A value is trying to be set on a copy of a slice from a DataFrame.\n",
      "Try using .loc[row_indexer,col_indexer] = value instead\n",
      "\n",
      "See the caveats in the documentation: https://pandas.pydata.org/pandas-docs/stable/user_guide/indexing.html#returning-a-view-versus-a-copy\n",
      "  isetter(loc, value)\n",
      "/opt/scitools/environments/experimental/current/lib/python3.6/site-packages/ipykernel/__main__.py:3: SettingWithCopyWarning: \n",
      "A value is trying to be set on a copy of a slice from a DataFrame.\n",
      "Try using .loc[row_indexer,col_indexer] = value instead\n",
      "\n",
      "See the caveats in the documentation: https://pandas.pydata.org/pandas-docs/stable/user_guide/indexing.html#returning-a-view-versus-a-copy\n",
      "  app.launch_new_instance()\n"
     ]
    }
   ],
   "source": [
    "falklands_training_df[target_feature_name] =  falklands_training_df['Rotors 1 is true']\n",
    "falklands_training_df.loc[falklands_training_df[falklands_training_df['Rotors 1 is true'].isna()].index, target_feature_name] = 0.0\n",
    "falklands_training_df[target_feature_name]  = falklands_training_df[target_feature_name] .astype(bool)"
   ]
  },
  {
   "cell_type": "code",
   "execution_count": 17,
   "id": "brown-supervisor",
   "metadata": {},
   "outputs": [
    {
     "data": {
      "text/plain": [
       "False    17058\n",
       "True       449\n",
       "Name: rotors_present, dtype: int64"
      ]
     },
     "execution_count": 17,
     "metadata": {},
     "output_type": "execute_result"
    }
   ],
   "source": [
    "falklands_training_df[target_feature_name].value_counts()"
   ]
  },
  {
   "cell_type": "code",
   "execution_count": 18,
   "id": "continent-guarantee",
   "metadata": {},
   "outputs": [
    {
     "data": {
      "text/plain": [
       "Index(['DTG', 'air_temp_obs', 'dewpoint_obs', 'wind_direction_obs',\n",
       "       'wind_speed_obs', 'wind_gust_obs', 'air_temp_1', 'air_temp_2',\n",
       "       'air_temp_3', 'air_temp_4',\n",
       "       ...\n",
       "       'v_wind_18', 'u_wind_19', 'v_wind_19', 'u_wind_20', 'v_wind_20',\n",
       "       'u_wind_21', 'v_wind_21', 'u_wind_22', 'v_wind_22', 'rotors_present'],\n",
       "      dtype='object', length=140)"
      ]
     },
     "execution_count": 18,
     "metadata": {},
     "output_type": "execute_result"
    }
   ],
   "source": [
    "falklands_training_df.columns"
   ]
  },
  {
   "cell_type": "markdown",
   "id": "every-belarus",
   "metadata": {},
   "source": [
    "### SPlit into traing/validate/test sets"
   ]
  },
  {
   "cell_type": "code",
   "execution_count": 19,
   "id": "institutional-xerox",
   "metadata": {},
   "outputs": [],
   "source": [
    "test_fraction = 0.1\n",
    "validation_fraction = 0.1"
   ]
  },
  {
   "cell_type": "code",
   "execution_count": 20,
   "id": "unknown-spring",
   "metadata": {},
   "outputs": [],
   "source": [
    "num_no_rotors = sum(falklands_training_df[target_feature_name] == False)\n",
    "num_with_rotors = sum(falklands_training_df[target_feature_name] == True)"
   ]
  },
  {
   "cell_type": "code",
   "execution_count": 21,
   "id": "ambient-danger",
   "metadata": {},
   "outputs": [],
   "source": [
    "data_no_rotors = falklands_training_df[falklands_training_df[target_feature_name] == False]\n",
    "data_with_rotors = falklands_training_df[falklands_training_df[target_feature_name] == True]"
   ]
  },
  {
   "cell_type": "code",
   "execution_count": 22,
   "id": "smart-complaint",
   "metadata": {},
   "outputs": [
    {
     "data": {
      "text/plain": [
       "False    1705\n",
       "True       44\n",
       "Name: rotors_present, dtype: int64"
      ]
     },
     "execution_count": 22,
     "metadata": {},
     "output_type": "execute_result"
    }
   ],
   "source": [
    "data_test = pandas.concat([data_no_rotors.sample(int(test_fraction * num_no_rotors)), data_with_rotors.sample(int(test_fraction * num_with_rotors))])\n",
    "data_test[target_feature_name].value_counts()"
   ]
  },
  {
   "cell_type": "code",
   "execution_count": 23,
   "id": "endangered-solid",
   "metadata": {},
   "outputs": [
    {
     "name": "stderr",
     "output_type": "stream",
     "text": [
      "/opt/scitools/environments/experimental/current/lib/python3.6/site-packages/ipykernel/__main__.py:1: SettingWithCopyWarning: \n",
      "A value is trying to be set on a copy of a slice from a DataFrame.\n",
      "Try using .loc[row_indexer,col_indexer] = value instead\n",
      "\n",
      "See the caveats in the documentation: https://pandas.pydata.org/pandas-docs/stable/user_guide/indexing.html#returning-a-view-versus-a-copy\n",
      "  if __name__ == '__main__':\n",
      "/opt/scitools/environments/experimental/current/lib/python3.6/site-packages/pandas/core/indexing.py:1763: SettingWithCopyWarning: \n",
      "A value is trying to be set on a copy of a slice from a DataFrame.\n",
      "Try using .loc[row_indexer,col_indexer] = value instead\n",
      "\n",
      "See the caveats in the documentation: https://pandas.pydata.org/pandas-docs/stable/user_guide/indexing.html#returning-a-view-versus-a-copy\n",
      "  isetter(loc, value)\n"
     ]
    }
   ],
   "source": [
    "falklands_training_df['test_set'] = False\n",
    "falklands_training_df.loc[data_test.index,'test_set'] = True"
   ]
  },
  {
   "cell_type": "code",
   "execution_count": 24,
   "id": "ceramic-outreach",
   "metadata": {},
   "outputs": [],
   "source": [
    "data_working = falklands_training_df[falklands_training_df['test_set'] == False]\n",
    "data_working_no_rotors = data_working[data_working[target_feature_name] == False]\n",
    "data_working_with_rotors = data_working[data_working[target_feature_name] == True]"
   ]
  },
  {
   "cell_type": "code",
   "execution_count": 25,
   "id": "every-basket",
   "metadata": {},
   "outputs": [
    {
     "name": "stderr",
     "output_type": "stream",
     "text": [
      "/opt/scitools/environments/experimental/current/lib/python3.6/site-packages/ipykernel/__main__.py:4: SettingWithCopyWarning: \n",
      "A value is trying to be set on a copy of a slice from a DataFrame.\n",
      "Try using .loc[row_indexer,col_indexer] = value instead\n",
      "\n",
      "See the caveats in the documentation: https://pandas.pydata.org/pandas-docs/stable/user_guide/indexing.html#returning-a-view-versus-a-copy\n",
      "/opt/scitools/environments/experimental/current/lib/python3.6/site-packages/pandas/core/indexing.py:1763: SettingWithCopyWarning: \n",
      "A value is trying to be set on a copy of a slice from a DataFrame.\n",
      "Try using .loc[row_indexer,col_indexer] = value instead\n",
      "\n",
      "See the caveats in the documentation: https://pandas.pydata.org/pandas-docs/stable/user_guide/indexing.html#returning-a-view-versus-a-copy\n",
      "  isetter(loc, value)\n"
     ]
    }
   ],
   "source": [
    "data_validation = pandas.concat(\n",
    "    [data_working_no_rotors.sample(int(validation_fraction * num_no_rotors)), \n",
    "     data_working_with_rotors.sample(int(validation_fraction * num_with_rotors))])\n",
    "falklands_training_df['validation_set'] = False\n",
    "falklands_training_df.loc[data_validation.index,'validation_set'] = True"
   ]
  },
  {
   "cell_type": "code",
   "execution_count": 26,
   "id": "minimal-shore",
   "metadata": {},
   "outputs": [
    {
     "data": {
      "text/plain": [
       "False    1705\n",
       "True       44\n",
       "Name: rotors_present, dtype: int64"
      ]
     },
     "execution_count": 26,
     "metadata": {},
     "output_type": "execute_result"
    }
   ],
   "source": [
    "data_validation[target_feature_name].value_counts()"
   ]
  },
  {
   "cell_type": "code",
   "execution_count": 27,
   "id": "bacterial-turner",
   "metadata": {},
   "outputs": [],
   "source": [
    "data_train = falklands_training_df[(~falklands_training_df['test_set']) & (~falklands_training_df['validation_set'])]"
   ]
  },
  {
   "cell_type": "code",
   "execution_count": 28,
   "id": "hydraulic-association",
   "metadata": {},
   "outputs": [
    {
     "data": {
      "text/plain": [
       "False    13648\n",
       "True       361\n",
       "Name: rotors_present, dtype: int64"
      ]
     },
     "execution_count": 28,
     "metadata": {},
     "output_type": "execute_result"
    }
   ],
   "source": [
    "data_train[target_feature_name].value_counts()"
   ]
  },
  {
   "cell_type": "markdown",
   "id": "changed-launch",
   "metadata": {},
   "source": [
    "# Preprocess data into input for ML algorithm"
   ]
  },
  {
   "cell_type": "code",
   "execution_count": 29,
   "id": "single-franklin",
   "metadata": {},
   "outputs": [],
   "source": [
    "input_feature_names = temp_feature_names + humidity_feature_names + u_wind_feature_names + v_wind_features_names"
   ]
  },
  {
   "cell_type": "code",
   "execution_count": 30,
   "id": "running-engineer",
   "metadata": {},
   "outputs": [],
   "source": [
    "preproc_dict = {}\n",
    "for if1 in input_feature_names:\n",
    "    scaler1 = sklearn.preprocessing.StandardScaler()\n",
    "    scaler1.fit(data_train[[if1]])\n",
    "    preproc_dict[if1] = scaler1"
   ]
  },
  {
   "cell_type": "code",
   "execution_count": 31,
   "id": "exotic-albuquerque",
   "metadata": {},
   "outputs": [
    {
     "name": "stderr",
     "output_type": "stream",
     "text": [
      "/opt/scitools/environments/experimental/current/lib/python3.6/site-packages/sklearn/utils/validation.py:63: DataConversionWarning: A column-vector y was passed when a 1d array was expected. Please change the shape of y to (n_samples, ), for example using ravel().\n",
      "  return f(*args, **kwargs)\n"
     ]
    },
    {
     "data": {
      "text/plain": [
       "LabelEncoder()"
      ]
     },
     "execution_count": 31,
     "metadata": {},
     "output_type": "execute_result"
    }
   ],
   "source": [
    "target_encoder = sklearn.preprocessing.LabelEncoder()\n",
    "target_encoder.fit(data_train[[target_feature_name]])"
   ]
  },
  {
   "cell_type": "markdown",
   "id": "headed-charleston",
   "metadata": {},
   "source": [
    "Apply transformation to each input column"
   ]
  },
  {
   "cell_type": "code",
   "execution_count": 32,
   "id": "invisible-wagner",
   "metadata": {},
   "outputs": [],
   "source": [
    "def preproc_input(data_subset, pp_dict):\n",
    "    return numpy.concatenate([scaler1.transform(data_subset[[if1]]) for if1,scaler1 in pp_dict.items()],axis=1)\n",
    "\n",
    "def preproc_target(data_subset, enc1):\n",
    "     return enc1.transform(data_subset[[target_feature_name]])"
   ]
  },
  {
   "cell_type": "code",
   "execution_count": 33,
   "id": "dried-federal",
   "metadata": {},
   "outputs": [
    {
     "name": "stderr",
     "output_type": "stream",
     "text": [
      "/opt/scitools/environments/experimental/current/lib/python3.6/site-packages/sklearn/utils/validation.py:63: DataConversionWarning: A column-vector y was passed when a 1d array was expected. Please change the shape of y to (n_samples, ), for example using ravel().\n",
      "  return f(*args, **kwargs)\n"
     ]
    }
   ],
   "source": [
    "X_train = preproc_input(data_train, preproc_dict)\n",
    "y_train = preproc_target(data_train, target_encoder)"
   ]
  },
  {
   "cell_type": "markdown",
   "id": "perfect-reality",
   "metadata": {},
   "source": [
    "create target feature from rotors"
   ]
  },
  {
   "cell_type": "code",
   "execution_count": 34,
   "id": "unlike-fault",
   "metadata": {},
   "outputs": [
    {
     "data": {
      "text/plain": [
       "((14009,), (14009, 88))"
      ]
     },
     "execution_count": 34,
     "metadata": {},
     "output_type": "execute_result"
    }
   ],
   "source": [
    "y_train.shape, X_train.shape"
   ]
  },
  {
   "cell_type": "code",
   "execution_count": 35,
   "id": "streaming-lighter",
   "metadata": {},
   "outputs": [
    {
     "name": "stderr",
     "output_type": "stream",
     "text": [
      "/opt/scitools/environments/experimental/current/lib/python3.6/site-packages/sklearn/utils/validation.py:63: DataConversionWarning: A column-vector y was passed when a 1d array was expected. Please change the shape of y to (n_samples, ), for example using ravel().\n",
      "  return f(*args, **kwargs)\n"
     ]
    }
   ],
   "source": [
    "X_val = preproc_input(data_validation, preproc_dict)\n",
    "y_val = preproc_target(data_validation, target_encoder)"
   ]
  },
  {
   "cell_type": "code",
   "execution_count": 36,
   "id": "rational-peoples",
   "metadata": {},
   "outputs": [
    {
     "name": "stderr",
     "output_type": "stream",
     "text": [
      "/opt/scitools/environments/experimental/current/lib/python3.6/site-packages/sklearn/utils/validation.py:63: DataConversionWarning: A column-vector y was passed when a 1d array was expected. Please change the shape of y to (n_samples, ), for example using ravel().\n",
      "  return f(*args, **kwargs)\n"
     ]
    }
   ],
   "source": [
    "X_test = preproc_input(data_test, preproc_dict)\n",
    "y_test = preproc_target(data_test, target_encoder)"
   ]
  },
  {
   "cell_type": "code",
   "execution_count": 37,
   "id": "spoken-legend",
   "metadata": {},
   "outputs": [],
   "source": [
    "train_val_test_tuples = [\n",
    "    (X_train, y_train),\n",
    "    (X_val, y_val),\n",
    "    (X_test, y_test),    \n",
    "]"
   ]
  },
  {
   "cell_type": "markdown",
   "id": "quick-prince",
   "metadata": {},
   "source": [
    "### train some classifiers"
   ]
  },
  {
   "cell_type": "code",
   "execution_count": 38,
   "id": "becoming-wallace",
   "metadata": {},
   "outputs": [],
   "source": [
    "classifiers_params = {\n",
    "    'decision_tree': {'class': sklearn.tree.DecisionTreeClassifier, 'opts': {'max_depth':10, 'class_weight':'balanced'}},\n",
    "    'random_forest': {'class': sklearn.ensemble.RandomForestClassifier, 'opts': {'max_depth':10, 'class_weight':'balanced'}},\n",
    "     'ann_3_50': {'class': sklearn.neural_network.MLPClassifier, 'opts': {'hidden_layer_sizes':(50,50,50)}},   \n",
    "     'ann_2_200': {'class': sklearn.neural_network.MLPClassifier, 'opts': {'hidden_layer_sizes':(200,200)}},   \n",
    "}\n",
    "\n"
   ]
  },
  {
   "cell_type": "code",
   "execution_count": 39,
   "id": "assured-object",
   "metadata": {},
   "outputs": [
    {
     "name": "stdout",
     "output_type": "stream",
     "text": [
      "decision_tree\n",
      "random_forest\n",
      "ann_3_50\n",
      "ann_2_200\n",
      "CPU times: user 2min 48s, sys: 5.44 s, total: 2min 53s\n",
      "Wall time: 52 s\n"
     ]
    }
   ],
   "source": [
    "%%time\n",
    "classifiers_dict = {}             \n",
    "for clf_name, clf_params in classifiers_params.items():\n",
    "    print(clf_name)\n",
    "    clf1 = clf_params['class'](**clf_params['opts'])\n",
    "    clf1.fit(X_train, y_train)\n",
    "    classifiers_dict[clf_name] = clf1"
   ]
  },
  {
   "cell_type": "code",
   "execution_count": 40,
   "id": "under-accessory",
   "metadata": {},
   "outputs": [
    {
     "name": "stdout",
     "output_type": "stream",
     "text": [
      "(array([0.87815064, 0.99445983]), array([0.99983315, 0.17754698]), array([0.93504974, 0.30130088]), array([11987,  2022]))\n",
      "(array([0.85571848, 0.84090909]), array([0.9952251 , 0.13074205]), array([0.92021444, 0.22629969]), array([1466,  283]))\n",
      "(array([0.86392962, 0.79545455]), array([0.99392713, 0.13108614]), array([0.92438029, 0.22508039]), array([1482,  267]))\n",
      "(array([0.89617526, 0.99722992]), array([0.99991825, 0.20258863]), array([0.94520866, 0.33676333]), array([12232,  1777]))\n",
      "(array([0.88211144, 0.84090909]), array([0.99536731, 0.15546218]), array([0.93532338, 0.26241135]), array([1511,  238]))\n",
      "(array([0.88739003, 0.79545455]), array([0.99408673, 0.15418502]), array([0.93771305, 0.25830258]), array([1522,  227]))\n",
      "(array([1., 1.]), array([1., 1.]), array([1., 1.]), array([13648,   361]))\n",
      "(array([0.98475073, 0.15909091]), array([0.97843823, 0.21212121]), array([0.98158433, 0.18181818]), array([1716,   33]))\n",
      "(array([0.98475073, 0.09090909]), array([0.97673066, 0.13333333]), array([0.9807243 , 0.10810811]), array([1719,   30]))\n",
      "(array([0.99765533, 0.99445983]), array([0.99985314, 0.91815857]), array([0.99875303, 0.95478723]), array([13618,   391]))\n",
      "(array([0.9829912 , 0.29545455]), array([0.98183948, 0.30952381]), array([0.98241501, 0.30232558]), array([1707,   42]))\n",
      "(array([0.98357771, 0.25      ]), array([0.98070175, 0.28205128]), array([0.98213763, 0.26506024]), array([1710,   39]))\n"
     ]
    }
   ],
   "source": [
    "for clf_name, clf1 in classifiers_dict.items():\n",
    "    for X1, y1 in train_val_test_tuples:\n",
    "        print(sklearn.metrics.precision_recall_fscore_support(clf1.predict(X1), y1))"
   ]
  },
  {
   "cell_type": "code",
   "execution_count": 41,
   "id": "purple-container",
   "metadata": {},
   "outputs": [
    {
     "name": "stdout",
     "output_type": "stream",
     "text": [
      "0.5886900678834646\n",
      "0.5629835758946004\n",
      "0.5625066339140852\n",
      "0.6012534398735679\n",
      "0.5754147456467696\n",
      "0.5741358750079596\n",
      "1.0\n",
      "0.5952797202797203\n",
      "0.5550319953461315\n",
      "0.959005851665409\n",
      "0.645681646999749\n",
      "0.6313765182186235\n"
     ]
    }
   ],
   "source": [
    "for clf_name, clf1 in classifiers_dict.items():\n",
    "    for X1, y1 in train_val_test_tuples:\n",
    "        print(sklearn.metrics.balanced_accuracy_score(clf1.predict(X1), y1))\n"
   ]
  },
  {
   "cell_type": "code",
   "execution_count": 42,
   "id": "pressed-highlight",
   "metadata": {},
   "outputs": [
    {
     "name": "stdout",
     "output_type": "stream",
     "text": [
      "[[11985     2]\n",
      " [ 1663   359]]\n",
      "[[1459    7]\n",
      " [ 246   37]]\n",
      "[[1473    9]\n",
      " [ 232   35]]\n",
      "[[12231     1]\n",
      " [ 1417   360]]\n",
      "[[1504    7]\n",
      " [ 201   37]]\n",
      "[[1513    9]\n",
      " [ 192   35]]\n",
      "[[13648     0]\n",
      " [    0   361]]\n",
      "[[1679   37]\n",
      " [  26    7]]\n",
      "[[1679   40]\n",
      " [  26    4]]\n",
      "[[13616     2]\n",
      " [   32   359]]\n",
      "[[1676   31]\n",
      " [  29   13]]\n",
      "[[1677   33]\n",
      " [  28   11]]\n"
     ]
    }
   ],
   "source": [
    "for clf_name, clf1 in classifiers_dict.items():\n",
    "    for X1, y1 in train_val_test_tuples:\n",
    "        print(sklearn.metrics.confusion_matrix(clf1.predict(X1), y1))"
   ]
  },
  {
   "cell_type": "code",
   "execution_count": 43,
   "id": "southwest-bishop",
   "metadata": {},
   "outputs": [
    {
     "data": {
      "text/plain": [
       "array([[1459,    7],\n",
       "       [ 246,   37]])"
      ]
     },
     "execution_count": 43,
     "metadata": {},
     "output_type": "execute_result"
    }
   ],
   "source": [
    "sklearn.metrics.confusion_matrix(classifiers_dict['decision_tree'].predict(X_val), y_val)"
   ]
  },
  {
   "cell_type": "code",
   "execution_count": 44,
   "id": "developing-morgan",
   "metadata": {},
   "outputs": [
    {
     "data": {
      "text/plain": [
       "array([[1504,    7],\n",
       "       [ 201,   37]])"
      ]
     },
     "execution_count": 44,
     "metadata": {},
     "output_type": "execute_result"
    }
   ],
   "source": [
    "sklearn.metrics.confusion_matrix(classifiers_dict['random_forest'].predict(X_val), y_val)"
   ]
  },
  {
   "cell_type": "markdown",
   "id": "governmental-bernard",
   "metadata": {},
   "source": [
    "### Resample the data \n",
    "\n",
    "Our yes/no classes for classification are very unbalanced, so we can try doing a naive resampling so we have equal representation fo the two classes in our sample set."
   ]
  },
  {
   "cell_type": "code",
   "execution_count": 45,
   "id": "falling-trader",
   "metadata": {},
   "outputs": [],
   "source": [
    "data_train_resampled = pandas.concat([\n",
    "    data_train[data_train[target_feature_name] == True].sample(n=int(1e4), replace=True), \n",
    "    data_train[data_train[target_feature_name] == False].sample(n=int(1e4), replace=False),],\n",
    "    ignore_index=True)"
   ]
  },
  {
   "cell_type": "code",
   "execution_count": 46,
   "id": "impaired-comfort",
   "metadata": {},
   "outputs": [
    {
     "name": "stderr",
     "output_type": "stream",
     "text": [
      "/opt/scitools/environments/experimental/current/lib/python3.6/site-packages/sklearn/utils/validation.py:63: DataConversionWarning: A column-vector y was passed when a 1d array was expected. Please change the shape of y to (n_samples, ), for example using ravel().\n",
      "  return f(*args, **kwargs)\n"
     ]
    }
   ],
   "source": [
    "X_train_resampled = preproc_input(data_train_resampled, preproc_dict)\n",
    "y_train_resampled = preproc_target(data_train_resampled, target_encoder)"
   ]
  },
  {
   "cell_type": "code",
   "execution_count": 47,
   "id": "chinese-penny",
   "metadata": {},
   "outputs": [],
   "source": [
    "train_val_test_res_tuples = [\n",
    "    (X_train_resampled, y_train_resampled),\n",
    "    (X_val, y_val),\n",
    "    (X_test, y_test),    \n",
    "]"
   ]
  },
  {
   "cell_type": "code",
   "execution_count": 48,
   "id": "secure-moses",
   "metadata": {},
   "outputs": [
    {
     "name": "stdout",
     "output_type": "stream",
     "text": [
      "decision_tree\n",
      "random_forest\n",
      "ann_3_50\n",
      "ann_2_200\n",
      "CPU times: user 3min, sys: 5.88 s, total: 3min 6s\n",
      "Wall time: 56.6 s\n"
     ]
    }
   ],
   "source": [
    "%%time\n",
    "classifiers_res_dict = {}                    \n",
    "for clf_name, clf_params in classifiers_params.items():\n",
    "    print(clf_name)\n",
    "    clf1 = clf_params['class'](**clf_params['opts'])\n",
    "    clf1.fit(X_train_resampled, y_train_resampled)\n",
    "    classifiers_res_dict[clf_name] = clf1"
   ]
  },
  {
   "cell_type": "code",
   "execution_count": 49,
   "id": "streaming-breach",
   "metadata": {},
   "outputs": [
    {
     "name": "stdout",
     "output_type": "stream",
     "text": [
      "(array([0.885 , 0.9977]), array([0.99740787, 0.89664779]), array([0.93784772, 0.94447863]), array([ 8873, 11127]))\n",
      "(array([0.87096774, 0.86363636]), array([0.99597586, 0.14728682]), array([0.92928661, 0.25165563]), array([1491,  258]))\n",
      "(array([0.87155425, 0.72727273]), array([0.99198932, 0.12749004]), array([0.92788011, 0.21694915]), array([1498,  251]))\n",
      "(array([0.8962, 1.    ]), array([1.        , 0.90596122]), array([0.94525894, 0.95066071]), array([ 8962, 11038]))\n",
      "(array([0.87859238, 0.86363636]), array([0.99601064, 0.15510204]), array([0.93362418, 0.26297578]), array([1504,  245]))\n",
      "(array([0.88739003, 0.79545455]), array([0.99408673, 0.15418502]), array([0.93771305, 0.25830258]), array([1522,  227]))\n",
      "(array([0.999, 1.   ]), array([1.      , 0.999001]), array([0.99949975, 0.99950025]), array([ 9990, 10010]))\n",
      "(array([0.97184751, 0.22727273]), array([0.97989355, 0.17241379]), array([0.97585395, 0.19607843]), array([1691,   58]))\n",
      "(array([0.96656891, 0.29545455]), array([0.98153663, 0.18571429]), array([0.97399527, 0.22807018]), array([1679,   70]))\n",
      "(array([1., 1.]), array([1., 1.]), array([1., 1.]), array([10000, 10000]))\n",
      "(array([0.97888563, 0.25      ]), array([0.98061105, 0.23404255]), array([0.97974758, 0.24175824]), array([1702,   47]))\n",
      "(array([0.97595308, 0.34090909]), array([0.98287064, 0.26785714]), array([0.97939965, 0.3       ]), array([1693,   56]))\n"
     ]
    }
   ],
   "source": [
    "for clf_name, clf1 in classifiers_res_dict.items():\n",
    "    for X1, y1 in train_val_test_res_tuples:\n",
    "        print(sklearn.metrics.precision_recall_fscore_support(clf1.predict(X1), y1))\n"
   ]
  },
  {
   "cell_type": "code",
   "execution_count": 50,
   "id": "interracial-province",
   "metadata": {},
   "outputs": [
    {
     "name": "stdout",
     "output_type": "stream",
     "text": [
      "0.947027830108276\n",
      "0.5716313384181055\n",
      "0.5597396794663801\n",
      "0.9529806124297879\n",
      "0.5755563395570994\n",
      "0.5741358750079596\n",
      "0.9995004995004995\n",
      "0.5761536736067212\n",
      "0.5836254573300435\n",
      "1.0\n",
      "0.6073267995099633\n",
      "0.625363893342334\n"
     ]
    }
   ],
   "source": [
    "for clf_name, clf1 in classifiers_res_dict.items():\n",
    "    for X1, y1 in train_val_test_res_tuples:\n",
    "        print(sklearn.metrics.balanced_accuracy_score(clf1.predict(X1), y1))    "
   ]
  },
  {
   "cell_type": "code",
   "execution_count": 52,
   "id": "governmental-magnet",
   "metadata": {},
   "outputs": [
    {
     "name": "stdout",
     "output_type": "stream",
     "text": [
      "[[8850   23]\n",
      " [1150 9977]]\n",
      "[[1485    6]\n",
      " [ 220   38]]\n",
      "[[1486   12]\n",
      " [ 219   32]]\n",
      "[[ 8962     0]\n",
      " [ 1038 10000]]\n",
      "[[1498    6]\n",
      " [ 207   38]]\n",
      "[[1513    9]\n",
      " [ 192   35]]\n",
      "[[ 9990     0]\n",
      " [   10 10000]]\n",
      "[[1657   34]\n",
      " [  48   10]]\n",
      "[[1648   31]\n",
      " [  57   13]]\n",
      "[[10000     0]\n",
      " [    0 10000]]\n",
      "[[1669   33]\n",
      " [  36   11]]\n",
      "[[1664   29]\n",
      " [  41   15]]\n"
     ]
    }
   ],
   "source": [
    "for clf_name, clf1 in classifiers_res_dict.items():\n",
    "    for X1, y1 in train_val_test_res_tuples:\n",
    "        print(sklearn.metrics.confusion_matrix(clf1.predict(X1), y1))"
   ]
  },
  {
   "cell_type": "markdown",
   "id": "complete-front",
   "metadata": {},
   "source": [
    "## Further work\n",
    "Improviong accuracy\n",
    "* more sophisticated resampling (e.g. SMOTE)\n",
    "* proper hyperpamater tuning to get best results with each classifier\n",
    "* try other tree and NN implementations e.g. tensorflow, pytorch, xgboost\n",
    "* try dimensionality reduction step\n",
    "\n",
    "Result presentation/investigation\n",
    "* some visualisation of results\n",
    "* consolidate output into data frames\n",
    "* look atfeature importance measures to see which features are most important\n",
    "\n",
    "MLOps\n",
    "* do hypyerparamter tuning using dask cluster\n",
    "* execute training on spice (create SPICE dask cluster)\n",
    "* save experiment details in experiment using MLflow\n",
    "* replicate workflow\n"
   ]
  }
 ],
 "metadata": {
  "kernelspec": {
   "display_name": "experimental-current",
   "language": "python",
   "name": "experimental-current"
  },
  "language_info": {
   "codemirror_mode": {
    "name": "ipython",
    "version": 3
   },
   "file_extension": ".py",
   "mimetype": "text/x-python",
   "name": "python",
   "nbconvert_exporter": "python",
   "pygments_lexer": "ipython3",
   "version": "3.6.6"
  }
 },
 "nbformat": 4,
 "nbformat_minor": 5
}
