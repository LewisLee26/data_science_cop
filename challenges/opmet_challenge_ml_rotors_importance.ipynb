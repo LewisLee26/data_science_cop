{
 "cells": [
  {
   "cell_type": "markdown",
   "id": "f0529715-9ba3-44ec-8487-eafb57412b91",
   "metadata": {},
   "source": [
    "# OpMet Challenge - Basic ML pipeline in Scikit Learn\n",
    "\n",
    "This notebooks puts together a basic pipeline using scikit-learn"
   ]
  },
  {
   "cell_type": "code",
   "execution_count": 1,
   "id": "greenhouse-clarity",
   "metadata": {},
   "outputs": [],
   "source": [
    "import pathlib\n",
    "import datetime\n",
    "import math\n",
    "import functools\n",
    "import numpy\n",
    "import os"
   ]
  },
  {
   "cell_type": "code",
   "execution_count": 2,
   "id": "1e1f8209-c464-4226-a872-4b1998800559",
   "metadata": {},
   "outputs": [],
   "source": [
    "import warnings\n",
    "warnings.filterwarnings('ignore')"
   ]
  },
  {
   "cell_type": "code",
   "execution_count": 3,
   "id": "described-houston",
   "metadata": {},
   "outputs": [],
   "source": [
    "import pandas"
   ]
  },
  {
   "cell_type": "code",
   "execution_count": 4,
   "id": "healthy-prevention",
   "metadata": {},
   "outputs": [],
   "source": [
    "import iris"
   ]
  },
  {
   "cell_type": "code",
   "execution_count": 5,
   "id": "christian-christopher",
   "metadata": {},
   "outputs": [],
   "source": [
    "import matplotlib"
   ]
  },
  {
   "cell_type": "code",
   "execution_count": 6,
   "id": "studied-morrison",
   "metadata": {},
   "outputs": [],
   "source": [
    "%matplotlib inline"
   ]
  },
  {
   "cell_type": "code",
   "execution_count": 80,
   "id": "discrete-staff",
   "metadata": {},
   "outputs": [],
   "source": [
    "import sklearn\n",
    "import sklearn.tree\n",
    "import sklearn.preprocessing\n",
    "import sklearn.ensemble\n",
    "import sklearn.neural_network\n",
    "import sklearn.metrics\n",
    "import sklearn.decomposition\n",
    "import sklearn.inspection"
   ]
  },
  {
   "cell_type": "code",
   "execution_count": 79,
   "id": "acbb3418-6820-4b34-af45-4fb85b2f5086",
   "metadata": {},
   "outputs": [],
   "source": [
    "import opmet_metrics"
   ]
  },
  {
   "cell_type": "code",
   "execution_count": 8,
   "id": "victorian-reaction",
   "metadata": {},
   "outputs": [
    {
     "data": {
      "text/plain": [
       "'/Users/stephen.haddad/data/ml_challenges/'"
      ]
     },
     "execution_count": 8,
     "metadata": {},
     "output_type": "execute_result"
    }
   ],
   "source": [
    "try:\n",
    "    root_data_dir = os.environ['OPMET_DATA_ROOT']\n",
    "except KeyError:\n",
    "    root_data_dir = '/project/informatics_lab/data_science_cop/ML_challenges/2021_opmet_challenge'\n",
    "root_data_dir    "
   ]
  },
  {
   "cell_type": "markdown",
   "id": "cloudy-checkout",
   "metadata": {},
   "source": [
    "## Exploring Falklands Rotor Data\n",
    "\n",
    "Start by loading the data, seeing what features we have."
   ]
  },
  {
   "cell_type": "code",
   "execution_count": 9,
   "id": "absolute-peripheral",
   "metadata": {},
   "outputs": [],
   "source": [
    "falklands_dir = 'Rotors'\n",
    "falklands_data_path = pathlib.Path(root_data_dir, falklands_dir)"
   ]
  },
  {
   "cell_type": "code",
   "execution_count": 10,
   "id": "european-correspondence",
   "metadata": {},
   "outputs": [],
   "source": [
    "falklands_new_training_data_path = pathlib.Path(falklands_data_path, 'new_training.csv')"
   ]
  },
  {
   "cell_type": "code",
   "execution_count": 11,
   "id": "meaningful-promise",
   "metadata": {},
   "outputs": [
    {
     "data": {
      "text/html": [
       "<div>\n",
       "<style scoped>\n",
       "    .dataframe tbody tr th:only-of-type {\n",
       "        vertical-align: middle;\n",
       "    }\n",
       "\n",
       "    .dataframe tbody tr th {\n",
       "        vertical-align: top;\n",
       "    }\n",
       "\n",
       "    .dataframe thead th {\n",
       "        text-align: right;\n",
       "    }\n",
       "</style>\n",
       "<table border=\"1\" class=\"dataframe\">\n",
       "  <thead>\n",
       "    <tr style=\"text-align: right;\">\n",
       "      <th></th>\n",
       "      <th>DTG</th>\n",
       "      <th>air_temp_obs</th>\n",
       "      <th>dewpoint_obs</th>\n",
       "      <th>wind_direction_obs</th>\n",
       "      <th>wind_speed_obs</th>\n",
       "      <th>wind_gust_obs</th>\n",
       "      <th>air_temp_1</th>\n",
       "      <th>air_temp_2</th>\n",
       "      <th>air_temp_3</th>\n",
       "      <th>air_temp_4</th>\n",
       "      <th>...</th>\n",
       "      <th>windspd_18</th>\n",
       "      <th>winddir_19</th>\n",
       "      <th>windspd_19</th>\n",
       "      <th>winddir_20</th>\n",
       "      <th>windspd_20</th>\n",
       "      <th>winddir_21</th>\n",
       "      <th>windspd_21</th>\n",
       "      <th>winddir_22</th>\n",
       "      <th>windspd_22</th>\n",
       "      <th>Rotors 1 is true</th>\n",
       "    </tr>\n",
       "  </thead>\n",
       "  <tbody>\n",
       "    <tr>\n",
       "      <th>1</th>\n",
       "      <td>01/01/2015 00:00</td>\n",
       "      <td>283.9</td>\n",
       "      <td>280.7</td>\n",
       "      <td>110.0</td>\n",
       "      <td>4.1</td>\n",
       "      <td>-9999999.0</td>\n",
       "      <td>284.000</td>\n",
       "      <td>283.625</td>\n",
       "      <td>283.250</td>\n",
       "      <td>282.625</td>\n",
       "      <td>...</td>\n",
       "      <td>5.8</td>\n",
       "      <td>341.0</td>\n",
       "      <td>6.0</td>\n",
       "      <td>334.0</td>\n",
       "      <td>6.1</td>\n",
       "      <td>330.0</td>\n",
       "      <td>6.0</td>\n",
       "      <td>329.0</td>\n",
       "      <td>5.8</td>\n",
       "      <td>NaN</td>\n",
       "    </tr>\n",
       "    <tr>\n",
       "      <th>2</th>\n",
       "      <td>01/01/2015 03:00</td>\n",
       "      <td>280.7</td>\n",
       "      <td>279.7</td>\n",
       "      <td>90.0</td>\n",
       "      <td>7.7</td>\n",
       "      <td>-9999999.0</td>\n",
       "      <td>281.500</td>\n",
       "      <td>281.250</td>\n",
       "      <td>280.750</td>\n",
       "      <td>280.250</td>\n",
       "      <td>...</td>\n",
       "      <td>6.8</td>\n",
       "      <td>344.0</td>\n",
       "      <td>5.3</td>\n",
       "      <td>348.0</td>\n",
       "      <td>3.8</td>\n",
       "      <td>360.0</td>\n",
       "      <td>3.2</td>\n",
       "      <td>12.0</td>\n",
       "      <td>3.5</td>\n",
       "      <td>NaN</td>\n",
       "    </tr>\n",
       "    <tr>\n",
       "      <th>3</th>\n",
       "      <td>01/01/2015 06:00</td>\n",
       "      <td>279.8</td>\n",
       "      <td>278.1</td>\n",
       "      <td>100.0</td>\n",
       "      <td>7.7</td>\n",
       "      <td>-9999999.0</td>\n",
       "      <td>279.875</td>\n",
       "      <td>279.625</td>\n",
       "      <td>279.125</td>\n",
       "      <td>278.625</td>\n",
       "      <td>...</td>\n",
       "      <td>6.0</td>\n",
       "      <td>345.0</td>\n",
       "      <td>5.5</td>\n",
       "      <td>358.0</td>\n",
       "      <td>5.0</td>\n",
       "      <td>10.0</td>\n",
       "      <td>4.2</td>\n",
       "      <td>38.0</td>\n",
       "      <td>4.0</td>\n",
       "      <td>NaN</td>\n",
       "    </tr>\n",
       "    <tr>\n",
       "      <th>4</th>\n",
       "      <td>01/01/2015 09:00</td>\n",
       "      <td>279.9</td>\n",
       "      <td>277.0</td>\n",
       "      <td>120.0</td>\n",
       "      <td>7.2</td>\n",
       "      <td>-9999999.0</td>\n",
       "      <td>279.625</td>\n",
       "      <td>279.250</td>\n",
       "      <td>278.875</td>\n",
       "      <td>278.250</td>\n",
       "      <td>...</td>\n",
       "      <td>3.1</td>\n",
       "      <td>338.0</td>\n",
       "      <td>3.5</td>\n",
       "      <td>354.0</td>\n",
       "      <td>3.9</td>\n",
       "      <td>9.0</td>\n",
       "      <td>4.4</td>\n",
       "      <td>22.0</td>\n",
       "      <td>4.6</td>\n",
       "      <td>NaN</td>\n",
       "    </tr>\n",
       "    <tr>\n",
       "      <th>5</th>\n",
       "      <td>01/01/2015 12:00</td>\n",
       "      <td>279.9</td>\n",
       "      <td>277.4</td>\n",
       "      <td>120.0</td>\n",
       "      <td>8.7</td>\n",
       "      <td>-9999999.0</td>\n",
       "      <td>279.250</td>\n",
       "      <td>278.875</td>\n",
       "      <td>278.375</td>\n",
       "      <td>277.875</td>\n",
       "      <td>...</td>\n",
       "      <td>1.6</td>\n",
       "      <td>273.0</td>\n",
       "      <td>2.0</td>\n",
       "      <td>303.0</td>\n",
       "      <td>2.3</td>\n",
       "      <td>329.0</td>\n",
       "      <td>2.5</td>\n",
       "      <td>338.0</td>\n",
       "      <td>2.4</td>\n",
       "      <td>NaN</td>\n",
       "    </tr>\n",
       "    <tr>\n",
       "      <th>...</th>\n",
       "      <td>...</td>\n",
       "      <td>...</td>\n",
       "      <td>...</td>\n",
       "      <td>...</td>\n",
       "      <td>...</td>\n",
       "      <td>...</td>\n",
       "      <td>...</td>\n",
       "      <td>...</td>\n",
       "      <td>...</td>\n",
       "      <td>...</td>\n",
       "      <td>...</td>\n",
       "      <td>...</td>\n",
       "      <td>...</td>\n",
       "      <td>...</td>\n",
       "      <td>...</td>\n",
       "      <td>...</td>\n",
       "      <td>...</td>\n",
       "      <td>...</td>\n",
       "      <td>...</td>\n",
       "      <td>...</td>\n",
       "      <td>...</td>\n",
       "    </tr>\n",
       "    <tr>\n",
       "      <th>20101</th>\n",
       "      <td>31/12/2020 06:00</td>\n",
       "      <td>276.7</td>\n",
       "      <td>275.5</td>\n",
       "      <td>270.0</td>\n",
       "      <td>3.6</td>\n",
       "      <td>-9999999.0</td>\n",
       "      <td>277.875</td>\n",
       "      <td>277.750</td>\n",
       "      <td>277.625</td>\n",
       "      <td>277.500</td>\n",
       "      <td>...</td>\n",
       "      <td>12.1</td>\n",
       "      <td>223.0</td>\n",
       "      <td>11.8</td>\n",
       "      <td>221.0</td>\n",
       "      <td>11.4</td>\n",
       "      <td>219.0</td>\n",
       "      <td>11.3</td>\n",
       "      <td>215.0</td>\n",
       "      <td>11.4</td>\n",
       "      <td>NaN</td>\n",
       "    </tr>\n",
       "    <tr>\n",
       "      <th>20102</th>\n",
       "      <td>31/12/2020 09:00</td>\n",
       "      <td>277.9</td>\n",
       "      <td>276.9</td>\n",
       "      <td>270.0</td>\n",
       "      <td>3.1</td>\n",
       "      <td>-9999999.0</td>\n",
       "      <td>277.875</td>\n",
       "      <td>277.625</td>\n",
       "      <td>277.875</td>\n",
       "      <td>277.875</td>\n",
       "      <td>...</td>\n",
       "      <td>10.2</td>\n",
       "      <td>230.0</td>\n",
       "      <td>10.8</td>\n",
       "      <td>230.0</td>\n",
       "      <td>11.6</td>\n",
       "      <td>227.0</td>\n",
       "      <td>12.3</td>\n",
       "      <td>222.0</td>\n",
       "      <td>12.0</td>\n",
       "      <td>NaN</td>\n",
       "    </tr>\n",
       "    <tr>\n",
       "      <th>20103</th>\n",
       "      <td>31/12/2020 12:00</td>\n",
       "      <td>283.5</td>\n",
       "      <td>277.1</td>\n",
       "      <td>220.0</td>\n",
       "      <td>3.6</td>\n",
       "      <td>-9999999.0</td>\n",
       "      <td>281.125</td>\n",
       "      <td>280.625</td>\n",
       "      <td>280.125</td>\n",
       "      <td>279.625</td>\n",
       "      <td>...</td>\n",
       "      <td>10.3</td>\n",
       "      <td>218.0</td>\n",
       "      <td>11.9</td>\n",
       "      <td>221.0</td>\n",
       "      <td>12.8</td>\n",
       "      <td>222.0</td>\n",
       "      <td>11.9</td>\n",
       "      <td>225.0</td>\n",
       "      <td>10.6</td>\n",
       "      <td>NaN</td>\n",
       "    </tr>\n",
       "    <tr>\n",
       "      <th>20104</th>\n",
       "      <td>31/12/2020 15:00</td>\n",
       "      <td>286.1</td>\n",
       "      <td>276.9</td>\n",
       "      <td>250.0</td>\n",
       "      <td>3.6</td>\n",
       "      <td>-9999999.0</td>\n",
       "      <td>284.625</td>\n",
       "      <td>284.125</td>\n",
       "      <td>283.625</td>\n",
       "      <td>283.000</td>\n",
       "      <td>...</td>\n",
       "      <td>9.4</td>\n",
       "      <td>218.0</td>\n",
       "      <td>8.6</td>\n",
       "      <td>212.0</td>\n",
       "      <td>8.3</td>\n",
       "      <td>218.0</td>\n",
       "      <td>8.7</td>\n",
       "      <td>226.0</td>\n",
       "      <td>10.1</td>\n",
       "      <td>NaN</td>\n",
       "    </tr>\n",
       "    <tr>\n",
       "      <th>20105</th>\n",
       "      <td>01/01/2021 00:00</td>\n",
       "      <td>285.1</td>\n",
       "      <td>279.3</td>\n",
       "      <td>300.0</td>\n",
       "      <td>6.2</td>\n",
       "      <td>-9999999.0</td>\n",
       "      <td>284.250</td>\n",
       "      <td>284.000</td>\n",
       "      <td>283.750</td>\n",
       "      <td>283.250</td>\n",
       "      <td>...</td>\n",
       "      <td>8.6</td>\n",
       "      <td>241.0</td>\n",
       "      <td>10.2</td>\n",
       "      <td>236.0</td>\n",
       "      <td>10.5</td>\n",
       "      <td>232.0</td>\n",
       "      <td>10.5</td>\n",
       "      <td>227.0</td>\n",
       "      <td>11.3</td>\n",
       "      <td>NaN</td>\n",
       "    </tr>\n",
       "  </tbody>\n",
       "</table>\n",
       "<p>20105 rows × 95 columns</p>\n",
       "</div>"
      ],
      "text/plain": [
       "                    DTG  air_temp_obs  dewpoint_obs  wind_direction_obs  \\\n",
       "1      01/01/2015 00:00         283.9         280.7               110.0   \n",
       "2      01/01/2015 03:00         280.7         279.7                90.0   \n",
       "3      01/01/2015 06:00         279.8         278.1               100.0   \n",
       "4      01/01/2015 09:00         279.9         277.0               120.0   \n",
       "5      01/01/2015 12:00         279.9         277.4               120.0   \n",
       "...                 ...           ...           ...                 ...   \n",
       "20101  31/12/2020 06:00         276.7         275.5               270.0   \n",
       "20102  31/12/2020 09:00         277.9         276.9               270.0   \n",
       "20103  31/12/2020 12:00         283.5         277.1               220.0   \n",
       "20104  31/12/2020 15:00         286.1         276.9               250.0   \n",
       "20105  01/01/2021 00:00         285.1         279.3               300.0   \n",
       "\n",
       "       wind_speed_obs  wind_gust_obs  air_temp_1  air_temp_2  air_temp_3  \\\n",
       "1                 4.1     -9999999.0     284.000     283.625     283.250   \n",
       "2                 7.7     -9999999.0     281.500     281.250     280.750   \n",
       "3                 7.7     -9999999.0     279.875     279.625     279.125   \n",
       "4                 7.2     -9999999.0     279.625     279.250     278.875   \n",
       "5                 8.7     -9999999.0     279.250     278.875     278.375   \n",
       "...               ...            ...         ...         ...         ...   \n",
       "20101             3.6     -9999999.0     277.875     277.750     277.625   \n",
       "20102             3.1     -9999999.0     277.875     277.625     277.875   \n",
       "20103             3.6     -9999999.0     281.125     280.625     280.125   \n",
       "20104             3.6     -9999999.0     284.625     284.125     283.625   \n",
       "20105             6.2     -9999999.0     284.250     284.000     283.750   \n",
       "\n",
       "       air_temp_4  ...  windspd_18  winddir_19  windspd_19  winddir_20  \\\n",
       "1         282.625  ...         5.8       341.0         6.0       334.0   \n",
       "2         280.250  ...         6.8       344.0         5.3       348.0   \n",
       "3         278.625  ...         6.0       345.0         5.5       358.0   \n",
       "4         278.250  ...         3.1       338.0         3.5       354.0   \n",
       "5         277.875  ...         1.6       273.0         2.0       303.0   \n",
       "...           ...  ...         ...         ...         ...         ...   \n",
       "20101     277.500  ...        12.1       223.0        11.8       221.0   \n",
       "20102     277.875  ...        10.2       230.0        10.8       230.0   \n",
       "20103     279.625  ...        10.3       218.0        11.9       221.0   \n",
       "20104     283.000  ...         9.4       218.0         8.6       212.0   \n",
       "20105     283.250  ...         8.6       241.0        10.2       236.0   \n",
       "\n",
       "       windspd_20  winddir_21  windspd_21  winddir_22  windspd_22  \\\n",
       "1             6.1       330.0         6.0       329.0         5.8   \n",
       "2             3.8       360.0         3.2        12.0         3.5   \n",
       "3             5.0        10.0         4.2        38.0         4.0   \n",
       "4             3.9         9.0         4.4        22.0         4.6   \n",
       "5             2.3       329.0         2.5       338.0         2.4   \n",
       "...           ...         ...         ...         ...         ...   \n",
       "20101        11.4       219.0        11.3       215.0        11.4   \n",
       "20102        11.6       227.0        12.3       222.0        12.0   \n",
       "20103        12.8       222.0        11.9       225.0        10.6   \n",
       "20104         8.3       218.0         8.7       226.0        10.1   \n",
       "20105        10.5       232.0        10.5       227.0        11.3   \n",
       "\n",
       "       Rotors 1 is true  \n",
       "1                   NaN  \n",
       "2                   NaN  \n",
       "3                   NaN  \n",
       "4                   NaN  \n",
       "5                   NaN  \n",
       "...                 ...  \n",
       "20101               NaN  \n",
       "20102               NaN  \n",
       "20103               NaN  \n",
       "20104               NaN  \n",
       "20105               NaN  \n",
       "\n",
       "[20105 rows x 95 columns]"
      ]
     },
     "execution_count": 11,
     "metadata": {},
     "output_type": "execute_result"
    }
   ],
   "source": [
    "falklands_training_df = pandas.read_csv(falklands_new_training_data_path, header=0).loc[1:,:]\n",
    "falklands_training_df"
   ]
  },
  {
   "cell_type": "code",
   "execution_count": 12,
   "id": "handmade-shelf",
   "metadata": {},
   "outputs": [],
   "source": [
    "falklands_training_df = falklands_training_df.drop_duplicates(subset='DTG')"
   ]
  },
  {
   "cell_type": "code",
   "execution_count": 13,
   "id": "impressed-inventory",
   "metadata": {},
   "outputs": [
    {
     "data": {
      "text/plain": [
       "(17507, 95)"
      ]
     },
     "execution_count": 13,
     "metadata": {},
     "output_type": "execute_result"
    }
   ],
   "source": [
    "falklands_training_df.shape"
   ]
  },
  {
   "cell_type": "markdown",
   "id": "hidden-retirement",
   "metadata": {},
   "source": [
    "### Specify and create input features\n",
    "Having loaded the data, we then do some preprocessing. This includes:\n",
    "* Specify feature names\n",
    "* convert wind speed / direction back to u/v wind. This is because these parameters will vary more smoothly for northerly winds, which is the wind we are interested in.\n",
    "* prepare the target variable, including filling in missing data."
   ]
  },
  {
   "cell_type": "code",
   "execution_count": 14,
   "id": "further-battle",
   "metadata": {},
   "outputs": [],
   "source": [
    "temp_feature_names = [f'air_temp_{i1}' for i1 in range(1,23)]\n",
    "humidity_feature_names = [f'sh_{i1}' for i1 in range(1,23)]\n",
    "wind_direction_feature_names = [f'winddir_{i1}' for i1 in range(1,23)]\n",
    "wind_speed_feature_names = [f'windspd_{i1}' for i1 in range(1,23)]\n",
    "target_feature_name = 'rotors_present'"
   ]
  },
  {
   "cell_type": "code",
   "execution_count": 15,
   "id": "46f21022-1031-4c6f-866c-63d887a48c6d",
   "metadata": {},
   "outputs": [],
   "source": [
    "obs_names = [\n",
    "    'air_temp_obs',\n",
    "    'dewpoint_obs',\n",
    "    'wind_speed_obs',\n",
    "    'wind_direction_obs',\n",
    "]\n",
    "\n",
    "obs_feature_names = [\n",
    "    'air_temp_obs',\n",
    "    'dewpoint_obs',\n",
    "]"
   ]
  },
  {
   "cell_type": "code",
   "execution_count": 16,
   "id": "df24abb1-1ca2-4c56-8e81-0d4692186a37",
   "metadata": {},
   "outputs": [
    {
     "data": {
      "text/html": [
       "<div>\n",
       "<style scoped>\n",
       "    .dataframe tbody tr th:only-of-type {\n",
       "        vertical-align: middle;\n",
       "    }\n",
       "\n",
       "    .dataframe tbody tr th {\n",
       "        vertical-align: top;\n",
       "    }\n",
       "\n",
       "    .dataframe thead th {\n",
       "        text-align: right;\n",
       "    }\n",
       "</style>\n",
       "<table border=\"1\" class=\"dataframe\">\n",
       "  <thead>\n",
       "    <tr style=\"text-align: right;\">\n",
       "      <th></th>\n",
       "      <th>air_temp_obs</th>\n",
       "      <th>dewpoint_obs</th>\n",
       "      <th>wind_speed_obs</th>\n",
       "      <th>wind_direction_obs</th>\n",
       "    </tr>\n",
       "  </thead>\n",
       "  <tbody>\n",
       "    <tr>\n",
       "      <th>1</th>\n",
       "      <td>283.9</td>\n",
       "      <td>280.7</td>\n",
       "      <td>4.1</td>\n",
       "      <td>110.0</td>\n",
       "    </tr>\n",
       "    <tr>\n",
       "      <th>2</th>\n",
       "      <td>280.7</td>\n",
       "      <td>279.7</td>\n",
       "      <td>7.7</td>\n",
       "      <td>90.0</td>\n",
       "    </tr>\n",
       "    <tr>\n",
       "      <th>3</th>\n",
       "      <td>279.8</td>\n",
       "      <td>278.1</td>\n",
       "      <td>7.7</td>\n",
       "      <td>100.0</td>\n",
       "    </tr>\n",
       "    <tr>\n",
       "      <th>4</th>\n",
       "      <td>279.9</td>\n",
       "      <td>277.0</td>\n",
       "      <td>7.2</td>\n",
       "      <td>120.0</td>\n",
       "    </tr>\n",
       "    <tr>\n",
       "      <th>5</th>\n",
       "      <td>279.9</td>\n",
       "      <td>277.4</td>\n",
       "      <td>8.7</td>\n",
       "      <td>120.0</td>\n",
       "    </tr>\n",
       "    <tr>\n",
       "      <th>...</th>\n",
       "      <td>...</td>\n",
       "      <td>...</td>\n",
       "      <td>...</td>\n",
       "      <td>...</td>\n",
       "    </tr>\n",
       "    <tr>\n",
       "      <th>20101</th>\n",
       "      <td>276.7</td>\n",
       "      <td>275.5</td>\n",
       "      <td>3.6</td>\n",
       "      <td>270.0</td>\n",
       "    </tr>\n",
       "    <tr>\n",
       "      <th>20102</th>\n",
       "      <td>277.9</td>\n",
       "      <td>276.9</td>\n",
       "      <td>3.1</td>\n",
       "      <td>270.0</td>\n",
       "    </tr>\n",
       "    <tr>\n",
       "      <th>20103</th>\n",
       "      <td>283.5</td>\n",
       "      <td>277.1</td>\n",
       "      <td>3.6</td>\n",
       "      <td>220.0</td>\n",
       "    </tr>\n",
       "    <tr>\n",
       "      <th>20104</th>\n",
       "      <td>286.1</td>\n",
       "      <td>276.9</td>\n",
       "      <td>3.6</td>\n",
       "      <td>250.0</td>\n",
       "    </tr>\n",
       "    <tr>\n",
       "      <th>20105</th>\n",
       "      <td>285.1</td>\n",
       "      <td>279.3</td>\n",
       "      <td>6.2</td>\n",
       "      <td>300.0</td>\n",
       "    </tr>\n",
       "  </tbody>\n",
       "</table>\n",
       "<p>17507 rows × 4 columns</p>\n",
       "</div>"
      ],
      "text/plain": [
       "       air_temp_obs  dewpoint_obs  wind_speed_obs  wind_direction_obs\n",
       "1             283.9         280.7             4.1               110.0\n",
       "2             280.7         279.7             7.7                90.0\n",
       "3             279.8         278.1             7.7               100.0\n",
       "4             279.9         277.0             7.2               120.0\n",
       "5             279.9         277.4             8.7               120.0\n",
       "...             ...           ...             ...                 ...\n",
       "20101         276.7         275.5             3.6               270.0\n",
       "20102         277.9         276.9             3.1               270.0\n",
       "20103         283.5         277.1             3.6               220.0\n",
       "20104         286.1         276.9             3.6               250.0\n",
       "20105         285.1         279.3             6.2               300.0\n",
       "\n",
       "[17507 rows x 4 columns]"
      ]
     },
     "execution_count": 16,
     "metadata": {},
     "output_type": "execute_result"
    }
   ],
   "source": [
    "falklands_training_df[obs_names]"
   ]
  },
  {
   "cell_type": "code",
   "execution_count": 17,
   "id": "unlimited-caribbean",
   "metadata": {},
   "outputs": [],
   "source": [
    "def get_v_wind(wind_dir_name, wind_speed_name, row1):\n",
    "    return math.cos(math.radians(row1[wind_dir_name])) * row1[wind_speed_name]\n",
    "\n",
    "def get_u_wind(wind_dir_name, wind_speed_name, row1):\n",
    "    return math.sin(math.radians(row1[wind_dir_name])) * row1[wind_speed_name]"
   ]
  },
  {
   "cell_type": "code",
   "execution_count": 18,
   "id": "caring-playlist",
   "metadata": {},
   "outputs": [],
   "source": [
    "u_feature_template = 'u_wind_{level_ix}'\n",
    "v_feature_template = 'v_wind_{level_ix}'\n",
    "u_wind_feature_names = []\n",
    "v_wind_features_names = []\n",
    "for wsn1, wdn1 in zip(wind_speed_feature_names, wind_direction_feature_names):\n",
    "    level_ix = int( wsn1.split('_')[1])\n",
    "    u_feature = u_feature_template.format(level_ix=level_ix)\n",
    "    u_wind_feature_names += [u_feature]\n",
    "    falklands_training_df[u_feature] = falklands_training_df.apply(functools.partial(get_u_wind, wdn1, wsn1), axis='columns')\n",
    "    v_feature = v_feature_template.format(level_ix=level_ix)\n",
    "    v_wind_features_names += [v_feature]\n",
    "    falklands_training_df[v_feature] = falklands_training_df.apply(functools.partial(get_v_wind, wdn1, wsn1), axis='columns')"
   ]
  },
  {
   "cell_type": "code",
   "execution_count": 19,
   "id": "1333a03a-be0d-4fd1-8741-9b2a6f284cce",
   "metadata": {},
   "outputs": [],
   "source": [
    "wdn1 = 'wind_direction_obs'\n",
    "wsn1 = 'wind_speed_obs'\n",
    "u_feature = u_feature_template.format(level_ix='obs')\n",
    "obs_feature_names += [u_feature]\n",
    "falklands_training_df[u_feature] = falklands_training_df.apply(functools.partial(get_u_wind, wdn1, wsn1), axis='columns')\n",
    "v_feature = v_feature_template.format(level_ix='obs')\n",
    "obs_feature_names += [v_feature]\n",
    "falklands_training_df[v_feature] = falklands_training_df.apply(functools.partial(get_v_wind, wdn1, wsn1), axis='columns')"
   ]
  },
  {
   "cell_type": "code",
   "execution_count": 20,
   "id": "92556a00-a100-427e-9814-8f01415fe0f2",
   "metadata": {},
   "outputs": [
    {
     "data": {
      "text/html": [
       "<div>\n",
       "<style scoped>\n",
       "    .dataframe tbody tr th:only-of-type {\n",
       "        vertical-align: middle;\n",
       "    }\n",
       "\n",
       "    .dataframe tbody tr th {\n",
       "        vertical-align: top;\n",
       "    }\n",
       "\n",
       "    .dataframe thead th {\n",
       "        text-align: right;\n",
       "    }\n",
       "</style>\n",
       "<table border=\"1\" class=\"dataframe\">\n",
       "  <thead>\n",
       "    <tr style=\"text-align: right;\">\n",
       "      <th></th>\n",
       "      <th>air_temp_obs</th>\n",
       "      <th>dewpoint_obs</th>\n",
       "      <th>u_wind_obs</th>\n",
       "      <th>v_wind_obs</th>\n",
       "    </tr>\n",
       "  </thead>\n",
       "  <tbody>\n",
       "    <tr>\n",
       "      <th>1</th>\n",
       "      <td>283.9</td>\n",
       "      <td>280.7</td>\n",
       "      <td>3.852740</td>\n",
       "      <td>-1.402283e+00</td>\n",
       "    </tr>\n",
       "    <tr>\n",
       "      <th>2</th>\n",
       "      <td>280.7</td>\n",
       "      <td>279.7</td>\n",
       "      <td>7.700000</td>\n",
       "      <td>4.714890e-16</td>\n",
       "    </tr>\n",
       "    <tr>\n",
       "      <th>3</th>\n",
       "      <td>279.8</td>\n",
       "      <td>278.1</td>\n",
       "      <td>7.583020</td>\n",
       "      <td>-1.337091e+00</td>\n",
       "    </tr>\n",
       "    <tr>\n",
       "      <th>4</th>\n",
       "      <td>279.9</td>\n",
       "      <td>277.0</td>\n",
       "      <td>6.235383</td>\n",
       "      <td>-3.600000e+00</td>\n",
       "    </tr>\n",
       "    <tr>\n",
       "      <th>5</th>\n",
       "      <td>279.9</td>\n",
       "      <td>277.4</td>\n",
       "      <td>7.534421</td>\n",
       "      <td>-4.350000e+00</td>\n",
       "    </tr>\n",
       "    <tr>\n",
       "      <th>...</th>\n",
       "      <td>...</td>\n",
       "      <td>...</td>\n",
       "      <td>...</td>\n",
       "      <td>...</td>\n",
       "    </tr>\n",
       "    <tr>\n",
       "      <th>20101</th>\n",
       "      <td>276.7</td>\n",
       "      <td>275.5</td>\n",
       "      <td>-3.600000</td>\n",
       "      <td>-6.613093e-16</td>\n",
       "    </tr>\n",
       "    <tr>\n",
       "      <th>20102</th>\n",
       "      <td>277.9</td>\n",
       "      <td>276.9</td>\n",
       "      <td>-3.100000</td>\n",
       "      <td>-5.694608e-16</td>\n",
       "    </tr>\n",
       "    <tr>\n",
       "      <th>20103</th>\n",
       "      <td>283.5</td>\n",
       "      <td>277.1</td>\n",
       "      <td>-2.314035</td>\n",
       "      <td>-2.757760e+00</td>\n",
       "    </tr>\n",
       "    <tr>\n",
       "      <th>20104</th>\n",
       "      <td>286.1</td>\n",
       "      <td>276.9</td>\n",
       "      <td>-3.382893</td>\n",
       "      <td>-1.231273e+00</td>\n",
       "    </tr>\n",
       "    <tr>\n",
       "      <th>20105</th>\n",
       "      <td>285.1</td>\n",
       "      <td>279.3</td>\n",
       "      <td>-5.369358</td>\n",
       "      <td>3.100000e+00</td>\n",
       "    </tr>\n",
       "  </tbody>\n",
       "</table>\n",
       "<p>17507 rows × 4 columns</p>\n",
       "</div>"
      ],
      "text/plain": [
       "       air_temp_obs  dewpoint_obs  u_wind_obs    v_wind_obs\n",
       "1             283.9         280.7    3.852740 -1.402283e+00\n",
       "2             280.7         279.7    7.700000  4.714890e-16\n",
       "3             279.8         278.1    7.583020 -1.337091e+00\n",
       "4             279.9         277.0    6.235383 -3.600000e+00\n",
       "5             279.9         277.4    7.534421 -4.350000e+00\n",
       "...             ...           ...         ...           ...\n",
       "20101         276.7         275.5   -3.600000 -6.613093e-16\n",
       "20102         277.9         276.9   -3.100000 -5.694608e-16\n",
       "20103         283.5         277.1   -2.314035 -2.757760e+00\n",
       "20104         286.1         276.9   -3.382893 -1.231273e+00\n",
       "20105         285.1         279.3   -5.369358  3.100000e+00\n",
       "\n",
       "[17507 rows x 4 columns]"
      ]
     },
     "execution_count": 20,
     "metadata": {},
     "output_type": "execute_result"
    }
   ],
   "source": [
    "falklands_training_df[obs_feature_names]"
   ]
  },
  {
   "cell_type": "code",
   "execution_count": 21,
   "id": "controversial-chinese",
   "metadata": {},
   "outputs": [],
   "source": [
    "falklands_training_df[target_feature_name] =  falklands_training_df['Rotors 1 is true']\n",
    "falklands_training_df.loc[falklands_training_df[falklands_training_df['Rotors 1 is true'].isna()].index, target_feature_name] = 0.0\n",
    "falklands_training_df[target_feature_name]  = falklands_training_df[target_feature_name] .astype(bool)"
   ]
  },
  {
   "cell_type": "code",
   "execution_count": 22,
   "id": "brown-supervisor",
   "metadata": {},
   "outputs": [
    {
     "data": {
      "text/plain": [
       "False    17058\n",
       "True       449\n",
       "Name: rotors_present, dtype: int64"
      ]
     },
     "execution_count": 22,
     "metadata": {},
     "output_type": "execute_result"
    }
   ],
   "source": [
    "falklands_training_df[target_feature_name].value_counts()"
   ]
  },
  {
   "cell_type": "code",
   "execution_count": 23,
   "id": "continent-guarantee",
   "metadata": {},
   "outputs": [
    {
     "data": {
      "text/plain": [
       "Index(['DTG', 'air_temp_obs', 'dewpoint_obs', 'wind_direction_obs',\n",
       "       'wind_speed_obs', 'wind_gust_obs', 'air_temp_1', 'air_temp_2',\n",
       "       'air_temp_3', 'air_temp_4',\n",
       "       ...\n",
       "       'v_wind_19', 'u_wind_20', 'v_wind_20', 'u_wind_21', 'v_wind_21',\n",
       "       'u_wind_22', 'v_wind_22', 'u_wind_obs', 'v_wind_obs', 'rotors_present'],\n",
       "      dtype='object', length=142)"
      ]
     },
     "execution_count": 23,
     "metadata": {},
     "output_type": "execute_result"
    }
   ],
   "source": [
    "falklands_training_df.columns"
   ]
  },
  {
   "cell_type": "markdown",
   "id": "every-belarus",
   "metadata": {},
   "source": [
    "### Split into traing/validate/test sets\n",
    "Next step is to split into train/validate/test sets. We split the pandas data frame, then then later extract the actual training data from the dataframe."
   ]
  },
  {
   "cell_type": "code",
   "execution_count": 24,
   "id": "institutional-xerox",
   "metadata": {},
   "outputs": [],
   "source": [
    "test_fraction = 0.1\n",
    "validation_fraction = 0.1"
   ]
  },
  {
   "cell_type": "code",
   "execution_count": 25,
   "id": "unknown-spring",
   "metadata": {},
   "outputs": [],
   "source": [
    "num_no_rotors = sum(falklands_training_df[target_feature_name] == False)\n",
    "num_with_rotors = sum(falklands_training_df[target_feature_name] == True)"
   ]
  },
  {
   "cell_type": "code",
   "execution_count": 26,
   "id": "ambient-danger",
   "metadata": {},
   "outputs": [],
   "source": [
    "data_no_rotors = falklands_training_df[falklands_training_df[target_feature_name] == False]\n",
    "data_with_rotors = falklands_training_df[falklands_training_df[target_feature_name] == True]"
   ]
  },
  {
   "cell_type": "code",
   "execution_count": 27,
   "id": "smart-complaint",
   "metadata": {},
   "outputs": [
    {
     "data": {
      "text/plain": [
       "False    1705\n",
       "True       44\n",
       "Name: rotors_present, dtype: int64"
      ]
     },
     "execution_count": 27,
     "metadata": {},
     "output_type": "execute_result"
    }
   ],
   "source": [
    "data_test = pandas.concat([data_no_rotors.sample(int(test_fraction * num_no_rotors)), data_with_rotors.sample(int(test_fraction * num_with_rotors))])\n",
    "data_test[target_feature_name].value_counts()"
   ]
  },
  {
   "cell_type": "code",
   "execution_count": 28,
   "id": "endangered-solid",
   "metadata": {},
   "outputs": [],
   "source": [
    "falklands_training_df['test_set'] = False\n",
    "falklands_training_df.loc[data_test.index,'test_set'] = True"
   ]
  },
  {
   "cell_type": "code",
   "execution_count": 29,
   "id": "ceramic-outreach",
   "metadata": {},
   "outputs": [],
   "source": [
    "data_working = falklands_training_df[falklands_training_df['test_set'] == False]\n",
    "data_working_no_rotors = data_working[data_working[target_feature_name] == False]\n",
    "data_working_with_rotors = data_working[data_working[target_feature_name] == True]"
   ]
  },
  {
   "cell_type": "code",
   "execution_count": 30,
   "id": "every-basket",
   "metadata": {},
   "outputs": [],
   "source": [
    "data_validation = pandas.concat(\n",
    "    [data_working_no_rotors.sample(int(validation_fraction * num_no_rotors)), \n",
    "     data_working_with_rotors.sample(int(validation_fraction * num_with_rotors))])\n",
    "falklands_training_df['validation_set'] = False\n",
    "falklands_training_df.loc[data_validation.index,'validation_set'] = True"
   ]
  },
  {
   "cell_type": "code",
   "execution_count": 31,
   "id": "minimal-shore",
   "metadata": {},
   "outputs": [
    {
     "data": {
      "text/plain": [
       "False    1705\n",
       "True       44\n",
       "Name: rotors_present, dtype: int64"
      ]
     },
     "execution_count": 31,
     "metadata": {},
     "output_type": "execute_result"
    }
   ],
   "source": [
    "data_validation[target_feature_name].value_counts()"
   ]
  },
  {
   "cell_type": "code",
   "execution_count": 32,
   "id": "bacterial-turner",
   "metadata": {},
   "outputs": [],
   "source": [
    "data_train = falklands_training_df[(~falklands_training_df['test_set']) & (~falklands_training_df['validation_set'])]"
   ]
  },
  {
   "cell_type": "code",
   "execution_count": 33,
   "id": "hydraulic-association",
   "metadata": {},
   "outputs": [
    {
     "data": {
      "text/plain": [
       "False    13648\n",
       "True       361\n",
       "Name: rotors_present, dtype: int64"
      ]
     },
     "execution_count": 33,
     "metadata": {},
     "output_type": "execute_result"
    }
   ],
   "source": [
    "data_train[target_feature_name].value_counts()"
   ]
  },
  {
   "cell_type": "markdown",
   "id": "changed-launch",
   "metadata": {},
   "source": [
    "## Train and evaluate machine learning models\n",
    "Having loaded and transformed the data, we do final prrocessing, train several different classifiers representing different classification algorithms, then evaluate performance.\n"
   ]
  },
  {
   "cell_type": "markdown",
   "id": "d654b810-1b93-4b57-9db9-f94470cf199d",
   "metadata": {},
   "source": [
    "### Preprocess data into input for ML algorithm\n",
    "The first step is doing the final preprocessing such as tranforming continous features to have zero mean and unit standard deviation."
   ]
  },
  {
   "cell_type": "code",
   "execution_count": 34,
   "id": "single-franklin",
   "metadata": {},
   "outputs": [],
   "source": [
    "input_feature_names = temp_feature_names + humidity_feature_names + u_wind_feature_names + v_wind_features_names"
   ]
  },
  {
   "cell_type": "code",
   "execution_count": 35,
   "id": "running-engineer",
   "metadata": {},
   "outputs": [],
   "source": [
    "preproc_dict = {}\n",
    "for if1 in input_feature_names:\n",
    "    scaler1 = sklearn.preprocessing.StandardScaler()\n",
    "    scaler1.fit(data_train[[if1]])\n",
    "    preproc_dict[if1] = scaler1"
   ]
  },
  {
   "cell_type": "code",
   "execution_count": 36,
   "id": "exotic-albuquerque",
   "metadata": {},
   "outputs": [
    {
     "data": {
      "text/plain": [
       "LabelEncoder()"
      ]
     },
     "execution_count": 36,
     "metadata": {},
     "output_type": "execute_result"
    }
   ],
   "source": [
    "target_encoder = sklearn.preprocessing.LabelEncoder()\n",
    "target_encoder.fit(data_train[[target_feature_name]])"
   ]
  },
  {
   "cell_type": "markdown",
   "id": "headed-charleston",
   "metadata": {},
   "source": [
    "Apply transformation to each input column"
   ]
  },
  {
   "cell_type": "code",
   "execution_count": 37,
   "id": "invisible-wagner",
   "metadata": {},
   "outputs": [],
   "source": [
    "def preproc_input(data_subset, pp_dict):\n",
    "    return numpy.concatenate([scaler1.transform(data_subset[[if1]]) for if1,scaler1 in pp_dict.items()],axis=1)\n",
    "\n",
    "def preproc_target(data_subset, enc1):\n",
    "     return enc1.transform(data_subset[[target_feature_name]])"
   ]
  },
  {
   "cell_type": "code",
   "execution_count": 38,
   "id": "dried-federal",
   "metadata": {},
   "outputs": [],
   "source": [
    "X_train = preproc_input(data_train, preproc_dict)\n",
    "y_train = preproc_target(data_train, target_encoder)"
   ]
  },
  {
   "cell_type": "markdown",
   "id": "perfect-reality",
   "metadata": {},
   "source": [
    "create target feature from rotors"
   ]
  },
  {
   "cell_type": "code",
   "execution_count": 39,
   "id": "unlike-fault",
   "metadata": {},
   "outputs": [
    {
     "data": {
      "text/plain": [
       "((14009,), (14009, 88))"
      ]
     },
     "execution_count": 39,
     "metadata": {},
     "output_type": "execute_result"
    }
   ],
   "source": [
    "y_train.shape, X_train.shape"
   ]
  },
  {
   "cell_type": "code",
   "execution_count": 40,
   "id": "streaming-lighter",
   "metadata": {},
   "outputs": [],
   "source": [
    "X_val = preproc_input(data_validation, preproc_dict)\n",
    "y_val = preproc_target(data_validation, target_encoder)"
   ]
  },
  {
   "cell_type": "code",
   "execution_count": 41,
   "id": "rational-peoples",
   "metadata": {},
   "outputs": [],
   "source": [
    "X_test = preproc_input(data_test, preproc_dict)\n",
    "y_test = preproc_target(data_test, target_encoder)"
   ]
  },
  {
   "cell_type": "code",
   "execution_count": 42,
   "id": "spoken-legend",
   "metadata": {},
   "outputs": [],
   "source": [
    "train_test_dict = {\n",
    "    'train':     (X_train, y_train),\n",
    "    'validate':     (X_val, y_val),\n",
    "    'test': (X_test, y_test),\n",
    "}\n",
    "train_val_test_tuples = list(train_test_dict.values())"
   ]
  },
  {
   "cell_type": "markdown",
   "id": "quick-prince",
   "metadata": {},
   "source": [
    "### Train classifiers\n",
    "\n",
    "At last we are ready to do machine learning! We will try different algorithms, including a tree based methods, ensembles of trees and neural networks."
   ]
  },
  {
   "cell_type": "code",
   "execution_count": 43,
   "id": "becoming-wallace",
   "metadata": {},
   "outputs": [],
   "source": [
    "classifiers_params = {\n",
    "    'decision_tree': {'class': sklearn.tree.DecisionTreeClassifier, 'opts': {'max_depth':10, 'class_weight':'balanced'}},\n",
    "    'random_forest': {'class': sklearn.ensemble.RandomForestClassifier, 'opts': {'max_depth':10, 'class_weight':'balanced'}},\n",
    "     'ann_5_500': {'class': sklearn.neural_network.MLPClassifier, 'opts': {'hidden_layer_sizes':(500,500,500,500,500)}},   \n",
    "     'ann_3_700': {'class': sklearn.neural_network.MLPClassifier, 'opts': {'hidden_layer_sizes':(700,700,700)}},   \n",
    "}\n",
    "\n"
   ]
  },
  {
   "cell_type": "code",
   "execution_count": 44,
   "id": "assured-object",
   "metadata": {},
   "outputs": [
    {
     "name": "stdout",
     "output_type": "stream",
     "text": [
      "decision_tree\n",
      "random_forest\n",
      "ann_5_500\n",
      "ann_3_700\n",
      "CPU times: user 20min 38s, sys: 15.7 s, total: 20min 54s\n",
      "Wall time: 5min 23s\n"
     ]
    }
   ],
   "source": [
    "%%time\n",
    "classifiers_dict = {}             \n",
    "for clf_name, clf_params in classifiers_params.items():\n",
    "    print(clf_name)\n",
    "    clf1 = clf_params['class'](**clf_params['opts'])\n",
    "    clf1.fit(X_train, y_train)\n",
    "    classifiers_dict[clf_name] = clf1"
   ]
  },
  {
   "cell_type": "markdown",
   "id": "6464e055-c0c9-4b93-893c-0dd4cea5ce54",
   "metadata": {},
   "source": [
    "### Evaluate classifier performance\n",
    "Now we take a look at how well our classifiers perform on training and valiation data."
   ]
  },
  {
   "cell_type": "code",
   "execution_count": 46,
   "id": "under-accessory",
   "metadata": {},
   "outputs": [],
   "source": [
    "metrics1 = []\n",
    "for X1, y1 in train_val_test_tuples:\n",
    "    md1 = {'classifier': [],\n",
    "           'precision_noRotor': [], 'precision_rotor': [],\n",
    "           'recall_noRotor': [], 'recall_rotor': [], \n",
    "           'f1_noRotor': [], 'f1_rotor': [], \n",
    "           'hit_rate': [], 'false_alarm_rate': []\n",
    "          }\n",
    "    for clf_name, clf1 in classifiers_dict.items():\n",
    "        md1['classifier'] += [clf_name]\n",
    "        prec, recall, f1, support = sklearn.metrics.precision_recall_fscore_support(clf1.predict(X1), y1)\n",
    "        md1['precision_noRotor'] += [prec[0]]\n",
    "        md1['precision_rotor'] += [prec[1]]\n",
    "        md1['recall_noRotor'] += [recall[0]]\n",
    "        md1['recall_rotor'] += [recall[1]]\n",
    "        md1['f1_noRotor'] += [f1[0]]\n",
    "        md1['f1_rotor'] += [f1[1]]\n",
    "        cm1 = sklearn.metrics.confusion_matrix(clf1.predict(X1), y1)\n",
    "        hit_rate = cm1[1,1] / (cm1[1,1]+cm1[1,0])\n",
    "        md1['hit_rate'] += [hit_rate]\n",
    "        false_alarm_rate = cm1[0,1] / (cm1[0,1]+cm1[0,0])\n",
    "        md1['false_alarm_rate'] += [false_alarm_rate]\n",
    "    metrics1 += [md1]"
   ]
  },
  {
   "cell_type": "code",
   "execution_count": 47,
   "id": "3b7cda44-3530-401a-9b27-63ebf9b7a490",
   "metadata": {},
   "outputs": [],
   "source": [
    "train_metrics_df = pandas.DataFrame(metrics1[0])\n",
    "val_metrics_df = pandas.DataFrame(metrics1[1])\n",
    "test_metrics_df = pandas.DataFrame(metrics1[2])"
   ]
  },
  {
   "cell_type": "code",
   "execution_count": 48,
   "id": "d8bcae50-675f-4f3a-8e6f-37fc2b6a590d",
   "metadata": {},
   "outputs": [
    {
     "data": {
      "text/plain": [
       "<AxesSubplot:title={'center':'false alarm rate (validate) for rotors present class'}, xlabel='classifier'>"
      ]
     },
     "execution_count": 48,
     "metadata": {},
     "output_type": "execute_result"
    },
    {
     "data": {
      "image/png": "[encoded data removed]",
      "text/plain": [
       "<Figure size 1152x1440 with 6 Axes>"
      ]
     },
     "metadata": {
      "needs_background": "light"
     },
     "output_type": "display_data"
    }
   ],
   "source": [
    "fig1 = matplotlib.pyplot.figure(figsize=(16,20))\n",
    "ax1 = fig1.add_subplot(3,2,1,title='precision (train) for rotors present class')\n",
    "train_metrics_df.plot.bar(x='classifier', y='precision_rotor', ax=ax1, ylim=[0,1])\n",
    "ax1 = fig1.add_subplot(3,2,2,title='recall (train) for rotors present class')\n",
    "train_metrics_df.plot.bar(x='classifier', y='recall_rotor', ax=ax1, ylim=[0,1])\n",
    "\n",
    "ax1 = fig1.add_subplot(3,2,3,title='precision (validate) for rotors present class')\n",
    "val_metrics_df.plot.bar(x='classifier', y='precision_rotor', ax=ax1, ylim=[0,1])\n",
    "ax1 = fig1.add_subplot(3,2,4,title='recall (validate) for rotors present class')\n",
    "val_metrics_df.plot.bar(x='classifier', y='recall_rotor', ax=ax1, ylim=[0,1])\n",
    "\n",
    "ax1 = fig1.add_subplot(3,2,5,title='false alarm rate (train) for rotors present class')\n",
    "train_metrics_df.plot.bar(x='classifier', y='false_alarm_rate', ax=ax1, ylim=[0,1])\n",
    "ax1 = fig1.add_subplot(3,2,6,title='false alarm rate (validate) for rotors present class')\n",
    "val_metrics_df.plot.bar(x='classifier', y='false_alarm_rate', ax=ax1, ylim=[0,1])\n"
   ]
  },
  {
   "cell_type": "markdown",
   "id": "a9e3092f-e6e8-4bc5-bf38-4d100ff3f145",
   "metadata": {},
   "source": [
    "We have calculated 4 metrics:\n",
    "* preccision -  for how many periods classified as \"rotor present\" actually had a rotor present?\n",
    "* recall / hit rate - how many periods where rotas were observed were predicted as \"rotors present\" by the algorithm\n",
    "* false alarm rate - how many time periods were falsely predicted to have rotors in as propotion of all periods that did not have rotors present\n",
    "\n",
    "How did we perform\n",
    "* some algorithms did better or worse at precision and recall\n",
    "* generlisation from trainingh to validation \n",
    "\n",
    "The important thing to consider is what is important to us? In this application, it is most important that we warn of rotors whenever they occur. So a miss is costly. We would like to minismise false alarms, but ,ost important is no misses. We can tune our results to minisies misses. Instead of using the main output, which gives equal weight to False and true classes in the target variable, we can use the predict_proba() function, and change the threshold for declaring something to be true or false (implictly the threshold is 0.5 by default."
   ]
  },
  {
   "cell_type": "code",
   "execution_count": 49,
   "id": "37bd285f-8f2e-46d2-8da0-e3161675e6a9",
   "metadata": {},
   "outputs": [],
   "source": [
    "def calc_sedi(conf_mat):\n",
    "    hr1 = conf_mat[1,1] / (conf_mat[1,0] + conf_mat[1,1])\n",
    "    fa1 = conf_mat[0,1] / (conf_mat[0,0] + conf_mat[0,1])\n",
    "    sedi_score1 = (\n",
    "        (numpy.log(fa1) - numpy.log(hr1) - numpy.log(1.0-fa1) + numpy.log(1.0-hr1) )\n",
    "        / (numpy.log(fa1) + numpy.log(hr1) + numpy.log(1.0 - fa1) + numpy.log(1.0-hr1) )  )\n",
    "    return sedi_score1"
   ]
  },
  {
   "cell_type": "code",
   "execution_count": 50,
   "id": "b793b5a2-16a2-45ec-93c5-8841b08c3f48",
   "metadata": {},
   "outputs": [],
   "source": [
    "y_train_pred_raw = classifiers_dict['random_forest'].predict_proba(X_train)[:,1]\n",
    "y_val_pred_raw = classifiers_dict['random_forest'].predict_proba(X_val)[:,1]\n",
    "y_test_pred_raw = classifiers_dict['random_forest'].predict_proba(X_test)[:,1]"
   ]
  },
  {
   "cell_type": "code",
   "execution_count": 51,
   "id": "f508802e-67e5-458c-abbf-5e8686b89ed0",
   "metadata": {
    "tags": []
   },
   "outputs": [],
   "source": [
    "thresholds_list = list(numpy.arange(1e-3,0.995,5e-3))\n",
    "hit_rates = []\n",
    "hit_rates_test = []\n",
    "false_alarm_rates = []\n",
    "false_alarm_rates_test = []\n",
    "sedi_list = []\n",
    "sedi_list_test = []\n",
    "for threshold in thresholds_list:\n",
    "    y_pred_train = list(map(float, y_train_pred_raw > threshold)) \n",
    "    cm1 = sklearn.metrics.confusion_matrix(y_train, y_pred_train)\n",
    "    hit_rates += [cm1[1,1] / (cm1[1,0] + cm1[1,1])]\n",
    "    false_alarm_rates += [cm1[0,1] / (cm1[0,0] + cm1[0,1])]\n",
    "    sedi_list += [calc_sedi(cm1)]\n",
    "\n",
    "    y_pred_test = list(map(float, y_test_pred_raw > threshold)) \n",
    "    cm1 = sklearn.metrics.confusion_matrix(y_test, y_pred_test)\n",
    "    hit_rates_test += [cm1[1,1] / (cm1[1,0] + cm1[1,1])]\n",
    "    false_alarm_rates_test += [cm1[0,1] / (cm1[0,0] + cm1[0,1])]\n",
    "    sedi_list_test += [calc_sedi(cm1)]\n",
    "\n",
    "    "
   ]
  },
  {
   "cell_type": "code",
   "execution_count": 52,
   "id": "350534a0-1f31-47dd-9db2-031adf3d46ad",
   "metadata": {},
   "outputs": [
    {
     "data": {
      "text/plain": [
       "(0.0, -1.1559086335427597)"
      ]
     },
     "execution_count": 52,
     "metadata": {},
     "output_type": "execute_result"
    }
   ],
   "source": [
    "numpy.log(hit_rates[1]), numpy.log(false_alarm_rates[1])"
   ]
  },
  {
   "cell_type": "code",
   "execution_count": 53,
   "id": "c17d2626-69ea-4ed1-a5e3-7324dee35649",
   "metadata": {},
   "outputs": [
    {
     "data": {
      "text/plain": [
       "[<matplotlib.lines.Line2D at 0x7fb0f31fa5e0>]"
      ]
     },
     "execution_count": 53,
     "metadata": {},
     "output_type": "execute_result"
    },
    {
     "data": {
      "image/png": "[encoded data removed]",
      "text/plain": [
       "<Figure size 1152x720 with 2 Axes>"
      ]
     },
     "metadata": {
      "needs_background": "light"
     },
     "output_type": "display_data"
    }
   ],
   "source": [
    "f1 = matplotlib.pyplot.figure(figsize=(16,10))\n",
    "ax1 = f1.add_subplot(1,2,1,title='hit rates vs false alarms (training data)')\n",
    "ax1.plot(thresholds_list, hit_rates,'r')\n",
    "ax1.plot(thresholds_list, false_alarm_rates,'b')\n",
    "ax1.plot(thresholds_list, sedi_list,'k')\n",
    "\n",
    "ax1 = f1.add_subplot(1,2,2,title='hit rates vs false alarms (test data)')\n",
    "ax1.plot(thresholds_list, hit_rates_test,'r')\n",
    "ax1.plot(thresholds_list, false_alarm_rates_test,'b')\n",
    "ax1.plot(thresholds_list, sedi_list_test,'k')"
   ]
  },
  {
   "cell_type": "markdown",
   "id": "complete-front",
   "metadata": {},
   "source": [
    "## Exploring feature importance\n",
    "\n",
    "We can look at \n",
    "* permutation feature importance\n",
    "* singular value decomposition\n"
   ]
  },
  {
   "cell_type": "code",
   "execution_count": 62,
   "id": "61e0dc53-3e23-4ed0-80ea-9b4e8ab86eec",
   "metadata": {},
   "outputs": [],
   "source": [
    "pca1 = sklearn.decomposition.PCA(n_components=10)"
   ]
  },
  {
   "cell_type": "code",
   "execution_count": 63,
   "id": "cac0ead0-f102-4cab-b98a-0d54a5fac63a",
   "metadata": {},
   "outputs": [
    {
     "data": {
      "text/plain": [
       "PCA(n_components=10)"
      ]
     },
     "execution_count": 63,
     "metadata": {},
     "output_type": "execute_result"
    }
   ],
   "source": [
    "pca1.fit(X_train)"
   ]
  },
  {
   "cell_type": "code",
   "execution_count": 64,
   "id": "79d8dd1a-13d3-43a2-8930-e43eecd7bdfc",
   "metadata": {},
   "outputs": [
    {
     "data": {
      "text/plain": [
       "array([[1.0001648 , 0.96787384, 0.97038344, ..., 0.33120299, 0.33086427,\n",
       "        0.32819492],\n",
       "       [0.96787384, 1.0112114 , 0.97693773, ..., 0.34135129, 0.34072769,\n",
       "        0.33775457],\n",
       "       [0.97038344, 0.97693773, 1.01852714, ..., 0.35007676, 0.34923546,\n",
       "        0.34601779],\n",
       "       ...,\n",
       "       [0.33120299, 0.34135129, 0.35007676, ..., 1.0134549 , 0.96859355,\n",
       "        0.95575009],\n",
       "       [0.33086427, 0.34072769, 0.34923546, ..., 0.96859355, 0.99969249,\n",
       "        0.95016308],\n",
       "       [0.32819492, 0.33775457, 0.34601779, ..., 0.95575009, 0.95016308,\n",
       "        0.97638512]])"
      ]
     },
     "execution_count": 64,
     "metadata": {},
     "output_type": "execute_result"
    }
   ],
   "source": [
    "pca1.get_covariance()"
   ]
  },
  {
   "cell_type": "code",
   "execution_count": 65,
   "id": "cb3c6311-1175-4dd9-901d-2dd440bb5a46",
   "metadata": {},
   "outputs": [
    {
     "data": {
      "text/plain": [
       "array([733.96960253, 520.6825533 , 432.32115014, 262.61242232,\n",
       "       188.16444445, 169.20294833, 149.71543639, 129.32585398,\n",
       "       111.45168251, 102.63855988])"
      ]
     },
     "execution_count": 65,
     "metadata": {},
     "output_type": "execute_result"
    }
   ],
   "source": [
    "pca1.singular_values_"
   ]
  },
  {
   "cell_type": "code",
   "execution_count": 73,
   "id": "c1ca18fe-e544-4d50-a3d3-120bbdbe7cb3",
   "metadata": {},
   "outputs": [
    {
     "data": {
      "text/plain": [
       "array([ 0.08050296,  0.07808949,  0.07539012,  0.07169444,  0.06680122,\n",
       "        0.06062279,  0.05310547,  0.04557174,  0.03886297,  0.03407763,\n",
       "        0.03222136,  0.03295984,  0.03499239,  0.03882692,  0.04362872,\n",
       "        0.04888075,  0.05452163,  0.05977772,  0.0648194 ,  0.06853654,\n",
       "        0.0718053 ,  0.0742088 ,  0.09853438,  0.09696133,  0.09576811,\n",
       "        0.09556124,  0.09794067,  0.10378641,  0.11271624,  0.1222904 ,\n",
       "        0.13126195,  0.13746552,  0.13837794,  0.13522775,  0.13001201,\n",
       "        0.12377769,  0.11791652,  0.11216571,  0.105639  ,  0.09917909,\n",
       "        0.09330709,  0.08822873,  0.08350539,  0.07829127,  0.01448068,\n",
       "        0.01753597,  0.02200592,  0.02779131,  0.03526415,  0.04451859,\n",
       "        0.05396712,  0.0630001 ,  0.06980981,  0.07382494,  0.0751034 ,\n",
       "        0.07456704,  0.07261792,  0.0697526 ,  0.06609311,  0.06166925,\n",
       "        0.05754032,  0.05381698,  0.05043277,  0.04739457,  0.04456143,\n",
       "        0.042345  , -0.17582803, -0.17531023, -0.17502621, -0.17489766,\n",
       "       -0.17462681, -0.17405623, -0.17322254, -0.1722494 , -0.17104746,\n",
       "       -0.16991003, -0.16854952, -0.16697566, -0.16542172, -0.16351675,\n",
       "       -0.16125098, -0.15841433, -0.1552806 , -0.15172223, -0.14802556,\n",
       "       -0.14407631, -0.14008326, -0.13589208])"
      ]
     },
     "execution_count": 73,
     "metadata": {},
     "output_type": "execute_result"
    }
   ],
   "source": [
    "pca1.components_[2,:]"
   ]
  },
  {
   "cell_type": "code",
   "execution_count": 77,
   "id": "02db326d-6897-4bda-92cb-3f27cc4709e2",
   "metadata": {},
   "outputs": [],
   "source": [
    "X_train_pca = pca1.transform(X_train)\n",
    "X_val_pca =  pca1.transform(X_val)\n",
    "X_test_pca = pca1.transform(X_test)"
   ]
  },
  {
   "cell_type": "code",
   "execution_count": 82,
   "id": "9fbdca3a-bbfc-4fc2-b99c-28648c9fbb6b",
   "metadata": {},
   "outputs": [],
   "source": [
    "train_test_pca_dict = {\n",
    "    'train':     (X_train_pca, y_train),\n",
    "    'validate':     (X_val_pca, y_val),\n",
    "    'test': (X_test_pca, y_test),\n",
    "}\n",
    "train_val_test_pca_tuples = list(train_test_pca_dict.values())"
   ]
  },
  {
   "cell_type": "code",
   "execution_count": 78,
   "id": "11d09d19-b81a-4962-8276-1ea44375db53",
   "metadata": {},
   "outputs": [
    {
     "name": "stdout",
     "output_type": "stream",
     "text": [
      "decision_tree\n",
      "random_forest\n",
      "ann_5_500\n",
      "ann_3_700\n",
      "CPU times: user 17min 59s, sys: 13.4 s, total: 18min 12s\n",
      "Wall time: 4min 41s\n"
     ]
    }
   ],
   "source": [
    "%%time\n",
    "classifiers_pca_dict = {}             \n",
    "for clf_name, clf_params in classifiers_params.items():\n",
    "    print(clf_name)\n",
    "    clf1 = clf_params['class'](**clf_params['opts'])\n",
    "    clf1.fit(X_train_pca, y_train)\n",
    "    classifiers_pca_dict[clf_name] = clf1"
   ]
  },
  {
   "cell_type": "code",
   "execution_count": 83,
   "id": "ba4d8a28-4d52-4df5-bca7-b7ea8e809469",
   "metadata": {},
   "outputs": [],
   "source": [
    "metrics_pca, metrics_pca_df_list = opmet_metrics.calculate_metric_suite(\n",
    "    classifiers_pca_dict,\n",
    "    train_test_pca_dict,\n",
    ")"
   ]
  },
  {
   "cell_type": "code",
   "execution_count": 84,
   "id": "8fa39370-3310-4f2d-b093-64eb28cbcef7",
   "metadata": {},
   "outputs": [
    {
     "data": {
      "text/plain": [
       "<AxesSubplot:title={'center':'false alarm rate (validate) for rotors present class'}, xlabel='classifier'>"
      ]
     },
     "execution_count": 84,
     "metadata": {},
     "output_type": "execute_result"
    },
    {
     "data": {
      "image/png": "[encoded data removed]",
      "text/plain": [
       "<Figure size 1152x1440 with 6 Axes>"
      ]
     },
     "metadata": {
      "needs_background": "light"
     },
     "output_type": "display_data"
    }
   ],
   "source": [
    "fig1 = matplotlib.pyplot.figure(figsize=(16,20))\n",
    "ax1 = fig1.add_subplot(3,2,1,title='precision (train) for rotors present class')\n",
    "metrics_pca_df_list['train'].plot.bar(x='classifier', y='precision_rotor', ax=ax1, ylim=[0,1])\n",
    "ax1 = fig1.add_subplot(3,2,2,title='recall (train) for rotors present class')\n",
    "metrics_pca_df_list['train'].plot.bar(x='classifier', y='recall_rotor', ax=ax1, ylim=[0,1])\n",
    "\n",
    "ax1 = fig1.add_subplot(3,2,3,title='precision (validate) for rotors present class')\n",
    "metrics_pca_df_list['test'].plot.bar(x='classifier', y='precision_rotor', ax=ax1, ylim=[0,1])\n",
    "ax1 = fig1.add_subplot(3,2,4,title='recall (validate) for rotors present class')\n",
    "metrics_pca_df_list['test'].plot.bar(x='classifier', y='recall_rotor', ax=ax1, ylim=[0,1])\n",
    "\n",
    "ax1 = fig1.add_subplot(3,2,5,title='false alarm rate (train) for rotors present class')\n",
    "metrics_pca_df_list['train'].plot.bar(x='classifier', y='false_alarm_rate', ax=ax1, ylim=[0,1])\n",
    "ax1 = fig1.add_subplot(3,2,6,title='false alarm rate (validate) for rotors present class')\n",
    "metrics_pca_df_list['test'].plot.bar(x='classifier', y='false_alarm_rate', ax=ax1, ylim=[0,1])"
   ]
  },
  {
   "cell_type": "code",
   "execution_count": 85,
   "id": "01f52f6b-bf45-4ab6-becf-a1d758fb0414",
   "metadata": {},
   "outputs": [],
   "source": [
    "sedi_pca_dict = {}\n",
    "for set_name, (X1, y1) in train_test_pca_dict.items():\n",
    "    set_sedi_dict = {}\n",
    "    for clf_name, clf1 in classifiers_pca_dict.items():\n",
    "        y_pred_raw = clf1.predict_proba(X1)[:, 1]\n",
    "        set_sedi_dict[clf_name] = opmet_metrics.calculate_sedi_suite(thresholds_list,\n",
    "                                                                     y1,\n",
    "                                                                     y_pred_raw)\n",
    "    sedi_pca_dict[set_name] = set_sedi_dict\n"
   ]
  },
  {
   "cell_type": "code",
   "execution_count": 86,
   "id": "4f49b7d7-28c0-4ce1-bbc5-1254c0cf685b",
   "metadata": {},
   "outputs": [
    {
     "data": {
      "image/png": "[encoded data removed]",
      "text/plain": [
       "<Figure size 1152x2880 with 8 Axes>"
      ]
     },
     "metadata": {
      "needs_background": "light"
     },
     "output_type": "display_data"
    }
   ],
   "source": [
    "f1 = matplotlib.pyplot.figure(figsize=(16,10*len(classifiers_dict)))\n",
    "plot_ix = 0\n",
    "for clf_name, clf1 in classifiers_pca_dict.items():\n",
    "    ax1 = f1.add_subplot(len(classifiers_dict),2,plot_ix + 1,title=f'hit rates vs false alarms (training data, {clf_name})')\n",
    "    ax1.plot(thresholds_list, sedi_pca_dict['train'][clf_name]['hit_rates'],'r')\n",
    "    ax1.plot(thresholds_list, sedi_pca_dict['train'][clf_name]['false_alarm_rates'],'b')\n",
    "    ax1.plot(thresholds_list, sedi_pca_dict['train'][clf_name]['sedi_list'],'k')\n",
    "    ax1.set_ylim((0.0,1.05))\n",
    "\n",
    "    ax1 = f1.add_subplot(len(classifiers_dict),2,plot_ix+2,title=f'hit rates vs false alarms (test data, {clf_name})')\n",
    "    ax1.plot(thresholds_list, sedi_pca_dict['test'][clf_name]['hit_rates'],'r')\n",
    "    ax1.plot(thresholds_list, sedi_pca_dict['test'][clf_name]['false_alarm_rates'],'b')\n",
    "    ax1.plot(thresholds_list, sedi_pca_dict['test'][clf_name]['sedi_list'],'k')\n",
    "    ax1.set_ylim((0.0,1.05))\n",
    "    plot_ix += 2"
   ]
  },
  {
   "cell_type": "markdown",
   "id": "7d7a068f-0428-40bb-8b25-b65edfc11266",
   "metadata": {},
   "source": [
    "Permutation importance"
   ]
  },
  {
   "cell_type": "code",
   "execution_count": 87,
   "id": "79cf96d1-dbea-462e-98a0-7381466b863a",
   "metadata": {},
   "outputs": [],
   "source": [
    "feature_imp_dict = {}\n",
    "for clf_name, clf1 in classifiers_dict.items():\n",
    "    feature_imp_dict[clf_name] = sklearn.inspection.permutation_importance(clf1, X_train, y_train)"
   ]
  },
  {
   "cell_type": "code",
   "execution_count": 96,
   "id": "b9ee7f3f-bc6a-4555-945a-12f2c268e51d",
   "metadata": {},
   "outputs": [
    {
     "data": {
      "text/plain": [
       "array([69, 70, 68, 11, 72, 10, 67, 12,  9, 71])"
      ]
     },
     "execution_count": 96,
     "metadata": {},
     "output_type": "execute_result"
    }
   ],
   "source": [
    "numpy.argsort(feature_imp_dict['random_forest']['importances_mean'])[:10]"
   ]
  },
  {
   "cell_type": "code",
   "execution_count": 104,
   "id": "8daf7fcd-9c29-4418-ae9a-c725f34496f7",
   "metadata": {},
   "outputs": [
    {
     "data": {
      "text/plain": [
       "['v_wind_4',\n",
       " 'v_wind_5',\n",
       " 'v_wind_3',\n",
       " 'air_temp_12',\n",
       " 'v_wind_7',\n",
       " 'air_temp_11',\n",
       " 'v_wind_2',\n",
       " 'air_temp_13',\n",
       " 'air_temp_10',\n",
       " 'v_wind_6']"
      ]
     },
     "execution_count": 104,
     "metadata": {},
     "output_type": "execute_result"
    }
   ],
   "source": [
    "[input_feature_names[n1] for n1 in numpy.argsort(feature_imp_dict['random_forest']['importances_mean'])[:10]]"
   ]
  },
  {
   "cell_type": "code",
   "execution_count": null,
   "id": "b198df95-abd4-4d22-ab37-da0e3759bb7e",
   "metadata": {},
   "outputs": [],
   "source": []
  }
 ],
 "metadata": {
  "kernelspec": {
   "display_name": "Python 3 (ipykernel)",
   "language": "python",
   "name": "python3"
  },
  "language_info": {
   "codemirror_mode": {
    "name": "ipython",
    "version": 3
   },
   "file_extension": ".py",
   "mimetype": "text/x-python",
   "name": "python",
   "nbconvert_exporter": "python",
   "pygments_lexer": "ipython3",
   "version": "3.8.11"
  }
 },
 "nbformat": 4,
 "nbformat_minor": 5
}
