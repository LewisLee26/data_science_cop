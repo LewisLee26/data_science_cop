{
 "cells": [
  {
   "cell_type": "markdown",
   "id": "6729aad1-261a-48fa-ae59-986428165ebd",
   "metadata": {},
   "source": [
    "# Conversion of Data to a Machine Learning Friendly Format\n",
    "This notebook demonstrates taking a single NetCDF file and converting the file into analysis ready numpy arrays stored in a zarr file for later use in neural network training.\n",
    "\n",
    "Specifically, after having loaded multiple NetCDF files from UM model data into a single Iris CubeList, and saving this CubeList to disk, this notebook will:<ul>\n",
    "<li>Load the single NetCDF file back from disk.</li>\n",
    "<li>Extract the desired cubes: cloud volume fraction, specific humidity, air pressure, and air temperature.</li>\n",
    "<li>Combine cubes of the same feature where metadata differences have prevented concatenation.</li>\n",
    "<li>Convert the cubes to numpy arrays.</li>\n",
    "<li>Format the arrays into a desirable dimension: (Sample Number, Height Level, Feature).</li>\n",
    "<li>Generate data for the desired target we want to make a prediction on (cloud base height at a level in a sample).</li>\n",
    "<li>Normalize data where necessary.</li>\n",
    "<li>Save the data to disk for later loading to perform ML tasks.</li></ul> \n"
   ]
  },
  {
   "cell_type": "markdown",
   "id": "68b11403-49b8-413b-979d-e38b6d119b1e",
   "metadata": {},
   "source": [
    "Define imports:"
   ]
  },
  {
   "cell_type": "code",
   "execution_count": 1,
   "id": "4f4cd0c5-8ca7-47ac-bd69-7c717bc08782",
   "metadata": {},
   "outputs": [],
   "source": [
    "import os\n",
    "import pathlib\n",
    "import re\n",
    "import iris\n",
    "import dask\n",
    "\n",
    "import numpy as np"
   ]
  },
  {
   "cell_type": "markdown",
   "id": "904eeb91-a733-4323-a0f3-13a3921f6e0f",
   "metadata": {},
   "source": [
    "Define file paths:"
   ]
  },
  {
   "cell_type": "code",
   "execution_count": 2,
   "id": "9b58e6bf",
   "metadata": {},
   "outputs": [],
   "source": [
    "root_data_directory = pathlib.Path(os.environ['SCRATCH']) / 'cbh_data'\n",
    "\n",
    "paths_to_load = root_data_directory / 'dev' / 'dev_large.nc' # one large nc file of iris' concatenation of all small nc files\n",
    "path_to_save_result = root_data_directory / 'analysis_ready' / 'example_dev.npz' # ouput for numpy arrays\n",
    "path_to_save_zarr = root_data_directory / 'analysis_ready' / 'example_dev.zarr' # output for zarr files"
   ]
  },
  {
   "cell_type": "markdown",
   "id": "4824aae9-f9ca-4029-85d7-488c0f5b3fab",
   "metadata": {},
   "source": [
    "Settings for the notebook, with each constant given a comment above for a purpose description:"
   ]
  },
  {
   "cell_type": "code",
   "execution_count": 3,
   "id": "44163e08",
   "metadata": {},
   "outputs": [],
   "source": [
    "# generates a positional encoding array for a feature of each height layer in the sample\n",
    "GENERATE_POSITIONAL_ENCODING_ARRAYS = False\n",
    "# adds the height layer number to every feature vector in the input array\n",
    "if GENERATE_POSITIONAL_ENCODING_ARRAYS:\n",
    "    CONCATENATE_POSITIONAL_ENCONDING_TO_FEATURE_VECTOR = False\n",
    "\n",
    "# realises the input array computation in two halves to avoid memory constraints of large computation\n",
    "COMPUTE_INPUT_ARRAY_IN_HALVES = False\n",
    "\n",
    "FREE_UP_MEMORY_AFTER_TARGET_COMPUTATION = False\n",
    "\n",
    "# show all samples where clouds exist in the final layer (none)\n",
    "# the final layer is used as the desired classification in the case of no cloud base existance prediction\n",
    "VERIFY_NO_FINAL_LAYER_CLOUDS = False\n",
    "\n",
    "# do extra compute to find the number of samples with cloud bases in the dataset\n",
    "COMPUTE_CLOUD_BASE_SAMPLE_NUMBER = False"
   ]
  },
  {
   "cell_type": "markdown",
   "id": "ae0a123c-373b-4b4a-b195-9be635843400",
   "metadata": {},
   "source": [
    "## Loading in the Cloud Base Height Data"
   ]
  },
  {
   "cell_type": "code",
   "execution_count": 4,
   "id": "7e77b6bd-0989-4b9a-b7df-962ec9a2cb36",
   "metadata": {},
   "outputs": [
    {
     "name": "stdout",
     "output_type": "stream",
     "text": [
      "Find files complete, list of paths: /scratch/hsouth/cbh_data/dev/dev_large.nc\n"
     ]
    }
   ],
   "source": [
    "cubes = iris.load(str(paths_to_load))\n",
    "    \n",
    "print('Find files complete, list of paths:', paths_to_load)"
   ]
  },
  {
   "cell_type": "markdown",
   "id": "97ab36fc-0c4f-4e86-8e89-e1da1474c74f",
   "metadata": {},
   "source": [
    "Show cube names:"
   ]
  },
  {
   "cell_type": "code",
   "execution_count": 5,
   "id": "fa75b77f-00c1-4437-b0d4-17740d621f5c",
   "metadata": {},
   "outputs": [
    {
     "name": "stdout",
     "output_type": "stream",
     "text": [
      "Cube names:\n",
      " ['cloud_volume_fraction_in_atmosphere_layer', 'm01s05i250', 'air_pressure', 'air_temperature', 'convective_rainfall_flux', 'convective_snowfall_flux', 'specific_humidity', 'stratiform_rainfall_flux', 'stratiform_snowfall_flux', 'upward_air_velocity']\n",
      "\n",
      "Example of cube metadata: air_pressure / (Pa)                 (model_level_number: 70; latitude: 480; longitude: 640)\n",
      "    Dimension coordinates:\n",
      "        model_level_number                             x             -               -\n",
      "        latitude                                       -             x               -\n",
      "        longitude                                      -             -               x\n",
      "    Auxiliary coordinates:\n",
      "        level_height                                   x             -               -\n",
      "        sigma                                          x             -               -\n",
      "    Scalar coordinates:\n",
      "        forecast_period             12.0 hours\n",
      "        forecast_reference_time     2017-07-01 00:00:00\n",
      "        time                        2017-07-01 12:00:00\n",
      "    Attributes:\n",
      "        Conventions                 CF-1.7\n",
      "        STASH                       m01s00i408\n",
      "        source                      Data from Met Office Unified Model\n",
      "        um_version                  10.9\n"
     ]
    }
   ],
   "source": [
    "print('Cube names:\\n', [str(cube.name()) for cube in cubes])\n",
    "\n",
    "print('\\n' + \"Example of cube metadata:\", cubes[2].summary())"
   ]
  },
  {
   "cell_type": "markdown",
   "id": "3da491ed-9be1-41be-9d6a-1ddb7a8089d8",
   "metadata": {},
   "source": [
    "## Preprocess the data"
   ]
  },
  {
   "cell_type": "markdown",
   "id": "f0f04c28-c350-4a17-9332-6e1e78d0366e",
   "metadata": {},
   "source": [
    "### Extract the desired cubes: cloud volume fraction, specific humidity, air pressure, and air temperature\n",
    "Cloud volume fraction will be used as our target for the problem, and the rest of the cubes are used as input."
   ]
  },
  {
   "cell_type": "code",
   "execution_count": 6,
   "id": "f64fe0c0",
   "metadata": {},
   "outputs": [],
   "source": [
    "def create_dataset(cubes):\n",
    "    list_of_input_cubes = [ 'air_temperature',\n",
    "                             'air_pressure',\n",
    "                             'specific_humidity' ]\n",
    "    target_cube_name = ['cloud_volume_fraction_in_atmosphere_layer']\n",
    "\n",
    "    target_cube = iris.cube.CubeList([cube for cube in cubes if (cube.long_name in target_cube_name)])\n",
    "    inp_cube = iris.cube.CubeList([cube for cube in cubes if (cube.standard_name in list_of_input_cubes)])\n",
    "    \n",
    "    \n",
    "    return inp_cube, target_cube"
   ]
  },
  {
   "cell_type": "markdown",
   "id": "2a8ab1af-b134-4222-92bf-9b6110f0abfc",
   "metadata": {},
   "source": [
    "Call the function defined above and verify success:"
   ]
  },
  {
   "cell_type": "code",
   "execution_count": 7,
   "id": "fcf809cd-a16a-4a80-a5f7-6311f89ef1c3",
   "metadata": {},
   "outputs": [
    {
     "name": "stdout",
     "output_type": "stream",
     "text": [
      "input cube:\n",
      " 0: air_pressure / (Pa)                 (model_level_number: 70; latitude: 480; longitude: 640)\n",
      "1: air_temperature / (K)               (model_level_number: 70; latitude: 480; longitude: 640)\n",
      "2: specific_humidity / (kg kg-1)       (model_level_number: 70; latitude: 480; longitude: 640) \n",
      "\n",
      "target cubes:\n",
      " 0: cloud_volume_fraction_in_atmosphere_layer / (1) (model_level_number: 70; latitude: 480; longitude: 640)\n"
     ]
    }
   ],
   "source": [
    "inp_cube, tar_cube = create_dataset(cubes)\n",
    "\n",
    "print('input cube:\\n',inp_cube, '\\n')\n",
    "print('target cubes:\\n',tar_cube)"
   ]
  },
  {
   "cell_type": "markdown",
   "id": "a0ade2f7-717b-4fd1-aca2-74f230dcef4b",
   "metadata": {},
   "source": [
    "### Combine cubes of the same feature where metadata differences have prevented concatenation, while also extracting the numpy array of each cube\n",
    "if duplicate cubes exist, concatenate them using numpy to avoid metadata matching issues:"
   ]
  },
  {
   "cell_type": "code",
   "execution_count": 8,
   "id": "1c4dacf0",
   "metadata": {},
   "outputs": [],
   "source": [
    "def concatenate_same_cubes(cube_list):\n",
    "    \n",
    "    cube_name_dictionary = {}\n",
    "    \n",
    "    for cube in cube_list:\n",
    "        # print('start cube load')\n",
    "        cube_np_array = cube.core_data()\n",
    "        # print('end load')\n",
    "        \n",
    "        if not cube.long_name is None:\n",
    "            cube_name = cube.long_name\n",
    "        elif not cube.standard_name is None:\n",
    "            cube_name = cube.standard_name\n",
    "        else:\n",
    "            raise Exception('No name found on cube')\n",
    "            \n",
    "        try:\n",
    "            # concat along the differing axis, forcast reference time\n",
    "            cube_name_dictionary[cube_name] = np.concatenate((cube_np_array, cube_name_dictionary[cube_name]), axis=1)\n",
    "            \n",
    "            # print(cube_name_dictionary[cube_name].shape)\n",
    "            \n",
    "        except KeyError:\n",
    "            cube_name_dictionary[cube_name] = cube_np_array\n",
    "            \n",
    "    return cube_name_dictionary"
   ]
  },
  {
   "cell_type": "markdown",
   "id": "8a4f9fbd-3e2f-4f7e-ac68-6ad93fc207f8",
   "metadata": {},
   "source": [
    "Call the function defined above and verify success:"
   ]
  },
  {
   "cell_type": "code",
   "execution_count": 9,
   "id": "2a8aa14c-8721-4f75-866d-1e6b6bb941c9",
   "metadata": {},
   "outputs": [
    {
     "name": "stdout",
     "output_type": "stream",
     "text": [
      "Air Pressure array shape: (70, 480, 640)\n",
      "Cloud Volume array shape: (70, 480, 640)\n",
      "Array types: <class 'dask.array.core.Array'>\n"
     ]
    }
   ],
   "source": [
    "inp_dict = concatenate_same_cubes(inp_cube)\n",
    "tar_dict = concatenate_same_cubes(tar_cube)\n",
    "\n",
    "print('Air Pressure array shape:', inp_dict['air_pressure'].shape)\n",
    "print('Cloud Volume array shape:', tar_dict['cloud_volume_fraction_in_atmosphere_layer'].shape)\n",
    "print('Array types:', type(inp_dict['air_pressure']))"
   ]
  },
  {
   "cell_type": "markdown",
   "id": "cd98095b-7b0f-4a0f-ac91-c356a807d8cb",
   "metadata": {},
   "source": [
    "Combine dictionary elements to one array:"
   ]
  },
  {
   "cell_type": "code",
   "execution_count": 10,
   "id": "99c38b1c",
   "metadata": {},
   "outputs": [],
   "source": [
    "def combine_feats(dict_of_feats):\n",
    "    \n",
    "    add_dim_for_feature = [np.expand_dims(x, axis=0) for x in dict_of_feats.values()]\n",
    "    feat_concat_array = np.concatenate(add_dim_for_feature, axis=0)\n",
    "    return feat_concat_array"
   ]
  },
  {
   "cell_type": "code",
   "execution_count": 11,
   "id": "807eccb8-714e-48bf-9718-40ed3391b611",
   "metadata": {},
   "outputs": [
    {
     "name": "stdout",
     "output_type": "stream",
     "text": [
      "Dimensions to standardize for processing:\n",
      "Current Input Shape: (3, 70, 480, 640)\n",
      "Current Target Shape: (1, 70, 480, 640)\n"
     ]
    }
   ],
   "source": [
    "inp_array = combine_feats(inp_dict)\n",
    "tar_array = combine_feats(tar_dict)\n",
    "\n",
    "# verify and check dims\n",
    "print('Dimensions to standardize for processing:')\n",
    "print('Current Input Shape:', inp_array.shape)\n",
    "print('Current Target Shape:', tar_array.shape)"
   ]
  },
  {
   "cell_type": "markdown",
   "id": "e1f7139f-fa77-4fad-934c-f5be8f866cfe",
   "metadata": {},
   "source": [
    "Expand the dimensions of 'short' arrays to work in flattening (this applies in practice the smaller dev set of the data):"
   ]
  },
  {
   "cell_type": "code",
   "execution_count": 12,
   "id": "6a2401c4",
   "metadata": {},
   "outputs": [
    {
     "name": "stdout",
     "output_type": "stream",
     "text": [
      "New and correct shapes (should be 6 dims):\n",
      "(3, 1, 1, 70, 480, 640)\n",
      "(1, 1, 1, 70, 480, 640)\n"
     ]
    }
   ],
   "source": [
    "if(len(inp_array.shape) == 4):\n",
    "    time_time2_dims_to_add = [1,2]\n",
    "    inp_array = np.expand_dims(inp_array, time_time2_dims_to_add)\n",
    "    tar_array = np.expand_dims(tar_array, time_time2_dims_to_add)\n",
    "    print('New and correct shapes (should be 6 dims):')\n",
    "    print(inp_array.shape)\n",
    "    print(tar_array.shape)"
   ]
  },
  {
   "cell_type": "code",
   "execution_count": 13,
   "id": "4b5a995e-b09f-4f52-a9f0-605071b9afd5",
   "metadata": {},
   "outputs": [
    {
     "name": "stdout",
     "output_type": "stream",
     "text": [
      "Show array storage metadata:\n"
     ]
    },
    {
     "data": {
      "text/html": [
       "<table>\n",
       "    <tr>\n",
       "        <td>\n",
       "            <table>\n",
       "                <thead>\n",
       "                    <tr>\n",
       "                        <td> </td>\n",
       "                        <th> Array </th>\n",
       "                        <th> Chunk </th>\n",
       "                    </tr>\n",
       "                </thead>\n",
       "                <tbody>\n",
       "                    \n",
       "                    <tr>\n",
       "                        <th> Bytes </th>\n",
       "                        <td> 246.09 MiB </td>\n",
       "                        <td> 82.03 MiB </td>\n",
       "                    </tr>\n",
       "                    \n",
       "                    <tr>\n",
       "                        <th> Shape </th>\n",
       "                        <td> (3, 1, 1, 70, 480, 640) </td>\n",
       "                        <td> (1, 1, 1, 70, 480, 640) </td>\n",
       "                    </tr>\n",
       "                    <tr>\n",
       "                        <th> Count </th>\n",
       "                        <td> 15 Tasks </td>\n",
       "                        <td> 3 Chunks </td>\n",
       "                    </tr>\n",
       "                    <tr>\n",
       "                    <th> Type </th>\n",
       "                    <td> float32 </td>\n",
       "                    <td> numpy.ndarray </td>\n",
       "                    </tr>\n",
       "                </tbody>\n",
       "            </table>\n",
       "        </td>\n",
       "        <td>\n",
       "        <svg width=\"432\" height=\"162\" style=\"stroke:rgb(0,0,0);stroke-width:1\" >\n",
       "\n",
       "  <!-- Horizontal lines -->\n",
       "  <line x1=\"10\" y1=\"0\" x2=\"24\" y2=\"14\" style=\"stroke-width:2\" />\n",
       "  <line x1=\"10\" y1=\"25\" x2=\"24\" y2=\"40\" style=\"stroke-width:2\" />\n",
       "\n",
       "  <!-- Vertical lines -->\n",
       "  <line x1=\"10\" y1=\"0\" x2=\"10\" y2=\"25\" style=\"stroke-width:2\" />\n",
       "  <line x1=\"14\" y1=\"4\" x2=\"14\" y2=\"30\" />\n",
       "  <line x1=\"19\" y1=\"9\" x2=\"19\" y2=\"35\" />\n",
       "  <line x1=\"24\" y1=\"14\" x2=\"24\" y2=\"40\" style=\"stroke-width:2\" />\n",
       "\n",
       "  <!-- Colored Rectangle -->\n",
       "  <polygon points=\"10.0,0.0 24.9485979497544,14.948597949754403 24.9485979497544,40.36121446433689 10.0,25.412616514582485\" style=\"fill:#ECB172A0;stroke-width:0\"/>\n",
       "\n",
       "  <!-- Horizontal lines -->\n",
       "  <line x1=\"10\" y1=\"0\" x2=\"35\" y2=\"0\" style=\"stroke-width:2\" />\n",
       "  <line x1=\"14\" y1=\"4\" x2=\"40\" y2=\"4\" />\n",
       "  <line x1=\"19\" y1=\"9\" x2=\"45\" y2=\"9\" />\n",
       "  <line x1=\"24\" y1=\"14\" x2=\"50\" y2=\"14\" style=\"stroke-width:2\" />\n",
       "\n",
       "  <!-- Vertical lines -->\n",
       "  <line x1=\"10\" y1=\"0\" x2=\"24\" y2=\"14\" style=\"stroke-width:2\" />\n",
       "  <line x1=\"35\" y1=\"0\" x2=\"50\" y2=\"14\" style=\"stroke-width:2\" />\n",
       "\n",
       "  <!-- Colored Rectangle -->\n",
       "  <polygon points=\"10.0,0.0 35.41261651458248,0.0 50.36121446433688,14.948597949754403 24.9485979497544,14.948597949754403\" style=\"fill:#ECB172A0;stroke-width:0\"/>\n",
       "\n",
       "  <!-- Horizontal lines -->\n",
       "  <line x1=\"24\" y1=\"14\" x2=\"50\" y2=\"14\" style=\"stroke-width:2\" />\n",
       "  <line x1=\"24\" y1=\"40\" x2=\"50\" y2=\"40\" style=\"stroke-width:2\" />\n",
       "\n",
       "  <!-- Vertical lines -->\n",
       "  <line x1=\"24\" y1=\"14\" x2=\"24\" y2=\"40\" style=\"stroke-width:2\" />\n",
       "  <line x1=\"50\" y1=\"14\" x2=\"50\" y2=\"40\" style=\"stroke-width:2\" />\n",
       "\n",
       "  <!-- Colored Rectangle -->\n",
       "  <polygon points=\"24.9485979497544,14.948597949754403 50.36121446433688,14.948597949754403 50.36121446433688,40.36121446433689 24.9485979497544,40.36121446433689\" style=\"fill:#ECB172A0;stroke-width:0\"/>\n",
       "\n",
       "  <!-- Text -->\n",
       "  <text x=\"37.654906\" y=\"60.361214\" font-size=\"1.0rem\" font-weight=\"100\" text-anchor=\"middle\" >1</text>\n",
       "  <text x=\"70.361214\" y=\"27.654906\" font-size=\"1.0rem\" font-weight=\"100\" text-anchor=\"middle\" transform=\"rotate(0,70.361214,27.654906)\">1</text>\n",
       "  <text x=\"7.474299\" y=\"52.886915\" font-size=\"1.0rem\" font-weight=\"100\" text-anchor=\"middle\" transform=\"rotate(45,7.474299,52.886915)\">3</text>\n",
       "\n",
       "\n",
       "  <!-- Horizontal lines -->\n",
       "  <line x1=\"120\" y1=\"0\" x2=\"142\" y2=\"22\" style=\"stroke-width:2\" />\n",
       "  <line x1=\"120\" y1=\"90\" x2=\"142\" y2=\"112\" style=\"stroke-width:2\" />\n",
       "\n",
       "  <!-- Vertical lines -->\n",
       "  <line x1=\"120\" y1=\"0\" x2=\"120\" y2=\"90\" style=\"stroke-width:2\" />\n",
       "  <line x1=\"142\" y1=\"22\" x2=\"142\" y2=\"112\" style=\"stroke-width:2\" />\n",
       "\n",
       "  <!-- Colored Rectangle -->\n",
       "  <polygon points=\"120.0,0.0 142.99257868827482,22.992578688274808 142.99257868827482,112.9925786882748 120.0,90.0\" style=\"fill:#ECB172A0;stroke-width:0\"/>\n",
       "\n",
       "  <!-- Horizontal lines -->\n",
       "  <line x1=\"120\" y1=\"0\" x2=\"240\" y2=\"0\" style=\"stroke-width:2\" />\n",
       "  <line x1=\"142\" y1=\"22\" x2=\"262\" y2=\"22\" style=\"stroke-width:2\" />\n",
       "\n",
       "  <!-- Vertical lines -->\n",
       "  <line x1=\"120\" y1=\"0\" x2=\"142\" y2=\"22\" style=\"stroke-width:2\" />\n",
       "  <line x1=\"240\" y1=\"0\" x2=\"262\" y2=\"22\" style=\"stroke-width:2\" />\n",
       "\n",
       "  <!-- Colored Rectangle -->\n",
       "  <polygon points=\"120.0,0.0 240.0,0.0 262.9925786882748,22.992578688274808 142.99257868827482,22.992578688274808\" style=\"fill:#ECB172A0;stroke-width:0\"/>\n",
       "\n",
       "  <!-- Horizontal lines -->\n",
       "  <line x1=\"142\" y1=\"22\" x2=\"262\" y2=\"22\" style=\"stroke-width:2\" />\n",
       "  <line x1=\"142\" y1=\"112\" x2=\"262\" y2=\"112\" style=\"stroke-width:2\" />\n",
       "\n",
       "  <!-- Vertical lines -->\n",
       "  <line x1=\"142\" y1=\"22\" x2=\"142\" y2=\"112\" style=\"stroke-width:2\" />\n",
       "  <line x1=\"262\" y1=\"22\" x2=\"262\" y2=\"112\" style=\"stroke-width:2\" />\n",
       "\n",
       "  <!-- Colored Rectangle -->\n",
       "  <polygon points=\"142.99257868827482,22.992578688274808 262.9925786882748,22.992578688274808 262.9925786882748,112.9925786882748 142.99257868827482,112.9925786882748\" style=\"fill:#ECB172A0;stroke-width:0\"/>\n",
       "\n",
       "  <!-- Text -->\n",
       "  <text x=\"202.992579\" y=\"132.992579\" font-size=\"1.0rem\" font-weight=\"100\" text-anchor=\"middle\" >640</text>\n",
       "  <text x=\"282.992579\" y=\"67.992579\" font-size=\"1.0rem\" font-weight=\"100\" text-anchor=\"middle\" transform=\"rotate(-90,282.992579,67.992579)\">480</text>\n",
       "  <text x=\"121.496289\" y=\"121.496289\" font-size=\"1.0rem\" font-weight=\"100\" text-anchor=\"middle\" transform=\"rotate(45,121.496289,121.496289)\">70</text>\n",
       "</svg>\n",
       "        </td>\n",
       "    </tr>\n",
       "</table>"
      ],
      "text/plain": [
       "dask.array<reshape, shape=(3, 1, 1, 70, 480, 640), dtype=float32, chunksize=(1, 1, 1, 70, 480, 640), chunktype=numpy.ndarray>"
      ]
     },
     "execution_count": 13,
     "metadata": {},
     "output_type": "execute_result"
    }
   ],
   "source": [
    "print('Show array storage metadata:')\n",
    "inp_array"
   ]
  },
  {
   "cell_type": "markdown",
   "id": "8415a961-6b0e-41f8-804b-9a575ff315c3",
   "metadata": {},
   "source": [
    "### Flatten the arrays"
   ]
  },
  {
   "cell_type": "markdown",
   "id": "f0ee5cb9",
   "metadata": {},
   "source": [
    "Flatten time and lat/long down to a single dimension, sample number </br>\n",
    "Function expects 6-d array where each expected dimension is named in the function - cube_num, time, time2, height, lat, long"
   ]
  },
  {
   "cell_type": "code",
   "execution_count": 14,
   "id": "851b2249",
   "metadata": {},
   "outputs": [],
   "source": [
    "def flatten_cubes_with_numpy(np_array):\n",
    "    \n",
    "    # print('input dimensions:', np_array.shape)\n",
    "    \n",
    "    cube_num, time, time2, height, lat, long = np_array.shape\n",
    "    \n",
    "    # # verify shape\n",
    "    # print(np_array.shape)\n",
    "    \n",
    "    # swap axis of time and height to ensure flattening preserves height\n",
    "    cube_array = np_array.transpose(0,3,1,2,4,5)\n",
    "    cubes_flattened = np.reshape(cube_array, (cube_num, height,(lat*long*time*time2)))\n",
    "    \n",
    "    # print('new dimensions', cubes_flattened.shape)\n",
    "    \n",
    "    cube_to_return = cubes_flattened.T\n",
    "    # remove unnecessary dimensions\n",
    "    cube_to_return = cube_to_return.squeeze()\n",
    "    return cube_to_return"
   ]
  },
  {
   "cell_type": "code",
   "execution_count": 15,
   "id": "9feddf51-b706-4221-8e61-0e13a31612a5",
   "metadata": {},
   "outputs": [
    {
     "name": "stdout",
     "output_type": "stream",
     "text": [
      "Shapes of flattened and transposed arrays:\n",
      "Input: (307200, 70, 3)\n",
      "Target: (307200, 70)\n"
     ]
    }
   ],
   "source": [
    "dask.config.set({'array.slicing.split_large_chunks': False}) # allow the potentially large chunk of data\n",
    "\n",
    "inp_array = flatten_cubes_with_numpy(inp_array)\n",
    "tar_array = flatten_cubes_with_numpy(tar_array)\n",
    "\n",
    "# print('verify squeeze')\n",
    "print('Shapes of flattened and transposed arrays:')\n",
    "print('Input:', inp_array.shape)\n",
    "print('Target:', tar_array.shape)"
   ]
  },
  {
   "cell_type": "markdown",
   "id": "622a621d-3cce-471b-95b9-48d7fd540b69",
   "metadata": {},
   "source": [
    "Rechunk large data to ensure large chunks are reduced for easier handling in dask:"
   ]
  },
  {
   "cell_type": "code",
   "execution_count": 16,
   "id": "f9d12c5c",
   "metadata": {},
   "outputs": [
    {
     "name": "stdout",
     "output_type": "stream",
     "text": [
      "Rechunked array storage metadata for target:\n"
     ]
    },
    {
     "data": {
      "text/html": [
       "<table>\n",
       "    <tr>\n",
       "        <td>\n",
       "            <table>\n",
       "                <thead>\n",
       "                    <tr>\n",
       "                        <td> </td>\n",
       "                        <th> Array </th>\n",
       "                        <th> Chunk </th>\n",
       "                    </tr>\n",
       "                </thead>\n",
       "                <tbody>\n",
       "                    \n",
       "                    <tr>\n",
       "                        <th> Bytes </th>\n",
       "                        <td> 82.03 MiB </td>\n",
       "                        <td> 82.03 MiB </td>\n",
       "                    </tr>\n",
       "                    \n",
       "                    <tr>\n",
       "                        <th> Shape </th>\n",
       "                        <td> (307200, 70) </td>\n",
       "                        <td> (307200, 70) </td>\n",
       "                    </tr>\n",
       "                    <tr>\n",
       "                        <th> Count </th>\n",
       "                        <td> 8 Tasks </td>\n",
       "                        <td> 1 Chunks </td>\n",
       "                    </tr>\n",
       "                    <tr>\n",
       "                    <th> Type </th>\n",
       "                    <td> float32 </td>\n",
       "                    <td> numpy.ndarray </td>\n",
       "                    </tr>\n",
       "                </tbody>\n",
       "            </table>\n",
       "        </td>\n",
       "        <td>\n",
       "        <svg width=\"75\" height=\"170\" style=\"stroke:rgb(0,0,0);stroke-width:1\" >\n",
       "\n",
       "  <!-- Horizontal lines -->\n",
       "  <line x1=\"0\" y1=\"0\" x2=\"25\" y2=\"0\" style=\"stroke-width:2\" />\n",
       "  <line x1=\"0\" y1=\"120\" x2=\"25\" y2=\"120\" style=\"stroke-width:2\" />\n",
       "\n",
       "  <!-- Vertical lines -->\n",
       "  <line x1=\"0\" y1=\"0\" x2=\"0\" y2=\"120\" style=\"stroke-width:2\" />\n",
       "  <line x1=\"25\" y1=\"0\" x2=\"25\" y2=\"120\" style=\"stroke-width:2\" />\n",
       "\n",
       "  <!-- Colored Rectangle -->\n",
       "  <polygon points=\"0.0,0.0 25.412616514582485,0.0 25.412616514582485,120.0 0.0,120.0\" style=\"fill:#ECB172A0;stroke-width:0\"/>\n",
       "\n",
       "  <!-- Text -->\n",
       "  <text x=\"12.706308\" y=\"140.000000\" font-size=\"1.0rem\" font-weight=\"100\" text-anchor=\"middle\" >70</text>\n",
       "  <text x=\"45.412617\" y=\"60.000000\" font-size=\"1.0rem\" font-weight=\"100\" text-anchor=\"middle\" transform=\"rotate(-90,45.412617,60.000000)\">307200</text>\n",
       "</svg>\n",
       "        </td>\n",
       "    </tr>\n",
       "</table>"
      ],
      "text/plain": [
       "dask.array<getitem, shape=(307200, 70), dtype=float32, chunksize=(307200, 70), chunktype=numpy.ndarray>"
      ]
     },
     "execution_count": 16,
     "metadata": {},
     "output_type": "execute_result"
    }
   ],
   "source": [
    "tar_array = dask.array.rechunk(tar_array, chunks='auto')\n",
    "print('Rechunked array storage metadata for target:')\n",
    "tar_array"
   ]
  },
  {
   "cell_type": "code",
   "execution_count": 17,
   "id": "bb3a68d7",
   "metadata": {},
   "outputs": [
    {
     "name": "stdout",
     "output_type": "stream",
     "text": [
      "Rechunked array storage metadata for input:\n"
     ]
    },
    {
     "data": {
      "text/html": [
       "<table>\n",
       "    <tr>\n",
       "        <td>\n",
       "            <table>\n",
       "                <thead>\n",
       "                    <tr>\n",
       "                        <td> </td>\n",
       "                        <th> Array </th>\n",
       "                        <th> Chunk </th>\n",
       "                    </tr>\n",
       "                </thead>\n",
       "                <tbody>\n",
       "                    \n",
       "                    <tr>\n",
       "                        <th> Bytes </th>\n",
       "                        <td> 246.09 MiB </td>\n",
       "                        <td> 82.03 MiB </td>\n",
       "                    </tr>\n",
       "                    \n",
       "                    <tr>\n",
       "                        <th> Shape </th>\n",
       "                        <td> (307200, 70, 3) </td>\n",
       "                        <td> (307200, 70, 1) </td>\n",
       "                    </tr>\n",
       "                    <tr>\n",
       "                        <th> Count </th>\n",
       "                        <td> 24 Tasks </td>\n",
       "                        <td> 3 Chunks </td>\n",
       "                    </tr>\n",
       "                    <tr>\n",
       "                    <th> Type </th>\n",
       "                    <td> float32 </td>\n",
       "                    <td> numpy.ndarray </td>\n",
       "                    </tr>\n",
       "                </tbody>\n",
       "            </table>\n",
       "        </td>\n",
       "        <td>\n",
       "        <svg width=\"156\" height=\"146\" style=\"stroke:rgb(0,0,0);stroke-width:1\" >\n",
       "\n",
       "  <!-- Horizontal lines -->\n",
       "  <line x1=\"10\" y1=\"0\" x2=\"80\" y2=\"70\" style=\"stroke-width:2\" />\n",
       "  <line x1=\"10\" y1=\"25\" x2=\"80\" y2=\"96\" style=\"stroke-width:2\" />\n",
       "\n",
       "  <!-- Vertical lines -->\n",
       "  <line x1=\"10\" y1=\"0\" x2=\"10\" y2=\"25\" style=\"stroke-width:2\" />\n",
       "  <line x1=\"80\" y1=\"70\" x2=\"80\" y2=\"96\" style=\"stroke-width:2\" />\n",
       "\n",
       "  <!-- Colored Rectangle -->\n",
       "  <polygon points=\"10.0,0.0 80.58823529411765,70.58823529411765 80.58823529411765,96.00085180870013 10.0,25.412616514582485\" style=\"fill:#ECB172A0;stroke-width:0\"/>\n",
       "\n",
       "  <!-- Horizontal lines -->\n",
       "  <line x1=\"10\" y1=\"0\" x2=\"35\" y2=\"0\" style=\"stroke-width:2\" />\n",
       "  <line x1=\"80\" y1=\"70\" x2=\"106\" y2=\"70\" style=\"stroke-width:2\" />\n",
       "\n",
       "  <!-- Vertical lines -->\n",
       "  <line x1=\"10\" y1=\"0\" x2=\"80\" y2=\"70\" style=\"stroke-width:2\" />\n",
       "  <line x1=\"18\" y1=\"0\" x2=\"89\" y2=\"70\" />\n",
       "  <line x1=\"26\" y1=\"0\" x2=\"97\" y2=\"70\" />\n",
       "  <line x1=\"35\" y1=\"0\" x2=\"106\" y2=\"70\" style=\"stroke-width:2\" />\n",
       "\n",
       "  <!-- Colored Rectangle -->\n",
       "  <polygon points=\"10.0,0.0 35.41261651458248,0.0 106.00085180870013,70.58823529411765 80.58823529411765,70.58823529411765\" style=\"fill:#ECB172A0;stroke-width:0\"/>\n",
       "\n",
       "  <!-- Horizontal lines -->\n",
       "  <line x1=\"80\" y1=\"70\" x2=\"106\" y2=\"70\" style=\"stroke-width:2\" />\n",
       "  <line x1=\"80\" y1=\"96\" x2=\"106\" y2=\"96\" style=\"stroke-width:2\" />\n",
       "\n",
       "  <!-- Vertical lines -->\n",
       "  <line x1=\"80\" y1=\"70\" x2=\"80\" y2=\"96\" style=\"stroke-width:2\" />\n",
       "  <line x1=\"89\" y1=\"70\" x2=\"89\" y2=\"96\" />\n",
       "  <line x1=\"97\" y1=\"70\" x2=\"97\" y2=\"96\" />\n",
       "  <line x1=\"106\" y1=\"70\" x2=\"106\" y2=\"96\" style=\"stroke-width:2\" />\n",
       "\n",
       "  <!-- Colored Rectangle -->\n",
       "  <polygon points=\"80.58823529411765,70.58823529411765 106.00085180870013,70.58823529411765 106.00085180870013,96.00085180870013 80.58823529411765,96.00085180870013\" style=\"fill:#ECB172A0;stroke-width:0\"/>\n",
       "\n",
       "  <!-- Text -->\n",
       "  <text x=\"93.294544\" y=\"116.000852\" font-size=\"1.0rem\" font-weight=\"100\" text-anchor=\"middle\" >3</text>\n",
       "  <text x=\"126.000852\" y=\"83.294544\" font-size=\"1.0rem\" font-weight=\"100\" text-anchor=\"middle\" transform=\"rotate(0,126.000852,83.294544)\">70</text>\n",
       "  <text x=\"35.294118\" y=\"80.706734\" font-size=\"1.0rem\" font-weight=\"100\" text-anchor=\"middle\" transform=\"rotate(45,35.294118,80.706734)\">307200</text>\n",
       "</svg>\n",
       "        </td>\n",
       "    </tr>\n",
       "</table>"
      ],
      "text/plain": [
       "dask.array<transpose, shape=(307200, 70, 3), dtype=float32, chunksize=(307200, 70, 1), chunktype=numpy.ndarray>"
      ]
     },
     "execution_count": 17,
     "metadata": {},
     "output_type": "execute_result"
    }
   ],
   "source": [
    "inp_array = dask.array.rechunk(inp_array, chunks='auto')\n",
    "print('Rechunked array storage metadata for input:')\n",
    "inp_array"
   ]
  },
  {
   "cell_type": "markdown",
   "id": "28ddfa4f-34d0-4f37-b7c6-3f402880b21e",
   "metadata": {
    "tags": []
   },
   "source": [
    "## Preprocess the data toward ML algorithm input"
   ]
  },
  {
   "cell_type": "markdown",
   "id": "de60364b-a938-487f-b630-2f740d02ed50",
   "metadata": {},
   "source": [
    "### Generate data for the target of cloud base at certain height"
   ]
  },
  {
   "cell_type": "markdown",
   "id": "9f750de3",
   "metadata": {},
   "source": [
    "preprocess the target\n",
    "for the target, we define a cloud existing in a height layer:\n",
    "if the cloud volume fraction is greater than 2 out of possible 8 oktas </br>\n",
    "the cell below finds the first occurrences where the cloud volume is greater than the threshold marking a 1 in the array location, and stores 0 otherwise. </br>\n",
    "Later, the final height layer will be marker for samples without a cloud base"
   ]
  },
  {
   "cell_type": "code",
   "execution_count": 18,
   "id": "ef513328-caa2-400a-aecf-d1ec119f5816",
   "metadata": {},
   "outputs": [],
   "source": [
    "cloud_threshold = 2./8.\n",
    "cloud_over_threshold = dask.array.where(tar_array>cloud_threshold)"
   ]
  },
  {
   "cell_type": "code",
   "execution_count": 19,
   "id": "e54c4b7a",
   "metadata": {},
   "outputs": [
    {
     "name": "stdout",
     "output_type": "stream",
     "text": [
      "Start base found sample compute\n",
      "Start sample index compute\n",
      "CPU times: user 394 ms, sys: 474 ms, total: 868 ms\n",
      "Wall time: 656 ms\n"
     ]
    }
   ],
   "source": [
    "%%time\n",
    "# realize the values for the where condition (dask array to numpy array)\n",
    "print('Start base found sample compute')\n",
    "sample_with_cloud = cloud_over_threshold[0].compute()\n",
    "print('Start sample index compute')\n",
    "index_on_sample = cloud_over_threshold[1].compute()"
   ]
  },
  {
   "cell_type": "markdown",
   "id": "d978cc26-a794-46eb-ba5d-40bf231e8eeb",
   "metadata": {},
   "source": [
    "Remove repeat indicies, e.g. where there are multiple layers above the cloud threshold, we only want the first occurence in a sample (the base):"
   ]
  },
  {
   "cell_type": "code",
   "execution_count": 20,
   "id": "e4a7bfad",
   "metadata": {},
   "outputs": [
    {
     "name": "stdout",
     "output_type": "stream",
     "text": [
      "CPU times: user 28.3 ms, sys: 34.1 ms, total: 62.4 ms\n",
      "Wall time: 60.7 ms\n"
     ]
    }
   ],
   "source": [
    "%%time\n",
    "_, first_duplicate_indicies = np.unique(sample_with_cloud, return_index=True)\n",
    "\n",
    "if COMPUTE_CLOUD_BASE_SAMPLE_NUMBER:\n",
    "    print('Start duplicate indicies compute')\n",
    "    first_duplicate_indicies = first_duplicate_indicies.compute()\n",
    "    print('Number of cloud bases found:',first_duplicate_indicies.shape)\n",
    "    print('Out of samples:', tar_array.shape[0])"
   ]
  },
  {
   "cell_type": "markdown",
   "id": "35d5a79c",
   "metadata": {},
   "source": [
    "For clouds where no base was found, add a marker at the final height layer \n",
    "(where no cloud volume over threshold appears in the data)."
   ]
  },
  {
   "cell_type": "code",
   "execution_count": 21,
   "id": "68006d8c-1fd4-45ee-bf6b-d41062687915",
   "metadata": {},
   "outputs": [
    {
     "name": "stdout",
     "output_type": "stream",
     "text": [
      "CPU times: user 102 ms, sys: 68.3 ms, total: 171 ms\n",
      "Wall time: 173 ms\n"
     ]
    }
   ],
   "source": [
    "%%time\n",
    "\n",
    "# encode the cloud in onehot vector\n",
    "one_hot_encoded_bases = np.zeros(tar_array.shape)\n",
    "one_hot_encoded_bases[sample_with_cloud[first_duplicate_indicies],index_on_sample[first_duplicate_indicies]] = 1\n",
    "# mark the end (final layer) if no cloud base detected\n",
    "flip = lambda booleanVal: not booleanVal\n",
    "vflip = np.vectorize(flip)\n",
    "one_hot_encoded_bases[np.where(vflip(np.any(one_hot_encoded_bases, axis=1)))[0], -1] = 1\n",
    "\n",
    "# Now reduce vectors as if each height layer is treated as a class where the model will predict, onehot -> class label e.g. 0,0,1,0, -> 2\n",
    "class_label_encoded_bases = np.argmax(one_hot_encoded_bases, axis=1)"
   ]
  },
  {
   "cell_type": "code",
   "execution_count": 22,
   "id": "d4a8db50-97af-4e20-acd8-b145ca71e31b",
   "metadata": {},
   "outputs": [
    {
     "name": "stdout",
     "output_type": "stream",
     "text": [
      "Target as class label: (307200,)\n",
      "Output dim: (307200, 70)\n"
     ]
    }
   ],
   "source": [
    "print('Target as class label:', class_label_encoded_bases.shape)\n",
    "print('Output dim:', one_hot_encoded_bases.shape)"
   ]
  },
  {
   "cell_type": "code",
   "execution_count": 23,
   "id": "ba8546d5-6bf3-4faf-97c3-70f0f7ef92cf",
   "metadata": {},
   "outputs": [],
   "source": [
    "# optionally, free up some memory\n",
    "if FREE_UP_MEMORY_AFTER_TARGET_COMPUTATION:\n",
    "    del sample_with_cloud\n",
    "    del cloud_over_threshold\n",
    "    del first_duplicate_indicies\n",
    "    del index_on_sample\n",
    "    del tar_dict\n",
    "    del tar_cube\n",
    "    del cubes"
   ]
  },
  {
   "cell_type": "markdown",
   "id": "30307449-f82b-4082-8c31-47f0768631d3",
   "metadata": {},
   "source": [
    "### Normalize input data"
   ]
  },
  {
   "cell_type": "markdown",
   "id": "bac8f418",
   "metadata": {},
   "source": [
    "For the normalization of input data: we first transpose the input array so that the feature dimension is at the top level of the array, and numpy has an easier time accessing all values of the same feature. Then all values are normalized by being scaled in the range \\[0,1\\]\n",
    "\n",
    "(must investigate mistake relating to ptp of local datasets instead of global values and make changes)"
   ]
  },
  {
   "cell_type": "code",
   "execution_count": 24,
   "id": "7fe624c8-e933-4cf8-b8a0-ba927853b9b9",
   "metadata": {},
   "outputs": [
    {
     "name": "stdout",
     "output_type": "stream",
     "text": [
      "Finished compute of input array normalization\n",
      "Number of masked values after computation: 0\n",
      "CPU times: user 1.14 s, sys: 1.2 s, total: 2.34 s\n",
      "Wall time: 1.85 s\n"
     ]
    }
   ],
   "source": [
    "%%time\n",
    "\n",
    "inp_array = inp_array.T\n",
    "inp_array = (inp_array - np.min(inp_array, axis=(1,2)).reshape((3,1,1))) / (np.ptp(inp_array, axis=(1,2)).reshape((3,1,1)))\n",
    "inp_array = inp_array.T\n",
    "\n",
    "# a 2 half compute used to avoid memory constraints\n",
    "if COMPUTE_INPUT_ARRAY_IN_HALVES:\n",
    "    half = int(len(inp_array) / 2)\n",
    "    inp_array_1 = inp_array[:half].compute()\n",
    "    len_first_half = inp_array_1.shape[0]\n",
    "    \n",
    "else:\n",
    "    inp_array = inp_array.compute()\n",
    "    print('Finished compute of input array normalization')\n",
    "    # convert to regular array, after verifying mask does not identify any values\n",
    "    # (print below gives 0 masked values)\n",
    "    num_of_masked = np.ma.count_masked(inp_array)\n",
    "    print('Number of masked values after computation:', num_of_masked)\n",
    "    assert num_of_masked == 0\n",
    "    # unmask, giving all masked values NaN (but no masked values)\n",
    "    inp_array = np.ma.filled(inp_array, np.nan)\n",
    "\n",
    "    # # verify dimensions\n",
    "    # print(inp_array.shape)\n",
    "    # # and verify type\n",
    "    # print('type of unmasked array:', type(inp_array))"
   ]
  },
  {
   "cell_type": "code",
   "execution_count": 25,
   "id": "945e3063-1795-4b04-9a3e-717b29b943df",
   "metadata": {
    "scrolled": true
   },
   "outputs": [
    {
     "name": "stdout",
     "output_type": "stream",
     "text": [
      "CPU times: user 2 µs, sys: 1e+03 ns, total: 3 µs\n",
      "Wall time: 5.01 µs\n"
     ]
    }
   ],
   "source": [
    "%%time\n",
    "# second half of memory constraint compute, see above cell\n",
    "if COMPUTE_INPUT_ARRAY_IN_HALVES:\n",
    "    inp_array_2 = inp_array[half:].compute()\n",
    "    print('Array type after compute:', type(inp_array_2))\n",
    "    num_of_masked = np.ma.count_masked(inp_array_2)\n",
    "    print('Count of masked (unfilled) values:', num_of_masked)\n",
    "    assert num_of_masked == 0\n",
    "    inp_array_2 = np.ma.filled(inp_array_2, np.nan)\n",
    "    print('Array type after compute:', type(inp_array_2))\n",
    "    len_second_half = inp_array_2.shape[0]\n",
    "\n",
    "    # verify \n",
    "    print(len_second_half + len_first_half)\n",
    "    print(inp_array.shape)\n",
    "    \n",
    "    # combine halves\n",
    "    inp_array = inp_array_1 = np.concatenate((inp_array_1, inp_array_2), axis=0)\n",
    "    del inp_array_1\n",
    "    del inp_array_2\n",
    "    "
   ]
  },
  {
   "cell_type": "markdown",
   "id": "2e4a4ea3-c4d8-4d2c-a53e-0c4c99761374",
   "metadata": {},
   "source": [
    "Compute and unmask target array (cloud volume):"
   ]
  },
  {
   "cell_type": "code",
   "execution_count": 26,
   "id": "5fdf90f4-48e1-45bb-8187-3194ec86a534",
   "metadata": {},
   "outputs": [
    {
     "name": "stdout",
     "output_type": "stream",
     "text": [
      "Current type of target array: <class 'dask.array.core.Array'>\n",
      "Target shape: (307200, 70)\n",
      "Finished compute of target array\n",
      "Number of masked values after computation: 0\n"
     ]
    }
   ],
   "source": [
    "print('Current type of target array:', type(tar_array))\n",
    "print('Target shape:', tar_array.shape)\n",
    "tar_array = tar_array.compute()\n",
    "print('Finished compute of target array')\n",
    "\n",
    "num_of_masked = np.ma.count_masked(tar_array)\n",
    "print('Number of masked values after computation:', num_of_masked)\n",
    "assert num_of_masked == 0\n",
    "\n",
    "# unmask\n",
    "tar_array = np.ma.filled(tar_array, np.nan)"
   ]
  },
  {
   "cell_type": "code",
   "execution_count": 27,
   "id": "548d7ba3",
   "metadata": {},
   "outputs": [],
   "source": [
    "if VERIFY_NO_FINAL_LAYER_CLOUDS:\n",
    "    # verify the claim that no cloud bases appear in the final layer\n",
    "    # can be strengthened to, no clouds exist in the final layer (next line returns 0)\n",
    "    print('list of clouds at final height level:', np.where(tar_array[:,-1]>cloud_threshold)) "
   ]
  },
  {
   "cell_type": "markdown",
   "id": "807eee2f",
   "metadata": {},
   "source": [
    "#### View the produced arrays which are ready to be saved"
   ]
  },
  {
   "cell_type": "code",
   "execution_count": 28,
   "id": "7717fbcd-bd13-4580-9923-38d254344485",
   "metadata": {},
   "outputs": [
    {
     "data": {
      "text/plain": [
       "array([[[0.6558385 , 0.43776825, 0.00130421],\n",
       "        [0.6535534 , 0.44206008, 0.00150347],\n",
       "        [0.6503736 , 0.4434907 , 0.00167781],\n",
       "        [0.6463207 , 0.45422032, 0.002065  ],\n",
       "        [0.64145505, 0.47353363, 0.00277824]],\n",
       "\n",
       "       [[0.6559205 , 0.43776825, 0.00130421],\n",
       "        [0.6536282 , 0.44563663, 0.00151932],\n",
       "        [0.65044475, 0.45064378, 0.00176159],\n",
       "        [0.64639425, 0.4620887 , 0.00215331],\n",
       "        [0.6415262 , 0.48211733, 0.00282579]],\n",
       "\n",
       "       [[0.6559844 , 0.43776825, 0.00132006],\n",
       "        [0.6536885 , 0.4434907 , 0.00148988],\n",
       "        [0.6505026 , 0.45064378, 0.00176159],\n",
       "        [0.6464521 , 0.4620887 , 0.0021601 ],\n",
       "        [0.6415829 , 0.481402  , 0.00282353]],\n",
       "\n",
       "       [[0.65603024, 0.43705294, 0.00132459],\n",
       "        [0.6537331 , 0.44206008, 0.00148082],\n",
       "        [0.6505448 , 0.44992846, 0.00175027],\n",
       "        [0.64649314, 0.4620887 , 0.00216237],\n",
       "        [0.6416239 , 0.4806867 , 0.00282353]],\n",
       "\n",
       "       [[0.6560628 , 0.43776825, 0.00133138],\n",
       "        [0.6537656 , 0.44206008, 0.0014763 ],\n",
       "        [0.6505762 , 0.44921315, 0.00174121],\n",
       "        [0.6465221 , 0.4620887 , 0.00216237],\n",
       "        [0.6416528 , 0.4806867 , 0.00282353]]], dtype=float32)"
      ]
     },
     "execution_count": 28,
     "metadata": {},
     "output_type": "execute_result"
    }
   ],
   "source": [
    "# show 5 samples, first 5 height layers only, displaying all features in the layer (features not indexed)\n",
    "# (automatic numpy array display reduction is quite large for this array)\n",
    "inp_array[0:5, 0:5, :]"
   ]
  },
  {
   "cell_type": "code",
   "execution_count": 29,
   "id": "8db57938-d1b2-4539-981d-2a4fae24a01c",
   "metadata": {},
   "outputs": [
    {
     "data": {
      "text/plain": [
       "array([16, 15, 15, ...,  0,  0,  0])"
      ]
     },
     "execution_count": 29,
     "metadata": {},
     "output_type": "execute_result"
    }
   ],
   "source": [
    "class_label_encoded_bases"
   ]
  },
  {
   "cell_type": "code",
   "execution_count": 30,
   "id": "cd93c9cc",
   "metadata": {},
   "outputs": [
    {
     "data": {
      "text/plain": [
       "array([[0.140625, 0.125   , 0.09375 , ..., 0.      , 0.      , 0.      ],\n",
       "       [0.140625, 0.109375, 0.09375 , ..., 0.      , 0.      , 0.      ],\n",
       "       [0.140625, 0.125   , 0.09375 , ..., 0.      , 0.      , 0.      ],\n",
       "       ...,\n",
       "       [0.90625 , 1.      , 1.      , ..., 0.      , 0.      , 0.      ],\n",
       "       [1.      , 1.      , 1.      , ..., 0.      , 0.      , 0.      ],\n",
       "       [0.953125, 1.      , 1.      , ..., 0.      , 0.      , 0.      ]],\n",
       "      dtype=float32)"
      ]
     },
     "execution_count": 30,
     "metadata": {},
     "output_type": "execute_result"
    }
   ],
   "source": [
    "tar_array"
   ]
  },
  {
   "cell_type": "code",
   "execution_count": 31,
   "id": "1b371da9",
   "metadata": {},
   "outputs": [
    {
     "data": {
      "text/plain": [
       "array([[0., 0., 0., ..., 0., 0., 0.],\n",
       "       [0., 0., 0., ..., 0., 0., 0.],\n",
       "       [0., 0., 0., ..., 0., 0., 0.],\n",
       "       ...,\n",
       "       [1., 0., 0., ..., 0., 0., 0.],\n",
       "       [1., 0., 0., ..., 0., 0., 0.],\n",
       "       [1., 0., 0., ..., 0., 0., 0.]])"
      ]
     },
     "execution_count": 31,
     "metadata": {},
     "output_type": "execute_result"
    }
   ],
   "source": [
    "one_hot_encoded_bases"
   ]
  },
  {
   "cell_type": "markdown",
   "id": "41f14d59",
   "metadata": {},
   "source": [
    "#### Save a selection of wanted arrays (inp_array, tar_array, one_hot_encoded_bases)\n",
    "\n",
    "Now to save the computed array </br>\n",
    "(will not save one of class label output or one_hot as easy conversion between the two)</br>\n",
    "(went with saving one-hot to emulate the data produced/used by base solution)"
   ]
  },
  {
   "cell_type": "code",
   "execution_count": 32,
   "id": "c385de7a-6c99-443a-b793-3cef3ff39dd1",
   "metadata": {},
   "outputs": [
    {
     "name": "stdout",
     "output_type": "stream",
     "text": [
      "Input dim: (307200, 70, 3)\n",
      "Cloud Output dim: (307200, 70)\n"
     ]
    }
   ],
   "source": [
    "# verify input and output shapes\n",
    "print('Input dim:', inp_array.shape)\n",
    "print('Cloud Output dim:', tar_array.shape)"
   ]
  },
  {
   "cell_type": "code",
   "execution_count": 33,
   "id": "05c40478-6374-40fa-93f7-4ad4fc71ea5f",
   "metadata": {},
   "outputs": [
    {
     "name": "stdout",
     "output_type": "stream",
     "text": [
      "Saving numpy arrays\n",
      "CPU times: user 694 ms, sys: 155 ms, total: 848 ms\n",
      "Wall time: 1.02 s\n"
     ]
    }
   ],
   "source": [
    "%%time\n",
    "\n",
    "print('Saving numpy arrays')\n",
    "\n",
    "with open(path_to_save_result, 'w+b') as f:\n",
    "    # variable assignment that name the arrays for the saved file\n",
    "    input_x=inp_array\n",
    "    output_onehot=one_hot_encoded_bases\n",
    "    output_cloud_volume=tar_array\n",
    "\n",
    "    np.savez(f, input_x=input_x, output_cloud_volume=output_cloud_volume, output_onehot=output_onehot)"
   ]
  },
  {
   "cell_type": "markdown",
   "id": "178079d5",
   "metadata": {},
   "source": [
    "The following cell is code to create a positional encoding for the height layers in the data, e.g. the data at height layer 0 would have the positional encoding of: 0 as part of the input feature. It is commented out as PyTorch Dataloaders are found to have the capability to produce this information at load-time, which seems like a better option than creating a potentially huge array for each position that is scaled up to the size of the sample number redundantly."
   ]
  },
  {
   "cell_type": "code",
   "execution_count": 34,
   "id": "1f09d7a7-82bb-4163-9eda-55ea7ab25730",
   "metadata": {},
   "outputs": [],
   "source": [
    "# create an extra positional encoding optionally for input use\n",
    "if GENERATE_POSITIONAL_ENCODING_ARRAYS:\n",
    "    sample_num, height_dim, _ = inp_array.shape\n",
    "    # generate height values\n",
    "    height_position_vector = np.arange(height_dim)\n",
    "    # extend dimensions out to match input feats\n",
    "    height_position_vector = np.repeat([height_position_vector], sample_num, axis=0)\n",
    "\n",
    "    # verify\n",
    "    print('shape of encoding vector:', height_position_vector.shape)\n",
    "\n",
    "    x,y = height_position_vector.shape\n",
    "    # add a dimension for height to act as a feature\n",
    "    height_position_vector = height_position_vector.reshape(x,y,1)\n",
    "\n",
    "    # fit the dtype of the feature to match the dtype of other feats\n",
    "    height_position_vector = height_position_vector.astype(inp_array.dtype)\n",
    "\n",
    "    # combine height feature into input array \n",
    "    if CONCATENATE_POSITIONAL_ENCONDING_TO_FEATURE_VECTOR:\n",
    "        inp_array = np.concatenate((height_position_vector, inp_array), axis=2, dtype=np.float32) #leave the concat for within the model after producing embedding\n",
    "\n",
    "    # verify datatypes\n",
    "    print('input dtype', inp_array.dtype)\n",
    "    print('height encoding dtype', height_position_vector.dtype)"
   ]
  },
  {
   "cell_type": "markdown",
   "id": "63fd290a-62fc-4135-943f-4dd10e3ac7ac",
   "metadata": {},
   "source": [
    "## Convert saved numpy arrays to zarr files"
   ]
  },
  {
   "cell_type": "markdown",
   "id": "59cab18d-3cb2-44d4-9535-b658428d1b4f",
   "metadata": {},
   "source": [
    "First, open the numpy files and load each array into a variable:"
   ]
  },
  {
   "cell_type": "code",
   "execution_count": 35,
   "id": "fc554c7a-5a8a-431b-9fb2-de5aee1eedcb",
   "metadata": {},
   "outputs": [],
   "source": [
    "import zarr # (package not in cop torch conda env)\n",
    "\n",
    "with open(path_to_save_result, 'r+b') as f:\n",
    "    numpy_files = np.load(f)\n",
    "    inp_arr = numpy_files['input_x']\n",
    "    onehot_arr = numpy_files['output_onehot']\n",
    "    tar_arr = numpy_files['output_cloud_volume']"
   ]
  },
  {
   "cell_type": "markdown",
   "id": "0505f30c-e5ca-4a36-ae52-b9e107888d3f",
   "metadata": {},
   "source": [
    "Then, store the loaded numpy arrays into zarr, which will chunk and compress each array:"
   ]
  },
  {
   "cell_type": "code",
   "execution_count": 36,
   "id": "69cdc387-0bb8-46fa-96ba-28288a8cf035",
   "metadata": {},
   "outputs": [
    {
     "name": "stdout",
     "output_type": "stream",
     "text": [
      "Elements of zarr group:\n",
      "<zarr.core.Array '/cloud_volume_fraction_y.zarr' (307200, 70) float32>\n",
      "<zarr.core.Array '/humidity_temp_pressure_x.zarr' (307200, 70, 3) float32>\n",
      "<zarr.core.Array '/onehot_cloud_base_height_y.zarr' (307200, 70) float64>\n",
      "\n",
      "Tree of zarr group:\n",
      " /\n",
      " ├── cloud_volume_fraction_y.zarr (307200, 70) float32\n",
      " ├── humidity_temp_pressure_x.zarr (307200, 70, 3) float32\n",
      " └── onehot_cloud_base_height_y.zarr (307200, 70) float64\n",
      "\n",
      "Shape array example: (307200, 70, 3)\n",
      "\n",
      "Zarr chunking shape of the array: (38400, 9, 1)\n"
     ]
    }
   ],
   "source": [
    "store = zarr.DirectoryStore(path_to_save_zarr)\n",
    "# define objected for arrays to be grouped under\n",
    "\n",
    "zarr_grouping = zarr.group(store=store, overwrite=True)\n",
    "\n",
    "# initialize and then write on zarr arrays for all desired arrays to be saved\n",
    "\n",
    "humidity_temp_pressure_x =  zarr_grouping.zeros(shape=inp_arr.shape, \n",
    "                                                dtype=inp_arr.dtype, \n",
    "                                                name='humidity_temp_pressure_x.zarr')\n",
    "humidity_temp_pressure_x[:] = inp_arr\n",
    "\n",
    "onehot_cloud_base_height_y = zarr_grouping.zeros(shape=onehot_arr.shape, \n",
    "                                                 dtype=onehot_arr.dtype, \n",
    "                                                 name='onehot_cloud_base_height_y.zarr')\n",
    "onehot_cloud_base_height_y[:] = onehot_arr\n",
    "\n",
    "cloud_volume_fraction_y = zarr_grouping.zeros(shape=tar_arr.shape, \n",
    "                                              dtype=tar_arr.dtype, \n",
    "                                              name='cloud_volume_fraction_y.zarr')\n",
    "cloud_volume_fraction_y[:] = tar_arr\n",
    "\n",
    "# output some summary for zarr\n",
    "# view group values\n",
    "printF = lambda obj: print(obj)\n",
    "print(\"Elements of zarr group:\")\n",
    "zarr_grouping.visitvalues(printF)\n",
    "# view group tree\n",
    "print(\"\\nTree of zarr group:\\n\", zarr_grouping.tree())\n",
    "# see chunk size\n",
    "print(\"\\nShape array example:\", humidity_temp_pressure_x.shape)\n",
    "print(\"\\nZarr chunking shape of the array:\", humidity_temp_pressure_x.chunks)"
   ]
  }
 ],
 "metadata": {
  "kernelspec": {
   "display_name": "Python 3",
   "language": "python",
   "name": "python3"
  },
  "language_info": {
   "codemirror_mode": {
    "name": "ipython",
    "version": 3
   },
   "file_extension": ".py",
   "mimetype": "text/x-python",
   "name": "python",
   "nbconvert_exporter": "python",
   "pygments_lexer": "ipython3",
   "version": "3.9.12"
  }
 },
 "nbformat": 4,
 "nbformat_minor": 5
}
