{
 "cells": [
  {
   "cell_type": "code",
   "execution_count": 1,
   "id": "19c347a5-7180-4afc-b334-9838147b748a",
   "metadata": {},
   "outputs": [],
   "source": [
    "import os\n",
    "import pathlib\n",
    "\n",
    "import matplotlib.pyplot as plt\n",
    "import numpy as np\n",
    "import torch\n",
    "import zarr\n",
    "from sklearn.metrics import confusion_matrix\n",
    "\n",
    "import cbh_data_definitions\n",
    "import cbh_torch_lstm  # defined in directory (model definition)"
   ]
  },
  {
   "cell_type": "markdown",
   "id": "0dcc99b1-83f8-4a29-86ce-f73fcf802b09",
   "metadata": {
    "tags": []
   },
   "source": [
    "## Define the evaluation data"
   ]
  },
  {
   "cell_type": "code",
   "execution_count": 2,
   "id": "b1b1c924-d784-4214-a3a8-1302f2dcf25d",
   "metadata": {},
   "outputs": [],
   "source": [
    "root_data_directory = pathlib.Path(os.environ[\"SCRATCH\"]) / \"cbh_data\"\n",
    "test_data_path = (\n",
    "    root_data_directory / \"analysis_ready\" / \"dev.zarr\"\n",
    ")  # must change with available test data"
   ]
  },
  {
   "cell_type": "code",
   "execution_count": 3,
   "id": "3263ca16-6caa-442b-a1f5-b26c2428b464",
   "metadata": {},
   "outputs": [
    {
     "name": "stdout",
     "output_type": "stream",
     "text": [
      "Loaded zarr, file information:\n",
      " Name        : /\n",
      "Type        : zarr.hierarchy.Group\n",
      "Read-only   : False\n",
      "Store type  : zarr.storage.DirectoryStore\n",
      "No. members : 3\n",
      "No. arrays  : 3\n",
      "No. groups  : 0\n",
      "Arrays      : cloud_base_label_y.zarr, cloud_volume_fraction_y.zarr,\n",
      "            : humidity_temp_pressure_x.zarr\n",
      " \n",
      "\n",
      "102400\n",
      "307200\n"
     ]
    }
   ],
   "source": [
    "test_input, test_labels, test_cloud_volume = cbh_data_definitions.load_data_from_zarr(\n",
    "    test_data_path\n",
    ")\n",
    "print(test_labels.chunksize[0])\n",
    "print(len(test_labels))"
   ]
  },
  {
   "cell_type": "code",
   "execution_count": 4,
   "id": "1bb955ac-703a-4cf2-ac65-c7313f3ae2c8",
   "metadata": {},
   "outputs": [],
   "source": [
    "collate_fn = cbh_data_definitions.dataloader_collate_with_dask\n",
    "batch_size = int(test_labels.chunksize[0] / 4)\n",
    "workers_on_system = 0\n",
    "test_dataloader = cbh_data_definitions.define_data_get_loader(\n",
    "    test_input,\n",
    "    test_cloud_volume,\n",
    "    test_labels,\n",
    "    batch_size=batch_size,\n",
    "    shuffle=False,\n",
    "    num_workers=workers_on_system,\n",
    "    collate_fn=collate_fn,\n",
    ")"
   ]
  },
  {
   "cell_type": "markdown",
   "id": "dffba27b-d62f-4bcd-8132-e668c3479e3b",
   "metadata": {
    "tags": []
   },
   "source": [
    "## Define the network"
   ]
  },
  {
   "cell_type": "code",
   "execution_count": 5,
   "id": "69566bef-8229-4dd2-b746-82e8737de679",
   "metadata": {},
   "outputs": [],
   "source": [
    "checkpoint_path = \"./model_out_2022-10-04 14:26:45.061497.ckpt\""
   ]
  },
  {
   "cell_type": "code",
   "execution_count": 6,
   "id": "bd6a3ef9-7cdf-47e6-aa1b-53321d5c2b98",
   "metadata": {},
   "outputs": [],
   "source": [
    "LSTM = True\n",
    "MLP = False\n",
    "if LSTM:\n",
    "    model = cbh_torch_lstm.CloudBaseLSTM.load_from_checkpoint(checkpoint_path)\n",
    "    model.eval()\n",
    "if MLP:\n",
    "    ..."
   ]
  },
  {
   "cell_type": "markdown",
   "id": "2fd8e70f-2968-4caf-b833-5fdf75a40b56",
   "metadata": {},
   "source": [
    "## Get model predictions for Eval"
   ]
  },
  {
   "cell_type": "code",
   "execution_count": 7,
   "id": "43319b26-9e48-426f-a840-766ba11f7633",
   "metadata": {},
   "outputs": [
    {
     "name": "stdout",
     "output_type": "stream",
     "text": [
      "Length of prediction output: (307200,)\n",
      "Prediction output matches target output: True\n",
      "CPU times: user 9min 42s, sys: 38.8 s, total: 10min 20s\n",
      "Wall time: 9min 14s\n"
     ]
    }
   ],
   "source": [
    "%%time\n",
    "all_preds = np.empty(0)\n",
    "all_targs = np.empty(0)\n",
    "for i, sample_batch in enumerate(test_dataloader):\n",
    "    all_targs = np.concatenate((all_targs, sample_batch[\"cloud_base_target\"]), axis=0)\n",
    "    height = sample_batch[\"height_vector\"]\n",
    "    x = sample_batch[\"x\"]\n",
    "    batch_preds, _ = model(x, height)  # self call = forward\n",
    "    class_prediction = np.argmax(batch_preds.detach().numpy(), axis=1)\n",
    "    all_preds = np.concatenate(\n",
    "        (all_preds, class_prediction), axis=0\n",
    "    )  # get second value only (since model doesn't support the other return per how it is currently defined)\n",
    "\n",
    "print(\"Length of prediction output:\", all_preds.shape)\n",
    "print(\"Prediction output matches target output:\", all_targs.shape == all_preds.shape)"
   ]
  },
  {
   "cell_type": "code",
   "execution_count": 8,
   "id": "2ad20a18-1170-4da1-91a6-dae7b2c2df04",
   "metadata": {},
   "outputs": [
    {
     "name": "stdout",
     "output_type": "stream",
     "text": [
      "Show of some predictions : [0. 0. 0. 0. 0. 0. 0. 0. 0. 0. 0. 0. 0. 0. 0. 0. 0. 0. 0. 0.]\n",
      "Show of some targets, same samples: [16. 15. 15. 15. 16. 16. 16. 16. 16. 16. 16. 16. 16. 16. 16. 16. 16. 16.\n",
      " 16. 16.]\n",
      "Model predictions binned: (Class labels), (Counts): (array([ 0., 69.]), array([101368, 205832]))\n",
      "Target labels binned: (Class labels), (Counts): (array([ 0.,  1.,  2.,  3.,  4.,  5.,  6.,  7.,  8.,  9., 10., 11., 12.,\n",
      "       13., 14., 15., 16., 17., 18., 19., 20., 21., 22., 23., 24., 25.,\n",
      "       26., 27., 28., 29., 30., 31., 32., 33., 34., 35., 36., 37., 38.,\n",
      "       39., 40., 41., 42., 43., 44., 45., 46., 47., 48., 49., 50., 51.,\n",
      "       69.]), array([48207,  7345,  6824,  6581,  6311,  5855,  6811,  8105,  8406,\n",
      "        7745,  8055,  8211,  7782,  7082,  5604,  4535,  4367,  3159,\n",
      "        2949,  2475,  2263,  2132,  2052,  2493,  3018,  4325,  3172,\n",
      "        2532,  2182,  2454,  2408,  2293,  2251,  2644,  3003,  3200,\n",
      "        3398,  3574,  3818,  3882,  2967,  2353,  1856,  1379,   686,\n",
      "         233,   212,    50,    12,     4,     4,     4, 73937]))\n",
      "Accuracy: 0.32616861979166667\n"
     ]
    }
   ],
   "source": [
    "print(\"Show of some predictions :\", all_preds[0:20])\n",
    "print(\"Show of some targets, same samples:\", all_targs[0:20])\n",
    "print(\n",
    "    \"Model predictions binned: (Class labels), (Counts):\",\n",
    "    np.unique(all_preds, return_counts=True),\n",
    ")\n",
    "print(\n",
    "    \"Target labels binned: (Class labels), (Counts):\",\n",
    "    np.unique(all_targs, return_counts=True),\n",
    ")\n",
    "print(\"Accuracy:\", np.count_nonzero(all_preds == all_targs) / len(all_preds))"
   ]
  },
  {
   "cell_type": "markdown",
   "id": "01b70551-8b3e-4b9d-8082-91aa65c59844",
   "metadata": {},
   "source": [
    "## Evaluate model returns"
   ]
  },
  {
   "cell_type": "code",
   "execution_count": 9,
   "id": "f599537e-3d3a-411e-8ff8-0295211326a9",
   "metadata": {},
   "outputs": [
    {
     "name": "stdout",
     "output_type": "stream",
     "text": [
      "Equiv. function on test subset?: True\n",
      "Equiv. function on toy data?: True\n",
      "Time on new function, test data: 300 ms ± 1.57 ms per loop (mean ± std. dev. of 7 runs, 1 loop each)\n",
      "Time on old function, test data: 20.6 s ± 2.09 s per loop (mean ± std. dev. of 7 runs, 1 loop each)\n",
      "Time on new function, toy data: 148 µs ± 782 ns per loop (mean ± std. dev. of 7 runs, 10,000 loops each)\n",
      "Time on old function, toy data: 1.53 ms ± 18.2 µs per loop (mean ± std. dev. of 7 runs, 1,000 loops each)\n"
     ]
    }
   ],
   "source": [
    "def old_cbh_eval(preds, targs):\n",
    "    # for all tested height layers\n",
    "    abcd_list = []\n",
    "    for k in np.arange(0, 53, 1):\n",
    "        a = 0.0\n",
    "        b = 0.0\n",
    "        c = 0.0\n",
    "        d = 0.0\n",
    "        for i in np.arange(0, targs.shape[1]):\n",
    "            # Is the cloud-base at this level or below.\n",
    "            if targs[0, i] <= np.float64(k) and preds[0, i] <= np.float64(k):\n",
    "                # Hit\n",
    "                a = a + 1.0\n",
    "            elif targs[0, i] > np.float64(k) and preds[0, i] <= np.float64(k):\n",
    "                # False alarm\n",
    "                b = b + 1.0\n",
    "            elif targs[0, i] <= np.float64(k) and preds[0, i] > np.float64(k):\n",
    "                # Miss\n",
    "                c = c + 1.0\n",
    "            else:\n",
    "                # Correct negative\n",
    "                d = d + 1.0\n",
    "        if a == 0.0 or b == 0.0:\n",
    "            a += 1\n",
    "            b += 1\n",
    "        abcd_list.append((a, b, c, d))\n",
    "    return abcd_list\n",
    "\n",
    "\n",
    "import typing\n",
    "\n",
    "\n",
    "# new function\n",
    "def new_cbh_eval(preds: typing.Iterable, targs: typing.Iterable, test_before_layer=53):\n",
    "\n",
    "    batch_length = len(targs)\n",
    "    cloud_height_expanded_array = np.column_stack(\n",
    "        np.arange(test_before_layer)\n",
    "    ).T.repeat(batch_length, 1)\n",
    "    p = targs <= cloud_height_expanded_array\n",
    "    q = preds <= cloud_height_expanded_array\n",
    "\n",
    "    l = lambda x: x.sum(1)\n",
    "    a = p & q\n",
    "    b = np.logical_not(p) & q\n",
    "    c = p & np.logical_not(q)\n",
    "    d = np.logical_not(a | b | c)\n",
    "    adjust = np.logical_not(a.any(1) & b.any(1))\n",
    "\n",
    "    return list(\n",
    "        zip(\n",
    "            (np.where(adjust, l(a) + 1, l(a))),\n",
    "            (np.where(adjust, l(b) + 1, l(b))),\n",
    "            l(c),\n",
    "            l(d),\n",
    "        )\n",
    "    )\n",
    "\n",
    "\n",
    "# Test function equivalance\n",
    "aa = [0, 1, 2, 3, 4, 4, 1]\n",
    "bb = [0, 3, 1, 4, 1, 4, 1]\n",
    "print(\n",
    "    \"Equiv. function on test subset?:\",\n",
    "    new_cbh_eval(all_preds[0:2000], all_targs[0:2000])\n",
    "    == old_cbh_eval(np.array([all_preds[0:2000]]), np.array([all_targs[0:2000]])),\n",
    ")\n",
    "print(\n",
    "    \"Equiv. function on toy data?:\",\n",
    "    new_cbh_eval(aa, bb) == old_cbh_eval(np.array([aa]), np.array([bb])),\n",
    ")\n",
    "print(\"Time on new function, test data:\", end=\" \")\n",
    "%timeit new_cbh_eval(all_preds, all_targs)\n",
    "print(\"Time on old function, test data:\", end=\" \")\n",
    "%timeit old_cbh_eval(np.array([all_preds]), np.array([all_targs]))\n",
    "print(\"Time on new function, toy data:\", end=\" \")\n",
    "%timeit new_cbh_eval(aa, bb)\n",
    "print(\"Time on old function, toy data:\", end=\" \")\n",
    "%timeit old_cbh_eval(np.array([aa]), np.array([bb]))"
   ]
  },
  {
   "cell_type": "code",
   "execution_count": 10,
   "id": "a65f6007-3198-4996-8148-d550d5266669",
   "metadata": {},
   "outputs": [],
   "source": [
    "abcd_list = new_cbh_eval(all_preds, all_targs)  # save the eval result"
   ]
  },
  {
   "cell_type": "code",
   "execution_count": 12,
   "id": "fc3433ef-6b53-4462-936e-7ac10b06d5ee",
   "metadata": {},
   "outputs": [
    {
     "name": "stdout",
     "output_type": "stream",
     "text": [
      "Equiv. function for SEDS?: True\n",
      "Equiv. function for SEDI? (possible differences of approx. 1e-16): False\n",
      "Close function for SEDI? (absolute tolerance 1e-15): True\n",
      "Closer function for SEDI? (absolute tolerance 1e-16): False\n",
      "Time on new function, test data: 75 µs ± 1.84 µs per loop (mean ± std. dev. of 7 runs, 10,000 loops each)\n",
      "Time on old function, test data: 1.26 ms ± 27.1 µs per loop (mean ± std. dev. of 7 runs, 1,000 loops each)\n"
     ]
    }
   ],
   "source": [
    "def calc_sedi_from_abcd_list(abcd_list):\n",
    "    store_sedi, store_seds = ([], [])\n",
    "    for a, b, c, d in abcd_list:\n",
    "        n = a + b + c + d\n",
    "        ar = ((a + b) * (a + c)) / n\n",
    "        # Symmetric Extreme Dependency Score (SEDS) has advantage that it is 1.0 for perfect forecast\n",
    "        # and 0.0 for no better than climatology\n",
    "        # (unlike Equitable Threat Score [ETS] for which it is not clear at what point a low score means it is poor.\n",
    "        seds = np.log(ar / a) / np.log(a / n)\n",
    "        store_seds = np.append(store_seds, seds)\n",
    "        # Also calculate SEDI from Ferro and Stephenson (equation 2)\n",
    "        # https://journals.ametsoc.org/view/journals/wefo/26/5/waf-d-10-05030_1.xml\n",
    "        h = a / (a + c)\n",
    "        f = b / (b + d)\n",
    "        top = np.log(f) - np.log(h) - np.log(1.0 - f) + np.log(1.0 - h)\n",
    "        bottom = np.log(f) + np.log(h) + np.log(1.0 - f) + np.log(1.0 - h)\n",
    "        sedi = top / bottom\n",
    "        store_sedi = np.append(store_sedi, sedi)\n",
    "\n",
    "    return store_sedi, store_seds\n",
    "\n",
    "\n",
    "def calc_sedi_numpy(abcd_list):\n",
    "\n",
    "    sed_arr = np.array(abcd_list)\n",
    "    n = np.sum(sed_arr, axis=1)\n",
    "    a = sed_arr[:, 0]\n",
    "    b = sed_arr[:, 1]\n",
    "    c = sed_arr[:, 2]\n",
    "    d = sed_arr[:, 3]\n",
    "    ar = ((a + b) * (a + c)) / n\n",
    "    seds = np.log(ar / a) / np.log(a / n)\n",
    "\n",
    "    h = a / (a + c)\n",
    "    f = b / (b + d)\n",
    "    top = np.log((f * (1.0 - h)) / (h * (1.0 - f)))\n",
    "    bottom = np.log(f * h * (1.0 - f) * (1.0 - h))\n",
    "    sedi = top / bottom\n",
    "\n",
    "    return sedi, seds\n",
    "\n",
    "\n",
    "# perform the same equiv. test but for sedi calculation from previous function output\n",
    "sedi_list_new, seds_list_new = calc_sedi_numpy(abcd_list)\n",
    "sedi_list_old, seds_list_old = calc_sedi_from_abcd_list(abcd_list)\n",
    "print(\"Equiv. function for SEDS?:\", np.array_equal(seds_list_new, seds_list_old))\n",
    "print(\n",
    "    \"Equiv. function for SEDI? (possible differences of approx. 1e-16):\",\n",
    "    np.array_equal(sedi_list_new, sedi_list_old),\n",
    ")\n",
    "# it turns out using the property of logarithms to shorten the top/bottom sedi calculation creates differences at the 1e-16 or 1e-17 decimal\n",
    "print(\n",
    "    \"Close function for SEDI? (absolute tolerance 1e-15):\",\n",
    "    np.allclose(sedi_list_new, sedi_list_old, rtol=0, atol=1e-15),\n",
    ")\n",
    "print(\n",
    "    \"Closer function for SEDI? (absolute tolerance 1e-16):\",\n",
    "    np.allclose(sedi_list_new, sedi_list_old, rtol=0, atol=1e-16),\n",
    ")\n",
    "print(\"Time on new function, test data:\", end=\" \")\n",
    "%timeit calc_sedi_numpy(abcd_list)\n",
    "print(\"Time on old function, test data:\", end=\" \")\n",
    "%timeit calc_sedi_from_abcd_list(abcd_list)"
   ]
  },
  {
   "cell_type": "code",
   "execution_count": 13,
   "id": "ed08bf50-f999-426a-84e4-52f3f44f8759",
   "metadata": {},
   "outputs": [],
   "source": [
    "sedi_score = np.mean(sedi_list_new)\n",
    "seds_score = np.mean(seds_list_new)"
   ]
  },
  {
   "cell_type": "markdown",
   "id": "ab62ce09-e223-4b7d-a2ff-89e5eaaea53f",
   "metadata": {},
   "source": [
    "## Present Evaluation"
   ]
  },
  {
   "cell_type": "code",
   "execution_count": 14,
   "id": "4f1e3982-880f-4cca-9e67-9a51402325c3",
   "metadata": {},
   "outputs": [
    {
     "name": "stdout",
     "output_type": "stream",
     "text": [
      "Accuracy: 0.32616861979166667\n",
      "Mean Error: 19.251907552083335\n",
      "Mean Absolute Error: 28.852688802083332\n",
      "Root Mean Squared Error: 39.31968510452175\n",
      "SEDI: 0.4475485844683257\n",
      "SEDS: 0.24141574352234066\n"
     ]
    }
   ],
   "source": [
    "prediction_difference = all_preds - all_targs\n",
    "print(\"Accuracy:\", np.count_nonzero(all_preds == all_targs) / len(all_preds))\n",
    "print(\"Mean Error:\", np.mean(prediction_difference))\n",
    "print(\"Mean Absolute Error:\", np.mean(np.abs(prediction_difference)))\n",
    "print(\"Root Mean Squared Error:\", np.sqrt(np.mean((prediction_difference) ** 2.0)))\n",
    "print(\"SEDI:\", sedi_score)\n",
    "print(\"SEDS:\", seds_score)"
   ]
  },
  {
   "cell_type": "code",
   "execution_count": 15,
   "id": "facbb797-004b-4441-9fd0-1943ded31844",
   "metadata": {},
   "outputs": [
    {
     "data": {
      "image/png": "[encoded data removed]",
      "text/plain": [
       "<Figure size 432x288 with 1 Axes>"
      ]
     },
     "metadata": {},
     "output_type": "display_data"
    }
   ],
   "source": [
    "prediction_higher_than_target = np.count_nonzero(all_preds > all_targs)\n",
    "prediction_lower_than_target = np.count_nonzero(all_preds < all_targs)\n",
    "prediction_equal_to_target = np.count_nonzero(all_preds == all_targs)\n",
    "labels = [\n",
    "    f\"Prediction too high ({prediction_higher_than_target})\",\n",
    "    f\"Prediction too low ({prediction_lower_than_target})\",\n",
    "    f\"Prediction correct ({prediction_equal_to_target})\",\n",
    "]\n",
    "\n",
    "plt.pie(\n",
    "    [\n",
    "        prediction_higher_than_target,\n",
    "        prediction_lower_than_target,\n",
    "        prediction_equal_to_target,\n",
    "    ],\n",
    "    labels=labels,\n",
    "    autopct=\"%1.1f%%\",\n",
    ")\n",
    "plt.title(\"Prediction difference class (count)\")\n",
    "plt.show()"
   ]
  },
  {
   "cell_type": "code",
   "execution_count": 16,
   "id": "3e80f35c-7f52-4622-9440-723dc0add573",
   "metadata": {},
   "outputs": [
    {
     "data": {
      "image/png": "[encoded data removed]",
      "text/plain": [
       "<Figure size 864x864 with 2 Axes>"
      ]
     },
     "metadata": {
      "needs_background": "light"
     },
     "output_type": "display_data"
    },
    {
     "name": "stdout",
     "output_type": "stream",
     "text": [
      "\n",
      "Model predictions binned: (Class label, Count): ((0.0, 101368), (69.0, 205832)) \n",
      "\n",
      "Target labels binned: (Class label, Count): ((0.0, 48207), (1.0, 7345), (2.0, 6824), (3.0, 6581), (4.0, 6311), (5.0, 5855), (6.0, 6811), (7.0, 8105), (8.0, 8406), (9.0, 7745), (10.0, 8055), (11.0, 8211), (12.0, 7782), (13.0, 7082), (14.0, 5604), (15.0, 4535), (16.0, 4367), (17.0, 3159), (18.0, 2949), (19.0, 2475), (20.0, 2263), (21.0, 2132), (22.0, 2052), (23.0, 2493), (24.0, 3018), (25.0, 4325), (26.0, 3172), (27.0, 2532), (28.0, 2182), (29.0, 2454), (30.0, 2408), (31.0, 2293), (32.0, 2251), (33.0, 2644), (34.0, 3003), (35.0, 3200), (36.0, 3398), (37.0, 3574), (38.0, 3818), (39.0, 3882), (40.0, 2967), (41.0, 2353), (42.0, 1856), (43.0, 1379), (44.0, 686), (45.0, 233), (46.0, 212), (47.0, 50), (48.0, 12), (49.0, 4), (50.0, 4), (51.0, 4), (69.0, 73937))\n"
     ]
    }
   ],
   "source": [
    "# sedi like a,b,d,c mean confusion matrix\n",
    "\n",
    "plt.figure(figsize=(12, 12))\n",
    "\n",
    "confm = confusion_matrix(all_targs, all_preds)\n",
    "plt.imshow(confm, cmap=plt.cm.viridis, interpolation=\"nearest\")\n",
    "plt.colorbar()\n",
    "plt.title(\n",
    "    \"Confusion matrix for cloud height predictions (Target count vs Prediction count)\"\n",
    ")\n",
    "plt.ylabel(\"Target height layer\")\n",
    "plt.xlabel(\"Predicted height layer\")\n",
    "plt.show()\n",
    "\n",
    "labels, counts = np.unique(all_preds, return_counts=True)\n",
    "bins_pred = tuple(zip(list(labels), list(counts)))\n",
    "labels, counts = np.unique(all_targs, return_counts=True)\n",
    "bins_targ = tuple(zip(list(labels), list(counts)))\n",
    "print(\"\\nModel predictions binned: (Class label, Count):\", bins_pred, \"\\n\")\n",
    "print(\"Target labels binned: (Class label, Count):\", bins_targ)"
   ]
  },
  {
   "cell_type": "code",
   "execution_count": 17,
   "id": "e6196557-6550-44fe-833b-c819cd4f4a42",
   "metadata": {},
   "outputs": [
    {
     "data": {
      "image/png": "[encoded data removed]",
      "text/plain": [
       "<Figure size 1440x1728 with 4 Axes>"
      ]
     },
     "metadata": {
      "needs_background": "light"
     },
     "output_type": "display_data"
    }
   ],
   "source": [
    "sed_like_conf_matrix = np.reshape(np.mean(np.array(abcd_list).T, axis=1), (2, 2))\n",
    "labels = [\"a\", \"b\", \"c\", \"d\"]\n",
    "fig = plt.figure(figsize=(20, 24))\n",
    "\n",
    "from matplotlib import colors\n",
    "\n",
    "divnorm = colors.Normalize(vmin=0.0)\n",
    "divnorm2 = colors.Normalize(vmin=0.0)\n",
    "\n",
    "ax1 = fig.add_subplot(121)\n",
    "im = ax1.imshow(\n",
    "    sed_like_conf_matrix, cmap=plt.cm.viridis, interpolation=\"nearest\", norm=divnorm\n",
    ")\n",
    "for i, lab in enumerate(labels):\n",
    "    ax1.text(i // 2, i % 2, lab, backgroundcolor=\"white\")\n",
    "plt.colorbar(im, fraction=0.046, pad=0.04)\n",
    "ax1.axis(\"off\")\n",
    "plt.title(\n",
    "    \"Confusion matrix for cloud height SED-like mean value across heights (a,b,c,d)\",\n",
    "    pad=20,\n",
    ")\n",
    "\n",
    "\n",
    "sed_like_conf_matrix_counts = np.reshape(\n",
    "    np.sum(np.array(abcd_list[0:54]).T, axis=1), (2, 2)\n",
    ")\n",
    "ax2 = fig.add_subplot(122)\n",
    "im2 = ax2.imshow(\n",
    "    sed_like_conf_matrix_counts,\n",
    "    cmap=plt.cm.viridis,\n",
    "    interpolation=\"nearest\",\n",
    "    norm=divnorm2,\n",
    ")\n",
    "for i, lab in enumerate(labels):\n",
    "    ax2.text(i // 2, i % 2, lab, backgroundcolor=\"white\")\n",
    "plt.colorbar(im2, fraction=0.046, pad=0.04)\n",
    "ax2.axis(\"off\")\n",
    "plt.title(\n",
    "    \"Confusion matrix for cloud height SED-like value: total counts before layer 54 (a,b,c,d)\",\n",
    "    pad=20,\n",
    ")\n",
    "plt.tight_layout(w_pad=15)\n",
    "\n",
    "plt.show()"
   ]
  },
  {
   "cell_type": "code",
   "execution_count": 18,
   "id": "4f588401-3c74-4144-9ae8-7a608f52e109",
   "metadata": {},
   "outputs": [],
   "source": [
    "# plots relating to how the training went\n",
    "# possible: plots fit to map data"
   ]
  }
 ],
 "metadata": {
  "kernelspec": {
   "display_name": ".conda-py-lightning Python (Conda)",
   "language": "python",
   "name": "conda-env-.conda-py-lightning-py"
  },
  "language_info": {
   "codemirror_mode": {
    "name": "ipython",
    "version": 3
   },
   "file_extension": ".py",
   "mimetype": "text/x-python",
   "name": "python",
   "nbconvert_exporter": "python",
   "pygments_lexer": "ipython3",
   "version": "3.10.6"
  }
 },
 "nbformat": 4,
 "nbformat_minor": 5
}
