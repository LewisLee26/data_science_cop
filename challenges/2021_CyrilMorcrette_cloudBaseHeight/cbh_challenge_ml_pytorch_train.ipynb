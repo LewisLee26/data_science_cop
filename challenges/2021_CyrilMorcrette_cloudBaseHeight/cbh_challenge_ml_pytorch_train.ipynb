{
 "cells": [
  {
   "cell_type": "markdown",
   "id": "6729aad1-261a-48fa-ae59-986428165ebd",
   "metadata": {},
   "source": [
    "# Training a neural network in PyTorch\n",
    "This notebook demonstrates training a classifier in PyTorch."
   ]
  },
  {
   "cell_type": "code",
   "execution_count": 1,
   "id": "ea2ebc23-4958-4cc3-8f6b-c30686f571eb",
   "metadata": {},
   "outputs": [
    {
     "name": "stdout",
     "output_type": "stream",
     "text": [
      "pl ver: 1.6.4\n"
     ]
    }
   ],
   "source": [
    "#file handling\n",
    "import zarr\n",
    "import os\n",
    "import dask\n",
    "import pathlib\n",
    "\n",
    "#math operators\n",
    "import numpy as np\n",
    "import dask.array \n",
    "\n",
    "#ml\n",
    "import torch\n",
    "import pytorch_lightning as pl\n",
    "print(\"pl ver:\", pl.__version__)\n",
    "\n",
    "# training helpers\n",
    "import mlflow.pytorch\n",
    "from mlflow.tracking import MlflowClient\n",
    "# import dask.distributed # sometimes breaks things\n",
    "# from dask.diagnostics import Profiler, ResourceProfiler, CacheProfiler\n",
    "from pytorch_lightning import Trainer, seed_everything\n",
    "\n",
    "# defined in directory (model related definitions)\n",
    "import cbh_torch_lstm \n",
    "import cbh_data_definitions\n",
    "\n",
    "from pytorch_lightning.callbacks import RichProgressBar # this progress bar works through jupyterHub on spice\n",
    "import datetime"
   ]
  },
  {
   "cell_type": "code",
   "execution_count": 4,
   "id": "508614de-9142-42df-811b-bba77c76bea2",
   "metadata": {},
   "outputs": [],
   "source": [
    "# import importlib\n",
    "# importlib.reload(cbh_torch_lstm)"
   ]
  },
  {
   "cell_type": "code",
   "execution_count": 5,
   "id": "c2d53e4d-26b1-4d18-a0b7-3f7232f73063",
   "metadata": {},
   "outputs": [],
   "source": [
    "root_data_directory = pathlib.Path(os.environ['SCRATCH']) / 'cbh_data'\n",
    "\n",
    "dev_data_path = root_data_directory / 'analysis_ready' / 'dev.zarr' \n",
    "training_data_path = root_data_directory / 'analysis_ready' / 'train.zarr'"
   ]
  },
  {
   "cell_type": "code",
   "execution_count": 6,
   "id": "c96b79fe-a8c4-4026-a77f-39d048642745",
   "metadata": {},
   "outputs": [
    {
     "name": "stdout",
     "output_type": "stream",
     "text": [
      "Loaded zarr, file information:\n",
      " Name        : /\n",
      "Type        : zarr.hierarchy.Group\n",
      "Read-only   : False\n",
      "Store type  : zarr.storage.DirectoryStore\n",
      "No. members : 3\n",
      "No. arrays  : 3\n",
      "No. groups  : 0\n",
      "Arrays      : cloud_volume_fraction_y.zarr, humidity_temp_pressure_x.zarr,\n",
      "            : onehot_cloud_base_height_y.zarr\n",
      " \n",
      "\n",
      "Loaded zarr, file information:\n",
      " Name        : /\n",
      "Type        : zarr.hierarchy.Group\n",
      "Read-only   : False\n",
      "Store type  : zarr.storage.DirectoryStore\n",
      "No. members : 3\n",
      "No. arrays  : 3\n",
      "No. groups  : 0\n",
      "Arrays      : cloud_volume_fraction_y.zarr, humidity_temp_pressure_x.zarr,\n",
      "            : onehot_cloud_base_height_y.zarr\n",
      " \n",
      "\n"
     ]
    }
   ],
   "source": [
    "train_input, train_labels, train_cloud_volume = cbh_data_definitions.load_data_from_zarr(training_data_path)\n",
    "dev_input, dev_labels, dev_cloud_volume = cbh_data_definitions.load_data_from_zarr(dev_data_path)"
   ]
  },
  {
   "cell_type": "code",
   "execution_count": 7,
   "id": "6c8b8915-497a-4d90-8ec2-971caa896dd3",
   "metadata": {},
   "outputs": [],
   "source": [
    "LIMIT_DATA = True\n",
    "if LIMIT_DATA:\n",
    "    train_input= train_input[:1000000]\n",
    "    train_labels =train_labels[:1000000]\n",
    "    train_cloud_volume =train_cloud_volume[:1000000]\n",
    "    dev_input= dev_input[:1000000]\n",
    "    dev_labels= dev_labels[:1000000]\n",
    "    dev_cloud_volume = dev_cloud_volume[:1000000]"
   ]
  },
  {
   "cell_type": "markdown",
   "id": "dffba27b-d62f-4bcd-8132-e668c3479e3b",
   "metadata": {},
   "source": [
    "## Define the network"
   ]
  },
  {
   "cell_type": "code",
   "execution_count": 8,
   "id": "b83e7351-b657-4e9b-8997-2d4022f8b5e3",
   "metadata": {},
   "outputs": [
    {
     "name": "stderr",
     "output_type": "stream",
     "text": [
      "Global seed set to 42\n"
     ]
    },
    {
     "data": {
      "text/plain": [
       "42"
      ]
     },
     "execution_count": 8,
     "metadata": {},
     "output_type": "execute_result"
    }
   ],
   "source": [
    "# enforce reproducibility\n",
    "seed_everything(42)"
   ]
  },
  {
   "cell_type": "markdown",
   "id": "0f0ab5c4-12e5-48cb-a947-f4f70a0e520e",
   "metadata": {},
   "source": [
    "## Perform the network initialization and training"
   ]
  },
  {
   "cell_type": "code",
   "execution_count": 9,
   "id": "6ce919a8-22f0-46c1-a895-6b7c07ccdba8",
   "metadata": {},
   "outputs": [],
   "source": [
    "height_dim = train_input.shape[1]\n",
    "\n",
    "# define model and hyperparameters\n",
    "layers = 1\n",
    "input_size = train_input.shape[2] # input size is the cell input (feat dim)\n",
    "output_size = 1 # for each height layer, predict one value for cloud base prob\n",
    "hidden_size = 8\n",
    "embed_size = 1\n",
    "BILSTM = False\n",
    "batch_first = True\n",
    "\n",
    "learn_rate = 0.003\n",
    "\n",
    "log_with_pl = True\n",
    "\n",
    "model = cbh_torch_lstm.CloudBaseLSTM(input_size, layers, hidden_size, output_size, height_dim, embed_size, BILSTM, batch_first, lr=learn_rate)\n",
    "\n",
    "# define training related hyperparameters\n",
    "\n",
    "epochs = 1\n",
    "max_time =\"00:02:20:00\" #dd:hh:mm:ss\n",
    "\n",
    "# after training parameters defined, load datasets into dataloaders (enforce 0 as workers on sys to prevent multiple packages\n",
    "# trying to parallelise while not communicating\n",
    "workers_on_system = 0\n",
    "collate_fn = cbh_data_definitions.dataloader_collate_with_dask\n",
    "batch_size = 2500"
   ]
  },
  {
   "cell_type": "code",
   "execution_count": 10,
   "id": "adc82bd5-20a8-4072-a266-4c162e41ed41",
   "metadata": {},
   "outputs": [
    {
     "name": "stdout",
     "output_type": "stream",
     "text": [
      "init cbh label, size: (100,)\n",
      "init cbh label, size: (100,)\n"
     ]
    }
   ],
   "source": [
    "train_loader, val_loader = None, None\n",
    "INTO_MEMORY = True\n",
    "if INTO_MEMORY:\n",
    "    train_loader = cbh_data_definitions.define_data_get_loader_into_memory(train_input, train_cloud_volume, train_labels, \n",
    "                                                                  batch_size=batch_size, \n",
    "                                                                  shuffle=True, \n",
    "                                                                  num_workers = workers_on_system, \n",
    "                                                                  collate_fn=collate_fn)\n",
    "    val_loader = cbh_data_definitions.define_data_get_loader_into_memory(dev_input, dev_cloud_volume, dev_labels, \n",
    "                                                                  batch_size=batch_size, \n",
    "                                                                  shuffle=False, \n",
    "                                                                  num_workers = workers_on_system, \n",
    "                                                                  collate_fn=collate_fn)\n",
    "else:\n",
    "    train_loader = cbh_data_definitions.define_data_get_loader(train_input, train_cloud_volume, train_labels, \n",
    "                                                                  batch_size=batch_size, \n",
    "                                                                  shuffle=True, \n",
    "                                                                  num_workers = workers_on_system, \n",
    "                                                                  collate_fn=collate_fn)\n",
    "    val_loader = cbh_data_definitions.define_data_get_loader(dev_input, dev_cloud_volume, dev_labels, \n",
    "                                                                  batch_size=batch_size, \n",
    "                                                                  shuffle=False, \n",
    "                                                                  num_workers = workers_on_system, \n",
    "                                                                  collate_fn=collate_fn)"
   ]
  },
  {
   "cell_type": "code",
   "execution_count": 14,
   "id": "2763eaf2-bedd-4834-a1f2-030b170d1899",
   "metadata": {},
   "outputs": [
    {
     "name": "stderr",
     "output_type": "stream",
     "text": [
      "GPU available: False, used: False\n",
      "TPU available: False, using: 0 TPU cores\n",
      "IPU available: False, using: 0 IPUs\n",
      "HPU available: False, using: 0 HPUs\n"
     ]
    }
   ],
   "source": [
    "# define trainer\n",
    "\n",
    "time_for_checkpoint =  datetime.timedelta(minutes=20)\n",
    "checkpoint_callback = pl.callbacks.ModelCheckpoint(train_time_interval=time_for_checkpoint)\n",
    "callbacks = [checkpoint_callback, RichProgressBar()]\n",
    "\n",
    "trainer = pl.Trainer(max_epochs = epochs, deterministic=True, check_val_every_n_epoch=1, devices=\"auto\", accelerator=\"auto\", max_time=max_time, enable_checkpointing=True, callbacks=callbacks)"
   ]
  },
  {
   "cell_type": "code",
   "execution_count": 15,
   "id": "39551462-62c9-4181-a41b-640463f4196c",
   "metadata": {},
   "outputs": [],
   "source": [
    "# setup mlflow logging\n",
    "\n",
    "mlflow.pytorch.autolog()"
   ]
  },
  {
   "cell_type": "code",
   "execution_count": 16,
   "id": "7c2dade6-a531-43b9-a88c-dcfb92937ab0",
   "metadata": {},
   "outputs": [
    {
     "name": "stderr",
     "output_type": "stream",
     "text": [
      "\n",
      "  | Name             | Type             | Params\n",
      "------------------------------------------------------\n",
      "0 | LSTM             | LSTM             | 232   \n",
      "1 | height_embedding | Embedding        | 70    \n",
      "2 | loss_fn_base     | CrossEntropyLoss | 0     \n",
      "3 | linearCap        | Linear           | 5.0 K \n",
      "------------------------------------------------------\n",
      "5.3 K     Trainable params\n",
      "0         Non-trainable params\n",
      "5.3 K     Total params\n",
      "0.021     Total estimated model params size (MB)\n"
     ]
    },
    {
     "data": {
      "application/vnd.jupyter.widget-view+json": {
       "model_id": "8bdb3b2be9614761abdc4de792eb4c2f",
       "version_major": 2,
       "version_minor": 0
      },
      "text/plain": [
       "Sanity Checking: 0it [00:00, ?it/s]"
      ]
     },
     "metadata": {},
     "output_type": "display_data"
    },
    {
     "name": "stdout",
     "output_type": "stream",
     "text": [
      "basetarg shape: torch.Size([100])\n",
      "basepred shape: torch.Size([100, 70])\n"
     ]
    },
    {
     "data": {
      "application/vnd.jupyter.widget-view+json": {
       "model_id": "14a06171205e40b395854a3911419b15",
       "version_major": 2,
       "version_minor": 0
      },
      "text/plain": [
       "Training: 0it [00:00, ?it/s]"
      ]
     },
     "metadata": {},
     "output_type": "display_data"
    },
    {
     "name": "stdout",
     "output_type": "stream",
     "text": [
      "basetarg shape: torch.Size([100])\n",
      "basepred shape: torch.Size([100, 70])\n"
     ]
    },
    {
     "data": {
      "application/vnd.jupyter.widget-view+json": {
       "model_id": "e53f98892db94324884be17c104a52af",
       "version_major": 2,
       "version_minor": 0
      },
      "text/plain": [
       "Validation: 0it [00:00, ?it/s]"
      ]
     },
     "metadata": {},
     "output_type": "display_data"
    },
    {
     "name": "stdout",
     "output_type": "stream",
     "text": [
      "basetarg shape: torch.Size([100])\n",
      "basepred shape: torch.Size([100, 70])\n"
     ]
    }
   ],
   "source": [
    "# run the training function \n",
    "with mlflow.start_run() as run:\n",
    "    trainer.fit(model=model, train_dataloaders=train_loader, val_dataloaders=val_loader)"
   ]
  },
  {
   "cell_type": "markdown",
   "id": "3ba52d2c-1212-4894-ad05-3a9f7761ccf2",
   "metadata": {},
   "source": [
    "## Display and evaluate results"
   ]
  },
  {
   "cell_type": "code",
   "execution_count": 37,
   "id": "888b7d7e-5158-42a9-b3f2-046dca3a218c",
   "metadata": {},
   "outputs": [],
   "source": [
    "def print_auto_logged_info(r):\n",
    "\n",
    "    tags = {k: v for k, v in r.data.tags.items() if not k.startswith(\"mlflow.\")}\n",
    "    artifacts = [f.path for f in MlflowClient().list_artifacts(r.info.run_id, \"model\")]\n",
    "    print(\"run_id: {}\".format(r.info.run_id))\n",
    "    print(\"artifacts: {}\".format(artifacts))\n",
    "    print(\"params: {}\".format(r.data.params))\n",
    "    print(\"metrics: {}\".format(r.data.metrics))\n",
    "    print(\"tags: {}\".format(tags))"
   ]
  },
  {
   "cell_type": "code",
   "execution_count": 38,
   "id": "c108cb0a-4886-40ac-8ab8-af913c5d3b53",
   "metadata": {},
   "outputs": [
    {
     "name": "stdout",
     "output_type": "stream",
     "text": [
      "run_id: 83f2be0e141a4657934459310c39c31a\n",
      "artifacts: []\n",
      "params: {'epochs': '1', 'optimizer_name': 'Adam', 'lr': '0.003', 'betas': '(0.9, 0.999)', 'eps': '1e-08', 'weight_decay': '0', 'amsgrad': 'False'}\n",
      "metrics: {}\n",
      "tags: {'Mode': 'training'}\n"
     ]
    }
   ],
   "source": [
    "# display mlflow output\n",
    "print_auto_logged_info(mlflow.get_run(run_id=run.info.run_id))\n",
    "mlflow.end_run()"
   ]
  },
  {
   "cell_type": "code",
   "execution_count": 39,
   "id": "e7a9ef9b-ef4f-4c02-9b9f-23fa53a1b263",
   "metadata": {},
   "outputs": [],
   "source": [
    "unique_save_str = datetime.now()\n",
    "trainer.save_checkpoint('final_out_try2.ckpt')"
   ]
  },
  {
   "cell_type": "code",
   "execution_count": null,
   "id": "1ce386db-e33d-42aa-90ff-8a4a4dd3be76",
   "metadata": {},
   "outputs": [],
   "source": []
  }
 ],
 "metadata": {
  "kernelspec": {
   "display_name": "Python 3",
   "language": "python",
   "name": "python3"
  },
  "language_info": {
   "codemirror_mode": {
    "name": "ipython",
    "version": 3
   },
   "file_extension": ".py",
   "mimetype": "text/x-python",
   "name": "python",
   "nbconvert_exporter": "python",
   "pygments_lexer": "ipython3",
   "version": "3.9.12"
  }
 },
 "nbformat": 4,
 "nbformat_minor": 5
}
