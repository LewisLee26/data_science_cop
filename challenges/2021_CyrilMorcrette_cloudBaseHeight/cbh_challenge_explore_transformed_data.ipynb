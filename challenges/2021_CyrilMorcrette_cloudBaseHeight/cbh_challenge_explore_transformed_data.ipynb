{
 "cells": [
  {
   "cell_type": "markdown",
   "id": "6729aad1-261a-48fa-ae59-986428165ebd",
   "metadata": {},
   "source": [
    "# Exploring transformed data\n",
    "\n",
    "This notebook explores and modifies data, after it has been transformed into a desired format.\n",
    "\n",
    "The exploration will help understanding of the data, and allow for any further changes that will be required for good practice in machine learning."
   ]
  },
  {
   "cell_type": "code",
   "execution_count": 1,
   "id": "ea2ebc23-4958-4cc3-8f6b-c30686f571eb",
   "metadata": {},
   "outputs": [
    {
     "name": "stdout",
     "output_type": "stream",
     "text": [
      "pl ver: 1.7.7\n",
      "mlflow ver: 1.30.0\n",
      "torch ver: 1.12.1\n",
      "Python ver: sys.version_info(major=3, minor=10, micro=6, releaselevel='final', serial=0)\n"
     ]
    }
   ],
   "source": [
    "# imports\n",
    "\n",
    "#file handling\n",
    "import os\n",
    "import pathlib\n",
    "import sys\n",
    "\n",
    "from pytorch_lightning.loggers import MLFlowLogger\n",
    "\n",
    "import dask\n",
    "import dask.array\n",
    "\n",
    "# math operators\n",
    "import numpy as np\n",
    "import pytorch_lightning as pl\n",
    "\n",
    "# ml\n",
    "import torch\n",
    "import zarr\n",
    "\n",
    "import datetime\n",
    "from tempfile import TemporaryDirectory\n",
    "\n",
    "# training helpers\n",
    "import mlflow.pytorch\n",
    "from dask.diagnostics import CacheProfiler, Profiler, ResourceProfiler, visualize\n",
    "from mlflow.tracking import MlflowClient\n",
    "from pytorch_lightning import Trainer, seed_everything\n",
    "from pytorch_lightning.callbacks import (\n",
    "    RichProgressBar,\n",
    ")  # this progress bar works through jupyterHub on spice\n",
    "\n",
    "# defined in directory (model related definitions)\n",
    "import cbh_data_definitions\n",
    "import cbh_torch_lstm\n",
    "import cbh_torch_MLP\n",
    "\n",
    "print(\"pl ver:\", pl.__version__)\n",
    "print(\"mlflow ver:\", mlflow.__version__)\n",
    "print(\"torch ver:\", torch.__version__)\n",
    "print(\"Python ver:\", sys.version_info)"
   ]
  },
  {
   "cell_type": "code",
   "execution_count": 2,
   "id": "508614de-9142-42df-811b-bba77c76bea2",
   "metadata": {},
   "outputs": [],
   "source": [
    "RELOAD_PACKAGES = True\n",
    "if RELOAD_PACKAGES:\n",
    "    import importlib\n",
    "    importlib.reload(cbh_torch_lstm)\n",
    "    importlib.reload(cbh_torch_MLP)\n",
    "    importlib.reload(cbh_data_definitions)"
   ]
  },
  {
   "cell_type": "code",
   "execution_count": 3,
   "id": "c2d53e4d-26b1-4d18-a0b7-3f7232f73063",
   "metadata": {},
   "outputs": [],
   "source": [
    "root_data_directory = pathlib.Path(os.environ[\"SCRATCH\"]) / \"cbh_data\"\n",
    "\n",
    "dev_data_path = root_data_directory / \"analysis_ready\" / \"dev.zarr\"\n",
    "training_data_path = root_data_directory / \"analysis_ready\" / \"train.zarr\"\n"
   ]
  },
  {
   "cell_type": "code",
   "execution_count": 4,
   "id": "c96b79fe-a8c4-4026-a77f-39d048642745",
   "metadata": {},
   "outputs": [
    {
     "name": "stdout",
     "output_type": "stream",
     "text": [
      "Loaded zarr, file information:\n",
      " Name              : /\n",
      "Type              : zarr.hierarchy.Group\n",
      "Read-only         : False\n",
      "Synchronizer type : zarr.sync.ThreadSynchronizer\n",
      "Store type        : zarr.storage.DirectoryStore\n",
      "No. members       : 3\n",
      "No. arrays        : 3\n",
      "No. groups        : 0\n",
      "Arrays            : cloud_base_label_y.zarr, cloud_volume_fraction_y.zarr,\n",
      "                  : humidity_temp_pressure_x.zarr\n",
      " \n",
      "\n",
      "Loaded zarr, file information:\n",
      " Name              : /\n",
      "Type              : zarr.hierarchy.Group\n",
      "Read-only         : False\n",
      "Synchronizer type : zarr.sync.ThreadSynchronizer\n",
      "Store type        : zarr.storage.DirectoryStore\n",
      "No. members       : 3\n",
      "No. arrays        : 3\n",
      "No. groups        : 0\n",
      "Arrays            : cloud_base_label_y.zarr, cloud_volume_fraction_y.zarr,\n",
      "                  : humidity_temp_pressure_x.zarr\n",
      " \n",
      "\n"
     ]
    },
    {
     "data": {
      "text/html": [
       "<table>\n",
       "    <tr>\n",
       "        <td>\n",
       "            <table>\n",
       "                <thead>\n",
       "                    <tr>\n",
       "                        <td> </td>\n",
       "                        <th> Array </th>\n",
       "                        <th> Chunk </th>\n",
       "                    </tr>\n",
       "                </thead>\n",
       "                <tbody>\n",
       "                    \n",
       "                    <tr>\n",
       "                        <th> Bytes </th>\n",
       "                        <td> 87.48 GiB </td>\n",
       "                        <td> 373.24 MiB </td>\n",
       "                    </tr>\n",
       "                    \n",
       "                    <tr>\n",
       "                        <th> Shape </th>\n",
       "                        <td> (111820800, 70, 3) </td>\n",
       "                        <td> (465920, 70, 3) </td>\n",
       "                    </tr>\n",
       "                    <tr>\n",
       "                        <th> Count </th>\n",
       "                        <td> 2 Graph Layers </td>\n",
       "                        <td> 240 Chunks </td>\n",
       "                    </tr>\n",
       "                    <tr>\n",
       "                    <th> Type </th>\n",
       "                    <td> float32 </td>\n",
       "                    <td> numpy.ndarray </td>\n",
       "                    </tr>\n",
       "                </tbody>\n",
       "            </table>\n",
       "        </td>\n",
       "        <td>\n",
       "        <svg width=\"156\" height=\"146\" style=\"stroke:rgb(0,0,0);stroke-width:1\" >\n",
       "\n",
       "  <!-- Horizontal lines -->\n",
       "  <line x1=\"10\" y1=\"0\" x2=\"80\" y2=\"70\" style=\"stroke-width:2\" />\n",
       "  <line x1=\"10\" y1=\"25\" x2=\"80\" y2=\"96\" style=\"stroke-width:2\" />\n",
       "\n",
       "  <!-- Vertical lines -->\n",
       "  <line x1=\"10\" y1=\"0\" x2=\"10\" y2=\"25\" style=\"stroke-width:2\" />\n",
       "  <line x1=\"13\" y1=\"3\" x2=\"13\" y2=\"28\" />\n",
       "  <line x1=\"17\" y1=\"7\" x2=\"17\" y2=\"32\" />\n",
       "  <line x1=\"20\" y1=\"10\" x2=\"20\" y2=\"36\" />\n",
       "  <line x1=\"24\" y1=\"14\" x2=\"24\" y2=\"40\" />\n",
       "  <line x1=\"28\" y1=\"18\" x2=\"28\" y2=\"43\" />\n",
       "  <line x1=\"32\" y1=\"22\" x2=\"32\" y2=\"47\" />\n",
       "  <line x1=\"35\" y1=\"25\" x2=\"35\" y2=\"51\" />\n",
       "  <line x1=\"39\" y1=\"29\" x2=\"39\" y2=\"55\" />\n",
       "  <line x1=\"43\" y1=\"33\" x2=\"43\" y2=\"58\" />\n",
       "  <line x1=\"47\" y1=\"37\" x2=\"47\" y2=\"62\" />\n",
       "  <line x1=\"50\" y1=\"40\" x2=\"50\" y2=\"66\" />\n",
       "  <line x1=\"54\" y1=\"44\" x2=\"54\" y2=\"69\" />\n",
       "  <line x1=\"58\" y1=\"48\" x2=\"58\" y2=\"73\" />\n",
       "  <line x1=\"61\" y1=\"51\" x2=\"61\" y2=\"77\" />\n",
       "  <line x1=\"65\" y1=\"55\" x2=\"65\" y2=\"81\" />\n",
       "  <line x1=\"69\" y1=\"59\" x2=\"69\" y2=\"84\" />\n",
       "  <line x1=\"72\" y1=\"62\" x2=\"72\" y2=\"88\" />\n",
       "  <line x1=\"76\" y1=\"66\" x2=\"76\" y2=\"92\" />\n",
       "  <line x1=\"80\" y1=\"70\" x2=\"80\" y2=\"96\" style=\"stroke-width:2\" />\n",
       "\n",
       "  <!-- Colored Rectangle -->\n",
       "  <polygon points=\"10.0,0.0 80.58823529411765,70.58823529411765 80.58823529411765,96.00085180870013 10.0,25.412616514582485\" style=\"fill:#8B4903A0;stroke-width:0\"/>\n",
       "\n",
       "  <!-- Horizontal lines -->\n",
       "  <line x1=\"10\" y1=\"0\" x2=\"35\" y2=\"0\" style=\"stroke-width:2\" />\n",
       "  <line x1=\"13\" y1=\"3\" x2=\"38\" y2=\"3\" />\n",
       "  <line x1=\"17\" y1=\"7\" x2=\"42\" y2=\"7\" />\n",
       "  <line x1=\"20\" y1=\"10\" x2=\"46\" y2=\"10\" />\n",
       "  <line x1=\"24\" y1=\"14\" x2=\"50\" y2=\"14\" />\n",
       "  <line x1=\"28\" y1=\"18\" x2=\"53\" y2=\"18\" />\n",
       "  <line x1=\"32\" y1=\"22\" x2=\"57\" y2=\"22\" />\n",
       "  <line x1=\"35\" y1=\"25\" x2=\"61\" y2=\"25\" />\n",
       "  <line x1=\"39\" y1=\"29\" x2=\"65\" y2=\"29\" />\n",
       "  <line x1=\"43\" y1=\"33\" x2=\"68\" y2=\"33\" />\n",
       "  <line x1=\"47\" y1=\"37\" x2=\"72\" y2=\"37\" />\n",
       "  <line x1=\"50\" y1=\"40\" x2=\"76\" y2=\"40\" />\n",
       "  <line x1=\"54\" y1=\"44\" x2=\"79\" y2=\"44\" />\n",
       "  <line x1=\"58\" y1=\"48\" x2=\"83\" y2=\"48\" />\n",
       "  <line x1=\"61\" y1=\"51\" x2=\"87\" y2=\"51\" />\n",
       "  <line x1=\"65\" y1=\"55\" x2=\"91\" y2=\"55\" />\n",
       "  <line x1=\"69\" y1=\"59\" x2=\"94\" y2=\"59\" />\n",
       "  <line x1=\"72\" y1=\"62\" x2=\"98\" y2=\"62\" />\n",
       "  <line x1=\"76\" y1=\"66\" x2=\"102\" y2=\"66\" />\n",
       "  <line x1=\"80\" y1=\"70\" x2=\"106\" y2=\"70\" style=\"stroke-width:2\" />\n",
       "\n",
       "  <!-- Vertical lines -->\n",
       "  <line x1=\"10\" y1=\"0\" x2=\"80\" y2=\"70\" style=\"stroke-width:2\" />\n",
       "  <line x1=\"35\" y1=\"0\" x2=\"106\" y2=\"70\" style=\"stroke-width:2\" />\n",
       "\n",
       "  <!-- Colored Rectangle -->\n",
       "  <polygon points=\"10.0,0.0 35.41261651458248,0.0 106.00085180870013,70.58823529411765 80.58823529411765,70.58823529411765\" style=\"fill:#8B4903A0;stroke-width:0\"/>\n",
       "\n",
       "  <!-- Horizontal lines -->\n",
       "  <line x1=\"80\" y1=\"70\" x2=\"106\" y2=\"70\" style=\"stroke-width:2\" />\n",
       "  <line x1=\"80\" y1=\"96\" x2=\"106\" y2=\"96\" style=\"stroke-width:2\" />\n",
       "\n",
       "  <!-- Vertical lines -->\n",
       "  <line x1=\"80\" y1=\"70\" x2=\"80\" y2=\"96\" style=\"stroke-width:2\" />\n",
       "  <line x1=\"106\" y1=\"70\" x2=\"106\" y2=\"96\" style=\"stroke-width:2\" />\n",
       "\n",
       "  <!-- Colored Rectangle -->\n",
       "  <polygon points=\"80.58823529411765,70.58823529411765 106.00085180870013,70.58823529411765 106.00085180870013,96.00085180870013 80.58823529411765,96.00085180870013\" style=\"fill:#ECB172A0;stroke-width:0\"/>\n",
       "\n",
       "  <!-- Text -->\n",
       "  <text x=\"93.294544\" y=\"116.000852\" font-size=\"1.0rem\" font-weight=\"100\" text-anchor=\"middle\" >3</text>\n",
       "  <text x=\"126.000852\" y=\"83.294544\" font-size=\"1.0rem\" font-weight=\"100\" text-anchor=\"middle\" transform=\"rotate(0,126.000852,83.294544)\">70</text>\n",
       "  <text x=\"35.294118\" y=\"80.706734\" font-size=\"1.0rem\" font-weight=\"100\" text-anchor=\"middle\" transform=\"rotate(45,35.294118,80.706734)\">111820800</text>\n",
       "</svg>\n",
       "        </td>\n",
       "    </tr>\n",
       "</table>"
      ],
      "text/plain": [
       "dask.array<from-zarr, shape=(111820800, 70, 3), dtype=float32, chunksize=(465920, 70, 3), chunktype=numpy.ndarray>"
      ]
     },
     "execution_count": 4,
     "metadata": {},
     "output_type": "execute_result"
    }
   ],
   "source": [
    "(\n",
    "    train_input,\n",
    "    train_labels,\n",
    "    _,\n",
    ") = cbh_data_definitions.load_data_from_zarr(training_data_path)\n",
    "\n",
    "(\n",
    "    dev_input, \n",
    "    dev_labels, \n",
    "    _\n",
    ") = cbh_data_definitions.load_data_from_zarr(dev_data_path)\n",
    "\n",
    "# the cloud volume is not needed for the task, so isn't saved on the load\n",
    "#show a chunk, used to inform dask cache size\n",
    "train_input"
   ]
  },
  {
   "cell_type": "code",
   "execution_count": 5,
   "id": "4d3fa600-deb6-430b-9b58-d1b710cae267",
   "metadata": {},
   "outputs": [],
   "source": [
    "display_data_info = False\n",
    "if display_data_info:\n",
    "    import matplotlib.pyplot as plt\n",
    "    labels, counts = np.unique(train_labels, return_counts=True)\n",
    "    print('ok')\n",
    "    labels = labels.compute()\n",
    "    print('done')\n",
    "    counts = counts.compute()\n",
    "    bins_targ = tuple(zip(list(labels), list(counts)))\n",
    "    print(\"\\nModel predictions binned: (Class label, Count):\", bins_targ, \"\\n\")\n",
    "    print(\"Percentage of samples with cloud bases:\", np.sum(counts[0:-1]) / (np.sum(counts[-1]) + np.sum(counts[0:-1])))\n",
    "    fig, ax = plt.subplots(1,2,figsize=(10,10))\n",
    "    len_samples = len(train_labels)\n",
    "    ax[0].pie(counts, labels=labels)\n",
    "    ax[1].pie([np.sum(counts[0:-1]), np.sum(counts[-1])], labels=[1,0])\n",
    "    ax[0].legend(labels, fontsize=6)\n",
    "    plt.show()"
   ]
  },
  {
   "cell_type": "markdown",
   "id": "ebab6021-9fe9-467d-bcfa-e92f1a50befa",
   "metadata": {},
   "source": [
    "randomize data"
   ]
  },
  {
   "cell_type": "code",
   "execution_count": 6,
   "id": "9e5900ca-4aac-4ccf-ad67-2e616b35daf5",
   "metadata": {},
   "outputs": [
    {
     "name": "stdout",
     "output_type": "stream",
     "text": [
      "Start permutation gen\n",
      "End permutation gen\n"
     ]
    }
   ],
   "source": [
    "np.random.seed(42)\n",
    "print(\"Start permutation gen\")\n",
    "p = np.random.permutation(len(train_input))\n",
    "p_dev = np.random.permutation(len(dev_input))\n",
    "print(\"End permutation gen\")"
   ]
  },
  {
   "cell_type": "code",
   "execution_count": 7,
   "id": "d9658d7c-4e0f-4ef2-a4dd-26b7586ea7bf",
   "metadata": {},
   "outputs": [
    {
     "name": "stdout",
     "output_type": "stream",
     "text": [
      "[########################################] | 100% Completed | 58.82 s\n",
      "[########################################] | 100% Completed | 7.27 sms\n"
     ]
    }
   ],
   "source": [
    "from dask.diagnostics import ProgressBar, ResourceProfiler\n",
    "#progressbar sits at 100% for a while thus time reporting is not correct\n",
    "with ProgressBar():\n",
    "    train_input = train_input.compute()\n",
    "with ProgressBar():\n",
    "    train_labels = train_labels.compute()"
   ]
  },
  {
   "cell_type": "code",
   "execution_count": 9,
   "id": "d73cc178-8090-4611-aa9d-56d289496e18",
   "metadata": {},
   "outputs": [],
   "source": [
    "train_inputp = train_input[p]\n",
    "train_labelsp = train_labels[p]"
   ]
  },
  {
   "cell_type": "code",
   "execution_count": 10,
   "id": "1d1ce6b9-cfac-4c58-ae7f-b09bf680c108",
   "metadata": {},
   "outputs": [],
   "source": [
    "train_input = train_inputp\n",
    "train_labels = train_labelsp"
   ]
  },
  {
   "cell_type": "markdown",
   "id": "bbc90462-db62-47ed-80fd-fe6505d426c7",
   "metadata": {},
   "source": [
    "### calculate good chunksize - 4gb per chunk as random chunks come about for one chunk at a time strategy, 4gb is reasonable to store in majority of cases\n",
    "87.48GB = 111820800 samples\n",
    "373.24MB = 465920 samples\n",
    "\n",
    "approx 1250000 samples per GB, so desire 5000000 sample chunksize\n",
    "\n",
    "5000000 in not a factor of the len however, so choose closest factor - and it might be worth considering the length of the validation set too\n",
    "\n",
    "closest factor of train set: 5324800\n",
    "closest factor of dev: (len) 307200\n",
    "\n",
    "HOWEVER: the codec for chunk compression handles only a max of 2GB, so must go lower - max size turns out to be 2329600"
   ]
  },
  {
   "cell_type": "code",
   "execution_count": 11,
   "id": "a722b238-4818-4a9d-a1ed-55a9058db2f0",
   "metadata": {},
   "outputs": [
    {
     "name": "stdout",
     "output_type": "stream",
     "text": [
      "train dev gcd: 307200\n",
      "Factors of train:  [1, 2, 3, 4, 5, 6, 7, 8, 10, 12, 13, 14, 15, 16, 20, 21, 24, 25, 26, 28, 30, 32, 35, 39, 40, 42, 48, 50, 52, 56, 60, 64, 65, 70, 75, 78, 80, 84, 91, 96, 100, 104, 105, 112, 120, 128, 130, 140, 150, 156, 160, 168, 175, 182, 192, 195, 200, 208, 210, 224, 240, 256, 260, 273, 280, 300, 312, 320, 325, 336, 350, 364, 384, 390, 400, 416, 420, 448, 455, 480, 512, 520, 525, 546, 560, 600, 624, 640, 650, 672, 700, 728, 768, 780, 800, 832, 840, 896, 910, 960, 975, 1024, 1040, 1050, 1092, 1120, 1200, 1248, 1280, 1300, 1344, 1365, 1400, 1456, 1536, 1560, 1600, 1664, 1680, 1792, 1820, 1920, 1950, 2048, 2080, 2100, 2184, 2240, 2275, 2400, 2496, 2560, 2600, 2688, 2730, 2800, 2912, 3072, 3120, 3200, 3328, 3360, 3584, 3640, 3840, 3900, 4096, 4160, 4200, 4368, 4480, 4550, 4800, 4992, 5120, 5200, 5376, 5460, 5600, 5824, 6144, 6240, 6400, 6656, 6720, 6825, 7168, 7280, 7680, 7800, 8192, 8320, 8400, 8736, 8960, 9100, 9600, 9984, 10240, 10400, 10752, 10920, 11200, 11648, 12288, 12480, 12800, 13312, 13440, 13650, 14336, 14560, 15360, 15600, 16384, 16640, 16800, 17472, 17920, 18200, 19200, 19968, 20480, 20800, 21504, 21840, 22400, 23296, 24576, 24960, 25600, 26624, 26880, 27300, 28672, 29120, 30720, 31200, 33280, 33600, 34944, 35840, 36400, 38400, 39936, 40960, 41600, 43008, 43680, 44800, 46592, 49152, 49920, 51200, 53248, 53760, 54600, 57344, 58240, 61440, 62400, 66560, 67200, 69888, 71680, 72800, 76800, 79872, 81920, 83200, 86016, 87360, 89600, 93184, 99840, 102400, 106496, 107520, 109200, 114688, 116480, 122880, 124800, 133120, 134400, 139776, 143360, 145600, 153600, 159744, 166400, 172032, 174720, 179200, 186368, 199680, 204800, 212992, 215040, 218400, 232960, 245760, 249600, 266240, 268800, 279552, 286720, 291200, 307200, 319488, 332800, 344064, 349440, 358400, 372736, 399360, 409600, 430080, 436800, 465920, 499200, 532480, 537600, 559104, 573440, 582400, 614400, 638976, 665600, 698880, 716800, 745472, 798720, 860160, 873600, 931840, 998400, 1064960, 1075200, 1118208, 1164800, 1228800, 1331200, 1397760, 1433600, 1490944, 1597440, 1720320, 1747200, 1863680, 1996800, 2150400, 2236416, 2329600, 2662400, 2795520, 2867200, 3194880, 3494400, 3727360, 3993600, 4300800, 4472832, 4659200, 5324800, 5591040, 6988800, 7454720, 7987200, 8601600, 9318400, 11182080, 13977600, 15974400, 18636800, 22364160, 27955200, 37273600, 55910400, 111820800]\n",
      "Factors of dev:  [1, 2, 3, 4, 5, 6, 8, 10, 12, 15, 16, 20, 24, 25, 30, 32, 40, 48, 50, 60, 64, 75, 80, 96, 100, 120, 128, 150, 160, 192, 200, 240, 256, 300, 320, 384, 400, 480, 512, 600, 640, 768, 800, 960, 1024, 1200, 1280, 1536, 1600, 1920, 2048, 2400, 2560, 3072, 3200, 3840, 4096, 4800, 5120, 6144, 6400, 7680, 9600, 10240, 12288, 12800, 15360, 19200, 20480, 25600, 30720, 38400, 51200, 61440, 76800, 102400, 153600, 307200]\n"
     ]
    }
   ],
   "source": [
    "print(\"train dev gcd:\", np.gcd(len(train_input), len(dev_input)))\n",
    "print(\"Factors of train: \", [n for n in range(1, len(train_input) + 1) if len(train_input) % n == 0])\n",
    "print(\"Factors of dev: \", [n for n in range(1, len(dev_input) + 1) if len(dev_input) % n == 0])"
   ]
  },
  {
   "cell_type": "code",
   "execution_count": 12,
   "id": "e6692352-e435-4bce-afbc-6fb8d497533b",
   "metadata": {},
   "outputs": [
    {
     "name": "stdout",
     "output_type": "stream",
     "text": [
      "Start save 1\n",
      "End save 1\n",
      "Start save 2\n",
      "End save 2\n"
     ]
    }
   ],
   "source": [
    "import zarr\n",
    "root_data_directory = pathlib.Path(os.environ[\"SCRATCH\"]) / \"cbh_data\"\n",
    "\n",
    "path_to_save_zarr_train = (\n",
    "    root_data_directory / \"analysis_ready\" / \"train_randomized.zarr\"\n",
    ")  # output for zarr files\n",
    "\n",
    "store = zarr.DirectoryStore(path_to_save_zarr_train)\n",
    "# define objected for arrays to be grouped under\n",
    "\n",
    "zarr_grouping = zarr.group(store=store, overwrite=True)\n",
    "\n",
    "# initialize and then write on zarr arrays for all desired arrays to be saved\n",
    "\n",
    "cloud_base_label_y = zarr_grouping.zeros(\n",
    "        shape=train_labels.shape,\n",
    "        dtype=train_labels.dtype,\n",
    "        name=\"cloud_base_label_y.zarr\",\n",
    "        chunks=(2329600),\n",
    "    )\n",
    "    \n",
    "print(\"Start save 1\")\n",
    "cloud_base_label_y[:] = train_labels\n",
    "print(\"End save 1\")\n",
    "\n",
    "\n",
    "humidity_temp_pressure_x = zarr_grouping.zeros(\n",
    "        shape=train_input.shape,\n",
    "        dtype=train_input.dtype,\n",
    "        name=\"humidity_temp_pressure_x.zarr\",\n",
    "        chunks=(2329600, 70, 3),\n",
    "    )\n",
    "print(\"Start save 2\")\n",
    "humidity_temp_pressure_x[:] = train_input\n",
    "print(\"End save 2\")\n"
   ]
  },
  {
   "cell_type": "code",
   "execution_count": 13,
   "id": "87a62deb-f20e-41ad-b3be-78c739f1f2b4",
   "metadata": {},
   "outputs": [
    {
     "name": "stderr",
     "output_type": "stream",
     "text": [
      "/var/tmp/ipykernel_21558/2334097858.py:5: PerformanceWarning: Slicing with an out-of-order index is generating 27630 times more chunks\n",
      "  dev_input = dev_input[p_dev].compute()\n",
      "/var/tmp/ipykernel_21558/2334097858.py:6: PerformanceWarning: Slicing with an out-of-order index is generating 68220 times more chunks\n",
      "  dev_labels = dev_labels[p_dev].compute()\n"
     ]
    }
   ],
   "source": [
    "del train_input\n",
    "del train_inputp\n",
    "del train_labelsp\n",
    "del train_labels\n",
    "dev_input = dev_input[p_dev].compute()\n",
    "dev_labels = dev_labels[p_dev].compute()"
   ]
  },
  {
   "cell_type": "code",
   "execution_count": 14,
   "id": "e0ba93fb-af71-4f93-809e-379247e1ceed",
   "metadata": {},
   "outputs": [
    {
     "name": "stdout",
     "output_type": "stream",
     "text": [
      "Start save 1\n",
      "End save 1\n",
      "Start save 2\n",
      "End save 2\n"
     ]
    }
   ],
   "source": [
    "import zarr\n",
    "root_data_directory = pathlib.Path(os.environ[\"SCRATCH\"]) / \"cbh_data\"\n",
    "\n",
    "path_to_save_zarr_train = (\n",
    "    root_data_directory / \"analysis_ready\" / \"dev_randomized.zarr\"\n",
    ")  # output for zarr files\n",
    "\n",
    "store = zarr.DirectoryStore(path_to_save_zarr_train)\n",
    "# define objected for arrays to be grouped under\n",
    "\n",
    "zarr_grouping = zarr.group(store=store, overwrite=True)\n",
    "\n",
    "# initialize and then write on zarr arrays for all desired arrays to be saved\n",
    "\n",
    "cloud_base_label_y = zarr_grouping.zeros(\n",
    "        shape=dev_labels.shape,\n",
    "        dtype=dev_labels.dtype,\n",
    "        name=\"cloud_base_label_y.zarr\",\n",
    "        chunks=(len(dev_labels))\n",
    "    )\n",
    "    \n",
    "print(\"Start save 1\")\n",
    "cloud_base_label_y[:] = dev_labels\n",
    "print(\"End save 1\")\n",
    "\n",
    "\n",
    "humidity_temp_pressure_x = zarr_grouping.zeros(\n",
    "        shape=dev_input.shape,\n",
    "        dtype=dev_input.dtype,\n",
    "        name=\"humidity_temp_pressure_x.zarr\",\n",
    "        chunks=(len(dev_input), 70, 3),\n",
    "    )\n",
    "print(\"Start save 2\")\n",
    "humidity_temp_pressure_x[:] = dev_input\n",
    "print(\"End save 2\")\n"
   ]
  },
  {
   "cell_type": "code",
   "execution_count": null,
   "id": "1b55dd35-1a28-49b2-8b9d-ef63843b20dc",
   "metadata": {},
   "outputs": [],
   "source": []
  }
 ],
 "metadata": {
  "kernelspec": {
   "display_name": ".conda-py-lightning Python (Conda)",
   "language": "python",
   "name": "conda-env-.conda-py-lightning-py"
  },
  "language_info": {
   "codemirror_mode": {
    "name": "ipython",
    "version": 3
   },
   "file_extension": ".py",
   "mimetype": "text/x-python",
   "name": "python",
   "nbconvert_exporter": "python",
   "pygments_lexer": "ipython3",
   "version": "3.10.6"
  }
 },
 "nbformat": 4,
 "nbformat_minor": 5
}
