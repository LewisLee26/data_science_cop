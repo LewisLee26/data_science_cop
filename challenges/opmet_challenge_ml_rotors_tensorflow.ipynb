{
 "cells": [
  {
   "cell_type": "markdown",
   "id": "future-actor",
   "metadata": {
    "tags": []
   },
   "source": [
    "# Training a neural network in Tensorflow\n",
    "\n",
    "This notebook demonstrates training a classifier in Tensorflow, which should mirror what has been done in the scikit-learn notebooks. This is based on the training scripts and the Neural Network architecture they contained, created by Cyril Morecrettte."
   ]
  },
  {
   "cell_type": "code",
   "execution_count": 1,
   "id": "patient-joining",
   "metadata": {},
   "outputs": [],
   "source": [
    "import pathlib\n",
    "import os\n",
    "import datetime\n",
    "import math\n",
    "import functools\n",
    "import numpy"
   ]
  },
  {
   "cell_type": "code",
   "execution_count": 2,
   "id": "complete-angola",
   "metadata": {},
   "outputs": [],
   "source": [
    "import pandas"
   ]
  },
  {
   "cell_type": "code",
   "execution_count": 3,
   "id": "meaningful-passion",
   "metadata": {},
   "outputs": [],
   "source": [
    "import iris"
   ]
  },
  {
   "cell_type": "code",
   "execution_count": 4,
   "id": "medical-flood",
   "metadata": {},
   "outputs": [],
   "source": [
    "import matplotlib"
   ]
  },
  {
   "cell_type": "code",
   "execution_count": 5,
   "id": "surface-wireless",
   "metadata": {},
   "outputs": [],
   "source": [
    "%matplotlib inline"
   ]
  },
  {
   "cell_type": "code",
   "execution_count": 6,
   "id": "affecting-instruction",
   "metadata": {},
   "outputs": [],
   "source": [
    "import sklearn\n",
    "import sklearn.preprocessing\n",
    "import sklearn.metrics"
   ]
  },
  {
   "cell_type": "code",
   "execution_count": 7,
   "id": "premium-wilderness",
   "metadata": {},
   "outputs": [],
   "source": [
    "import tensorflow\n",
    "\n",
    "import tensorflow.keras\n",
    "import tensorflow.keras.layers\n",
    "import tensorflow.keras.models\n",
    "import tensorflow.keras.optimizers\n",
    "import tensorflow.keras.metrics\n",
    "import tensorflow.keras.layers\n",
    "import tensorflow.keras.constraints"
   ]
  },
  {
   "cell_type": "code",
   "execution_count": 8,
   "id": "subtle-holder",
   "metadata": {},
   "outputs": [
    {
     "data": {
      "text/plain": [
       "PosixPath('/Users/stephen.haddad/data/ml_challenges')"
      ]
     },
     "execution_count": 8,
     "metadata": {},
     "output_type": "execute_result"
    }
   ],
   "source": [
    "try:\n",
    "    root_data_dir = pathlib.Path(os.environ['OPMET_DATA_ROOT'])\n",
    "except KeyError:\n",
    "    root_data_dir = pathlib.Path('/project/informatics_lab/data_science_cop/ML_challenges/2021_opmet_challenge')\n",
    "root_data_dir  "
   ]
  },
  {
   "cell_type": "code",
   "execution_count": 9,
   "id": "normal-dominant",
   "metadata": {},
   "outputs": [
    {
     "data": {
      "text/plain": [
       "PosixPath('/Users/stephen.haddad/prog/data_science_cop/challenges')"
      ]
     },
     "execution_count": 9,
     "metadata": {},
     "output_type": "execute_result"
    }
   ],
   "source": [
    "try:\n",
    "    project_output_dir = pathlib.Path(os.environ['OPMET_OUTPUT'])\n",
    "except KeyError:\n",
    "    project_output_dir = pathlib.Path().absolute()\n",
    "project_output_dir"
   ]
  },
  {
   "cell_type": "markdown",
   "id": "impossible-fourth",
   "metadata": {
    "tags": []
   },
   "source": [
    "## Loading Falklands Rotor Data"
   ]
  },
  {
   "cell_type": "code",
   "execution_count": 10,
   "id": "lyric-banking",
   "metadata": {},
   "outputs": [
    {
     "data": {
      "text/plain": [
       "PosixPath('/Users/stephen.haddad/data/ml_challenges/Rotors')"
      ]
     },
     "execution_count": 10,
     "metadata": {},
     "output_type": "execute_result"
    }
   ],
   "source": [
    "root_data_dir.joinpath('Rotors')"
   ]
  },
  {
   "cell_type": "code",
   "execution_count": 11,
   "id": "administrative-comparison",
   "metadata": {},
   "outputs": [
    {
     "data": {
      "text/plain": [
       "PosixPath('/Users/stephen.haddad/data/ml_challenges/Rotors')"
      ]
     },
     "execution_count": 11,
     "metadata": {},
     "output_type": "execute_result"
    }
   ],
   "source": [
    "falklands_dir = 'Rotors'\n",
    "falklands_data_path = root_data_dir.joinpath(falklands_dir)\n",
    "falklands_data_path"
   ]
  },
  {
   "cell_type": "code",
   "execution_count": 12,
   "id": "medical-alexander",
   "metadata": {},
   "outputs": [
    {
     "data": {
      "text/plain": [
       "PosixPath('/Users/stephen.haddad/data/ml_challenges/Rotors/new_training.csv')"
      ]
     },
     "execution_count": 12,
     "metadata": {},
     "output_type": "execute_result"
    }
   ],
   "source": [
    "falklands_new_training_data_path = falklands_data_path.joinpath( 'new_training.csv')\n",
    "falklands_new_training_data_path"
   ]
  },
  {
   "cell_type": "code",
   "execution_count": 13,
   "id": "informed-chart",
   "metadata": {},
   "outputs": [
    {
     "data": {
      "text/html": [
       "<div>\n",
       "<style scoped>\n",
       "    .dataframe tbody tr th:only-of-type {\n",
       "        vertical-align: middle;\n",
       "    }\n",
       "\n",
       "    .dataframe tbody tr th {\n",
       "        vertical-align: top;\n",
       "    }\n",
       "\n",
       "    .dataframe thead th {\n",
       "        text-align: right;\n",
       "    }\n",
       "</style>\n",
       "<table border=\"1\" class=\"dataframe\">\n",
       "  <thead>\n",
       "    <tr style=\"text-align: right;\">\n",
       "      <th></th>\n",
       "      <th>DTG</th>\n",
       "      <th>air_temp_obs</th>\n",
       "      <th>dewpoint_obs</th>\n",
       "      <th>wind_direction_obs</th>\n",
       "      <th>wind_speed_obs</th>\n",
       "      <th>wind_gust_obs</th>\n",
       "      <th>air_temp_1</th>\n",
       "      <th>air_temp_2</th>\n",
       "      <th>air_temp_3</th>\n",
       "      <th>air_temp_4</th>\n",
       "      <th>...</th>\n",
       "      <th>windspd_18</th>\n",
       "      <th>winddir_19</th>\n",
       "      <th>windspd_19</th>\n",
       "      <th>winddir_20</th>\n",
       "      <th>windspd_20</th>\n",
       "      <th>winddir_21</th>\n",
       "      <th>windspd_21</th>\n",
       "      <th>winddir_22</th>\n",
       "      <th>windspd_22</th>\n",
       "      <th>Rotors 1 is true</th>\n",
       "    </tr>\n",
       "  </thead>\n",
       "  <tbody>\n",
       "    <tr>\n",
       "      <th>1</th>\n",
       "      <td>01/01/2015 00:00</td>\n",
       "      <td>283.9</td>\n",
       "      <td>280.7</td>\n",
       "      <td>110.0</td>\n",
       "      <td>4.1</td>\n",
       "      <td>-9999999.0</td>\n",
       "      <td>284.000</td>\n",
       "      <td>283.625</td>\n",
       "      <td>283.250</td>\n",
       "      <td>282.625</td>\n",
       "      <td>...</td>\n",
       "      <td>5.8</td>\n",
       "      <td>341.0</td>\n",
       "      <td>6.0</td>\n",
       "      <td>334.0</td>\n",
       "      <td>6.1</td>\n",
       "      <td>330.0</td>\n",
       "      <td>6.0</td>\n",
       "      <td>329.0</td>\n",
       "      <td>5.8</td>\n",
       "      <td>NaN</td>\n",
       "    </tr>\n",
       "    <tr>\n",
       "      <th>2</th>\n",
       "      <td>01/01/2015 03:00</td>\n",
       "      <td>280.7</td>\n",
       "      <td>279.7</td>\n",
       "      <td>90.0</td>\n",
       "      <td>7.7</td>\n",
       "      <td>-9999999.0</td>\n",
       "      <td>281.500</td>\n",
       "      <td>281.250</td>\n",
       "      <td>280.750</td>\n",
       "      <td>280.250</td>\n",
       "      <td>...</td>\n",
       "      <td>6.8</td>\n",
       "      <td>344.0</td>\n",
       "      <td>5.3</td>\n",
       "      <td>348.0</td>\n",
       "      <td>3.8</td>\n",
       "      <td>360.0</td>\n",
       "      <td>3.2</td>\n",
       "      <td>12.0</td>\n",
       "      <td>3.5</td>\n",
       "      <td>NaN</td>\n",
       "    </tr>\n",
       "    <tr>\n",
       "      <th>3</th>\n",
       "      <td>01/01/2015 06:00</td>\n",
       "      <td>279.8</td>\n",
       "      <td>278.1</td>\n",
       "      <td>100.0</td>\n",
       "      <td>7.7</td>\n",
       "      <td>-9999999.0</td>\n",
       "      <td>279.875</td>\n",
       "      <td>279.625</td>\n",
       "      <td>279.125</td>\n",
       "      <td>278.625</td>\n",
       "      <td>...</td>\n",
       "      <td>6.0</td>\n",
       "      <td>345.0</td>\n",
       "      <td>5.5</td>\n",
       "      <td>358.0</td>\n",
       "      <td>5.0</td>\n",
       "      <td>10.0</td>\n",
       "      <td>4.2</td>\n",
       "      <td>38.0</td>\n",
       "      <td>4.0</td>\n",
       "      <td>NaN</td>\n",
       "    </tr>\n",
       "    <tr>\n",
       "      <th>4</th>\n",
       "      <td>01/01/2015 09:00</td>\n",
       "      <td>279.9</td>\n",
       "      <td>277.0</td>\n",
       "      <td>120.0</td>\n",
       "      <td>7.2</td>\n",
       "      <td>-9999999.0</td>\n",
       "      <td>279.625</td>\n",
       "      <td>279.250</td>\n",
       "      <td>278.875</td>\n",
       "      <td>278.250</td>\n",
       "      <td>...</td>\n",
       "      <td>3.1</td>\n",
       "      <td>338.0</td>\n",
       "      <td>3.5</td>\n",
       "      <td>354.0</td>\n",
       "      <td>3.9</td>\n",
       "      <td>9.0</td>\n",
       "      <td>4.4</td>\n",
       "      <td>22.0</td>\n",
       "      <td>4.6</td>\n",
       "      <td>NaN</td>\n",
       "    </tr>\n",
       "    <tr>\n",
       "      <th>5</th>\n",
       "      <td>01/01/2015 12:00</td>\n",
       "      <td>279.9</td>\n",
       "      <td>277.4</td>\n",
       "      <td>120.0</td>\n",
       "      <td>8.7</td>\n",
       "      <td>-9999999.0</td>\n",
       "      <td>279.250</td>\n",
       "      <td>278.875</td>\n",
       "      <td>278.375</td>\n",
       "      <td>277.875</td>\n",
       "      <td>...</td>\n",
       "      <td>1.6</td>\n",
       "      <td>273.0</td>\n",
       "      <td>2.0</td>\n",
       "      <td>303.0</td>\n",
       "      <td>2.3</td>\n",
       "      <td>329.0</td>\n",
       "      <td>2.5</td>\n",
       "      <td>338.0</td>\n",
       "      <td>2.4</td>\n",
       "      <td>NaN</td>\n",
       "    </tr>\n",
       "    <tr>\n",
       "      <th>...</th>\n",
       "      <td>...</td>\n",
       "      <td>...</td>\n",
       "      <td>...</td>\n",
       "      <td>...</td>\n",
       "      <td>...</td>\n",
       "      <td>...</td>\n",
       "      <td>...</td>\n",
       "      <td>...</td>\n",
       "      <td>...</td>\n",
       "      <td>...</td>\n",
       "      <td>...</td>\n",
       "      <td>...</td>\n",
       "      <td>...</td>\n",
       "      <td>...</td>\n",
       "      <td>...</td>\n",
       "      <td>...</td>\n",
       "      <td>...</td>\n",
       "      <td>...</td>\n",
       "      <td>...</td>\n",
       "      <td>...</td>\n",
       "      <td>...</td>\n",
       "    </tr>\n",
       "    <tr>\n",
       "      <th>20101</th>\n",
       "      <td>31/12/2020 06:00</td>\n",
       "      <td>276.7</td>\n",
       "      <td>275.5</td>\n",
       "      <td>270.0</td>\n",
       "      <td>3.6</td>\n",
       "      <td>-9999999.0</td>\n",
       "      <td>277.875</td>\n",
       "      <td>277.750</td>\n",
       "      <td>277.625</td>\n",
       "      <td>277.500</td>\n",
       "      <td>...</td>\n",
       "      <td>12.1</td>\n",
       "      <td>223.0</td>\n",
       "      <td>11.8</td>\n",
       "      <td>221.0</td>\n",
       "      <td>11.4</td>\n",
       "      <td>219.0</td>\n",
       "      <td>11.3</td>\n",
       "      <td>215.0</td>\n",
       "      <td>11.4</td>\n",
       "      <td>NaN</td>\n",
       "    </tr>\n",
       "    <tr>\n",
       "      <th>20102</th>\n",
       "      <td>31/12/2020 09:00</td>\n",
       "      <td>277.9</td>\n",
       "      <td>276.9</td>\n",
       "      <td>270.0</td>\n",
       "      <td>3.1</td>\n",
       "      <td>-9999999.0</td>\n",
       "      <td>277.875</td>\n",
       "      <td>277.625</td>\n",
       "      <td>277.875</td>\n",
       "      <td>277.875</td>\n",
       "      <td>...</td>\n",
       "      <td>10.2</td>\n",
       "      <td>230.0</td>\n",
       "      <td>10.8</td>\n",
       "      <td>230.0</td>\n",
       "      <td>11.6</td>\n",
       "      <td>227.0</td>\n",
       "      <td>12.3</td>\n",
       "      <td>222.0</td>\n",
       "      <td>12.0</td>\n",
       "      <td>NaN</td>\n",
       "    </tr>\n",
       "    <tr>\n",
       "      <th>20103</th>\n",
       "      <td>31/12/2020 12:00</td>\n",
       "      <td>283.5</td>\n",
       "      <td>277.1</td>\n",
       "      <td>220.0</td>\n",
       "      <td>3.6</td>\n",
       "      <td>-9999999.0</td>\n",
       "      <td>281.125</td>\n",
       "      <td>280.625</td>\n",
       "      <td>280.125</td>\n",
       "      <td>279.625</td>\n",
       "      <td>...</td>\n",
       "      <td>10.3</td>\n",
       "      <td>218.0</td>\n",
       "      <td>11.9</td>\n",
       "      <td>221.0</td>\n",
       "      <td>12.8</td>\n",
       "      <td>222.0</td>\n",
       "      <td>11.9</td>\n",
       "      <td>225.0</td>\n",
       "      <td>10.6</td>\n",
       "      <td>NaN</td>\n",
       "    </tr>\n",
       "    <tr>\n",
       "      <th>20104</th>\n",
       "      <td>31/12/2020 15:00</td>\n",
       "      <td>286.1</td>\n",
       "      <td>276.9</td>\n",
       "      <td>250.0</td>\n",
       "      <td>3.6</td>\n",
       "      <td>-9999999.0</td>\n",
       "      <td>284.625</td>\n",
       "      <td>284.125</td>\n",
       "      <td>283.625</td>\n",
       "      <td>283.000</td>\n",
       "      <td>...</td>\n",
       "      <td>9.4</td>\n",
       "      <td>218.0</td>\n",
       "      <td>8.6</td>\n",
       "      <td>212.0</td>\n",
       "      <td>8.3</td>\n",
       "      <td>218.0</td>\n",
       "      <td>8.7</td>\n",
       "      <td>226.0</td>\n",
       "      <td>10.1</td>\n",
       "      <td>NaN</td>\n",
       "    </tr>\n",
       "    <tr>\n",
       "      <th>20105</th>\n",
       "      <td>01/01/2021 00:00</td>\n",
       "      <td>285.1</td>\n",
       "      <td>279.3</td>\n",
       "      <td>300.0</td>\n",
       "      <td>6.2</td>\n",
       "      <td>-9999999.0</td>\n",
       "      <td>284.250</td>\n",
       "      <td>284.000</td>\n",
       "      <td>283.750</td>\n",
       "      <td>283.250</td>\n",
       "      <td>...</td>\n",
       "      <td>8.6</td>\n",
       "      <td>241.0</td>\n",
       "      <td>10.2</td>\n",
       "      <td>236.0</td>\n",
       "      <td>10.5</td>\n",
       "      <td>232.0</td>\n",
       "      <td>10.5</td>\n",
       "      <td>227.0</td>\n",
       "      <td>11.3</td>\n",
       "      <td>NaN</td>\n",
       "    </tr>\n",
       "  </tbody>\n",
       "</table>\n",
       "<p>20105 rows × 95 columns</p>\n",
       "</div>"
      ],
      "text/plain": [
       "                    DTG  air_temp_obs  dewpoint_obs  wind_direction_obs  \\\n",
       "1      01/01/2015 00:00         283.9         280.7               110.0   \n",
       "2      01/01/2015 03:00         280.7         279.7                90.0   \n",
       "3      01/01/2015 06:00         279.8         278.1               100.0   \n",
       "4      01/01/2015 09:00         279.9         277.0               120.0   \n",
       "5      01/01/2015 12:00         279.9         277.4               120.0   \n",
       "...                 ...           ...           ...                 ...   \n",
       "20101  31/12/2020 06:00         276.7         275.5               270.0   \n",
       "20102  31/12/2020 09:00         277.9         276.9               270.0   \n",
       "20103  31/12/2020 12:00         283.5         277.1               220.0   \n",
       "20104  31/12/2020 15:00         286.1         276.9               250.0   \n",
       "20105  01/01/2021 00:00         285.1         279.3               300.0   \n",
       "\n",
       "       wind_speed_obs  wind_gust_obs  air_temp_1  air_temp_2  air_temp_3  \\\n",
       "1                 4.1     -9999999.0     284.000     283.625     283.250   \n",
       "2                 7.7     -9999999.0     281.500     281.250     280.750   \n",
       "3                 7.7     -9999999.0     279.875     279.625     279.125   \n",
       "4                 7.2     -9999999.0     279.625     279.250     278.875   \n",
       "5                 8.7     -9999999.0     279.250     278.875     278.375   \n",
       "...               ...            ...         ...         ...         ...   \n",
       "20101             3.6     -9999999.0     277.875     277.750     277.625   \n",
       "20102             3.1     -9999999.0     277.875     277.625     277.875   \n",
       "20103             3.6     -9999999.0     281.125     280.625     280.125   \n",
       "20104             3.6     -9999999.0     284.625     284.125     283.625   \n",
       "20105             6.2     -9999999.0     284.250     284.000     283.750   \n",
       "\n",
       "       air_temp_4  ...  windspd_18  winddir_19  windspd_19  winddir_20  \\\n",
       "1         282.625  ...         5.8       341.0         6.0       334.0   \n",
       "2         280.250  ...         6.8       344.0         5.3       348.0   \n",
       "3         278.625  ...         6.0       345.0         5.5       358.0   \n",
       "4         278.250  ...         3.1       338.0         3.5       354.0   \n",
       "5         277.875  ...         1.6       273.0         2.0       303.0   \n",
       "...           ...  ...         ...         ...         ...         ...   \n",
       "20101     277.500  ...        12.1       223.0        11.8       221.0   \n",
       "20102     277.875  ...        10.2       230.0        10.8       230.0   \n",
       "20103     279.625  ...        10.3       218.0        11.9       221.0   \n",
       "20104     283.000  ...         9.4       218.0         8.6       212.0   \n",
       "20105     283.250  ...         8.6       241.0        10.2       236.0   \n",
       "\n",
       "       windspd_20  winddir_21  windspd_21  winddir_22  windspd_22  \\\n",
       "1             6.1       330.0         6.0       329.0         5.8   \n",
       "2             3.8       360.0         3.2        12.0         3.5   \n",
       "3             5.0        10.0         4.2        38.0         4.0   \n",
       "4             3.9         9.0         4.4        22.0         4.6   \n",
       "5             2.3       329.0         2.5       338.0         2.4   \n",
       "...           ...         ...         ...         ...         ...   \n",
       "20101        11.4       219.0        11.3       215.0        11.4   \n",
       "20102        11.6       227.0        12.3       222.0        12.0   \n",
       "20103        12.8       222.0        11.9       225.0        10.6   \n",
       "20104         8.3       218.0         8.7       226.0        10.1   \n",
       "20105        10.5       232.0        10.5       227.0        11.3   \n",
       "\n",
       "       Rotors 1 is true  \n",
       "1                   NaN  \n",
       "2                   NaN  \n",
       "3                   NaN  \n",
       "4                   NaN  \n",
       "5                   NaN  \n",
       "...                 ...  \n",
       "20101               NaN  \n",
       "20102               NaN  \n",
       "20103               NaN  \n",
       "20104               NaN  \n",
       "20105               NaN  \n",
       "\n",
       "[20105 rows x 95 columns]"
      ]
     },
     "execution_count": 13,
     "metadata": {},
     "output_type": "execute_result"
    }
   ],
   "source": [
    "falklands_training_df = pandas.read_csv(falklands_new_training_data_path, header=0).loc[1:,:]\n",
    "falklands_training_df"
   ]
  },
  {
   "cell_type": "code",
   "execution_count": 14,
   "id": "engaged-austin",
   "metadata": {},
   "outputs": [],
   "source": [
    "falklands_training_df = falklands_training_df.drop_duplicates(subset='DTG')"
   ]
  },
  {
   "cell_type": "code",
   "execution_count": 15,
   "id": "animated-answer",
   "metadata": {},
   "outputs": [
    {
     "data": {
      "text/plain": [
       "(17507, 95)"
      ]
     },
     "execution_count": 15,
     "metadata": {},
     "output_type": "execute_result"
    }
   ],
   "source": [
    "falklands_training_df.shape"
   ]
  },
  {
   "cell_type": "markdown",
   "id": "unnecessary-element",
   "metadata": {},
   "source": [
    "## Preprocess data for training\n",
    "\n",
    "### Specify and create input features"
   ]
  },
  {
   "cell_type": "code",
   "execution_count": 16,
   "id": "genetic-behavior",
   "metadata": {},
   "outputs": [],
   "source": [
    "temp_feature_names = [f'air_temp_{i1}' for i1 in range(1,23)]\n",
    "humidity_feature_names = [f'sh_{i1}' for i1 in range(1,23)]\n",
    "wind_direction_feature_names = [f'winddir_{i1}' for i1 in range(1,23)]\n",
    "wind_speed_feature_names = [f'windspd_{i1}' for i1 in range(1,23)]\n",
    "target_feature_name = 'rotors_present'"
   ]
  },
  {
   "cell_type": "code",
   "execution_count": 17,
   "id": "postal-pittsburgh",
   "metadata": {},
   "outputs": [],
   "source": [
    "def get_v_wind(wind_dir_name, wind_speed_name, row1):\n",
    "    return math.cos(math.radians(row1[wind_dir_name])) * row1[wind_speed_name]\n",
    "\n",
    "def get_u_wind(wind_dir_name, wind_speed_name, row1):\n",
    "    return math.sin(math.radians(row1[wind_dir_name])) * row1[wind_speed_name]"
   ]
  },
  {
   "cell_type": "code",
   "execution_count": 18,
   "id": "sharp-vaccine",
   "metadata": {},
   "outputs": [
    {
     "name": "stderr",
     "output_type": "stream",
     "text": [
      "/var/folders/w0/2x361bn95wj7lfgl33vksx1w0000gn/T/ipykernel_14323/2076918963.py:9: SettingWithCopyWarning: \n",
      "A value is trying to be set on a copy of a slice from a DataFrame.\n",
      "Try using .loc[row_indexer,col_indexer] = value instead\n",
      "\n",
      "See the caveats in the documentation: https://pandas.pydata.org/pandas-docs/stable/user_guide/indexing.html#returning-a-view-versus-a-copy\n",
      "  falklands_training_df[u_feature_template.format(level_ix=level_ix)] = falklands_training_df.apply(functools.partial(get_u_wind, wdn1, wsn1), axis='columns')\n",
      "/var/folders/w0/2x361bn95wj7lfgl33vksx1w0000gn/T/ipykernel_14323/2076918963.py:12: SettingWithCopyWarning: \n",
      "A value is trying to be set on a copy of a slice from a DataFrame.\n",
      "Try using .loc[row_indexer,col_indexer] = value instead\n",
      "\n",
      "See the caveats in the documentation: https://pandas.pydata.org/pandas-docs/stable/user_guide/indexing.html#returning-a-view-versus-a-copy\n",
      "  falklands_training_df[v_feature_template.format(level_ix=level_ix)] = falklands_training_df.apply(functools.partial(get_v_wind, wdn1, wsn1), axis='columns')\n"
     ]
    }
   ],
   "source": [
    "u_feature_template = 'u_wind_{level_ix}'\n",
    "v_feature_template = 'v_wind_{level_ix}'\n",
    "u_wind_feature_names = []\n",
    "v_wind_features_names = []\n",
    "for wsn1, wdn1 in zip(wind_speed_feature_names, wind_direction_feature_names):\n",
    "    level_ix = int( wsn1.split('_')[1])\n",
    "    u_feature = u_feature_template.format(level_ix=level_ix)\n",
    "    u_wind_feature_names += [u_feature]\n",
    "    falklands_training_df[u_feature_template.format(level_ix=level_ix)] = falklands_training_df.apply(functools.partial(get_u_wind, wdn1, wsn1), axis='columns')\n",
    "    v_feature = v_feature_template.format(level_ix=level_ix)\n",
    "    v_wind_features_names += [v_feature]\n",
    "    falklands_training_df[v_feature_template.format(level_ix=level_ix)] = falklands_training_df.apply(functools.partial(get_v_wind, wdn1, wsn1), axis='columns')"
   ]
  },
  {
   "cell_type": "code",
   "execution_count": 19,
   "id": "frank-penny",
   "metadata": {},
   "outputs": [
    {
     "name": "stderr",
     "output_type": "stream",
     "text": [
      "/var/folders/w0/2x361bn95wj7lfgl33vksx1w0000gn/T/ipykernel_14323/2394283915.py:1: SettingWithCopyWarning: \n",
      "A value is trying to be set on a copy of a slice from a DataFrame.\n",
      "Try using .loc[row_indexer,col_indexer] = value instead\n",
      "\n",
      "See the caveats in the documentation: https://pandas.pydata.org/pandas-docs/stable/user_guide/indexing.html#returning-a-view-versus-a-copy\n",
      "  falklands_training_df[target_feature_name] =  falklands_training_df['Rotors 1 is true']\n",
      "/Users/stephen.haddad/opt/anaconda3/envs/data-science-cop-tf/lib/python3.8/site-packages/pandas/core/indexing.py:1817: SettingWithCopyWarning: \n",
      "A value is trying to be set on a copy of a slice from a DataFrame.\n",
      "Try using .loc[row_indexer,col_indexer] = value instead\n",
      "\n",
      "See the caveats in the documentation: https://pandas.pydata.org/pandas-docs/stable/user_guide/indexing.html#returning-a-view-versus-a-copy\n",
      "  self._setitem_single_column(loc, value, pi)\n",
      "/var/folders/w0/2x361bn95wj7lfgl33vksx1w0000gn/T/ipykernel_14323/2394283915.py:3: SettingWithCopyWarning: \n",
      "A value is trying to be set on a copy of a slice from a DataFrame.\n",
      "Try using .loc[row_indexer,col_indexer] = value instead\n",
      "\n",
      "See the caveats in the documentation: https://pandas.pydata.org/pandas-docs/stable/user_guide/indexing.html#returning-a-view-versus-a-copy\n",
      "  falklands_training_df[target_feature_name]  = falklands_training_df[target_feature_name] .astype(bool)\n"
     ]
    }
   ],
   "source": [
    "falklands_training_df[target_feature_name] =  falklands_training_df['Rotors 1 is true']\n",
    "falklands_training_df.loc[falklands_training_df[falklands_training_df['Rotors 1 is true'].isna()].index, target_feature_name] = 0.0\n",
    "falklands_training_df[target_feature_name]  = falklands_training_df[target_feature_name] .astype(bool)"
   ]
  },
  {
   "cell_type": "code",
   "execution_count": 20,
   "id": "executive-essex",
   "metadata": {},
   "outputs": [
    {
     "data": {
      "text/plain": [
       "False    17058\n",
       "True       449\n",
       "Name: rotors_present, dtype: int64"
      ]
     },
     "execution_count": 20,
     "metadata": {},
     "output_type": "execute_result"
    }
   ],
   "source": [
    "falklands_training_df[target_feature_name].value_counts()"
   ]
  },
  {
   "cell_type": "code",
   "execution_count": 21,
   "id": "caring-metro",
   "metadata": {},
   "outputs": [
    {
     "data": {
      "text/plain": [
       "Index(['DTG', 'air_temp_obs', 'dewpoint_obs', 'wind_direction_obs',\n",
       "       'wind_speed_obs', 'wind_gust_obs', 'air_temp_1', 'air_temp_2',\n",
       "       'air_temp_3', 'air_temp_4',\n",
       "       ...\n",
       "       'v_wind_18', 'u_wind_19', 'v_wind_19', 'u_wind_20', 'v_wind_20',\n",
       "       'u_wind_21', 'v_wind_21', 'u_wind_22', 'v_wind_22', 'rotors_present'],\n",
       "      dtype='object', length=140)"
      ]
     },
     "execution_count": 21,
     "metadata": {},
     "output_type": "execute_result"
    }
   ],
   "source": [
    "falklands_training_df.columns"
   ]
  },
  {
   "cell_type": "markdown",
   "id": "cathedral-lyric",
   "metadata": {},
   "source": [
    "### Split into traing/validate/test sets"
   ]
  },
  {
   "cell_type": "code",
   "execution_count": 22,
   "id": "incomplete-reunion",
   "metadata": {},
   "outputs": [],
   "source": [
    "test_fraction = 0.1\n",
    "validation_fraction = 0.1"
   ]
  },
  {
   "cell_type": "code",
   "execution_count": 23,
   "id": "alive-world",
   "metadata": {},
   "outputs": [],
   "source": [
    "num_no_rotors = sum(falklands_training_df[target_feature_name] == False)\n",
    "num_with_rotors = sum(falklands_training_df[target_feature_name] == True)"
   ]
  },
  {
   "cell_type": "code",
   "execution_count": 24,
   "id": "acquired-convenience",
   "metadata": {},
   "outputs": [],
   "source": [
    "data_no_rotors = falklands_training_df[falklands_training_df[target_feature_name] == False]\n",
    "data_with_rotors = falklands_training_df[falklands_training_df[target_feature_name] == True]"
   ]
  },
  {
   "cell_type": "code",
   "execution_count": 25,
   "id": "stainless-picnic",
   "metadata": {},
   "outputs": [
    {
     "data": {
      "text/plain": [
       "False    1705\n",
       "True       44\n",
       "Name: rotors_present, dtype: int64"
      ]
     },
     "execution_count": 25,
     "metadata": {},
     "output_type": "execute_result"
    }
   ],
   "source": [
    "data_test = pandas.concat([data_no_rotors.sample(int(test_fraction * num_no_rotors)), data_with_rotors.sample(int(test_fraction * num_with_rotors))])\n",
    "data_test[target_feature_name].value_counts()"
   ]
  },
  {
   "cell_type": "code",
   "execution_count": 26,
   "id": "prescribed-junior",
   "metadata": {},
   "outputs": [
    {
     "name": "stderr",
     "output_type": "stream",
     "text": [
      "/var/folders/w0/2x361bn95wj7lfgl33vksx1w0000gn/T/ipykernel_14323/1871749377.py:1: SettingWithCopyWarning: \n",
      "A value is trying to be set on a copy of a slice from a DataFrame.\n",
      "Try using .loc[row_indexer,col_indexer] = value instead\n",
      "\n",
      "See the caveats in the documentation: https://pandas.pydata.org/pandas-docs/stable/user_guide/indexing.html#returning-a-view-versus-a-copy\n",
      "  falklands_training_df['test_set'] = False\n"
     ]
    }
   ],
   "source": [
    "falklands_training_df['test_set'] = False\n",
    "falklands_training_df.loc[data_test.index,'test_set'] = True"
   ]
  },
  {
   "cell_type": "code",
   "execution_count": 27,
   "id": "sonic-murray",
   "metadata": {},
   "outputs": [],
   "source": [
    "data_working = falklands_training_df[falklands_training_df['test_set'] == False]\n",
    "data_working_no_rotors = data_working[data_working[target_feature_name] == False]\n",
    "data_working_with_rotors = data_working[data_working[target_feature_name] == True]"
   ]
  },
  {
   "cell_type": "code",
   "execution_count": 29,
   "id": "infrared-mystery",
   "metadata": {},
   "outputs": [
    {
     "name": "stderr",
     "output_type": "stream",
     "text": [
      "/var/folders/w0/2x361bn95wj7lfgl33vksx1w0000gn/T/ipykernel_14323/2574544301.py:4: SettingWithCopyWarning: \n",
      "A value is trying to be set on a copy of a slice from a DataFrame.\n",
      "Try using .loc[row_indexer,col_indexer] = value instead\n",
      "\n",
      "See the caveats in the documentation: https://pandas.pydata.org/pandas-docs/stable/user_guide/indexing.html#returning-a-view-versus-a-copy\n",
      "  falklands_training_df['validation_set'] = False\n"
     ]
    }
   ],
   "source": [
    "data_validation = pandas.concat(\n",
    "    [data_working_no_rotors.sample(int(validation_fraction * num_no_rotors)), \n",
    "     data_working_with_rotors.sample(int(validation_fraction * num_with_rotors))])\n",
    "falklands_training_df['validation_set'] = False\n",
    "falklands_training_df.loc[data_validation.index,'validation_set'] = True"
   ]
  },
  {
   "cell_type": "code",
   "execution_count": null,
   "id": "environmental-seeker",
   "metadata": {},
   "outputs": [],
   "source": [
    "data_validation[target_feature_name].value_counts()"
   ]
  },
  {
   "cell_type": "code",
   "execution_count": 31,
   "id": "cardiac-unemployment",
   "metadata": {},
   "outputs": [],
   "source": [
    "data_train = falklands_training_df[(~falklands_training_df['test_set']) & (~falklands_training_df['validation_set'])]"
   ]
  },
  {
   "cell_type": "code",
   "execution_count": null,
   "id": "macro-romania",
   "metadata": {},
   "outputs": [],
   "source": [
    "data_train[target_feature_name].value_counts()"
   ]
  },
  {
   "cell_type": "markdown",
   "id": "august-fancy",
   "metadata": {},
   "source": [
    "# Preprocess data into input for ML algorithm"
   ]
  },
  {
   "cell_type": "code",
   "execution_count": 32,
   "id": "median-temple",
   "metadata": {},
   "outputs": [],
   "source": [
    "input_feature_names = temp_feature_names + humidity_feature_names + u_wind_feature_names + v_wind_features_names"
   ]
  },
  {
   "cell_type": "code",
   "execution_count": 33,
   "id": "formal-usage",
   "metadata": {},
   "outputs": [],
   "source": [
    "preproc_dict = {}\n",
    "for if1 in input_feature_names:\n",
    "    scaler1 = sklearn.preprocessing.StandardScaler()\n",
    "    scaler1.fit(data_train[[if1]])\n",
    "    preproc_dict[if1] = scaler1"
   ]
  },
  {
   "cell_type": "code",
   "execution_count": 34,
   "id": "prepared-equation",
   "metadata": {},
   "outputs": [
    {
     "name": "stderr",
     "output_type": "stream",
     "text": [
      "/Users/stephen.haddad/opt/anaconda3/envs/data-science-cop-tf/lib/python3.8/site-packages/sklearn/utils/validation.py:63: DataConversionWarning: A column-vector y was passed when a 1d array was expected. Please change the shape of y to (n_samples, ), for example using ravel().\n",
      "  return f(*args, **kwargs)\n"
     ]
    },
    {
     "data": {
      "text/plain": [
       "LabelEncoder()"
      ]
     },
     "execution_count": 34,
     "metadata": {},
     "output_type": "execute_result"
    }
   ],
   "source": [
    "target_encoder = sklearn.preprocessing.LabelEncoder()\n",
    "target_encoder.fit(data_train[[target_feature_name]])"
   ]
  },
  {
   "cell_type": "markdown",
   "id": "optimum-experience",
   "metadata": {},
   "source": [
    "Apply transformation to each input column"
   ]
  },
  {
   "cell_type": "code",
   "execution_count": 35,
   "id": "liquid-diary",
   "metadata": {},
   "outputs": [],
   "source": [
    "def preproc_input(data_subset, pp_dict):\n",
    "    return numpy.concatenate([scaler1.transform(data_subset[[if1]]) for if1,scaler1 in pp_dict.items()],axis=1)\n",
    "\n",
    "def preproc_target(data_subset, enc1):\n",
    "     return enc1.transform(data_subset[[target_feature_name]])"
   ]
  },
  {
   "cell_type": "code",
   "execution_count": 52,
   "id": "3df4093f-cc2e-467c-a82a-4acc4e8abfe5",
   "metadata": {},
   "outputs": [
    {
     "data": {
      "text/plain": [
       "(14009, 1)"
      ]
     },
     "execution_count": 52,
     "metadata": {},
     "output_type": "execute_result"
    }
   ],
   "source": [
    "preproc_target(data_train, target_encoder).reshape((-1,1)).shape"
   ]
  },
  {
   "cell_type": "code",
   "execution_count": 53,
   "id": "16d2db92-aaa1-4537-a8f0-7b0654c2749c",
   "metadata": {},
   "outputs": [
    {
     "data": {
      "text/plain": [
       "(14009, 1)"
      ]
     },
     "execution_count": 53,
     "metadata": {},
     "output_type": "execute_result"
    }
   ],
   "source": [
    "preproc_dict['air_temp_1'].transform(data_train[['air_temp_1']]).shape"
   ]
  },
  {
   "cell_type": "code",
   "execution_count": 54,
   "id": "prescribed-station",
   "metadata": {},
   "outputs": [
    {
     "name": "stderr",
     "output_type": "stream",
     "text": [
      "/Users/stephen.haddad/opt/anaconda3/envs/data-science-cop-tf/lib/python3.8/site-packages/sklearn/utils/validation.py:63: DataConversionWarning: A column-vector y was passed when a 1d array was expected. Please change the shape of y to (n_samples, ), for example using ravel().\n",
      "  return f(*args, **kwargs)\n"
     ]
    }
   ],
   "source": [
    "X_train = preproc_input(data_train, preproc_dict)\n",
    "y_train = numpy.concatenate(\n",
    "    [preproc_target(data_train, target_encoder).reshape((-1,1)),\n",
    "    1.0 - (preproc_target(data_train, target_encoder).reshape((-1,1))),],\n",
    "    axis=1\n",
    ")"
   ]
  },
  {
   "cell_type": "markdown",
   "id": "silent-payroll",
   "metadata": {},
   "source": [
    "create target feature from rotors"
   ]
  },
  {
   "cell_type": "code",
   "execution_count": 55,
   "id": "spare-malta",
   "metadata": {},
   "outputs": [
    {
     "data": {
      "text/plain": [
       "((14009, 2), (14009, 88))"
      ]
     },
     "execution_count": 55,
     "metadata": {},
     "output_type": "execute_result"
    }
   ],
   "source": [
    "y_train.shape, X_train.shape"
   ]
  },
  {
   "cell_type": "code",
   "execution_count": 56,
   "id": "internal-framework",
   "metadata": {},
   "outputs": [
    {
     "name": "stderr",
     "output_type": "stream",
     "text": [
      "/Users/stephen.haddad/opt/anaconda3/envs/data-science-cop-tf/lib/python3.8/site-packages/sklearn/utils/validation.py:63: DataConversionWarning: A column-vector y was passed when a 1d array was expected. Please change the shape of y to (n_samples, ), for example using ravel().\n",
      "  return f(*args, **kwargs)\n"
     ]
    }
   ],
   "source": [
    "X_val = preproc_input(data_validation, preproc_dict)\n",
    "y_val = numpy.concatenate(\n",
    "    [preproc_target(data_validation, target_encoder).reshape((-1,1)),\n",
    "    1.0 - (preproc_target(data_validation, target_encoder).reshape((-1,1))),],\n",
    "    axis=1\n",
    ")"
   ]
  },
  {
   "cell_type": "code",
   "execution_count": 57,
   "id": "contemporary-arabic",
   "metadata": {},
   "outputs": [
    {
     "name": "stderr",
     "output_type": "stream",
     "text": [
      "/Users/stephen.haddad/opt/anaconda3/envs/data-science-cop-tf/lib/python3.8/site-packages/sklearn/utils/validation.py:63: DataConversionWarning: A column-vector y was passed when a 1d array was expected. Please change the shape of y to (n_samples, ), for example using ravel().\n",
      "  return f(*args, **kwargs)\n"
     ]
    }
   ],
   "source": [
    "X_test = preproc_input(data_test, preproc_dict)\n",
    "y_test = numpy.concatenate(\n",
    "    [preproc_target(data_test, target_encoder).reshape((-1,1)),\n",
    "    1.0 - (preproc_target(data_test, target_encoder).reshape((-1,1))),],\n",
    "    axis=1\n",
    ")"
   ]
  },
  {
   "cell_type": "code",
   "execution_count": 58,
   "id": "scenic-committee",
   "metadata": {},
   "outputs": [],
   "source": [
    "train_val_test_tuples = [\n",
    "    (X_train, y_train),\n",
    "    (X_val, y_val),\n",
    "    (X_test, y_test),    \n",
    "]"
   ]
  },
  {
   "cell_type": "markdown",
   "id": "found-empire",
   "metadata": {},
   "source": [
    "## Train classifiers"
   ]
  },
  {
   "cell_type": "markdown",
   "id": "third-russian",
   "metadata": {},
   "source": [
    "### Train Nerual Network using Tensorflow Keras"
   ]
  },
  {
   "cell_type": "code",
   "execution_count": 59,
   "id": "israeli-booth",
   "metadata": {},
   "outputs": [],
   "source": [
    "initial_learning_rate=1.0e-4\n",
    "drop_out_rate=0.2\n",
    "n_epochs=200\n",
    "batch_size=1000"
   ]
  },
  {
   "cell_type": "code",
   "execution_count": 60,
   "id": "compliant-vision",
   "metadata": {},
   "outputs": [],
   "source": [
    "n_nodes = 300\n",
    "n_layers = 4\n",
    "nx = X_train.shape[1]"
   ]
  },
  {
   "cell_type": "code",
   "execution_count": 61,
   "id": "anonymous-india",
   "metadata": {},
   "outputs": [
    {
     "name": "stdout",
     "output_type": "stream",
     "text": [
      "Model: \"sequential\"\n",
      "_________________________________________________________________\n",
      "Layer (type)                 Output Shape              Param #   \n",
      "=================================================================\n",
      "dropout (Dropout)            (None, 88)                0         \n",
      "_________________________________________________________________\n",
      "dense (Dense)                (None, 300)               26700     \n",
      "_________________________________________________________________\n",
      "dropout_1 (Dropout)          (None, 300)               0         \n",
      "_________________________________________________________________\n",
      "dense_1 (Dense)              (None, 300)               90300     \n",
      "_________________________________________________________________\n",
      "dropout_2 (Dropout)          (None, 300)               0         \n",
      "_________________________________________________________________\n",
      "dense_2 (Dense)              (None, 300)               90300     \n",
      "_________________________________________________________________\n",
      "dropout_3 (Dropout)          (None, 300)               0         \n",
      "_________________________________________________________________\n",
      "dense_3 (Dense)              (None, 300)               90300     \n",
      "_________________________________________________________________\n",
      "dropout_4 (Dropout)          (None, 300)               0         \n",
      "_________________________________________________________________\n",
      "dense_4 (Dense)              (None, 2)                 602       \n",
      "=================================================================\n",
      "Total params: 298,202\n",
      "Trainable params: 298,202\n",
      "Non-trainable params: 0\n",
      "_________________________________________________________________\n"
     ]
    },
    {
     "name": "stderr",
     "output_type": "stream",
     "text": [
      "2021-09-14 21:08:59.594641: I tensorflow/core/platform/cpu_feature_guard.cc:142] This TensorFlow binary is optimized with oneAPI Deep Neural Network Library (oneDNN) to use the following CPU instructions in performance-critical operations:  SSE4.1 SSE4.2 AVX AVX2 AVX512F FMA\n",
      "To enable them in other operations, rebuild TensorFlow with the appropriate compiler flags.\n"
     ]
    }
   ],
   "source": [
    "model = tensorflow.keras.models.Sequential()\n",
    "model.add(tensorflow.keras.layers.Dropout(drop_out_rate, input_shape=(nx,)))\n",
    "for i in numpy.arange(0,n_layers):\n",
    "    model.add(tensorflow.keras.layers.Dense(n_nodes, activation='relu', kernel_constraint=tensorflow.keras.constraints.max_norm(3)))\n",
    "    model.add(tensorflow.keras.layers.Dropout(drop_out_rate))\n",
    "model.add(tensorflow.keras.layers.Dense(2, activation='softmax'))             # This is the output layer \n",
    "model.summary()\n"
   ]
  },
  {
   "cell_type": "code",
   "execution_count": 62,
   "id": "cross-assault",
   "metadata": {},
   "outputs": [],
   "source": [
    "opt = tensorflow.optimizers.Adam(learning_rate=initial_learning_rate)  "
   ]
  },
  {
   "cell_type": "code",
   "execution_count": 63,
   "id": "activated-jesus",
   "metadata": {},
   "outputs": [],
   "source": [
    "model.compile(optimizer=opt, loss='mse', metrics=[tensorflow.keras.metrics.RootMeanSquaredError()])"
   ]
  },
  {
   "cell_type": "code",
   "execution_count": 64,
   "id": "southwest-complement",
   "metadata": {},
   "outputs": [],
   "source": [
    "# Write things out to file (for reading back in later to make predictions).\n",
    "#TODO: write this out in ONNX\n",
    "model_json=model.to_json()\n",
    "model_out_fname = 'rotors_tf_model.json'\n",
    "model_output_path = project_output_dir.joinpath(model_out_fname)\n",
    "with open(model_output_path, \"w\") as json_file:\n",
    "    json_file.write(model_json)"
   ]
  },
  {
   "cell_type": "code",
   "execution_count": 65,
   "id": "contrary-classics",
   "metadata": {
    "collapsed": true,
    "jupyter": {
     "outputs_hidden": true
    },
    "tags": []
   },
   "outputs": [
    {
     "name": "stdout",
     "output_type": "stream",
     "text": [
      "CPU times: user 3 µs, sys: 1 µs, total: 4 µs\n",
      "Wall time: 7.87 µs\n",
      "Epoch 1/200\n"
     ]
    },
    {
     "name": "stderr",
     "output_type": "stream",
     "text": [
      "2021-09-14 21:09:11.634696: I tensorflow/compiler/mlir/mlir_graph_optimization_pass.cc:116] None of the MLIR optimization passes are enabled (registered 2)\n"
     ]
    },
    {
     "name": "stdout",
     "output_type": "stream",
     "text": [
      "15/15 [==============================] - 1s 28ms/step - loss: 0.1691 - root_mean_squared_error: 0.4074 - val_loss: 0.0448 - val_root_mean_squared_error: 0.2117\n",
      "Epoch 2/200\n",
      "15/15 [==============================] - 0s 16ms/step - loss: 0.0346 - root_mean_squared_error: 0.1860 - val_loss: 0.0293 - val_root_mean_squared_error: 0.1712\n",
      "Epoch 3/200\n",
      "15/15 [==============================] - 0s 17ms/step - loss: 0.0285 - root_mean_squared_error: 0.1687 - val_loss: 0.0270 - val_root_mean_squared_error: 0.1645\n",
      "Epoch 4/200\n",
      "15/15 [==============================] - 0s 15ms/step - loss: 0.0277 - root_mean_squared_error: 0.1663 - val_loss: 0.0264 - val_root_mean_squared_error: 0.1624\n",
      "Epoch 5/200\n",
      "15/15 [==============================] - 0s 15ms/step - loss: 0.0268 - root_mean_squared_error: 0.1635 - val_loss: 0.0260 - val_root_mean_squared_error: 0.1613\n",
      "Epoch 6/200\n",
      "15/15 [==============================] - 0s 15ms/step - loss: 0.0267 - root_mean_squared_error: 0.1632 - val_loss: 0.0258 - val_root_mean_squared_error: 0.1606\n",
      "Epoch 7/200\n",
      "15/15 [==============================] - 0s 17ms/step - loss: 0.0271 - root_mean_squared_error: 0.1645 - val_loss: 0.0256 - val_root_mean_squared_error: 0.1601\n",
      "Epoch 8/200\n",
      "15/15 [==============================] - 0s 16ms/step - loss: 0.0260 - root_mean_squared_error: 0.1613 - val_loss: 0.0255 - val_root_mean_squared_error: 0.1597\n",
      "Epoch 9/200\n",
      "15/15 [==============================] - 0s 15ms/step - loss: 0.0254 - root_mean_squared_error: 0.1593 - val_loss: 0.0254 - val_root_mean_squared_error: 0.1593\n",
      "Epoch 10/200\n",
      "15/15 [==============================] - 0s 16ms/step - loss: 0.0266 - root_mean_squared_error: 0.1631 - val_loss: 0.0253 - val_root_mean_squared_error: 0.1590\n",
      "Epoch 11/200\n",
      "15/15 [==============================] - 0s 15ms/step - loss: 0.0263 - root_mean_squared_error: 0.1620 - val_loss: 0.0252 - val_root_mean_squared_error: 0.1588\n",
      "Epoch 12/200\n",
      "15/15 [==============================] - 0s 18ms/step - loss: 0.0250 - root_mean_squared_error: 0.1582 - val_loss: 0.0251 - val_root_mean_squared_error: 0.1585\n",
      "Epoch 13/200\n",
      "15/15 [==============================] - 0s 17ms/step - loss: 0.0269 - root_mean_squared_error: 0.1640 - val_loss: 0.0251 - val_root_mean_squared_error: 0.1583\n",
      "Epoch 14/200\n",
      "15/15 [==============================] - 0s 16ms/step - loss: 0.0263 - root_mean_squared_error: 0.1622 - val_loss: 0.0250 - val_root_mean_squared_error: 0.1580\n",
      "Epoch 15/200\n",
      "15/15 [==============================] - 0s 16ms/step - loss: 0.0267 - root_mean_squared_error: 0.1633 - val_loss: 0.0249 - val_root_mean_squared_error: 0.1578\n",
      "Epoch 16/200\n",
      "15/15 [==============================] - 0s 17ms/step - loss: 0.0251 - root_mean_squared_error: 0.1584 - val_loss: 0.0248 - val_root_mean_squared_error: 0.1576\n",
      "Epoch 17/200\n",
      "15/15 [==============================] - 0s 16ms/step - loss: 0.0242 - root_mean_squared_error: 0.1555 - val_loss: 0.0247 - val_root_mean_squared_error: 0.1573\n",
      "Epoch 18/200\n",
      "15/15 [==============================] - 0s 17ms/step - loss: 0.0255 - root_mean_squared_error: 0.1598 - val_loss: 0.0246 - val_root_mean_squared_error: 0.1570\n",
      "Epoch 19/200\n",
      "15/15 [==============================] - 0s 18ms/step - loss: 0.0236 - root_mean_squared_error: 0.1536 - val_loss: 0.0245 - val_root_mean_squared_error: 0.1567\n",
      "Epoch 20/200\n",
      "15/15 [==============================] - 0s 17ms/step - loss: 0.0254 - root_mean_squared_error: 0.1593 - val_loss: 0.0244 - val_root_mean_squared_error: 0.1563\n",
      "Epoch 21/200\n",
      "15/15 [==============================] - 0s 17ms/step - loss: 0.0280 - root_mean_squared_error: 0.1668 - val_loss: 0.0243 - val_root_mean_squared_error: 0.1558\n",
      "Epoch 22/200\n",
      "15/15 [==============================] - 0s 16ms/step - loss: 0.0225 - root_mean_squared_error: 0.1497 - val_loss: 0.0241 - val_root_mean_squared_error: 0.1552\n",
      "Epoch 23/200\n",
      "15/15 [==============================] - 0s 16ms/step - loss: 0.0249 - root_mean_squared_error: 0.1577 - val_loss: 0.0240 - val_root_mean_squared_error: 0.1549\n",
      "Epoch 24/200\n",
      "15/15 [==============================] - 0s 16ms/step - loss: 0.0261 - root_mean_squared_error: 0.1616 - val_loss: 0.0239 - val_root_mean_squared_error: 0.1545\n",
      "Epoch 25/200\n",
      "15/15 [==============================] - 0s 16ms/step - loss: 0.0256 - root_mean_squared_error: 0.1601 - val_loss: 0.0238 - val_root_mean_squared_error: 0.1543\n",
      "Epoch 26/200\n",
      "15/15 [==============================] - 0s 16ms/step - loss: 0.0233 - root_mean_squared_error: 0.1525 - val_loss: 0.0238 - val_root_mean_squared_error: 0.1542\n",
      "Epoch 27/200\n",
      "15/15 [==============================] - 0s 16ms/step - loss: 0.0244 - root_mean_squared_error: 0.1563 - val_loss: 0.0238 - val_root_mean_squared_error: 0.1543\n",
      "Epoch 28/200\n",
      "15/15 [==============================] - 0s 17ms/step - loss: 0.0240 - root_mean_squared_error: 0.1549 - val_loss: 0.0243 - val_root_mean_squared_error: 0.1558\n",
      "Epoch 29/200\n",
      "15/15 [==============================] - 0s 17ms/step - loss: 0.0235 - root_mean_squared_error: 0.1534 - val_loss: 0.0241 - val_root_mean_squared_error: 0.1553\n",
      "Epoch 30/200\n",
      "15/15 [==============================] - 0s 17ms/step - loss: 0.0240 - root_mean_squared_error: 0.1548 - val_loss: 0.0240 - val_root_mean_squared_error: 0.1549\n",
      "Epoch 31/200\n",
      "15/15 [==============================] - 0s 17ms/step - loss: 0.0234 - root_mean_squared_error: 0.1528 - val_loss: 0.0241 - val_root_mean_squared_error: 0.1553\n",
      "Epoch 32/200\n",
      "15/15 [==============================] - 0s 16ms/step - loss: 0.0235 - root_mean_squared_error: 0.1533 - val_loss: 0.0239 - val_root_mean_squared_error: 0.1546\n",
      "Epoch 33/200\n",
      "15/15 [==============================] - 0s 16ms/step - loss: 0.0236 - root_mean_squared_error: 0.1535 - val_loss: 0.0241 - val_root_mean_squared_error: 0.1551\n",
      "Epoch 34/200\n",
      "15/15 [==============================] - 0s 17ms/step - loss: 0.0227 - root_mean_squared_error: 0.1507 - val_loss: 0.0239 - val_root_mean_squared_error: 0.1547\n",
      "Epoch 35/200\n",
      "15/15 [==============================] - 0s 18ms/step - loss: 0.0231 - root_mean_squared_error: 0.1519 - val_loss: 0.0243 - val_root_mean_squared_error: 0.1559\n",
      "Epoch 36/200\n",
      "15/15 [==============================] - 0s 18ms/step - loss: 0.0243 - root_mean_squared_error: 0.1559 - val_loss: 0.0250 - val_root_mean_squared_error: 0.1581\n",
      "Epoch 37/200\n",
      "15/15 [==============================] - 0s 19ms/step - loss: 0.0230 - root_mean_squared_error: 0.1516 - val_loss: 0.0248 - val_root_mean_squared_error: 0.1574\n",
      "Epoch 38/200\n",
      "15/15 [==============================] - 0s 18ms/step - loss: 0.0226 - root_mean_squared_error: 0.1499 - val_loss: 0.0241 - val_root_mean_squared_error: 0.1552\n",
      "Epoch 39/200\n",
      "15/15 [==============================] - 0s 18ms/step - loss: 0.0223 - root_mean_squared_error: 0.1490 - val_loss: 0.0241 - val_root_mean_squared_error: 0.1553\n",
      "Epoch 40/200\n",
      "15/15 [==============================] - 0s 18ms/step - loss: 0.0231 - root_mean_squared_error: 0.1519 - val_loss: 0.0241 - val_root_mean_squared_error: 0.1553\n",
      "Epoch 41/200\n",
      "15/15 [==============================] - 0s 17ms/step - loss: 0.0225 - root_mean_squared_error: 0.1500 - val_loss: 0.0245 - val_root_mean_squared_error: 0.1566\n",
      "Epoch 42/200\n",
      "15/15 [==============================] - 0s 17ms/step - loss: 0.0225 - root_mean_squared_error: 0.1498 - val_loss: 0.0248 - val_root_mean_squared_error: 0.1575\n",
      "Epoch 43/200\n",
      "15/15 [==============================] - 0s 18ms/step - loss: 0.0236 - root_mean_squared_error: 0.1535 - val_loss: 0.0243 - val_root_mean_squared_error: 0.1558\n",
      "Epoch 44/200\n",
      "15/15 [==============================] - 0s 16ms/step - loss: 0.0233 - root_mean_squared_error: 0.1525 - val_loss: 0.0248 - val_root_mean_squared_error: 0.1574\n",
      "Epoch 45/200\n",
      "15/15 [==============================] - 0s 17ms/step - loss: 0.0227 - root_mean_squared_error: 0.1506 - val_loss: 0.0246 - val_root_mean_squared_error: 0.1568\n",
      "Epoch 46/200\n",
      "15/15 [==============================] - 0s 16ms/step - loss: 0.0234 - root_mean_squared_error: 0.1530 - val_loss: 0.0252 - val_root_mean_squared_error: 0.1588\n",
      "Epoch 47/200\n",
      "15/15 [==============================] - 0s 16ms/step - loss: 0.0243 - root_mean_squared_error: 0.1557 - val_loss: 0.0270 - val_root_mean_squared_error: 0.1643\n",
      "Epoch 48/200\n",
      "15/15 [==============================] - 0s 15ms/step - loss: 0.0230 - root_mean_squared_error: 0.1518 - val_loss: 0.0242 - val_root_mean_squared_error: 0.1554\n",
      "Epoch 49/200\n",
      "15/15 [==============================] - 0s 16ms/step - loss: 0.0219 - root_mean_squared_error: 0.1478 - val_loss: 0.0238 - val_root_mean_squared_error: 0.1544\n",
      "Epoch 50/200\n",
      "15/15 [==============================] - 0s 17ms/step - loss: 0.0242 - root_mean_squared_error: 0.1557 - val_loss: 0.0244 - val_root_mean_squared_error: 0.1563\n",
      "Epoch 51/200\n",
      "15/15 [==============================] - 0s 17ms/step - loss: 0.0239 - root_mean_squared_error: 0.1546 - val_loss: 0.0236 - val_root_mean_squared_error: 0.1537\n",
      "Epoch 52/200\n",
      "15/15 [==============================] - 0s 18ms/step - loss: 0.0239 - root_mean_squared_error: 0.1545 - val_loss: 0.0226 - val_root_mean_squared_error: 0.1502\n",
      "Epoch 53/200\n",
      "15/15 [==============================] - 0s 17ms/step - loss: 0.0233 - root_mean_squared_error: 0.1526 - val_loss: 0.0228 - val_root_mean_squared_error: 0.1510\n",
      "Epoch 54/200\n",
      "15/15 [==============================] - 0s 17ms/step - loss: 0.0229 - root_mean_squared_error: 0.1513 - val_loss: 0.0240 - val_root_mean_squared_error: 0.1548\n",
      "Epoch 55/200\n",
      "15/15 [==============================] - 0s 17ms/step - loss: 0.0221 - root_mean_squared_error: 0.1487 - val_loss: 0.0241 - val_root_mean_squared_error: 0.1551\n",
      "Epoch 56/200\n",
      "15/15 [==============================] - 0s 16ms/step - loss: 0.0234 - root_mean_squared_error: 0.1529 - val_loss: 0.0244 - val_root_mean_squared_error: 0.1563\n",
      "Epoch 57/200\n",
      "15/15 [==============================] - 0s 16ms/step - loss: 0.0227 - root_mean_squared_error: 0.1508 - val_loss: 0.0242 - val_root_mean_squared_error: 0.1555\n",
      "Epoch 58/200\n",
      "15/15 [==============================] - 0s 16ms/step - loss: 0.0225 - root_mean_squared_error: 0.1500 - val_loss: 0.0241 - val_root_mean_squared_error: 0.1553\n",
      "Epoch 59/200\n",
      "15/15 [==============================] - 0s 16ms/step - loss: 0.0225 - root_mean_squared_error: 0.1498 - val_loss: 0.0247 - val_root_mean_squared_error: 0.1571\n",
      "Epoch 60/200\n",
      "15/15 [==============================] - 0s 15ms/step - loss: 0.0228 - root_mean_squared_error: 0.1511 - val_loss: 0.0244 - val_root_mean_squared_error: 0.1561\n",
      "Epoch 61/200\n",
      "15/15 [==============================] - 0s 16ms/step - loss: 0.0222 - root_mean_squared_error: 0.1490 - val_loss: 0.0242 - val_root_mean_squared_error: 0.1555\n",
      "Epoch 62/200\n",
      "15/15 [==============================] - 0s 16ms/step - loss: 0.0226 - root_mean_squared_error: 0.1503 - val_loss: 0.0238 - val_root_mean_squared_error: 0.1544\n",
      "Epoch 63/200\n",
      "15/15 [==============================] - 0s 16ms/step - loss: 0.0233 - root_mean_squared_error: 0.1527 - val_loss: 0.0246 - val_root_mean_squared_error: 0.1567\n",
      "Epoch 64/200\n",
      "15/15 [==============================] - 0s 17ms/step - loss: 0.0208 - root_mean_squared_error: 0.1440 - val_loss: 0.0246 - val_root_mean_squared_error: 0.1569\n",
      "Epoch 65/200\n",
      "15/15 [==============================] - 0s 17ms/step - loss: 0.0218 - root_mean_squared_error: 0.1475 - val_loss: 0.0247 - val_root_mean_squared_error: 0.1570\n",
      "Epoch 66/200\n",
      "15/15 [==============================] - 0s 17ms/step - loss: 0.0228 - root_mean_squared_error: 0.1510 - val_loss: 0.0231 - val_root_mean_squared_error: 0.1521\n",
      "Epoch 67/200\n",
      "15/15 [==============================] - 0s 16ms/step - loss: 0.0229 - root_mean_squared_error: 0.1515 - val_loss: 0.0238 - val_root_mean_squared_error: 0.1541\n",
      "Epoch 68/200\n",
      "15/15 [==============================] - 0s 16ms/step - loss: 0.0221 - root_mean_squared_error: 0.1486 - val_loss: 0.0250 - val_root_mean_squared_error: 0.1582\n",
      "Epoch 69/200\n",
      "15/15 [==============================] - 0s 17ms/step - loss: 0.0227 - root_mean_squared_error: 0.1506 - val_loss: 0.0252 - val_root_mean_squared_error: 0.1588\n",
      "Epoch 70/200\n",
      "15/15 [==============================] - 0s 18ms/step - loss: 0.0223 - root_mean_squared_error: 0.1493 - val_loss: 0.0242 - val_root_mean_squared_error: 0.1555\n",
      "Epoch 71/200\n",
      "15/15 [==============================] - 0s 17ms/step - loss: 0.0234 - root_mean_squared_error: 0.1530 - val_loss: 0.0241 - val_root_mean_squared_error: 0.1551\n",
      "Epoch 72/200\n",
      "15/15 [==============================] - 0s 19ms/step - loss: 0.0233 - root_mean_squared_error: 0.1528 - val_loss: 0.0250 - val_root_mean_squared_error: 0.1582\n",
      "Epoch 73/200\n",
      "15/15 [==============================] - 0s 17ms/step - loss: 0.0229 - root_mean_squared_error: 0.1514 - val_loss: 0.0245 - val_root_mean_squared_error: 0.1565\n",
      "Epoch 74/200\n",
      "15/15 [==============================] - 0s 16ms/step - loss: 0.0204 - root_mean_squared_error: 0.1427 - val_loss: 0.0244 - val_root_mean_squared_error: 0.1561\n",
      "Epoch 75/200\n",
      "15/15 [==============================] - 0s 16ms/step - loss: 0.0215 - root_mean_squared_error: 0.1467 - val_loss: 0.0233 - val_root_mean_squared_error: 0.1527\n",
      "Epoch 76/200\n",
      "15/15 [==============================] - 0s 17ms/step - loss: 0.0237 - root_mean_squared_error: 0.1537 - val_loss: 0.0240 - val_root_mean_squared_error: 0.1550\n",
      "Epoch 77/200\n",
      "15/15 [==============================] - 0s 16ms/step - loss: 0.0219 - root_mean_squared_error: 0.1481 - val_loss: 0.0244 - val_root_mean_squared_error: 0.1561\n",
      "Epoch 78/200\n",
      "15/15 [==============================] - 0s 17ms/step - loss: 0.0223 - root_mean_squared_error: 0.1494 - val_loss: 0.0244 - val_root_mean_squared_error: 0.1561\n",
      "Epoch 79/200\n",
      "15/15 [==============================] - 0s 16ms/step - loss: 0.0226 - root_mean_squared_error: 0.1504 - val_loss: 0.0240 - val_root_mean_squared_error: 0.1549\n",
      "Epoch 80/200\n",
      "15/15 [==============================] - 0s 16ms/step - loss: 0.0211 - root_mean_squared_error: 0.1452 - val_loss: 0.0235 - val_root_mean_squared_error: 0.1533\n",
      "Epoch 81/200\n",
      "15/15 [==============================] - 0s 16ms/step - loss: 0.0221 - root_mean_squared_error: 0.1487 - val_loss: 0.0244 - val_root_mean_squared_error: 0.1562\n",
      "Epoch 82/200\n",
      "15/15 [==============================] - 0s 16ms/step - loss: 0.0217 - root_mean_squared_error: 0.1474 - val_loss: 0.0232 - val_root_mean_squared_error: 0.1523\n",
      "Epoch 83/200\n",
      "15/15 [==============================] - 0s 16ms/step - loss: 0.0240 - root_mean_squared_error: 0.1545 - val_loss: 0.0240 - val_root_mean_squared_error: 0.1549\n",
      "Epoch 84/200\n",
      "15/15 [==============================] - 0s 16ms/step - loss: 0.0210 - root_mean_squared_error: 0.1447 - val_loss: 0.0240 - val_root_mean_squared_error: 0.1550\n",
      "Epoch 85/200\n",
      "15/15 [==============================] - 0s 16ms/step - loss: 0.0227 - root_mean_squared_error: 0.1507 - val_loss: 0.0244 - val_root_mean_squared_error: 0.1562\n",
      "Epoch 86/200\n",
      "15/15 [==============================] - 0s 17ms/step - loss: 0.0223 - root_mean_squared_error: 0.1492 - val_loss: 0.0255 - val_root_mean_squared_error: 0.1597\n",
      "Epoch 87/200\n",
      "15/15 [==============================] - 0s 17ms/step - loss: 0.0231 - root_mean_squared_error: 0.1519 - val_loss: 0.0241 - val_root_mean_squared_error: 0.1552\n",
      "Epoch 88/200\n",
      "15/15 [==============================] - 0s 17ms/step - loss: 0.0216 - root_mean_squared_error: 0.1469 - val_loss: 0.0237 - val_root_mean_squared_error: 0.1539\n",
      "Epoch 89/200\n",
      "15/15 [==============================] - 0s 16ms/step - loss: 0.0222 - root_mean_squared_error: 0.1489 - val_loss: 0.0239 - val_root_mean_squared_error: 0.1547\n",
      "Epoch 90/200\n",
      "15/15 [==============================] - 0s 17ms/step - loss: 0.0212 - root_mean_squared_error: 0.1454 - val_loss: 0.0242 - val_root_mean_squared_error: 0.1556\n",
      "Epoch 91/200\n",
      "15/15 [==============================] - 0s 17ms/step - loss: 0.0212 - root_mean_squared_error: 0.1456 - val_loss: 0.0253 - val_root_mean_squared_error: 0.1589\n",
      "Epoch 92/200\n",
      "15/15 [==============================] - 0s 18ms/step - loss: 0.0221 - root_mean_squared_error: 0.1486 - val_loss: 0.0236 - val_root_mean_squared_error: 0.1537\n",
      "Epoch 93/200\n",
      "15/15 [==============================] - 0s 17ms/step - loss: 0.0208 - root_mean_squared_error: 0.1442 - val_loss: 0.0225 - val_root_mean_squared_error: 0.1501\n",
      "Epoch 94/200\n",
      "15/15 [==============================] - 0s 18ms/step - loss: 0.0231 - root_mean_squared_error: 0.1521 - val_loss: 0.0229 - val_root_mean_squared_error: 0.1514\n",
      "Epoch 95/200\n",
      "15/15 [==============================] - 0s 18ms/step - loss: 0.0223 - root_mean_squared_error: 0.1492 - val_loss: 0.0228 - val_root_mean_squared_error: 0.1511\n",
      "Epoch 96/200\n",
      "15/15 [==============================] - 0s 18ms/step - loss: 0.0217 - root_mean_squared_error: 0.1472 - val_loss: 0.0234 - val_root_mean_squared_error: 0.1531\n",
      "Epoch 97/200\n",
      "15/15 [==============================] - 0s 19ms/step - loss: 0.0217 - root_mean_squared_error: 0.1471 - val_loss: 0.0239 - val_root_mean_squared_error: 0.1547\n",
      "Epoch 98/200\n",
      "15/15 [==============================] - 0s 18ms/step - loss: 0.0206 - root_mean_squared_error: 0.1436 - val_loss: 0.0237 - val_root_mean_squared_error: 0.1541\n",
      "Epoch 99/200\n",
      "15/15 [==============================] - 0s 18ms/step - loss: 0.0216 - root_mean_squared_error: 0.1469 - val_loss: 0.0247 - val_root_mean_squared_error: 0.1571\n",
      "Epoch 100/200\n",
      "15/15 [==============================] - 0s 19ms/step - loss: 0.0225 - root_mean_squared_error: 0.1499 - val_loss: 0.0238 - val_root_mean_squared_error: 0.1543\n",
      "Epoch 101/200\n",
      "15/15 [==============================] - 0s 18ms/step - loss: 0.0216 - root_mean_squared_error: 0.1470 - val_loss: 0.0238 - val_root_mean_squared_error: 0.1544\n",
      "Epoch 102/200\n",
      "15/15 [==============================] - 0s 18ms/step - loss: 0.0228 - root_mean_squared_error: 0.1510 - val_loss: 0.0237 - val_root_mean_squared_error: 0.1541\n",
      "Epoch 103/200\n",
      "15/15 [==============================] - 0s 18ms/step - loss: 0.0215 - root_mean_squared_error: 0.1466 - val_loss: 0.0231 - val_root_mean_squared_error: 0.1519\n",
      "Epoch 104/200\n",
      "15/15 [==============================] - 0s 18ms/step - loss: 0.0210 - root_mean_squared_error: 0.1446 - val_loss: 0.0231 - val_root_mean_squared_error: 0.1521\n",
      "Epoch 105/200\n",
      "15/15 [==============================] - 0s 18ms/step - loss: 0.0223 - root_mean_squared_error: 0.1494 - val_loss: 0.0229 - val_root_mean_squared_error: 0.1513\n",
      "Epoch 106/200\n",
      "15/15 [==============================] - 0s 19ms/step - loss: 0.0223 - root_mean_squared_error: 0.1492 - val_loss: 0.0225 - val_root_mean_squared_error: 0.1501\n",
      "Epoch 107/200\n",
      "15/15 [==============================] - 0s 18ms/step - loss: 0.0216 - root_mean_squared_error: 0.1470 - val_loss: 0.0224 - val_root_mean_squared_error: 0.1497\n",
      "Epoch 108/200\n",
      "15/15 [==============================] - 0s 18ms/step - loss: 0.0221 - root_mean_squared_error: 0.1486 - val_loss: 0.0229 - val_root_mean_squared_error: 0.1514\n",
      "Epoch 109/200\n",
      "15/15 [==============================] - 0s 20ms/step - loss: 0.0217 - root_mean_squared_error: 0.1471 - val_loss: 0.0225 - val_root_mean_squared_error: 0.1501\n",
      "Epoch 110/200\n",
      "15/15 [==============================] - 0s 17ms/step - loss: 0.0209 - root_mean_squared_error: 0.1446 - val_loss: 0.0230 - val_root_mean_squared_error: 0.1517\n",
      "Epoch 111/200\n",
      "15/15 [==============================] - 0s 17ms/step - loss: 0.0217 - root_mean_squared_error: 0.1474 - val_loss: 0.0228 - val_root_mean_squared_error: 0.1509\n",
      "Epoch 112/200\n",
      "15/15 [==============================] - 0s 17ms/step - loss: 0.0227 - root_mean_squared_error: 0.1505 - val_loss: 0.0235 - val_root_mean_squared_error: 0.1534\n",
      "Epoch 113/200\n",
      "15/15 [==============================] - 0s 17ms/step - loss: 0.0227 - root_mean_squared_error: 0.1505 - val_loss: 0.0230 - val_root_mean_squared_error: 0.1516\n",
      "Epoch 114/200\n",
      "15/15 [==============================] - 0s 17ms/step - loss: 0.0215 - root_mean_squared_error: 0.1466 - val_loss: 0.0231 - val_root_mean_squared_error: 0.1519\n",
      "Epoch 115/200\n",
      "15/15 [==============================] - 0s 16ms/step - loss: 0.0223 - root_mean_squared_error: 0.1493 - val_loss: 0.0232 - val_root_mean_squared_error: 0.1522\n",
      "Epoch 116/200\n",
      "15/15 [==============================] - 0s 17ms/step - loss: 0.0217 - root_mean_squared_error: 0.1473 - val_loss: 0.0234 - val_root_mean_squared_error: 0.1530\n",
      "Epoch 117/200\n",
      "15/15 [==============================] - 0s 18ms/step - loss: 0.0219 - root_mean_squared_error: 0.1478 - val_loss: 0.0237 - val_root_mean_squared_error: 0.1541\n",
      "Epoch 118/200\n",
      "15/15 [==============================] - 0s 18ms/step - loss: 0.0219 - root_mean_squared_error: 0.1478 - val_loss: 0.0246 - val_root_mean_squared_error: 0.1567\n",
      "Epoch 119/200\n",
      "15/15 [==============================] - 0s 18ms/step - loss: 0.0209 - root_mean_squared_error: 0.1446 - val_loss: 0.0232 - val_root_mean_squared_error: 0.1524\n",
      "Epoch 120/200\n",
      "15/15 [==============================] - 0s 18ms/step - loss: 0.0227 - root_mean_squared_error: 0.1507 - val_loss: 0.0223 - val_root_mean_squared_error: 0.1494\n",
      "Epoch 121/200\n",
      "15/15 [==============================] - 0s 17ms/step - loss: 0.0217 - root_mean_squared_error: 0.1472 - val_loss: 0.0229 - val_root_mean_squared_error: 0.1515\n",
      "Epoch 122/200\n",
      "15/15 [==============================] - 0s 17ms/step - loss: 0.0219 - root_mean_squared_error: 0.1480 - val_loss: 0.0234 - val_root_mean_squared_error: 0.1531\n",
      "Epoch 123/200\n",
      "15/15 [==============================] - 0s 17ms/step - loss: 0.0215 - root_mean_squared_error: 0.1467 - val_loss: 0.0232 - val_root_mean_squared_error: 0.1523\n",
      "Epoch 124/200\n",
      "15/15 [==============================] - 0s 17ms/step - loss: 0.0217 - root_mean_squared_error: 0.1473 - val_loss: 0.0233 - val_root_mean_squared_error: 0.1525\n",
      "Epoch 125/200\n",
      "15/15 [==============================] - 0s 18ms/step - loss: 0.0220 - root_mean_squared_error: 0.1485 - val_loss: 0.0232 - val_root_mean_squared_error: 0.1524\n",
      "Epoch 126/200\n",
      "15/15 [==============================] - 0s 18ms/step - loss: 0.0208 - root_mean_squared_error: 0.1443 - val_loss: 0.0233 - val_root_mean_squared_error: 0.1526\n",
      "Epoch 127/200\n",
      "15/15 [==============================] - 0s 17ms/step - loss: 0.0202 - root_mean_squared_error: 0.1421 - val_loss: 0.0245 - val_root_mean_squared_error: 0.1564\n",
      "Epoch 128/200\n",
      "15/15 [==============================] - 0s 18ms/step - loss: 0.0219 - root_mean_squared_error: 0.1481 - val_loss: 0.0229 - val_root_mean_squared_error: 0.1514\n",
      "Epoch 129/200\n",
      "15/15 [==============================] - 0s 17ms/step - loss: 0.0213 - root_mean_squared_error: 0.1459 - val_loss: 0.0238 - val_root_mean_squared_error: 0.1543\n",
      "Epoch 130/200\n",
      "15/15 [==============================] - 0s 18ms/step - loss: 0.0220 - root_mean_squared_error: 0.1484 - val_loss: 0.0238 - val_root_mean_squared_error: 0.1544\n",
      "Epoch 131/200\n",
      "15/15 [==============================] - 0s 18ms/step - loss: 0.0215 - root_mean_squared_error: 0.1466 - val_loss: 0.0253 - val_root_mean_squared_error: 0.1591\n",
      "Epoch 132/200\n",
      "15/15 [==============================] - 0s 18ms/step - loss: 0.0225 - root_mean_squared_error: 0.1501 - val_loss: 0.0235 - val_root_mean_squared_error: 0.1532\n",
      "Epoch 133/200\n",
      "15/15 [==============================] - 0s 18ms/step - loss: 0.0212 - root_mean_squared_error: 0.1455 - val_loss: 0.0235 - val_root_mean_squared_error: 0.1532\n",
      "Epoch 134/200\n",
      "15/15 [==============================] - 0s 18ms/step - loss: 0.0213 - root_mean_squared_error: 0.1459 - val_loss: 0.0229 - val_root_mean_squared_error: 0.1514\n",
      "Epoch 135/200\n",
      "15/15 [==============================] - 0s 18ms/step - loss: 0.0212 - root_mean_squared_error: 0.1454 - val_loss: 0.0231 - val_root_mean_squared_error: 0.1520\n",
      "Epoch 136/200\n",
      "15/15 [==============================] - 0s 17ms/step - loss: 0.0216 - root_mean_squared_error: 0.1469 - val_loss: 0.0232 - val_root_mean_squared_error: 0.1523\n",
      "Epoch 137/200\n",
      "15/15 [==============================] - 0s 17ms/step - loss: 0.0219 - root_mean_squared_error: 0.1479 - val_loss: 0.0228 - val_root_mean_squared_error: 0.1508\n",
      "Epoch 138/200\n",
      "15/15 [==============================] - 0s 17ms/step - loss: 0.0215 - root_mean_squared_error: 0.1464 - val_loss: 0.0229 - val_root_mean_squared_error: 0.1513\n",
      "Epoch 139/200\n",
      "15/15 [==============================] - 0s 18ms/step - loss: 0.0223 - root_mean_squared_error: 0.1493 - val_loss: 0.0231 - val_root_mean_squared_error: 0.1520\n",
      "Epoch 140/200\n",
      "15/15 [==============================] - 0s 20ms/step - loss: 0.0230 - root_mean_squared_error: 0.1516 - val_loss: 0.0224 - val_root_mean_squared_error: 0.1496\n",
      "Epoch 141/200\n",
      "15/15 [==============================] - 0s 19ms/step - loss: 0.0225 - root_mean_squared_error: 0.1501 - val_loss: 0.0229 - val_root_mean_squared_error: 0.1513\n",
      "Epoch 142/200\n",
      "15/15 [==============================] - 0s 19ms/step - loss: 0.0227 - root_mean_squared_error: 0.1505 - val_loss: 0.0233 - val_root_mean_squared_error: 0.1527\n",
      "Epoch 143/200\n",
      "15/15 [==============================] - 0s 19ms/step - loss: 0.0212 - root_mean_squared_error: 0.1453 - val_loss: 0.0233 - val_root_mean_squared_error: 0.1527\n",
      "Epoch 144/200\n",
      "15/15 [==============================] - 0s 18ms/step - loss: 0.0217 - root_mean_squared_error: 0.1473 - val_loss: 0.0230 - val_root_mean_squared_error: 0.1518\n",
      "Epoch 145/200\n",
      "15/15 [==============================] - 0s 18ms/step - loss: 0.0213 - root_mean_squared_error: 0.1459 - val_loss: 0.0230 - val_root_mean_squared_error: 0.1518\n",
      "Epoch 146/200\n",
      "15/15 [==============================] - 0s 17ms/step - loss: 0.0216 - root_mean_squared_error: 0.1468 - val_loss: 0.0228 - val_root_mean_squared_error: 0.1511\n",
      "Epoch 147/200\n",
      "15/15 [==============================] - 0s 17ms/step - loss: 0.0210 - root_mean_squared_error: 0.1450 - val_loss: 0.0233 - val_root_mean_squared_error: 0.1526\n",
      "Epoch 148/200\n",
      "15/15 [==============================] - 0s 17ms/step - loss: 0.0215 - root_mean_squared_error: 0.1465 - val_loss: 0.0244 - val_root_mean_squared_error: 0.1563\n",
      "Epoch 149/200\n",
      "15/15 [==============================] - 0s 17ms/step - loss: 0.0207 - root_mean_squared_error: 0.1439 - val_loss: 0.0245 - val_root_mean_squared_error: 0.1566\n",
      "Epoch 150/200\n",
      "15/15 [==============================] - 0s 19ms/step - loss: 0.0201 - root_mean_squared_error: 0.1415 - val_loss: 0.0243 - val_root_mean_squared_error: 0.1560\n",
      "Epoch 151/200\n",
      "15/15 [==============================] - 0s 19ms/step - loss: 0.0228 - root_mean_squared_error: 0.1510 - val_loss: 0.0232 - val_root_mean_squared_error: 0.1524\n",
      "Epoch 152/200\n",
      "15/15 [==============================] - 0s 19ms/step - loss: 0.0211 - root_mean_squared_error: 0.1451 - val_loss: 0.0230 - val_root_mean_squared_error: 0.1515\n",
      "Epoch 153/200\n",
      "15/15 [==============================] - 0s 18ms/step - loss: 0.0209 - root_mean_squared_error: 0.1444 - val_loss: 0.0232 - val_root_mean_squared_error: 0.1522\n",
      "Epoch 154/200\n",
      "15/15 [==============================] - 0s 18ms/step - loss: 0.0229 - root_mean_squared_error: 0.1513 - val_loss: 0.0247 - val_root_mean_squared_error: 0.1571\n",
      "Epoch 155/200\n",
      "15/15 [==============================] - 0s 18ms/step - loss: 0.0218 - root_mean_squared_error: 0.1477 - val_loss: 0.0234 - val_root_mean_squared_error: 0.1528\n",
      "Epoch 156/200\n",
      "15/15 [==============================] - 0s 18ms/step - loss: 0.0214 - root_mean_squared_error: 0.1464 - val_loss: 0.0226 - val_root_mean_squared_error: 0.1504\n",
      "Epoch 157/200\n",
      "15/15 [==============================] - 0s 18ms/step - loss: 0.0222 - root_mean_squared_error: 0.1490 - val_loss: 0.0227 - val_root_mean_squared_error: 0.1506\n",
      "Epoch 158/200\n",
      "15/15 [==============================] - 0s 18ms/step - loss: 0.0207 - root_mean_squared_error: 0.1437 - val_loss: 0.0232 - val_root_mean_squared_error: 0.1522\n",
      "Epoch 159/200\n",
      "15/15 [==============================] - 0s 19ms/step - loss: 0.0201 - root_mean_squared_error: 0.1415 - val_loss: 0.0228 - val_root_mean_squared_error: 0.1509\n",
      "Epoch 160/200\n",
      "15/15 [==============================] - 0s 17ms/step - loss: 0.0218 - root_mean_squared_error: 0.1475 - val_loss: 0.0231 - val_root_mean_squared_error: 0.1521\n",
      "Epoch 161/200\n",
      "15/15 [==============================] - 0s 18ms/step - loss: 0.0213 - root_mean_squared_error: 0.1459 - val_loss: 0.0231 - val_root_mean_squared_error: 0.1521\n",
      "Epoch 162/200\n",
      "15/15 [==============================] - 0s 19ms/step - loss: 0.0221 - root_mean_squared_error: 0.1488 - val_loss: 0.0239 - val_root_mean_squared_error: 0.1544\n",
      "Epoch 163/200\n",
      "15/15 [==============================] - 0s 19ms/step - loss: 0.0216 - root_mean_squared_error: 0.1470 - val_loss: 0.0229 - val_root_mean_squared_error: 0.1514\n",
      "Epoch 164/200\n",
      "15/15 [==============================] - 0s 19ms/step - loss: 0.0215 - root_mean_squared_error: 0.1465 - val_loss: 0.0231 - val_root_mean_squared_error: 0.1519\n",
      "Epoch 165/200\n",
      "15/15 [==============================] - 0s 19ms/step - loss: 0.0212 - root_mean_squared_error: 0.1454 - val_loss: 0.0238 - val_root_mean_squared_error: 0.1544\n",
      "Epoch 166/200\n",
      "15/15 [==============================] - 0s 18ms/step - loss: 0.0202 - root_mean_squared_error: 0.1419 - val_loss: 0.0232 - val_root_mean_squared_error: 0.1524\n",
      "Epoch 167/200\n",
      "15/15 [==============================] - 0s 18ms/step - loss: 0.0205 - root_mean_squared_error: 0.1432 - val_loss: 0.0231 - val_root_mean_squared_error: 0.1519\n",
      "Epoch 168/200\n",
      "15/15 [==============================] - 0s 18ms/step - loss: 0.0216 - root_mean_squared_error: 0.1469 - val_loss: 0.0228 - val_root_mean_squared_error: 0.1510\n",
      "Epoch 169/200\n",
      "15/15 [==============================] - 0s 18ms/step - loss: 0.0224 - root_mean_squared_error: 0.1495 - val_loss: 0.0224 - val_root_mean_squared_error: 0.1498\n",
      "Epoch 170/200\n",
      "15/15 [==============================] - 0s 18ms/step - loss: 0.0215 - root_mean_squared_error: 0.1467 - val_loss: 0.0231 - val_root_mean_squared_error: 0.1519\n",
      "Epoch 171/200\n",
      "15/15 [==============================] - 0s 19ms/step - loss: 0.0220 - root_mean_squared_error: 0.1484 - val_loss: 0.0241 - val_root_mean_squared_error: 0.1552\n",
      "Epoch 172/200\n",
      "15/15 [==============================] - 0s 18ms/step - loss: 0.0214 - root_mean_squared_error: 0.1463 - val_loss: 0.0229 - val_root_mean_squared_error: 0.1515\n",
      "Epoch 173/200\n",
      "15/15 [==============================] - 0s 19ms/step - loss: 0.0218 - root_mean_squared_error: 0.1478 - val_loss: 0.0230 - val_root_mean_squared_error: 0.1516\n",
      "Epoch 174/200\n",
      "15/15 [==============================] - 0s 19ms/step - loss: 0.0208 - root_mean_squared_error: 0.1442 - val_loss: 0.0228 - val_root_mean_squared_error: 0.1511\n",
      "Epoch 175/200\n",
      "15/15 [==============================] - 0s 17ms/step - loss: 0.0215 - root_mean_squared_error: 0.1467 - val_loss: 0.0246 - val_root_mean_squared_error: 0.1570\n",
      "Epoch 176/200\n",
      "15/15 [==============================] - 0s 17ms/step - loss: 0.0214 - root_mean_squared_error: 0.1463 - val_loss: 0.0238 - val_root_mean_squared_error: 0.1542\n",
      "Epoch 177/200\n",
      "15/15 [==============================] - 0s 18ms/step - loss: 0.0219 - root_mean_squared_error: 0.1481 - val_loss: 0.0226 - val_root_mean_squared_error: 0.1504\n",
      "Epoch 178/200\n",
      "15/15 [==============================] - 0s 18ms/step - loss: 0.0229 - root_mean_squared_error: 0.1512 - val_loss: 0.0228 - val_root_mean_squared_error: 0.1508\n",
      "Epoch 179/200\n",
      "15/15 [==============================] - 0s 19ms/step - loss: 0.0213 - root_mean_squared_error: 0.1458 - val_loss: 0.0236 - val_root_mean_squared_error: 0.1536\n",
      "Epoch 180/200\n",
      "15/15 [==============================] - 0s 19ms/step - loss: 0.0216 - root_mean_squared_error: 0.1471 - val_loss: 0.0234 - val_root_mean_squared_error: 0.1530\n",
      "Epoch 181/200\n",
      "15/15 [==============================] - 0s 18ms/step - loss: 0.0215 - root_mean_squared_error: 0.1465 - val_loss: 0.0244 - val_root_mean_squared_error: 0.1563\n",
      "Epoch 182/200\n",
      "15/15 [==============================] - 0s 19ms/step - loss: 0.0210 - root_mean_squared_error: 0.1449 - val_loss: 0.0232 - val_root_mean_squared_error: 0.1523\n",
      "Epoch 183/200\n",
      "15/15 [==============================] - 0s 19ms/step - loss: 0.0221 - root_mean_squared_error: 0.1485 - val_loss: 0.0229 - val_root_mean_squared_error: 0.1514\n",
      "Epoch 184/200\n",
      "15/15 [==============================] - 0s 18ms/step - loss: 0.0209 - root_mean_squared_error: 0.1445 - val_loss: 0.0226 - val_root_mean_squared_error: 0.1502\n",
      "Epoch 185/200\n",
      "15/15 [==============================] - 0s 18ms/step - loss: 0.0207 - root_mean_squared_error: 0.1438 - val_loss: 0.0229 - val_root_mean_squared_error: 0.1512\n",
      "Epoch 186/200\n",
      "15/15 [==============================] - 0s 18ms/step - loss: 0.0218 - root_mean_squared_error: 0.1475 - val_loss: 0.0232 - val_root_mean_squared_error: 0.1525\n",
      "Epoch 187/200\n",
      "15/15 [==============================] - 0s 18ms/step - loss: 0.0219 - root_mean_squared_error: 0.1478 - val_loss: 0.0232 - val_root_mean_squared_error: 0.1523\n",
      "Epoch 188/200\n",
      "15/15 [==============================] - 0s 17ms/step - loss: 0.0230 - root_mean_squared_error: 0.1515 - val_loss: 0.0231 - val_root_mean_squared_error: 0.1519\n",
      "Epoch 189/200\n",
      "15/15 [==============================] - 0s 17ms/step - loss: 0.0223 - root_mean_squared_error: 0.1492 - val_loss: 0.0229 - val_root_mean_squared_error: 0.1514\n",
      "Epoch 190/200\n",
      "15/15 [==============================] - 0s 18ms/step - loss: 0.0217 - root_mean_squared_error: 0.1472 - val_loss: 0.0226 - val_root_mean_squared_error: 0.1504\n",
      "Epoch 191/200\n",
      "15/15 [==============================] - 0s 18ms/step - loss: 0.0215 - root_mean_squared_error: 0.1466 - val_loss: 0.0227 - val_root_mean_squared_error: 0.1508\n",
      "Epoch 192/200\n",
      "15/15 [==============================] - 0s 18ms/step - loss: 0.0221 - root_mean_squared_error: 0.1487 - val_loss: 0.0231 - val_root_mean_squared_error: 0.1520\n",
      "Epoch 193/200\n",
      "15/15 [==============================] - 0s 18ms/step - loss: 0.0218 - root_mean_squared_error: 0.1477 - val_loss: 0.0238 - val_root_mean_squared_error: 0.1544\n",
      "Epoch 194/200\n",
      "15/15 [==============================] - 0s 18ms/step - loss: 0.0217 - root_mean_squared_error: 0.1473 - val_loss: 0.0230 - val_root_mean_squared_error: 0.1518\n",
      "Epoch 195/200\n",
      "15/15 [==============================] - 0s 18ms/step - loss: 0.0210 - root_mean_squared_error: 0.1447 - val_loss: 0.0227 - val_root_mean_squared_error: 0.1507\n",
      "Epoch 196/200\n",
      "15/15 [==============================] - 0s 18ms/step - loss: 0.0214 - root_mean_squared_error: 0.1462 - val_loss: 0.0225 - val_root_mean_squared_error: 0.1500\n",
      "Epoch 197/200\n",
      "15/15 [==============================] - 0s 19ms/step - loss: 0.0205 - root_mean_squared_error: 0.1430 - val_loss: 0.0227 - val_root_mean_squared_error: 0.1508\n",
      "Epoch 198/200\n",
      "15/15 [==============================] - 0s 19ms/step - loss: 0.0219 - root_mean_squared_error: 0.1480 - val_loss: 0.0225 - val_root_mean_squared_error: 0.1500\n",
      "Epoch 199/200\n",
      "15/15 [==============================] - 0s 19ms/step - loss: 0.0205 - root_mean_squared_error: 0.1431 - val_loss: 0.0230 - val_root_mean_squared_error: 0.1515\n",
      "Epoch 200/200\n",
      "15/15 [==============================] - 0s 18ms/step - loss: 0.0208 - root_mean_squared_error: 0.1440 - val_loss: 0.0237 - val_root_mean_squared_error: 0.1539\n"
     ]
    }
   ],
   "source": [
    "%time \n",
    "history=model.fit(X_train, \n",
    "                  y_train, \n",
    "                  validation_data=(X_val, \n",
    "                                   y_val), \n",
    "                  epochs=n_epochs, \n",
    "                  batch_size=batch_size, \n",
    "                  shuffle=True)"
   ]
  },
  {
   "cell_type": "code",
   "execution_count": 74,
   "id": "13610b3f-61ba-4a44-ae3b-cdb84da383f5",
   "metadata": {},
   "outputs": [],
   "source": [
    "y_train_pred_raw = model.predict(X_train)[:,0]"
   ]
  },
  {
   "cell_type": "code",
   "execution_count": 77,
   "id": "09982094-23ad-4cdc-9a1f-81bfef55f2e0",
   "metadata": {},
   "outputs": [
    {
     "data": {
      "text/plain": [
       "array([[0., 1.],\n",
       "       [0., 1.],\n",
       "       [0., 1.],\n",
       "       ...,\n",
       "       [0., 1.],\n",
       "       [0., 1.],\n",
       "       [0., 1.]])"
      ]
     },
     "execution_count": 77,
     "metadata": {},
     "output_type": "execute_result"
    }
   ],
   "source": [
    "y_train"
   ]
  },
  {
   "cell_type": "code",
   "execution_count": 90,
   "id": "8f7e807b-c253-4feb-94aa-34ecaf0bd763",
   "metadata": {},
   "outputs": [],
   "source": [
    "def calc_sedi(conf_mat):\n",
    "    hr1 = conf_mat[1,1] / (conf_mat[1,0] + conf_mat[1,1])\n",
    "    fa1 = conf_mat[0,1] / (conf_mat[0,0] + conf_mat[0,1])\n",
    "    sedi_score1 = (\n",
    "        (numpy.log(fa1) - numpy.log(hr1) - numpy.log(1.0-fa1) + numpy.log(1.0-hr1) )\n",
    "        / (numpy.log(fa1) + numpy.log(hr1) + numpy.log(1.0 - fa1) + numpy.log(1.0-hr1) )  )\n",
    "    return sedi_score1"
   ]
  },
  {
   "cell_type": "code",
   "execution_count": 91,
   "id": "9d3318e5-8951-4521-adc8-13dd7e072cdf",
   "metadata": {
    "tags": []
   },
   "outputs": [],
   "source": [
    "hit_rates = []\n",
    "false_alarm_rates = []\n",
    "thresholds_list = list(numpy.arange(1e-3,0.3,1e-3))\n",
    "sedi_list = []\n",
    "for threshold in numpy.arange(1e-3,0.3,1e-3):\n",
    "    y_pred_train = list(map(float, y_train_pred_raw > threshold)) \n",
    "    cm1 = sklearn.metrics.confusion_matrix(y_train[:,0], y_pred_train)\n",
    "    hit_rates += [cm1[1,1] / (cm1[1,0] + cm1[1,1])]\n",
    "    false_alarm_rates += [cm1[0,1] / (cm1[0,0] + cm1[0,1])]\n",
    "    sedi_list += [calc_sedi(cm1)]\n",
    "    \n",
    "    "
   ]
  },
  {
   "cell_type": "code",
   "execution_count": 92,
   "id": "cf00aafe-57e1-4204-bf57-31cdb3014c8b",
   "metadata": {},
   "outputs": [
    {
     "data": {
      "text/plain": [
       "[<matplotlib.lines.Line2D at 0x7f9829a0dfa0>]"
      ]
     },
     "execution_count": 92,
     "metadata": {},
     "output_type": "execute_result"
    },
    {
     "data": {
      "image/png": "[encoded data removed]",
      "text/plain": [
       "<Figure size 1152x720 with 1 Axes>"
      ]
     },
     "metadata": {
      "needs_background": "light"
     },
     "output_type": "display_data"
    }
   ],
   "source": [
    "f1 = matplotlib.pyplot.figure(figsize=(16,10))\n",
    "ax1 = f1.add_subplot(1,1,1,title='hit rates vs false alarms (training data)')\n",
    "ax1.plot(thresholds_list, hit_rates,'r')\n",
    "ax1.plot(thresholds_list, false_alarm_rates,'b')\n",
    "ax1.plot(thresholds_list, sedi_list,'k')"
   ]
  },
  {
   "cell_type": "code",
   "execution_count": null,
   "id": "intensive-toolbox",
   "metadata": {},
   "outputs": [],
   "source": [
    "y_train.shape[0],( y_train==0).sum(), (model.predict(X_train)==0).sum()"
   ]
  },
  {
   "cell_type": "markdown",
   "id": "industrial-result",
   "metadata": {},
   "source": [
    "### Resample the data \n",
    "\n",
    "Our yes/no classes for classification are very unbalanced, so we can try doing a naive resampling so we have equal representation fo the two classes in our sample set."
   ]
  },
  {
   "cell_type": "code",
   "execution_count": null,
   "id": "disturbed-emerald",
   "metadata": {},
   "outputs": [],
   "source": [
    "data_train_resampled = pandas.concat([\n",
    "    data_train[data_train[target_feature_name] == True].sample(n=int(1e4), replace=True), \n",
    "    data_train[data_train[target_feature_name] == False].sample(n=int(1e4), replace=False),],\n",
    "    ignore_index=True)"
   ]
  },
  {
   "cell_type": "code",
   "execution_count": null,
   "id": "unlikely-polymer",
   "metadata": {},
   "outputs": [],
   "source": [
    "X_train_resampled = preproc_input(data_train_resampled, preproc_dict)\n",
    "y_train_resampled = preproc_target(data_train_resampled, target_encoder)"
   ]
  },
  {
   "cell_type": "code",
   "execution_count": null,
   "id": "jewish-being",
   "metadata": {},
   "outputs": [],
   "source": [
    "train_val_test_res_tuples = [\n",
    "    (X_train_resampled, y_train_resampled),\n",
    "    (X_val, y_val),\n",
    "    (X_test, y_test),    \n",
    "]"
   ]
  }
 ],
 "metadata": {
  "kernelspec": {
   "display_name": "Python 3 (ipykernel)",
   "language": "python",
   "name": "python3"
  },
  "language_info": {
   "codemirror_mode": {
    "name": "ipython",
    "version": 3
   },
   "file_extension": ".py",
   "mimetype": "text/x-python",
   "name": "python",
   "nbconvert_exporter": "python",
   "pygments_lexer": "ipython3",
   "version": "3.8.11"
  }
 },
 "nbformat": 4,
 "nbformat_minor": 5
}
