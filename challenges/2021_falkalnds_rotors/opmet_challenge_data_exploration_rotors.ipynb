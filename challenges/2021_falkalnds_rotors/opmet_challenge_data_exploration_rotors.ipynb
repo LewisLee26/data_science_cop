{
 "cells": [
  {
   "cell_type": "markdown",
   "id": "a8f88117-3863-4a94-b480-f0d28f96ea48",
   "metadata": {},
   "source": [
    "# Data Exploration for Falklands Rotors data\n",
    "\n",
    "A good place to start any machine learning project is to really understand the data you will be using to train your models, both through calculating statistics"
   ]
  },
  {
   "cell_type": "code",
   "execution_count": 1,
   "id": "interested-logistics",
   "metadata": {},
   "outputs": [],
   "source": [
    "import pathlib\n",
    "import datetime\n",
    "import os"
   ]
  },
  {
   "cell_type": "code",
   "execution_count": 2,
   "id": "express-congo",
   "metadata": {},
   "outputs": [],
   "source": [
    "import pandas"
   ]
  },
  {
   "cell_type": "code",
   "execution_count": 3,
   "id": "genuine-parameter",
   "metadata": {},
   "outputs": [],
   "source": [
    "import iris"
   ]
  },
  {
   "cell_type": "code",
   "execution_count": 4,
   "id": "lyric-absorption",
   "metadata": {},
   "outputs": [],
   "source": [
    "import matplotlib"
   ]
  },
  {
   "cell_type": "code",
   "execution_count": 5,
   "id": "2d74954d-ef03-4b3f-8717-e1c9c653f8bb",
   "metadata": {},
   "outputs": [],
   "source": [
    "import sklearn\n",
    "import sklearn.metrics"
   ]
  },
  {
   "cell_type": "code",
   "execution_count": 6,
   "id": "strategic-printer",
   "metadata": {},
   "outputs": [],
   "source": [
    "%matplotlib inline"
   ]
  },
  {
   "cell_type": "code",
   "execution_count": 7,
   "id": "working-perspective",
   "metadata": {},
   "outputs": [
    {
     "name": "stdout",
     "output_type": "stream",
     "text": [
      "/Users/stephen.haddad/data/ml_challenges\n"
     ]
    }
   ],
   "source": [
    "try:\n",
    "    root_data_dir = os.environ['OPMET_ROTORS_DATA_ROOT']\n",
    "except KeyError:\n",
    "    root_data_dir = '/data/users/shaddad/ds_cop/2021_opmet_challenge/ML'\n",
    "root_data_dir = pathlib.Path(root_data_dir)\n",
    "print(root_data_dir)"
   ]
  },
  {
   "cell_type": "markdown",
   "id": "super-screening",
   "metadata": {
    "tags": []
   },
   "source": [
    "## Exploring Falklands Rotor Data"
   ]
  },
  {
   "cell_type": "code",
   "execution_count": 8,
   "id": "nonprofit-republican",
   "metadata": {},
   "outputs": [
    {
     "data": {
      "text/plain": [
       "PosixPath('/Users/stephen.haddad/data/ml_challenges/Rotors')"
      ]
     },
     "execution_count": 8,
     "metadata": {},
     "output_type": "execute_result"
    }
   ],
   "source": [
    "falklands_data_path = root_data_dir.joinpath( 'Rotors')\n",
    "falklands_data_path"
   ]
  },
  {
   "cell_type": "code",
   "execution_count": 9,
   "id": "faced-argument",
   "metadata": {},
   "outputs": [],
   "source": [
    "falklands_new_training_data_path = pathlib.Path(falklands_data_path, 'new_training.csv')"
   ]
  },
  {
   "cell_type": "code",
   "execution_count": 10,
   "id": "stylish-report",
   "metadata": {},
   "outputs": [],
   "source": [
    "falklands_training_df = pandas.read_csv(falklands_new_training_data_path)"
   ]
  },
  {
   "cell_type": "code",
   "execution_count": 11,
   "id": "4ad6512d-be35-44fe-a826-af9b507ab38c",
   "metadata": {},
   "outputs": [],
   "source": [
    "falklands_training_df = falklands_training_df.rename({'Rotors 1 is true': 'rotors'},axis=1)"
   ]
  },
  {
   "cell_type": "code",
   "execution_count": 12,
   "id": "ae776ff7-5014-4bab-862f-c2853ac42669",
   "metadata": {},
   "outputs": [],
   "source": [
    "falklands_training_df.loc[falklands_training_df[falklands_training_df['rotors'].isna()].index, 'rotors'] = 0"
   ]
  },
  {
   "cell_type": "code",
   "execution_count": 13,
   "id": "surface-optimum",
   "metadata": {},
   "outputs": [],
   "source": [
    "falklands_training_df['DTG'] = pandas.to_datetime(falklands_training_df['DTG'])"
   ]
  },
  {
   "cell_type": "code",
   "execution_count": 14,
   "id": "d3e751ea-d2f8-4dc5-aa27-06c1c0cd940b",
   "metadata": {},
   "outputs": [],
   "source": [
    "falklands_training_df = falklands_training_df.drop_duplicates(subset=['DTG'])"
   ]
  },
  {
   "cell_type": "code",
   "execution_count": 15,
   "id": "d392e0b6-b3c9-4883-9349-e954b93ef043",
   "metadata": {},
   "outputs": [
    {
     "data": {
      "text/html": [
       "<div>\n",
       "<style scoped>\n",
       "    .dataframe tbody tr th:only-of-type {\n",
       "        vertical-align: middle;\n",
       "    }\n",
       "\n",
       "    .dataframe tbody tr th {\n",
       "        vertical-align: top;\n",
       "    }\n",
       "\n",
       "    .dataframe thead th {\n",
       "        text-align: right;\n",
       "    }\n",
       "</style>\n",
       "<table border=\"1\" class=\"dataframe\">\n",
       "  <thead>\n",
       "    <tr style=\"text-align: right;\">\n",
       "      <th></th>\n",
       "      <th>DTG</th>\n",
       "      <th>air_temp_obs</th>\n",
       "      <th>dewpoint_obs</th>\n",
       "      <th>wind_direction_obs</th>\n",
       "      <th>wind_speed_obs</th>\n",
       "      <th>wind_gust_obs</th>\n",
       "      <th>air_temp_1</th>\n",
       "      <th>air_temp_2</th>\n",
       "      <th>air_temp_3</th>\n",
       "      <th>air_temp_4</th>\n",
       "      <th>...</th>\n",
       "      <th>windspd_18</th>\n",
       "      <th>winddir_19</th>\n",
       "      <th>windspd_19</th>\n",
       "      <th>winddir_20</th>\n",
       "      <th>windspd_20</th>\n",
       "      <th>winddir_21</th>\n",
       "      <th>windspd_21</th>\n",
       "      <th>winddir_22</th>\n",
       "      <th>windspd_22</th>\n",
       "      <th>rotors</th>\n",
       "    </tr>\n",
       "  </thead>\n",
       "  <tbody>\n",
       "    <tr>\n",
       "      <th>0</th>\n",
       "      <td>NaT</td>\n",
       "      <td>NaN</td>\n",
       "      <td>NaN</td>\n",
       "      <td>NaN</td>\n",
       "      <td>NaN</td>\n",
       "      <td>NaN</td>\n",
       "      <td>NaN</td>\n",
       "      <td>NaN</td>\n",
       "      <td>NaN</td>\n",
       "      <td>NaN</td>\n",
       "      <td>...</td>\n",
       "      <td>NaN</td>\n",
       "      <td>NaN</td>\n",
       "      <td>NaN</td>\n",
       "      <td>NaN</td>\n",
       "      <td>NaN</td>\n",
       "      <td>NaN</td>\n",
       "      <td>NaN</td>\n",
       "      <td>NaN</td>\n",
       "      <td>NaN</td>\n",
       "      <td>0.0</td>\n",
       "    </tr>\n",
       "    <tr>\n",
       "      <th>1</th>\n",
       "      <td>2015-01-01 00:00:00</td>\n",
       "      <td>283.9</td>\n",
       "      <td>280.7</td>\n",
       "      <td>110.0</td>\n",
       "      <td>4.1</td>\n",
       "      <td>-9999999.0</td>\n",
       "      <td>284.000</td>\n",
       "      <td>283.625</td>\n",
       "      <td>283.250</td>\n",
       "      <td>282.625</td>\n",
       "      <td>...</td>\n",
       "      <td>5.8</td>\n",
       "      <td>341.0</td>\n",
       "      <td>6.0</td>\n",
       "      <td>334.0</td>\n",
       "      <td>6.1</td>\n",
       "      <td>330.0</td>\n",
       "      <td>6.0</td>\n",
       "      <td>329.0</td>\n",
       "      <td>5.8</td>\n",
       "      <td>0.0</td>\n",
       "    </tr>\n",
       "    <tr>\n",
       "      <th>2</th>\n",
       "      <td>2015-01-01 03:00:00</td>\n",
       "      <td>280.7</td>\n",
       "      <td>279.7</td>\n",
       "      <td>90.0</td>\n",
       "      <td>7.7</td>\n",
       "      <td>-9999999.0</td>\n",
       "      <td>281.500</td>\n",
       "      <td>281.250</td>\n",
       "      <td>280.750</td>\n",
       "      <td>280.250</td>\n",
       "      <td>...</td>\n",
       "      <td>6.8</td>\n",
       "      <td>344.0</td>\n",
       "      <td>5.3</td>\n",
       "      <td>348.0</td>\n",
       "      <td>3.8</td>\n",
       "      <td>360.0</td>\n",
       "      <td>3.2</td>\n",
       "      <td>12.0</td>\n",
       "      <td>3.5</td>\n",
       "      <td>0.0</td>\n",
       "    </tr>\n",
       "    <tr>\n",
       "      <th>3</th>\n",
       "      <td>2015-01-01 06:00:00</td>\n",
       "      <td>279.8</td>\n",
       "      <td>278.1</td>\n",
       "      <td>100.0</td>\n",
       "      <td>7.7</td>\n",
       "      <td>-9999999.0</td>\n",
       "      <td>279.875</td>\n",
       "      <td>279.625</td>\n",
       "      <td>279.125</td>\n",
       "      <td>278.625</td>\n",
       "      <td>...</td>\n",
       "      <td>6.0</td>\n",
       "      <td>345.0</td>\n",
       "      <td>5.5</td>\n",
       "      <td>358.0</td>\n",
       "      <td>5.0</td>\n",
       "      <td>10.0</td>\n",
       "      <td>4.2</td>\n",
       "      <td>38.0</td>\n",
       "      <td>4.0</td>\n",
       "      <td>0.0</td>\n",
       "    </tr>\n",
       "    <tr>\n",
       "      <th>4</th>\n",
       "      <td>2015-01-01 09:00:00</td>\n",
       "      <td>279.9</td>\n",
       "      <td>277.0</td>\n",
       "      <td>120.0</td>\n",
       "      <td>7.2</td>\n",
       "      <td>-9999999.0</td>\n",
       "      <td>279.625</td>\n",
       "      <td>279.250</td>\n",
       "      <td>278.875</td>\n",
       "      <td>278.250</td>\n",
       "      <td>...</td>\n",
       "      <td>3.1</td>\n",
       "      <td>338.0</td>\n",
       "      <td>3.5</td>\n",
       "      <td>354.0</td>\n",
       "      <td>3.9</td>\n",
       "      <td>9.0</td>\n",
       "      <td>4.4</td>\n",
       "      <td>22.0</td>\n",
       "      <td>4.6</td>\n",
       "      <td>0.0</td>\n",
       "    </tr>\n",
       "    <tr>\n",
       "      <th>...</th>\n",
       "      <td>...</td>\n",
       "      <td>...</td>\n",
       "      <td>...</td>\n",
       "      <td>...</td>\n",
       "      <td>...</td>\n",
       "      <td>...</td>\n",
       "      <td>...</td>\n",
       "      <td>...</td>\n",
       "      <td>...</td>\n",
       "      <td>...</td>\n",
       "      <td>...</td>\n",
       "      <td>...</td>\n",
       "      <td>...</td>\n",
       "      <td>...</td>\n",
       "      <td>...</td>\n",
       "      <td>...</td>\n",
       "      <td>...</td>\n",
       "      <td>...</td>\n",
       "      <td>...</td>\n",
       "      <td>...</td>\n",
       "      <td>...</td>\n",
       "    </tr>\n",
       "    <tr>\n",
       "      <th>20101</th>\n",
       "      <td>2020-12-31 06:00:00</td>\n",
       "      <td>276.7</td>\n",
       "      <td>275.5</td>\n",
       "      <td>270.0</td>\n",
       "      <td>3.6</td>\n",
       "      <td>-9999999.0</td>\n",
       "      <td>277.875</td>\n",
       "      <td>277.750</td>\n",
       "      <td>277.625</td>\n",
       "      <td>277.500</td>\n",
       "      <td>...</td>\n",
       "      <td>12.1</td>\n",
       "      <td>223.0</td>\n",
       "      <td>11.8</td>\n",
       "      <td>221.0</td>\n",
       "      <td>11.4</td>\n",
       "      <td>219.0</td>\n",
       "      <td>11.3</td>\n",
       "      <td>215.0</td>\n",
       "      <td>11.4</td>\n",
       "      <td>0.0</td>\n",
       "    </tr>\n",
       "    <tr>\n",
       "      <th>20102</th>\n",
       "      <td>2020-12-31 09:00:00</td>\n",
       "      <td>277.9</td>\n",
       "      <td>276.9</td>\n",
       "      <td>270.0</td>\n",
       "      <td>3.1</td>\n",
       "      <td>-9999999.0</td>\n",
       "      <td>277.875</td>\n",
       "      <td>277.625</td>\n",
       "      <td>277.875</td>\n",
       "      <td>277.875</td>\n",
       "      <td>...</td>\n",
       "      <td>10.2</td>\n",
       "      <td>230.0</td>\n",
       "      <td>10.8</td>\n",
       "      <td>230.0</td>\n",
       "      <td>11.6</td>\n",
       "      <td>227.0</td>\n",
       "      <td>12.3</td>\n",
       "      <td>222.0</td>\n",
       "      <td>12.0</td>\n",
       "      <td>0.0</td>\n",
       "    </tr>\n",
       "    <tr>\n",
       "      <th>20103</th>\n",
       "      <td>2020-12-31 12:00:00</td>\n",
       "      <td>283.5</td>\n",
       "      <td>277.1</td>\n",
       "      <td>220.0</td>\n",
       "      <td>3.6</td>\n",
       "      <td>-9999999.0</td>\n",
       "      <td>281.125</td>\n",
       "      <td>280.625</td>\n",
       "      <td>280.125</td>\n",
       "      <td>279.625</td>\n",
       "      <td>...</td>\n",
       "      <td>10.3</td>\n",
       "      <td>218.0</td>\n",
       "      <td>11.9</td>\n",
       "      <td>221.0</td>\n",
       "      <td>12.8</td>\n",
       "      <td>222.0</td>\n",
       "      <td>11.9</td>\n",
       "      <td>225.0</td>\n",
       "      <td>10.6</td>\n",
       "      <td>0.0</td>\n",
       "    </tr>\n",
       "    <tr>\n",
       "      <th>20104</th>\n",
       "      <td>2020-12-31 15:00:00</td>\n",
       "      <td>286.1</td>\n",
       "      <td>276.9</td>\n",
       "      <td>250.0</td>\n",
       "      <td>3.6</td>\n",
       "      <td>-9999999.0</td>\n",
       "      <td>284.625</td>\n",
       "      <td>284.125</td>\n",
       "      <td>283.625</td>\n",
       "      <td>283.000</td>\n",
       "      <td>...</td>\n",
       "      <td>9.4</td>\n",
       "      <td>218.0</td>\n",
       "      <td>8.6</td>\n",
       "      <td>212.0</td>\n",
       "      <td>8.3</td>\n",
       "      <td>218.0</td>\n",
       "      <td>8.7</td>\n",
       "      <td>226.0</td>\n",
       "      <td>10.1</td>\n",
       "      <td>0.0</td>\n",
       "    </tr>\n",
       "    <tr>\n",
       "      <th>20105</th>\n",
       "      <td>2021-01-01 00:00:00</td>\n",
       "      <td>285.1</td>\n",
       "      <td>279.3</td>\n",
       "      <td>300.0</td>\n",
       "      <td>6.2</td>\n",
       "      <td>-9999999.0</td>\n",
       "      <td>284.250</td>\n",
       "      <td>284.000</td>\n",
       "      <td>283.750</td>\n",
       "      <td>283.250</td>\n",
       "      <td>...</td>\n",
       "      <td>8.6</td>\n",
       "      <td>241.0</td>\n",
       "      <td>10.2</td>\n",
       "      <td>236.0</td>\n",
       "      <td>10.5</td>\n",
       "      <td>232.0</td>\n",
       "      <td>10.5</td>\n",
       "      <td>227.0</td>\n",
       "      <td>11.3</td>\n",
       "      <td>0.0</td>\n",
       "    </tr>\n",
       "  </tbody>\n",
       "</table>\n",
       "<p>17508 rows × 95 columns</p>\n",
       "</div>"
      ],
      "text/plain": [
       "                      DTG  air_temp_obs  dewpoint_obs  wind_direction_obs  \\\n",
       "0                     NaT           NaN           NaN                 NaN   \n",
       "1     2015-01-01 00:00:00         283.9         280.7               110.0   \n",
       "2     2015-01-01 03:00:00         280.7         279.7                90.0   \n",
       "3     2015-01-01 06:00:00         279.8         278.1               100.0   \n",
       "4     2015-01-01 09:00:00         279.9         277.0               120.0   \n",
       "...                   ...           ...           ...                 ...   \n",
       "20101 2020-12-31 06:00:00         276.7         275.5               270.0   \n",
       "20102 2020-12-31 09:00:00         277.9         276.9               270.0   \n",
       "20103 2020-12-31 12:00:00         283.5         277.1               220.0   \n",
       "20104 2020-12-31 15:00:00         286.1         276.9               250.0   \n",
       "20105 2021-01-01 00:00:00         285.1         279.3               300.0   \n",
       "\n",
       "       wind_speed_obs  wind_gust_obs  air_temp_1  air_temp_2  air_temp_3  \\\n",
       "0                 NaN            NaN         NaN         NaN         NaN   \n",
       "1                 4.1     -9999999.0     284.000     283.625     283.250   \n",
       "2                 7.7     -9999999.0     281.500     281.250     280.750   \n",
       "3                 7.7     -9999999.0     279.875     279.625     279.125   \n",
       "4                 7.2     -9999999.0     279.625     279.250     278.875   \n",
       "...               ...            ...         ...         ...         ...   \n",
       "20101             3.6     -9999999.0     277.875     277.750     277.625   \n",
       "20102             3.1     -9999999.0     277.875     277.625     277.875   \n",
       "20103             3.6     -9999999.0     281.125     280.625     280.125   \n",
       "20104             3.6     -9999999.0     284.625     284.125     283.625   \n",
       "20105             6.2     -9999999.0     284.250     284.000     283.750   \n",
       "\n",
       "       air_temp_4  ...  windspd_18  winddir_19  windspd_19  winddir_20  \\\n",
       "0             NaN  ...         NaN         NaN         NaN         NaN   \n",
       "1         282.625  ...         5.8       341.0         6.0       334.0   \n",
       "2         280.250  ...         6.8       344.0         5.3       348.0   \n",
       "3         278.625  ...         6.0       345.0         5.5       358.0   \n",
       "4         278.250  ...         3.1       338.0         3.5       354.0   \n",
       "...           ...  ...         ...         ...         ...         ...   \n",
       "20101     277.500  ...        12.1       223.0        11.8       221.0   \n",
       "20102     277.875  ...        10.2       230.0        10.8       230.0   \n",
       "20103     279.625  ...        10.3       218.0        11.9       221.0   \n",
       "20104     283.000  ...         9.4       218.0         8.6       212.0   \n",
       "20105     283.250  ...         8.6       241.0        10.2       236.0   \n",
       "\n",
       "       windspd_20  winddir_21  windspd_21  winddir_22  windspd_22  rotors  \n",
       "0             NaN         NaN         NaN         NaN         NaN     0.0  \n",
       "1             6.1       330.0         6.0       329.0         5.8     0.0  \n",
       "2             3.8       360.0         3.2        12.0         3.5     0.0  \n",
       "3             5.0        10.0         4.2        38.0         4.0     0.0  \n",
       "4             3.9         9.0         4.4        22.0         4.6     0.0  \n",
       "...           ...         ...         ...         ...         ...     ...  \n",
       "20101        11.4       219.0        11.3       215.0        11.4     0.0  \n",
       "20102        11.6       227.0        12.3       222.0        12.0     0.0  \n",
       "20103        12.8       222.0        11.9       225.0        10.6     0.0  \n",
       "20104         8.3       218.0         8.7       226.0        10.1     0.0  \n",
       "20105        10.5       232.0        10.5       227.0        11.3     0.0  \n",
       "\n",
       "[17508 rows x 95 columns]"
      ]
     },
     "execution_count": 15,
     "metadata": {},
     "output_type": "execute_result"
    }
   ],
   "source": [
    "falklands_training_df"
   ]
  },
  {
   "cell_type": "code",
   "execution_count": 16,
   "id": "54527131-8570-4316-869b-78b77c5d6570",
   "metadata": {},
   "outputs": [
    {
     "data": {
      "text/plain": [
       "0.0    17059\n",
       "1.0      449\n",
       "Name: rotors, dtype: int64"
      ]
     },
     "execution_count": 16,
     "metadata": {},
     "output_type": "execute_result"
    }
   ],
   "source": [
    "falklands_training_df['rotors'].value_counts()"
   ]
  },
  {
   "cell_type": "code",
   "execution_count": 17,
   "id": "useful-peace",
   "metadata": {},
   "outputs": [
    {
     "data": {
      "text/plain": [
       "Index(['DTG', 'air_temp_obs', 'dewpoint_obs', 'wind_direction_obs',\n",
       "       'wind_speed_obs', 'wind_gust_obs', 'air_temp_1', 'air_temp_2',\n",
       "       'air_temp_3', 'air_temp_4', 'air_temp_5', 'air_temp_6', 'air_temp_7',\n",
       "       'air_temp_8', 'air_temp_9', 'air_temp_10', 'air_temp_11', 'air_temp_12',\n",
       "       'air_temp_13', 'air_temp_14', 'air_temp_15', 'air_temp_16',\n",
       "       'air_temp_17', 'air_temp_18', 'air_temp_19', 'air_temp_20',\n",
       "       'air_temp_21', 'air_temp_22', 'sh_1', 'sh_2', 'sh_3', 'sh_4', 'sh_5',\n",
       "       'sh_6', 'sh_7', 'sh_8', 'sh_9', 'sh_10', 'sh_11', 'sh_12', 'sh_13',\n",
       "       'sh_14', 'sh_15', 'sh_16', 'sh_17', 'sh_18', 'sh_19', 'sh_20', 'sh_21',\n",
       "       'sh_22', 'winddir_1', 'windspd_1', 'winddir_2', 'windspd_2',\n",
       "       'winddir_3', 'windspd_3', 'winddir_4', 'windspd_4', 'winddir_5',\n",
       "       'windspd_5', 'winddir_6', 'windspd_6', 'winddir_7', 'windspd_7',\n",
       "       'winddir_8', 'windspd_8', 'winddir_9', 'windspd_9', 'winddir_10',\n",
       "       'windspd_10', 'winddir_11', 'windspd_11', 'winddir_12', 'windspd_12',\n",
       "       'winddir_13', 'windspd_13', 'winddir_14', 'windspd_14', 'winddir_15',\n",
       "       'windspd_15', 'winddir_16', 'windspd_16', 'winddir_17', 'windspd_17',\n",
       "       'winddir_18', 'windspd_18', 'winddir_19', 'windspd_19', 'winddir_20',\n",
       "       'windspd_20', 'winddir_21', 'windspd_21', 'winddir_22', 'windspd_22',\n",
       "       'rotors'],\n",
       "      dtype='object')"
      ]
     },
     "execution_count": 17,
     "metadata": {},
     "output_type": "execute_result"
    }
   ],
   "source": [
    "falklands_training_df.columns"
   ]
  },
  {
   "cell_type": "code",
   "execution_count": 18,
   "id": "brilliant-trainer",
   "metadata": {},
   "outputs": [],
   "source": [
    "falklands_training_df = falklands_training_df[falklands_training_df['wind_speed_obs'] >= 0]"
   ]
  },
  {
   "cell_type": "code",
   "execution_count": 19,
   "id": "73b5d3d1-da2b-4d06-bddc-f6e86ac53230",
   "metadata": {},
   "outputs": [],
   "source": [
    "no_rotors_df = falklands_training_df[falklands_training_df['rotors'] == 0]\n",
    "rotors_present_df = falklands_training_df[falklands_training_df['rotors'] == 1]"
   ]
  },
  {
   "cell_type": "code",
   "execution_count": 20,
   "id": "b8f36fc9-994c-41ea-9af8-25f291404cfb",
   "metadata": {},
   "outputs": [],
   "source": [
    "no_rotors_df = falklands_training_df[falklands_training_df['rotors'] == 0]\n",
    "rotors_present_df = falklands_training_df[falklands_training_df['rotors'] == 1]"
   ]
  },
  {
   "cell_type": "code",
   "execution_count": 21,
   "id": "beginning-jurisdiction",
   "metadata": {},
   "outputs": [
    {
     "data": {
      "text/plain": [
       "Text(0.5, 0, 'wind direction')"
      ]
     },
     "execution_count": 21,
     "metadata": {},
     "output_type": "execute_result"
    },
    {
     "data": {
      "image/png": "[encoded data removed]",
      "text/plain": [
       "<Figure size 1152x576 with 2 Axes>"
      ]
     },
     "metadata": {
      "needs_background": "light"
     },
     "output_type": "display_data"
    }
   ],
   "source": [
    "fig1 = matplotlib.pyplot.figure('distribution_wind_spevalue_countsirection', figsize=(16,8))\n",
    "ax1 = fig1.add_subplot(1,2,1,title='distribution of observed wind speeds')\n",
    "falklands_training_df['wind_speed_obs'].plot.hist(ax=ax1,bins=20)\n",
    "ax1.set_xlabel('windspeed in m/s-1',)\n",
    "ax1 = fig1.add_subplot(1,2,2,title='distribution of observed wind directions')\n",
    "falklands_training_df['wind_direction_obs'].plot.hist(ax=ax1,bins=20)\n",
    "ax1.set_xlabel('wind direction',)"
   ]
  },
  {
   "cell_type": "code",
   "execution_count": 22,
   "id": "93c8d1af-9eff-4cc8-875d-3097e684b227",
   "metadata": {},
   "outputs": [
    {
     "name": "stdout",
     "output_type": "stream",
     "text": [
      "['air_temp_obs', 'dewpoint_obs', 'wind_direction_obs', 'wind_speed_obs', 'wind_gust_obs']\n"
     ]
    },
    {
     "data": {
      "image/png": "[encoded data removed]",
      "text/plain": [
       "<Figure size 1152x2160 with 10 Axes>"
      ]
     },
     "metadata": {
      "needs_background": "light"
     },
     "output_type": "display_data"
    }
   ],
   "source": [
    "vars_to_plot = ['air_temp_obs', 'dewpoint_obs', 'wind_direction_obs', 'wind_speed_obs', 'wind_gust_obs',]\n",
    "print(vars_to_plot)\n",
    "fig1 = matplotlib.pyplot.figure('comparing rota events',figsize=(16,6*len(vars_to_plot)))\n",
    "for ix1, var_name in enumerate(vars_to_plot):\n",
    "    ax1 = fig1.add_subplot(len(vars_to_plot),2,ix1*2+1, title=f'{var_name} histogram for no rotors')\n",
    "    falklands_training_df[falklands_training_df['rotors'] == 0][var_name].hist(bins=20,ax=ax1)\n",
    "    ax1 = fig1.add_subplot(len(vars_to_plot),2,ix1*2+2, title=f'{var_name} histogram for rotors')\n",
    "    falklands_training_df[falklands_training_df['rotors'] == 1][var_name].hist(bins=20,ax=ax1)\n"
   ]
  },
  {
   "cell_type": "code",
   "execution_count": 23,
   "id": "ordered-suite",
   "metadata": {},
   "outputs": [],
   "source": [
    "windspeed_columns = [f'windspd_{ix1}' for ix1 in range(1,21) ]\n",
    "humidity_columns = [f'sh_{ix1}' for ix1 in range(1,21) ]\n",
    "wind_dir_columns = [f'winddir_{ix1}' for ix1 in range(1,21) ]\n",
    "temperature_columns = [f'air_temp_{ix1}' for ix1 in range(1,21) ]\n"
   ]
  },
  {
   "cell_type": "code",
   "execution_count": 24,
   "id": "9fd8c85a-6eb1-4dc1-ae95-9e1384349393",
   "metadata": {},
   "outputs": [
    {
     "data": {
      "text/plain": [
       "<AxesSubplot:xlabel='DTG,rotors'>"
      ]
     },
     "execution_count": 24,
     "metadata": {},
     "output_type": "execute_result"
    },
    {
     "data": {
      "image/png": "[encoded data removed]",
      "text/plain": [
       "<Figure size 576x576 with 1 Axes>"
      ]
     },
     "metadata": {
      "needs_background": "light"
     },
     "output_type": "display_data"
    }
   ],
   "source": [
    "falklands_training_df.groupby([ falklands_training_df['DTG'].apply(lambda x: x.year), falklands_training_df['rotors']])['DTG'].count().plot.bar(figsize=(8,8))"
   ]
  },
  {
   "cell_type": "code",
   "execution_count": 25,
   "id": "7778b048-e158-46b2-8360-a9398b2c2f7f",
   "metadata": {},
   "outputs": [
    {
     "data": {
      "text/plain": [
       "<AxesSubplot:xlabel='DTG'>"
      ]
     },
     "execution_count": 25,
     "metadata": {},
     "output_type": "execute_result"
    },
    {
     "data": {
      "image/png": "[encoded data removed]",
      "text/plain": [
       "<Figure size 1152x1152 with 4 Axes>"
      ]
     },
     "metadata": {
      "needs_background": "light"
     },
     "output_type": "display_data"
    }
   ],
   "source": [
    "fig1 = matplotlib.pyplot.figure('time of year',figsize=(16,16))\n",
    "ax1 = fig1.add_subplot(2,2,1) \n",
    "no_rotors_df.groupby([ no_rotors_df['DTG'].apply(lambda x: x.month)])['DTG'].count().plot.bar( ax=ax1)\n",
    "ax1 = fig1.add_subplot(2,2,2) \n",
    "rotors_present_df.groupby([ rotors_present_df['DTG'].apply(lambda x: x.month)])['DTG'].count().plot.bar(ax=ax1)\n",
    "\n",
    "ax1 = fig1.add_subplot(2,2,3) \n",
    "no_rotors_df.groupby([ no_rotors_df['DTG'].apply(lambda x: x.hour)])['DTG'].count().plot.bar( ax=ax1)\n",
    "ax1 = fig1.add_subplot(2,2,4) \n",
    "rotors_present_df.groupby([ rotors_present_df['DTG'].apply(lambda x: x.hour)])['DTG'].count().plot.bar(ax=ax1)"
   ]
  },
  {
   "cell_type": "markdown",
   "id": "052142b2-0a71-4367-8621-2022dec171cd",
   "metadata": {},
   "source": [
    "## Exploring OpMet results\n",
    "\n",
    "We have a spreadsheet which logs when OpMets forecast a rotor event compared with one happened. We will explore what this data looks like here so that we can use it compare the performance of the ML models we train with human forecaster performance."
   ]
  },
  {
   "cell_type": "code",
   "execution_count": 26,
   "id": "c5c3facf-7bb4-4f20-bb15-6b80f555e1d3",
   "metadata": {},
   "outputs": [
    {
     "data": {
      "text/plain": [
       "PosixPath('/Users/stephen.haddad/data/ml_challenges/Rotors/rotors_opmet_performance_2016_2021.csv')"
      ]
     },
     "execution_count": 26,
     "metadata": {},
     "output_type": "execute_result"
    }
   ],
   "source": [
    "opmet_results_path = falklands_data_path.joinpath('rotors_opmet_performance_2016_2021.csv')\n",
    "opmet_results_path"
   ]
  },
  {
   "cell_type": "code",
   "execution_count": 27,
   "id": "d7a325ec-ef70-45cb-80ad-35d3193b95f2",
   "metadata": {},
   "outputs": [
    {
     "data": {
      "text/html": [
       "<div>\n",
       "<style scoped>\n",
       "    .dataframe tbody tr th:only-of-type {\n",
       "        vertical-align: middle;\n",
       "    }\n",
       "\n",
       "    .dataframe tbody tr th {\n",
       "        vertical-align: top;\n",
       "    }\n",
       "\n",
       "    .dataframe thead th {\n",
       "        text-align: right;\n",
       "    }\n",
       "</style>\n",
       "<table border=\"1\" class=\"dataframe\">\n",
       "  <thead>\n",
       "    <tr style=\"text-align: right;\">\n",
       "      <th></th>\n",
       "      <th>DTG</th>\n",
       "      <th>observation</th>\n",
       "      <th>opmet_forecast</th>\n",
       "      <th>Hit</th>\n",
       "      <th>False Positive</th>\n",
       "      <th>True Negative</th>\n",
       "      <th>Miss</th>\n",
       "    </tr>\n",
       "  </thead>\n",
       "  <tbody>\n",
       "    <tr>\n",
       "      <th>0</th>\n",
       "      <td>19/09/2016 00:00</td>\n",
       "      <td>NaN</td>\n",
       "      <td>NaN</td>\n",
       "      <td>False</td>\n",
       "      <td>False</td>\n",
       "      <td>True</td>\n",
       "      <td>False</td>\n",
       "    </tr>\n",
       "    <tr>\n",
       "      <th>1</th>\n",
       "      <td>19/09/2016 01:00</td>\n",
       "      <td>NaN</td>\n",
       "      <td>NaN</td>\n",
       "      <td>False</td>\n",
       "      <td>False</td>\n",
       "      <td>True</td>\n",
       "      <td>False</td>\n",
       "    </tr>\n",
       "    <tr>\n",
       "      <th>2</th>\n",
       "      <td>19/09/2016 02:00</td>\n",
       "      <td>NaN</td>\n",
       "      <td>NaN</td>\n",
       "      <td>False</td>\n",
       "      <td>False</td>\n",
       "      <td>True</td>\n",
       "      <td>False</td>\n",
       "    </tr>\n",
       "    <tr>\n",
       "      <th>3</th>\n",
       "      <td>19/09/2016 03:00</td>\n",
       "      <td>NaN</td>\n",
       "      <td>NaN</td>\n",
       "      <td>False</td>\n",
       "      <td>False</td>\n",
       "      <td>True</td>\n",
       "      <td>False</td>\n",
       "    </tr>\n",
       "    <tr>\n",
       "      <th>4</th>\n",
       "      <td>19/09/2016 04:00</td>\n",
       "      <td>NaN</td>\n",
       "      <td>NaN</td>\n",
       "      <td>False</td>\n",
       "      <td>False</td>\n",
       "      <td>True</td>\n",
       "      <td>False</td>\n",
       "    </tr>\n",
       "    <tr>\n",
       "      <th>...</th>\n",
       "      <td>...</td>\n",
       "      <td>...</td>\n",
       "      <td>...</td>\n",
       "      <td>...</td>\n",
       "      <td>...</td>\n",
       "      <td>...</td>\n",
       "      <td>...</td>\n",
       "    </tr>\n",
       "    <tr>\n",
       "      <th>38971</th>\n",
       "      <td>28/02/2021 19:00</td>\n",
       "      <td>NaN</td>\n",
       "      <td>1.0</td>\n",
       "      <td>False</td>\n",
       "      <td>True</td>\n",
       "      <td>False</td>\n",
       "      <td>False</td>\n",
       "    </tr>\n",
       "    <tr>\n",
       "      <th>38972</th>\n",
       "      <td>28/02/2021 20:00</td>\n",
       "      <td>NaN</td>\n",
       "      <td>1.0</td>\n",
       "      <td>False</td>\n",
       "      <td>True</td>\n",
       "      <td>False</td>\n",
       "      <td>False</td>\n",
       "    </tr>\n",
       "    <tr>\n",
       "      <th>38973</th>\n",
       "      <td>28/02/2021 21:00</td>\n",
       "      <td>NaN</td>\n",
       "      <td>NaN</td>\n",
       "      <td>False</td>\n",
       "      <td>False</td>\n",
       "      <td>True</td>\n",
       "      <td>False</td>\n",
       "    </tr>\n",
       "    <tr>\n",
       "      <th>38974</th>\n",
       "      <td>28/02/2021 22:00</td>\n",
       "      <td>NaN</td>\n",
       "      <td>NaN</td>\n",
       "      <td>False</td>\n",
       "      <td>False</td>\n",
       "      <td>True</td>\n",
       "      <td>False</td>\n",
       "    </tr>\n",
       "    <tr>\n",
       "      <th>38975</th>\n",
       "      <td>28/02/2021 23:00</td>\n",
       "      <td>NaN</td>\n",
       "      <td>NaN</td>\n",
       "      <td>False</td>\n",
       "      <td>False</td>\n",
       "      <td>True</td>\n",
       "      <td>False</td>\n",
       "    </tr>\n",
       "  </tbody>\n",
       "</table>\n",
       "<p>38976 rows × 7 columns</p>\n",
       "</div>"
      ],
      "text/plain": [
       "                    DTG  observation  opmet_forecast    Hit  False Positive  \\\n",
       "0      19/09/2016 00:00          NaN             NaN  False           False   \n",
       "1      19/09/2016 01:00          NaN             NaN  False           False   \n",
       "2      19/09/2016 02:00          NaN             NaN  False           False   \n",
       "3      19/09/2016 03:00          NaN             NaN  False           False   \n",
       "4      19/09/2016 04:00          NaN             NaN  False           False   \n",
       "...                 ...          ...             ...    ...             ...   \n",
       "38971  28/02/2021 19:00          NaN             1.0  False            True   \n",
       "38972  28/02/2021 20:00          NaN             1.0  False            True   \n",
       "38973  28/02/2021 21:00          NaN             NaN  False           False   \n",
       "38974  28/02/2021 22:00          NaN             NaN  False           False   \n",
       "38975  28/02/2021 23:00          NaN             NaN  False           False   \n",
       "\n",
       "       True Negative   Miss  \n",
       "0               True  False  \n",
       "1               True  False  \n",
       "2               True  False  \n",
       "3               True  False  \n",
       "4               True  False  \n",
       "...              ...    ...  \n",
       "38971          False  False  \n",
       "38972          False  False  \n",
       "38973           True  False  \n",
       "38974           True  False  \n",
       "38975           True  False  \n",
       "\n",
       "[38976 rows x 7 columns]"
      ]
     },
     "execution_count": 27,
     "metadata": {},
     "output_type": "execute_result"
    }
   ],
   "source": [
    "opmet_results_df = pandas.read_csv(opmet_results_path)\n",
    "opmet_results_df"
   ]
  },
  {
   "cell_type": "code",
   "execution_count": 28,
   "id": "04bfb3ce-0e58-4da1-ace7-342904c580c3",
   "metadata": {},
   "outputs": [],
   "source": [
    "opmet_results_df.loc[opmet_results_df[opmet_results_df.observation.isna()].index,'observation'] = 0.0"
   ]
  },
  {
   "cell_type": "code",
   "execution_count": 29,
   "id": "d1a3d5b6-c223-468b-8e09-d9d8464d7390",
   "metadata": {},
   "outputs": [],
   "source": [
    "opmet_results_df.loc[opmet_results_df[opmet_results_df['opmet_forecast'].isna()].index,'opmet_forecast'] = 0.0"
   ]
  },
  {
   "cell_type": "code",
   "execution_count": 30,
   "id": "bbfe9060-c535-46b4-95d6-405a005b881d",
   "metadata": {},
   "outputs": [],
   "source": [
    "opmet_results_df['DTG'] = pandas.to_datetime(opmet_results_df['DTG'])"
   ]
  },
  {
   "cell_type": "code",
   "execution_count": 31,
   "id": "03b4a3ba-30d2-4dea-9e03-9d2114b043e5",
   "metadata": {},
   "outputs": [
    {
     "data": {
      "text/html": [
       "<div>\n",
       "<style scoped>\n",
       "    .dataframe tbody tr th:only-of-type {\n",
       "        vertical-align: middle;\n",
       "    }\n",
       "\n",
       "    .dataframe tbody tr th {\n",
       "        vertical-align: top;\n",
       "    }\n",
       "\n",
       "    .dataframe thead th {\n",
       "        text-align: right;\n",
       "    }\n",
       "</style>\n",
       "<table border=\"1\" class=\"dataframe\">\n",
       "  <thead>\n",
       "    <tr style=\"text-align: right;\">\n",
       "      <th></th>\n",
       "      <th>DTG</th>\n",
       "      <th>observation</th>\n",
       "      <th>opmet_forecast</th>\n",
       "      <th>Hit</th>\n",
       "      <th>False Positive</th>\n",
       "      <th>True Negative</th>\n",
       "      <th>Miss</th>\n",
       "    </tr>\n",
       "  </thead>\n",
       "  <tbody>\n",
       "    <tr>\n",
       "      <th>0</th>\n",
       "      <td>2016-09-19 00:00:00</td>\n",
       "      <td>0.0</td>\n",
       "      <td>0.0</td>\n",
       "      <td>False</td>\n",
       "      <td>False</td>\n",
       "      <td>True</td>\n",
       "      <td>False</td>\n",
       "    </tr>\n",
       "    <tr>\n",
       "      <th>1</th>\n",
       "      <td>2016-09-19 01:00:00</td>\n",
       "      <td>0.0</td>\n",
       "      <td>0.0</td>\n",
       "      <td>False</td>\n",
       "      <td>False</td>\n",
       "      <td>True</td>\n",
       "      <td>False</td>\n",
       "    </tr>\n",
       "    <tr>\n",
       "      <th>2</th>\n",
       "      <td>2016-09-19 02:00:00</td>\n",
       "      <td>0.0</td>\n",
       "      <td>0.0</td>\n",
       "      <td>False</td>\n",
       "      <td>False</td>\n",
       "      <td>True</td>\n",
       "      <td>False</td>\n",
       "    </tr>\n",
       "    <tr>\n",
       "      <th>3</th>\n",
       "      <td>2016-09-19 03:00:00</td>\n",
       "      <td>0.0</td>\n",
       "      <td>0.0</td>\n",
       "      <td>False</td>\n",
       "      <td>False</td>\n",
       "      <td>True</td>\n",
       "      <td>False</td>\n",
       "    </tr>\n",
       "    <tr>\n",
       "      <th>4</th>\n",
       "      <td>2016-09-19 04:00:00</td>\n",
       "      <td>0.0</td>\n",
       "      <td>0.0</td>\n",
       "      <td>False</td>\n",
       "      <td>False</td>\n",
       "      <td>True</td>\n",
       "      <td>False</td>\n",
       "    </tr>\n",
       "    <tr>\n",
       "      <th>...</th>\n",
       "      <td>...</td>\n",
       "      <td>...</td>\n",
       "      <td>...</td>\n",
       "      <td>...</td>\n",
       "      <td>...</td>\n",
       "      <td>...</td>\n",
       "      <td>...</td>\n",
       "    </tr>\n",
       "    <tr>\n",
       "      <th>38971</th>\n",
       "      <td>2021-02-28 19:00:00</td>\n",
       "      <td>0.0</td>\n",
       "      <td>1.0</td>\n",
       "      <td>False</td>\n",
       "      <td>True</td>\n",
       "      <td>False</td>\n",
       "      <td>False</td>\n",
       "    </tr>\n",
       "    <tr>\n",
       "      <th>38972</th>\n",
       "      <td>2021-02-28 20:00:00</td>\n",
       "      <td>0.0</td>\n",
       "      <td>1.0</td>\n",
       "      <td>False</td>\n",
       "      <td>True</td>\n",
       "      <td>False</td>\n",
       "      <td>False</td>\n",
       "    </tr>\n",
       "    <tr>\n",
       "      <th>38973</th>\n",
       "      <td>2021-02-28 21:00:00</td>\n",
       "      <td>0.0</td>\n",
       "      <td>0.0</td>\n",
       "      <td>False</td>\n",
       "      <td>False</td>\n",
       "      <td>True</td>\n",
       "      <td>False</td>\n",
       "    </tr>\n",
       "    <tr>\n",
       "      <th>38974</th>\n",
       "      <td>2021-02-28 22:00:00</td>\n",
       "      <td>0.0</td>\n",
       "      <td>0.0</td>\n",
       "      <td>False</td>\n",
       "      <td>False</td>\n",
       "      <td>True</td>\n",
       "      <td>False</td>\n",
       "    </tr>\n",
       "    <tr>\n",
       "      <th>38975</th>\n",
       "      <td>2021-02-28 23:00:00</td>\n",
       "      <td>0.0</td>\n",
       "      <td>0.0</td>\n",
       "      <td>False</td>\n",
       "      <td>False</td>\n",
       "      <td>True</td>\n",
       "      <td>False</td>\n",
       "    </tr>\n",
       "  </tbody>\n",
       "</table>\n",
       "<p>38976 rows × 7 columns</p>\n",
       "</div>"
      ],
      "text/plain": [
       "                      DTG  observation  opmet_forecast    Hit  False Positive  \\\n",
       "0     2016-09-19 00:00:00          0.0             0.0  False           False   \n",
       "1     2016-09-19 01:00:00          0.0             0.0  False           False   \n",
       "2     2016-09-19 02:00:00          0.0             0.0  False           False   \n",
       "3     2016-09-19 03:00:00          0.0             0.0  False           False   \n",
       "4     2016-09-19 04:00:00          0.0             0.0  False           False   \n",
       "...                   ...          ...             ...    ...             ...   \n",
       "38971 2021-02-28 19:00:00          0.0             1.0  False            True   \n",
       "38972 2021-02-28 20:00:00          0.0             1.0  False            True   \n",
       "38973 2021-02-28 21:00:00          0.0             0.0  False           False   \n",
       "38974 2021-02-28 22:00:00          0.0             0.0  False           False   \n",
       "38975 2021-02-28 23:00:00          0.0             0.0  False           False   \n",
       "\n",
       "       True Negative   Miss  \n",
       "0               True  False  \n",
       "1               True  False  \n",
       "2               True  False  \n",
       "3               True  False  \n",
       "4               True  False  \n",
       "...              ...    ...  \n",
       "38971          False  False  \n",
       "38972          False  False  \n",
       "38973           True  False  \n",
       "38974           True  False  \n",
       "38975           True  False  \n",
       "\n",
       "[38976 rows x 7 columns]"
      ]
     },
     "execution_count": 31,
     "metadata": {},
     "output_type": "execute_result"
    }
   ],
   "source": [
    "opmet_results_df"
   ]
  },
  {
   "cell_type": "code",
   "execution_count": 32,
   "id": "9813c582-574f-4933-8738-f2af9d3442b0",
   "metadata": {},
   "outputs": [],
   "source": [
    "merged_df = falklands_training_df.merge(opmet_results_df,on='DTG')"
   ]
  },
  {
   "cell_type": "code",
   "execution_count": 33,
   "id": "df45f3eb-6f9f-42ab-a12d-4186b3c825eb",
   "metadata": {},
   "outputs": [],
   "source": [
    "opmet_results_df['truePositive'] = ((opmet_results_df['observation'] == 1 ) & (opmet_results_df['opmet_forecast'] ==1))\n",
    "opmet_results_df['falsePositive']  = ((opmet_results_df['observation'] == 0 ) & (opmet_results_df['opmet_forecast'] ==1))\n",
    "opmet_results_df['trueNegative'] = ((opmet_results_df['observation'] == 0 ) & (opmet_results_df['opmet_forecast'] ==0))\n",
    "opmet_results_df['falseNegative']  = ((opmet_results_df['observation'] == 1 ) & (opmet_results_df['opmet_forecast'] ==0))\n"
   ]
  },
  {
   "cell_type": "code",
   "execution_count": 34,
   "id": "1b6d5883-d94a-4968-9645-eea8c11b64b8",
   "metadata": {},
   "outputs": [],
   "source": [
    "opmet_results_df['result_category'] = 'trueNegative'\n",
    "opmet_results_df.loc[opmet_results_df[opmet_results_df['falseNegative']==True].index,'result_category'] = 'falseNegative'\n",
    "opmet_results_df.loc[opmet_results_df[opmet_results_df['falsePositive']==True].index,'result_category'] = 'falsePositive'\n",
    "opmet_results_df.loc[opmet_results_df[opmet_results_df['truePositive']==True].index,'result_category'] = 'truePositive'"
   ]
  },
  {
   "cell_type": "code",
   "execution_count": 35,
   "id": "91cb420f-ad5d-41b9-8f89-aee7d146da7c",
   "metadata": {},
   "outputs": [
    {
     "data": {
      "text/plain": [
       "<AxesSubplot:title={'center':'true/false positive/negative proportions'}, ylabel='result_category'>"
      ]
     },
     "execution_count": 35,
     "metadata": {},
     "output_type": "execute_result"
    },
    {
     "data": {
      "image/png": "[encoded data removed]",
      "text/plain": [
       "<Figure size 1296x432 with 3 Axes>"
      ]
     },
     "metadata": {},
     "output_type": "display_data"
    }
   ],
   "source": [
    "fig1 = matplotlib.pyplot.figure('comparisonn of hits/isses/etc.')\n",
    "ax1 = fig1.add_subplot(1,3,1,title='rotor events')\n",
    "opmet_results_df['observation'].value_counts().plot.pie(figsize=(18,6))\n",
    "ax1 = fig1.add_subplot(1,3,2,title='opmet forecasts')\n",
    "opmet_results_df['opmet_forecast'].value_counts().plot.pie(figsize=(18,6))\n",
    "ax1 = fig1.add_subplot(1,3,3,title='true/false positive/negative proportions')\n",
    "opmet_results_df['result_category'].value_counts().plot.pie(figsize=(18,6))\n"
   ]
  },
  {
   "cell_type": "markdown",
   "id": "67591e95-42a6-459b-844d-4ec66ed0fd8c",
   "metadata": {},
   "source": [
    "We see that OpMets forecast a greater proprtion of rotrs events than are actually observed. This is what we would expect as the highest \"cost\" category is false negatives or misses, as this will result in aircraft trying to land and having to be diverted or fly back to their origin. So forecasters want to err on the side of predicting rotors that don't don't happen. As expected, we see a very small proption of false negatives and a significant proprotion of false positives."
   ]
  },
  {
   "cell_type": "code",
   "execution_count": 36,
   "id": "ef7a7df2-b00c-477c-9f59-dd7d9e99c4fc",
   "metadata": {},
   "outputs": [],
   "source": [
    "precision_opmet = sklearn.metrics.precision_score(\n",
    "    opmet_results_df['observation'].values,\n",
    "    opmet_results_df['opmet_forecast'].values,\n",
    "    average=None,\n",
    ")"
   ]
  },
  {
   "cell_type": "code",
   "execution_count": 37,
   "id": "a41d36b2-517a-4a21-8d2f-8ae2362d8d50",
   "metadata": {},
   "outputs": [
    {
     "name": "stderr",
     "output_type": "stream",
     "text": [
      "/Users/stephen.haddad/opt/anaconda3/envs/data-science-cop-sklearn/lib/python3.8/site-packages/sklearn/metrics/_classification.py:1248: UndefinedMetricWarning: Recall is ill-defined and being set to 0.0 in labels with no true samples. Use `zero_division` parameter to control this behavior.\n",
      "  _warn_prf(average, modifier, msg_start, len(result))\n"
     ]
    }
   ],
   "source": [
    "recall_opmet = sklearn.metrics.recall_score(\n",
    "    opmet_results_df['observation'].values,\n",
    "    opmet_results_df['opmet_forecast'].values,\n",
    "    average=None,\n",
    ")"
   ]
  },
  {
   "cell_type": "code",
   "execution_count": 38,
   "id": "b66aae23-b7c4-4237-a17f-9589e0663002",
   "metadata": {},
   "outputs": [],
   "source": [
    "f1_opmet = sklearn.metrics.f1_score(\n",
    "    opmet_results_df['observation'].values,\n",
    "    opmet_results_df['opmet_forecast'].values,\n",
    "    average=None,\n",
    ")"
   ]
  },
  {
   "cell_type": "code",
   "execution_count": 39,
   "id": "8b4491ea-67ca-42b8-aa57-108a4742de30",
   "metadata": {},
   "outputs": [],
   "source": [
    "opmet_metrics = pandas.DataFrame({'precision': precision_opmet, \n",
    "                  'recall': recall_opmet,\n",
    "                  'f1': f1_opmet,\n",
    "                 },\n",
    "                )"
   ]
  },
  {
   "cell_type": "markdown",
   "id": "f8941a33-e104-44af-a5df-9b39d3d3c618",
   "metadata": {},
   "source": [
    "Lets look at some standard machine learning metrics for machine learning algorithm applied to performance of a well trained Homo Sapien Classification Algorithm a.k.a an Operational Meteorlogist.\n",
    "Metrics:\n",
    "* Precision - The proprtion of predictions for a class that are actually part of that class\n",
    "* Recall - The proprtion of true members of a class that are predicted by the algorithm\n",
    "* F1 score - combination of precision and recall expressed as `2*(p*r)/(p+r)` or `TP/(TP+ 0.5*FN + 0.5*FP)`"
   ]
  },
  {
   "cell_type": "code",
   "execution_count": 40,
   "id": "60eaf7a8-8504-48da-b583-c21fd4d08610",
   "metadata": {},
   "outputs": [
    {
     "data": {
      "image/png": "[encoded data removed]",
      "text/plain": [
       "<Figure size 720x432 with 1 Axes>"
      ]
     },
     "metadata": {
      "needs_background": "light"
     },
     "output_type": "display_data"
    }
   ],
   "source": [
    "_ = opmet_metrics.plot.bar(y=['precision', 'recall', 'f1'],figsize=(10,6))"
   ]
  },
  {
   "cell_type": "markdown",
   "id": "c41ef4f4-9c84-4780-a2d0-3c923462935e",
   "metadata": {},
   "source": [
    "We see that precision is good for no rotors, which is to say most of the negative predictions are actually negative, and poor for rotors events, because rotors are deliberately over-predicted.\n",
    "\n",
    "For recall, we see good performance for bothm which is to say most positive and negatives are correctly classified as proportion of class size. In absolute numbers this is a lot of false positives, but this is small as a proprtion of the number of no rotor event data points.\n",
    "\n",
    "Unsurprisingly F1 is thus good for no rotor class and not great for positives."
   ]
  }
 ],
 "metadata": {
  "kernelspec": {
   "display_name": "Python 3 (ipykernel)",
   "language": "python",
   "name": "python3"
  },
  "language_info": {
   "codemirror_mode": {
    "name": "ipython",
    "version": 3
   },
   "file_extension": ".py",
   "mimetype": "text/x-python",
   "name": "python",
   "nbconvert_exporter": "python",
   "pygments_lexer": "ipython3",
   "version": "3.8.12"
  }
 },
 "nbformat": 4,
 "nbformat_minor": 5
}
