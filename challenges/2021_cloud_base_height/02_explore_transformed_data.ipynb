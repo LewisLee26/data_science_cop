{
 "cells": [
  {
   "cell_type": "markdown",
   "id": "6729aad1-261a-48fa-ae59-986428165ebd",
   "metadata": {},
   "source": [
    "# Exploring transformed data\n",
    "\n",
    "This notebook explores and modifies data, after it has been transformed into a desired format.\n",
    "The exploration will help understanding of the data, and allow for any further changes that will be required for good practice in machine learning.\n",
    "Some parts of the exploration are saved for usage later, e.g. distribution statistics for normalization\n",
    "\n",
    "### Intended outcomes\n",
    "\n",
    "After exploring this notebook, the reader will be more comfortable in techniques that help understanding of data which will give more confidence in the task before performing machine learning\n",
    "\n",
    "### Environment\n",
    "\n",
    "This notebook is intended to be run in the py-lightning-cbh conda environment defined in requirements_torch.yml"
   ]
  },
  {
   "cell_type": "code",
   "execution_count": 1,
   "id": "ea2ebc23-4958-4cc3-8f6b-c30686f571eb",
   "metadata": {},
   "outputs": [
    {
     "name": "stderr",
     "output_type": "stream",
     "text": [
      "/home/h02/hsouth/.conda/envs/py-lightning-cbh/lib/python3.10/site-packages/tqdm/auto.py:22: TqdmWarning: IProgress not found. Please update jupyter and ipywidgets. See https://ipywidgets.readthedocs.io/en/stable/user_install.html\n",
      "  from .autonotebook import tqdm as notebook_tqdm\n"
     ]
    }
   ],
   "source": [
    "# imports\n",
    "import datetime\n",
    "\n",
    "# file handling\n",
    "import os\n",
    "import pathlib\n",
    "import sys\n",
    "from tempfile import TemporaryDirectory\n",
    "\n",
    "import dask\n",
    "import dask.array\n",
    "\n",
    "# training helpers\n",
    "import mlflow.pytorch\n",
    "\n",
    "# math operators\n",
    "import numpy as np\n",
    "import pytorch_lightning as pl\n",
    "\n",
    "# ml\n",
    "import torch\n",
    "import zarr\n",
    "from dask.diagnostics import CacheProfiler, Profiler, ResourceProfiler, visualize\n",
    "from mlflow.tracking import MlflowClient\n",
    "from pytorch_lightning import Trainer, seed_everything\n",
    "from pytorch_lightning.callbacks import (\n",
    "    RichProgressBar,\n",
    ")  # this progress bar works through jupyterHub on spice\n",
    "from pytorch_lightning.loggers import MLFlowLogger\n",
    "\n",
    "# defined in directory (model related definitions)\n",
    "import cbh_data_definitions\n",
    "import cbh_torch_lstm\n",
    "import cbh_torch_MLP"
   ]
  },
  {
   "cell_type": "code",
   "execution_count": 2,
   "id": "ec94c91e-a7ac-4e0e-b50a-dca4e84e7d9f",
   "metadata": {},
   "outputs": [
    {
     "name": "stdout",
     "output_type": "stream",
     "text": [
      "pl ver: 1.8.1\n",
      "mlflow ver: 2.1.1\n",
      "torch ver: 1.13.1\n",
      "Python ver: sys.version_info(major=3, minor=10, micro=8, releaselevel='final', serial=0)\n"
     ]
    }
   ],
   "source": [
    "print(\"pl ver:\", pl.__version__)\n",
    "print(\"mlflow ver:\", mlflow.__version__)\n",
    "print(\"torch ver:\", torch.__version__)\n",
    "print(\"Python ver:\", sys.version_info)"
   ]
  },
  {
   "cell_type": "code",
   "execution_count": 3,
   "id": "508614de-9142-42df-811b-bba77c76bea2",
   "metadata": {},
   "outputs": [],
   "source": [
    "# for during development, must be run in order to debug functions in imported files without a kernel restart\n",
    "RELOAD_PACKAGES = False\n",
    "if RELOAD_PACKAGES:\n",
    "    \n",
    "    import importlib\n",
    "    \n",
    "    importlib.reload(cbh_torch_lstm)\n",
    "    importlib.reload(cbh_torch_MLP)\n",
    "    importlib.reload(cbh_data_definitions)"
   ]
  },
  {
   "cell_type": "code",
   "execution_count": 7,
   "id": "c2d53e4d-26b1-4d18-a0b7-3f7232f73063",
   "metadata": {},
   "outputs": [],
   "source": [
    "root_data_directory = pathlib.Path(os.environ[\"DATADIR\"]) / \"cbh_data\"\n",
    "\n",
    "dev_data_path = root_data_directory / \"analysis_ready\" / \"dev.zarr\"\n",
    "training_data_path = root_data_directory / \"analysis_ready\" / \"train.zarr\""
   ]
  },
  {
   "cell_type": "markdown",
   "id": "b0d7cf46-fab6-4b5e-a8b8-b074b32fe32c",
   "metadata": {},
   "source": [
    "Load the data"
   ]
  },
  {
   "cell_type": "code",
   "execution_count": 8,
   "id": "c96b79fe-a8c4-4026-a77f-39d048642745",
   "metadata": {},
   "outputs": [
    {
     "name": "stdout",
     "output_type": "stream",
     "text": [
      "Loaded zarr, file information:\n",
      " Name              : /\n",
      "Type              : zarr.hierarchy.Group\n",
      "Read-only         : False\n",
      "Synchronizer type : zarr.sync.ThreadSynchronizer\n",
      "Store type        : zarr.storage.DirectoryStore\n",
      "No. members       : 3\n",
      "No. arrays        : 3\n",
      "No. groups        : 0\n",
      "Arrays            : cloud_base_label_y.zarr, cloud_volume_fraction_y.zarr,\n",
      "                  : humidity_temp_pressure_x.zarr\n",
      " \n",
      "\n",
      "Loaded zarr, file information:\n",
      " Name              : /\n",
      "Type              : zarr.hierarchy.Group\n",
      "Read-only         : False\n",
      "Synchronizer type : zarr.sync.ThreadSynchronizer\n",
      "Store type        : zarr.storage.DirectoryStore\n",
      "No. members       : 3\n",
      "No. arrays        : 3\n",
      "No. groups        : 0\n",
      "Arrays            : cloud_base_label_y.zarr, cloud_volume_fraction_y.zarr,\n",
      "                  : humidity_temp_pressure_x.zarr\n",
      " \n",
      "\n"
     ]
    },
    {
     "data": {
      "text/html": [
       "<table>\n",
       "    <tr>\n",
       "        <td>\n",
       "            <table style=\"border-collapse: collapse;\">\n",
       "                <thead>\n",
       "                    <tr>\n",
       "                        <td> </td>\n",
       "                        <th> Array </th>\n",
       "                        <th> Chunk </th>\n",
       "                    </tr>\n",
       "                </thead>\n",
       "                <tbody>\n",
       "                    \n",
       "                    <tr>\n",
       "                        <th> Bytes </th>\n",
       "                        <td> 87.48 GiB </td>\n",
       "                        <td> 373.24 MiB </td>\n",
       "                    </tr>\n",
       "                    \n",
       "                    <tr>\n",
       "                        <th> Shape </th>\n",
       "                        <td> (111820800, 70, 3) </td>\n",
       "                        <td> (465920, 70, 3) </td>\n",
       "                    </tr>\n",
       "                    <tr>\n",
       "                        <th> Dask graph </th>\n",
       "                        <td colspan=\"2\"> 240 chunks in 2 graph layers </td>\n",
       "                    </tr>\n",
       "                    <tr>\n",
       "                        <th> Data type </th>\n",
       "                        <td colspan=\"2\"> float32 numpy.ndarray </td>\n",
       "                    </tr>\n",
       "                </tbody>\n",
       "            </table>\n",
       "        </td>\n",
       "        <td>\n",
       "        <svg width=\"156\" height=\"146\" style=\"stroke:rgb(0,0,0);stroke-width:1\" >\n",
       "\n",
       "  <!-- Horizontal lines -->\n",
       "  <line x1=\"10\" y1=\"0\" x2=\"80\" y2=\"70\" style=\"stroke-width:2\" />\n",
       "  <line x1=\"10\" y1=\"25\" x2=\"80\" y2=\"96\" style=\"stroke-width:2\" />\n",
       "\n",
       "  <!-- Vertical lines -->\n",
       "  <line x1=\"10\" y1=\"0\" x2=\"10\" y2=\"25\" style=\"stroke-width:2\" />\n",
       "  <line x1=\"13\" y1=\"3\" x2=\"13\" y2=\"28\" />\n",
       "  <line x1=\"17\" y1=\"7\" x2=\"17\" y2=\"32\" />\n",
       "  <line x1=\"20\" y1=\"10\" x2=\"20\" y2=\"36\" />\n",
       "  <line x1=\"24\" y1=\"14\" x2=\"24\" y2=\"40\" />\n",
       "  <line x1=\"28\" y1=\"18\" x2=\"28\" y2=\"43\" />\n",
       "  <line x1=\"32\" y1=\"22\" x2=\"32\" y2=\"47\" />\n",
       "  <line x1=\"35\" y1=\"25\" x2=\"35\" y2=\"51\" />\n",
       "  <line x1=\"39\" y1=\"29\" x2=\"39\" y2=\"55\" />\n",
       "  <line x1=\"43\" y1=\"33\" x2=\"43\" y2=\"58\" />\n",
       "  <line x1=\"47\" y1=\"37\" x2=\"47\" y2=\"62\" />\n",
       "  <line x1=\"50\" y1=\"40\" x2=\"50\" y2=\"66\" />\n",
       "  <line x1=\"54\" y1=\"44\" x2=\"54\" y2=\"69\" />\n",
       "  <line x1=\"58\" y1=\"48\" x2=\"58\" y2=\"73\" />\n",
       "  <line x1=\"61\" y1=\"51\" x2=\"61\" y2=\"77\" />\n",
       "  <line x1=\"65\" y1=\"55\" x2=\"65\" y2=\"81\" />\n",
       "  <line x1=\"69\" y1=\"59\" x2=\"69\" y2=\"84\" />\n",
       "  <line x1=\"72\" y1=\"62\" x2=\"72\" y2=\"88\" />\n",
       "  <line x1=\"76\" y1=\"66\" x2=\"76\" y2=\"92\" />\n",
       "  <line x1=\"80\" y1=\"70\" x2=\"80\" y2=\"96\" style=\"stroke-width:2\" />\n",
       "\n",
       "  <!-- Colored Rectangle -->\n",
       "  <polygon points=\"10.0,0.0 80.58823529411765,70.58823529411765 80.58823529411765,96.00085180870013 10.0,25.412616514582485\" style=\"fill:#8B4903A0;stroke-width:0\"/>\n",
       "\n",
       "  <!-- Horizontal lines -->\n",
       "  <line x1=\"10\" y1=\"0\" x2=\"35\" y2=\"0\" style=\"stroke-width:2\" />\n",
       "  <line x1=\"13\" y1=\"3\" x2=\"38\" y2=\"3\" />\n",
       "  <line x1=\"17\" y1=\"7\" x2=\"42\" y2=\"7\" />\n",
       "  <line x1=\"20\" y1=\"10\" x2=\"46\" y2=\"10\" />\n",
       "  <line x1=\"24\" y1=\"14\" x2=\"50\" y2=\"14\" />\n",
       "  <line x1=\"28\" y1=\"18\" x2=\"53\" y2=\"18\" />\n",
       "  <line x1=\"32\" y1=\"22\" x2=\"57\" y2=\"22\" />\n",
       "  <line x1=\"35\" y1=\"25\" x2=\"61\" y2=\"25\" />\n",
       "  <line x1=\"39\" y1=\"29\" x2=\"65\" y2=\"29\" />\n",
       "  <line x1=\"43\" y1=\"33\" x2=\"68\" y2=\"33\" />\n",
       "  <line x1=\"47\" y1=\"37\" x2=\"72\" y2=\"37\" />\n",
       "  <line x1=\"50\" y1=\"40\" x2=\"76\" y2=\"40\" />\n",
       "  <line x1=\"54\" y1=\"44\" x2=\"79\" y2=\"44\" />\n",
       "  <line x1=\"58\" y1=\"48\" x2=\"83\" y2=\"48\" />\n",
       "  <line x1=\"61\" y1=\"51\" x2=\"87\" y2=\"51\" />\n",
       "  <line x1=\"65\" y1=\"55\" x2=\"91\" y2=\"55\" />\n",
       "  <line x1=\"69\" y1=\"59\" x2=\"94\" y2=\"59\" />\n",
       "  <line x1=\"72\" y1=\"62\" x2=\"98\" y2=\"62\" />\n",
       "  <line x1=\"76\" y1=\"66\" x2=\"102\" y2=\"66\" />\n",
       "  <line x1=\"80\" y1=\"70\" x2=\"106\" y2=\"70\" style=\"stroke-width:2\" />\n",
       "\n",
       "  <!-- Vertical lines -->\n",
       "  <line x1=\"10\" y1=\"0\" x2=\"80\" y2=\"70\" style=\"stroke-width:2\" />\n",
       "  <line x1=\"35\" y1=\"0\" x2=\"106\" y2=\"70\" style=\"stroke-width:2\" />\n",
       "\n",
       "  <!-- Colored Rectangle -->\n",
       "  <polygon points=\"10.0,0.0 35.41261651458248,0.0 106.00085180870013,70.58823529411765 80.58823529411765,70.58823529411765\" style=\"fill:#8B4903A0;stroke-width:0\"/>\n",
       "\n",
       "  <!-- Horizontal lines -->\n",
       "  <line x1=\"80\" y1=\"70\" x2=\"106\" y2=\"70\" style=\"stroke-width:2\" />\n",
       "  <line x1=\"80\" y1=\"96\" x2=\"106\" y2=\"96\" style=\"stroke-width:2\" />\n",
       "\n",
       "  <!-- Vertical lines -->\n",
       "  <line x1=\"80\" y1=\"70\" x2=\"80\" y2=\"96\" style=\"stroke-width:2\" />\n",
       "  <line x1=\"106\" y1=\"70\" x2=\"106\" y2=\"96\" style=\"stroke-width:2\" />\n",
       "\n",
       "  <!-- Colored Rectangle -->\n",
       "  <polygon points=\"80.58823529411765,70.58823529411765 106.00085180870013,70.58823529411765 106.00085180870013,96.00085180870013 80.58823529411765,96.00085180870013\" style=\"fill:#ECB172A0;stroke-width:0\"/>\n",
       "\n",
       "  <!-- Text -->\n",
       "  <text x=\"93.294544\" y=\"116.000852\" font-size=\"1.0rem\" font-weight=\"100\" text-anchor=\"middle\" >3</text>\n",
       "  <text x=\"126.000852\" y=\"83.294544\" font-size=\"1.0rem\" font-weight=\"100\" text-anchor=\"middle\" transform=\"rotate(0,126.000852,83.294544)\">70</text>\n",
       "  <text x=\"35.294118\" y=\"80.706734\" font-size=\"1.0rem\" font-weight=\"100\" text-anchor=\"middle\" transform=\"rotate(45,35.294118,80.706734)\">111820800</text>\n",
       "</svg>\n",
       "        </td>\n",
       "    </tr>\n",
       "</table>"
      ],
      "text/plain": [
       "dask.array<from-zarr, shape=(111820800, 70, 3), dtype=float32, chunksize=(465920, 70, 3), chunktype=numpy.ndarray>"
      ]
     },
     "execution_count": 8,
     "metadata": {},
     "output_type": "execute_result"
    }
   ],
   "source": [
    "(\n",
    "    train_input,\n",
    "    train_labels,\n",
    "    _,\n",
    ") = cbh_data_definitions.load_data_from_zarr(training_data_path)\n",
    "\n",
    "(dev_input, dev_labels, _) = cbh_data_definitions.load_data_from_zarr(dev_data_path)\n",
    "\n",
    "# the cloud volume is not needed for the task, so isn't saved on the load\n",
    "# show a chunk, used to inform dask cache size\n",
    "train_input"
   ]
  },
  {
   "cell_type": "markdown",
   "id": "c55754f6-9765-4b66-ad2e-be65091a5641",
   "metadata": {},
   "source": [
    "Compute some data and display info about class for classification distribution. Since a compute() is required, left as a setting otherwise a later full compute will fail"
   ]
  },
  {
   "cell_type": "code",
   "execution_count": 24,
   "id": "4d3fa600-deb6-430b-9b58-d1b710cae267",
   "metadata": {},
   "outputs": [
    {
     "name": "stdout",
     "output_type": "stream",
     "text": [
      "ok\n",
      "done\n",
      "\n",
      "Model predictions binned: (Class label, Count): ((0, 24550245), (1, 1620213), (2, 1950361), (3, 2328333), (4, 2651219), (5, 2687883), (6, 2908108), (7, 3139639), (8, 3001463), (9, 2912899), (10, 2917489), (11, 2924491), (12, 2695919), (13, 2258395), (14, 1676634), (15, 1246818), (16, 987662), (17, 818199), (18, 744188), (19, 734406), (20, 735796), (21, 757895), (22, 796440), (23, 879240), (24, 1043614), (25, 1328484), (26, 1455795), (27, 905726), (28, 833602), (29, 833955), (30, 825888), (31, 805788), (32, 799099), (33, 801287), (34, 823831), (35, 870879), (36, 918939), (37, 982027), (38, 1044271), (39, 1055222), (40, 957745), (41, 851581), (42, 723140), (43, 559304), (44, 371778), (45, 181245), (46, 54507), (47, 17457), (48, 11935), (49, 4180), (50, 601), (51, 313), (52, 199), (53, 3), (69, 24834470)) \n",
      "\n",
      "Percentage of samples with cloud bases: 0.7779083140167125\n"
     ]
    },
    {
     "data": {
      "image/png": "[encoded data removed]",
      "text/plain": [
       "<Figure size 500x500 with 1 Axes>"
      ]
     },
     "metadata": {},
     "output_type": "display_data"
    }
   ],
   "source": [
    "display_data_info = True\n",
    "if display_data_info:\n",
    "    import matplotlib.pyplot as plt\n",
    "\n",
    "    labels, counts = np.unique(\n",
    "        train_labels, return_counts=True\n",
    "    )  # get the counts of samples for each cloud base height\n",
    "    print(\"Computing labels\")\n",
    "    labels = labels.compute()\n",
    "    print(\"Finished Compute\")\n",
    "    counts = counts.compute()\n",
    "    bins_targ = tuple(zip(list(labels), list(counts)))\n",
    "    print(\n",
    "        \"Percentage of samples with cloud bases:\",\n",
    "        np.sum(counts[0:-1]) / (np.sum(counts[-1]) + np.sum(counts[0:-1])),\n",
    "    )  # find percentage of samples that were not mapped to height=69\n",
    "    # fig, ax = plt.subplots(1, 2, figsize=(10, 10))\n",
    "    fig = plt.figure(figsize=(5,5))\n",
    "    len_samples = len(train_labels)\n",
    "    \n",
    "    plt.pie([np.sum(counts[0:1]),np.sum(counts[1:-1]), np.sum(counts[-1])], labels=[\"Base 0\", \"Base exists at height !=0\", \"No cloud base\"])\n",
    "    plt.title(\"Samples with or without a cloud base (All but base 69)\")\n",
    "    plt.show()"
   ]
  },
  {
   "cell_type": "code",
   "execution_count": null,
   "id": "5abb7f68-9824-4683-b57e-e67c2de5d140",
   "metadata": {},
   "outputs": [],
   "source": [
    "if display_data_info:\n",
    "    print(\n",
    "        \"\\nModel predictions binned: (Class label, Count):\", bins_targ, \"\\n\"\n",
    "    )  # print the computed information"
   ]
  },
  {
   "cell_type": "code",
   "execution_count": 25,
   "id": "7394f397-e764-4038-be6d-fb6ea74e3e9e",
   "metadata": {},
   "outputs": [
    {
     "data": {
      "image/png": "[encoded data removed]",
      "text/plain": [
       "<Figure size 500x500 with 1 Axes>"
      ]
     },
     "metadata": {},
     "output_type": "display_data"
    }
   ],
   "source": [
    "if display_data_info:\n",
    "    plt.figure(figsize=(5,5))\n",
    "    plt.bar(labels[1:-1], counts[1:-1])  # create pie chart\n",
    "    plt.title(\"Counts of samples at a cloud base height in data (excluding height 0 and no-base)\")\n",
    "    plt.legend(labels, fontsize=6)"
   ]
  },
  {
   "cell_type": "markdown",
   "id": "ebab6021-9fe9-467d-bcfa-e92f1a50befa",
   "metadata": {},
   "source": [
    "## Re-save data in random order\n",
    "\n",
    "A lot of data exists for the task and compute is limited, for this reason it is unlikely in model development and tuning that more than 1 epoch of training through the data will be performed. In order to speed up the training and tuning, the data will be saved back in a pre-randomized order so that this computation and access of random parts of the data does not have to be done during model training."
   ]
  },
  {
   "cell_type": "code",
   "execution_count": 56,
   "id": "d8eeaf7d-450c-4858-bd20-4579349aa6e6",
   "metadata": {},
   "outputs": [],
   "source": [
    "RESAVE_DATA_AS_RANDOM = False"
   ]
  },
  {
   "cell_type": "code",
   "execution_count": 57,
   "id": "9e5900ca-4aac-4ccf-ad67-2e616b35daf5",
   "metadata": {},
   "outputs": [
    {
     "name": "stdout",
     "output_type": "stream",
     "text": [
      "Start permutation gen\n",
      "End permutation gen\n"
     ]
    }
   ],
   "source": [
    "np.random.seed(42)\n",
    "print(\"Start permutation gen\")\n",
    "p = np.random.permutation(len(train_input))\n",
    "p_dev = np.random.permutation(len(dev_input))\n",
    "print(\"End permutation gen\")"
   ]
  },
  {
   "cell_type": "markdown",
   "id": "e92977f6-1446-44a6-81e4-d654eebd7e40",
   "metadata": {},
   "source": [
    "As in the previous notebook, the data is large and all would have to be in memory at once, for this reason the tasks are split up to prevent running out of memory"
   ]
  },
  {
   "cell_type": "code",
   "execution_count": 58,
   "id": "d9658d7c-4e0f-4ef2-a4dd-26b7586ea7bf",
   "metadata": {},
   "outputs": [],
   "source": [
    "if RESAVE_DATA_AS_RANDOM:\n",
    "    from dask.diagnostics import ProgressBar, ResourceProfiler\n",
    "\n",
    "    # progressbar sits at 100% for a while thus time reporting is not correct\n",
    "    with ProgressBar():\n",
    "        train_input = train_input.compute()\n",
    "    with ProgressBar():\n",
    "        train_labels = train_labels.compute()"
   ]
  },
  {
   "cell_type": "code",
   "execution_count": 59,
   "id": "d73cc178-8090-4611-aa9d-56d289496e18",
   "metadata": {},
   "outputs": [],
   "source": [
    "if RESAVE_DATA_AS_RANDOM:\n",
    "    train_inputp = train_input[p]\n",
    "    train_labelsp = train_labels[p]"
   ]
  },
  {
   "cell_type": "code",
   "execution_count": 60,
   "id": "1d1ce6b9-cfac-4c58-ae7f-b09bf680c108",
   "metadata": {},
   "outputs": [],
   "source": [
    "if RESAVE_DATA_AS_RANDOM:\n",
    "    train_input = train_inputp\n",
    "    train_labels = train_labelsp"
   ]
  },
  {
   "cell_type": "markdown",
   "id": "bbc90462-db62-47ed-80fd-fe6505d426c7",
   "metadata": {},
   "source": [
    "### calculate good chunksize - 4gb per chunk as random chunks come about for one chunk at a time strategy, 4gb is reasonable to store in majority of cases\n",
    "\n",
    "87.48GB = 111820800 samples\n",
    "\n",
    "373.24MB = 465920 samples\n",
    "\n",
    "approx 1250000 samples per GB, so desire 5000000 sample chunksize\n",
    "\n",
    "5000000 in not a factor of the len however, so choose closest factor - and it might be worth considering the length of the validation set too\n",
    "\n",
    "closest factor of train set: 5324800\n",
    "closest factor of dev: 307200 (all samples)\n",
    "\n",
    "HOWEVER: the codec for chunk compression handles only a max of 2GB, so must go lower - max size turns out to be 2329600"
   ]
  },
  {
   "cell_type": "code",
   "execution_count": 61,
   "id": "a722b238-4818-4a9d-a1ed-55a9058db2f0",
   "metadata": {},
   "outputs": [],
   "source": [
    "if RESAVE_DATA_AS_RANDOM:\n",
    "    print(\"train dev gcd:\", np.gcd(len(train_input), len(dev_input)))\n",
    "    print(\n",
    "        \"Factors of train: \",\n",
    "        [n for n in range(1, len(train_input) + 1) if len(train_input) % n == 0],\n",
    "    )\n",
    "    print(\n",
    "        \"Factors of dev: \",\n",
    "        [n for n in range(1, len(dev_input) + 1) if len(dev_input) % n == 0],\n",
    "    )"
   ]
  },
  {
   "cell_type": "markdown",
   "id": "49e33e47-83dd-406d-8336-2468869d1bdd",
   "metadata": {},
   "source": [
    "Save the sample randomized arrays back to disk in a new zarr file"
   ]
  },
  {
   "cell_type": "code",
   "execution_count": 62,
   "id": "e6692352-e435-4bce-afbc-6fb8d497533b",
   "metadata": {},
   "outputs": [],
   "source": [
    "if RESAVE_DATA_AS_RANDOM:\n",
    "    import zarr\n",
    "\n",
    "    root_data_directory = pathlib.Path(os.environ[\"SCRATCH\"]) / \"cbh_data\"\n",
    "\n",
    "    path_to_save_zarr_train = (\n",
    "        root_data_directory / \"analysis_ready\" / \"train_randomized.zarr\"\n",
    "    )  # output for zarr files\n",
    "\n",
    "    store = zarr.DirectoryStore(path_to_save_zarr_train)\n",
    "    # define objected for arrays to be grouped under\n",
    "\n",
    "    zarr_grouping = zarr.group(store=store, overwrite=True)\n",
    "\n",
    "    # initialize and then write on zarr arrays for all desired arrays to be saved\n",
    "\n",
    "    cloud_base_label_y = zarr_grouping.zeros(\n",
    "        shape=train_labels.shape,\n",
    "        dtype=train_labels.dtype,\n",
    "        name=\"cloud_base_label_y.zarr\",\n",
    "        chunks=(2329600),\n",
    "    )\n",
    "\n",
    "    print(\"Start save 1\")\n",
    "    cloud_base_label_y[:] = train_labels\n",
    "    print(\"End save 1\")\n",
    "\n",
    "    humidity_temp_pressure_x = zarr_grouping.zeros(\n",
    "        shape=train_input.shape,\n",
    "        dtype=train_input.dtype,\n",
    "        name=\"humidity_temp_pressure_x.zarr\",\n",
    "        chunks=(2329600, 70, 3),\n",
    "    )\n",
    "    print(\"Start save 2\")\n",
    "    humidity_temp_pressure_x[:] = train_input\n",
    "    print(\"End save 2\")"
   ]
  },
  {
   "cell_type": "code",
   "execution_count": 63,
   "id": "87a62deb-f20e-41ad-b3be-78c739f1f2b4",
   "metadata": {},
   "outputs": [],
   "source": [
    "if RESAVE_DATA_AS_RANDOM:\n",
    "    del train_input\n",
    "    del train_inputp\n",
    "    del train_labelsp\n",
    "    del train_labels\n",
    "    dev_input = dev_input[p_dev].compute()\n",
    "    dev_labels = dev_labels[p_dev].compute()"
   ]
  },
  {
   "cell_type": "code",
   "execution_count": 64,
   "id": "e0ba93fb-af71-4f93-809e-379247e1ceed",
   "metadata": {},
   "outputs": [],
   "source": [
    "if RESAVE_DATA_AS_RANDOM:\n",
    "    root_data_directory = pathlib.Path(os.environ[\"SCRATCH\"]) / \"cbh_data\"\n",
    "\n",
    "    path_to_save_zarr_train = (\n",
    "        root_data_directory / \"analysis_ready\" / \"dev_randomized.zarr\"\n",
    "    )  # output for zarr files\n",
    "\n",
    "    store = zarr.DirectoryStore(path_to_save_zarr_train)\n",
    "    # define objected for arrays to be grouped under\n",
    "\n",
    "    zarr_grouping = zarr.group(store=store, overwrite=True)\n",
    "\n",
    "    # initialize and then write on zarr arrays for all desired arrays to be saved\n",
    "\n",
    "    cloud_base_label_y = zarr_grouping.zeros(\n",
    "        shape=dev_labels.shape,\n",
    "        dtype=dev_labels.dtype,\n",
    "        name=\"cloud_base_label_y.zarr\",\n",
    "        chunks=(len(dev_labels)),\n",
    "    )\n",
    "\n",
    "    print(\"Start save 1\")\n",
    "    cloud_base_label_y[:] = dev_labels\n",
    "    print(\"End save 1\")\n",
    "\n",
    "    humidity_temp_pressure_x = zarr_grouping.zeros(\n",
    "        shape=dev_input.shape,\n",
    "        dtype=dev_input.dtype,\n",
    "        name=\"humidity_temp_pressure_x.zarr\",\n",
    "        chunks=(len(dev_input), 70, 3),\n",
    "    )\n",
    "    print(\"Start save 2\")\n",
    "    humidity_temp_pressure_x[:] = dev_input\n",
    "    print(\"End save 2\")"
   ]
  },
  {
   "cell_type": "markdown",
   "id": "e031a4c6-18c9-440e-863f-6e0b073def64",
   "metadata": {},
   "source": [
    "## Testing the output\n",
    "\n",
    "Do some manual checking of the saved data to ensure the data behaves as we expect, e.g. the same indices of different arrays correspond to the same sample in from the cube"
   ]
  },
  {
   "cell_type": "code",
   "execution_count": 65,
   "id": "260a87b6-9cd2-4461-8cfd-edbc9daa6e92",
   "metadata": {},
   "outputs": [
    {
     "name": "stdout",
     "output_type": "stream",
     "text": [
      "[ 35835418  55141703  54842272  54891720   8231197  71696864  14032326\n",
      "  55779294   1322555  62093350  69540500  37845760  32668867  74008561\n",
      " 106687661  70874472  32218412   4017705  92936491  13776806]\n"
     ]
    },
    {
     "name": "stderr",
     "output_type": "stream",
     "text": [
      "/var/tmp/ipykernel_17129/4057101540.py:3: FutureWarning: Ignoring a datum in netCDF load for consistency with existing behaviour. In a future version of Iris, this datum will be applied. To apply the datum when loading, use the iris.FUTURE.datum_support flag.\n",
      "  cubes = iris.load(str('/scratch/hsouth/cbh_data/train/train_large.nc'))\n",
      "/var/tmp/ipykernel_17129/4057101540.py:3: FutureWarning: Ignoring a datum in netCDF load for consistency with existing behaviour. In a future version of Iris, this datum will be applied. To apply the datum when loading, use the iris.FUTURE.datum_support flag.\n",
      "  cubes = iris.load(str('/scratch/hsouth/cbh_data/train/train_large.nc'))\n",
      "/var/tmp/ipykernel_17129/4057101540.py:3: FutureWarning: Ignoring a datum in netCDF load for consistency with existing behaviour. In a future version of Iris, this datum will be applied. To apply the datum when loading, use the iris.FUTURE.datum_support flag.\n",
      "  cubes = iris.load(str('/scratch/hsouth/cbh_data/train/train_large.nc'))\n",
      "/var/tmp/ipykernel_17129/4057101540.py:3: FutureWarning: Ignoring a datum in netCDF load for consistency with existing behaviour. In a future version of Iris, this datum will be applied. To apply the datum when loading, use the iris.FUTURE.datum_support flag.\n",
      "  cubes = iris.load(str('/scratch/hsouth/cbh_data/train/train_large.nc'))\n",
      "/var/tmp/ipykernel_17129/4057101540.py:3: FutureWarning: Ignoring a datum in netCDF load for consistency with existing behaviour. In a future version of Iris, this datum will be applied. To apply the datum when loading, use the iris.FUTURE.datum_support flag.\n",
      "  cubes = iris.load(str('/scratch/hsouth/cbh_data/train/train_large.nc'))\n",
      "/var/tmp/ipykernel_17129/4057101540.py:3: FutureWarning: Ignoring a datum in netCDF load for consistency with existing behaviour. In a future version of Iris, this datum will be applied. To apply the datum when loading, use the iris.FUTURE.datum_support flag.\n",
      "  cubes = iris.load(str('/scratch/hsouth/cbh_data/train/train_large.nc'))\n"
     ]
    },
    {
     "name": "stdout",
     "output_type": "stream",
     "text": [
      "0: m01s05i250 / (unknown)              (time: 364; model_level_number: 70; latitude: 480; longitude: 640)\n",
      "1: cloud_volume_fraction_in_atmosphere_layer / (1) (time: 364; model_level_number: 70; latitude: 480; longitude: 640)\n",
      "2: specific_humidity / (unknown)       (time: 364; model_level_number: 70; latitude: 480; longitude: 640)\n",
      "3: air_pressure / (Pa)                 (time: 364; model_level_number: 70; latitude: 480; longitude: 640)\n",
      "4: air_temperature / (K)               (time: 364; model_level_number: 70; latitude: 480; longitude: 640)\n",
      "5: convective_rainfall_flux / (kg m-2 s-1) (time: 364; latitude: 480; longitude: 640)\n",
      "6: convective_snowfall_flux / (kg m-2 s-1) (time: 364; latitude: 480; longitude: 640)\n"
     ]
    }
   ],
   "source": [
    "print(p[0:20])\n",
    "import iris\n",
    "\n",
    "cubes = iris.load(\n",
    "    str(pathlib.Path(os.environ[\"SCRATCH\"]) / \"cbh_data\" / \"train\" / \"train_large.nc\")\n",
    ")\n",
    "print(cubes)  # shorter comes first\n",
    "inp_cube_humid = cubes[2]\n",
    "tar_cube = cubes[1]\n",
    "inp_cube_temp = cubes[4]"
   ]
  },
  {
   "cell_type": "code",
   "execution_count": 66,
   "id": "ea85d933-19c4-4c57-9bf0-02fc6d7b92cc",
   "metadata": {},
   "outputs": [
    {
     "name": "stdout",
     "output_type": "stream",
     "text": [
      "Loaded zarr, file information:\n",
      " Name              : /\n",
      "Type              : zarr.hierarchy.Group\n",
      "Read-only         : False\n",
      "Synchronizer type : zarr.sync.ThreadSynchronizer\n",
      "Store type        : zarr.storage.DirectoryStore\n",
      "No. members       : 3\n",
      "No. arrays        : 3\n",
      "No. groups        : 0\n",
      "Arrays            : cloud_base_label_y.zarr, cloud_volume_fraction_y.zarr,\n",
      "                  : humidity_temp_pressure_x.zarr\n",
      " \n",
      "\n",
      "Loaded zarr, file information:\n",
      " Name              : /\n",
      "Type              : zarr.hierarchy.Group\n",
      "Read-only         : False\n",
      "Synchronizer type : zarr.sync.ThreadSynchronizer\n",
      "Store type        : zarr.storage.DirectoryStore\n",
      "No. members       : 3\n",
      "No. arrays        : 3\n",
      "No. groups        : 0\n",
      "Arrays            : cloud_base_label_y.zarr, cloud_volume_fraction_y.zarr,\n",
      "                  : humidity_temp_pressure_x.zarr\n",
      " \n",
      "\n"
     ]
    },
    {
     "data": {
      "text/html": [
       "<table>\n",
       "    <tr>\n",
       "        <td>\n",
       "            <table style=\"border-collapse: collapse;\">\n",
       "                <thead>\n",
       "                    <tr>\n",
       "                        <td> </td>\n",
       "                        <th> Array </th>\n",
       "                        <th> Chunk </th>\n",
       "                    </tr>\n",
       "                </thead>\n",
       "                <tbody>\n",
       "                    \n",
       "                    <tr>\n",
       "                        <th> Bytes </th>\n",
       "                        <td> 87.48 GiB </td>\n",
       "                        <td> 373.24 MiB </td>\n",
       "                    </tr>\n",
       "                    \n",
       "                    <tr>\n",
       "                        <th> Shape </th>\n",
       "                        <td> (111820800, 70, 3) </td>\n",
       "                        <td> (465920, 70, 3) </td>\n",
       "                    </tr>\n",
       "                    <tr>\n",
       "                        <th> Dask graph </th>\n",
       "                        <td colspan=\"2\"> 240 chunks in 2 Graph Layers </td>\n",
       "                    </tr>\n",
       "                    <tr>\n",
       "                        <th> Data type </th>\n",
       "                        <td colspan=\"2\"> float32 numpy.ndarray </td>\n",
       "                    </tr>\n",
       "                </tbody>\n",
       "            </table>\n",
       "        </td>\n",
       "        <td>\n",
       "        <svg width=\"156\" height=\"146\" style=\"stroke:rgb(0,0,0);stroke-width:1\" >\n",
       "\n",
       "  <!-- Horizontal lines -->\n",
       "  <line x1=\"10\" y1=\"0\" x2=\"80\" y2=\"70\" style=\"stroke-width:2\" />\n",
       "  <line x1=\"10\" y1=\"25\" x2=\"80\" y2=\"96\" style=\"stroke-width:2\" />\n",
       "\n",
       "  <!-- Vertical lines -->\n",
       "  <line x1=\"10\" y1=\"0\" x2=\"10\" y2=\"25\" style=\"stroke-width:2\" />\n",
       "  <line x1=\"13\" y1=\"3\" x2=\"13\" y2=\"28\" />\n",
       "  <line x1=\"17\" y1=\"7\" x2=\"17\" y2=\"32\" />\n",
       "  <line x1=\"20\" y1=\"10\" x2=\"20\" y2=\"36\" />\n",
       "  <line x1=\"24\" y1=\"14\" x2=\"24\" y2=\"40\" />\n",
       "  <line x1=\"28\" y1=\"18\" x2=\"28\" y2=\"43\" />\n",
       "  <line x1=\"32\" y1=\"22\" x2=\"32\" y2=\"47\" />\n",
       "  <line x1=\"35\" y1=\"25\" x2=\"35\" y2=\"51\" />\n",
       "  <line x1=\"39\" y1=\"29\" x2=\"39\" y2=\"55\" />\n",
       "  <line x1=\"43\" y1=\"33\" x2=\"43\" y2=\"58\" />\n",
       "  <line x1=\"47\" y1=\"37\" x2=\"47\" y2=\"62\" />\n",
       "  <line x1=\"50\" y1=\"40\" x2=\"50\" y2=\"66\" />\n",
       "  <line x1=\"54\" y1=\"44\" x2=\"54\" y2=\"69\" />\n",
       "  <line x1=\"58\" y1=\"48\" x2=\"58\" y2=\"73\" />\n",
       "  <line x1=\"61\" y1=\"51\" x2=\"61\" y2=\"77\" />\n",
       "  <line x1=\"65\" y1=\"55\" x2=\"65\" y2=\"81\" />\n",
       "  <line x1=\"69\" y1=\"59\" x2=\"69\" y2=\"84\" />\n",
       "  <line x1=\"72\" y1=\"62\" x2=\"72\" y2=\"88\" />\n",
       "  <line x1=\"76\" y1=\"66\" x2=\"76\" y2=\"92\" />\n",
       "  <line x1=\"80\" y1=\"70\" x2=\"80\" y2=\"96\" style=\"stroke-width:2\" />\n",
       "\n",
       "  <!-- Colored Rectangle -->\n",
       "  <polygon points=\"10.0,0.0 80.58823529411765,70.58823529411765 80.58823529411765,96.00085180870013 10.0,25.412616514582485\" style=\"fill:#8B4903A0;stroke-width:0\"/>\n",
       "\n",
       "  <!-- Horizontal lines -->\n",
       "  <line x1=\"10\" y1=\"0\" x2=\"35\" y2=\"0\" style=\"stroke-width:2\" />\n",
       "  <line x1=\"13\" y1=\"3\" x2=\"38\" y2=\"3\" />\n",
       "  <line x1=\"17\" y1=\"7\" x2=\"42\" y2=\"7\" />\n",
       "  <line x1=\"20\" y1=\"10\" x2=\"46\" y2=\"10\" />\n",
       "  <line x1=\"24\" y1=\"14\" x2=\"50\" y2=\"14\" />\n",
       "  <line x1=\"28\" y1=\"18\" x2=\"53\" y2=\"18\" />\n",
       "  <line x1=\"32\" y1=\"22\" x2=\"57\" y2=\"22\" />\n",
       "  <line x1=\"35\" y1=\"25\" x2=\"61\" y2=\"25\" />\n",
       "  <line x1=\"39\" y1=\"29\" x2=\"65\" y2=\"29\" />\n",
       "  <line x1=\"43\" y1=\"33\" x2=\"68\" y2=\"33\" />\n",
       "  <line x1=\"47\" y1=\"37\" x2=\"72\" y2=\"37\" />\n",
       "  <line x1=\"50\" y1=\"40\" x2=\"76\" y2=\"40\" />\n",
       "  <line x1=\"54\" y1=\"44\" x2=\"79\" y2=\"44\" />\n",
       "  <line x1=\"58\" y1=\"48\" x2=\"83\" y2=\"48\" />\n",
       "  <line x1=\"61\" y1=\"51\" x2=\"87\" y2=\"51\" />\n",
       "  <line x1=\"65\" y1=\"55\" x2=\"91\" y2=\"55\" />\n",
       "  <line x1=\"69\" y1=\"59\" x2=\"94\" y2=\"59\" />\n",
       "  <line x1=\"72\" y1=\"62\" x2=\"98\" y2=\"62\" />\n",
       "  <line x1=\"76\" y1=\"66\" x2=\"102\" y2=\"66\" />\n",
       "  <line x1=\"80\" y1=\"70\" x2=\"106\" y2=\"70\" style=\"stroke-width:2\" />\n",
       "\n",
       "  <!-- Vertical lines -->\n",
       "  <line x1=\"10\" y1=\"0\" x2=\"80\" y2=\"70\" style=\"stroke-width:2\" />\n",
       "  <line x1=\"35\" y1=\"0\" x2=\"106\" y2=\"70\" style=\"stroke-width:2\" />\n",
       "\n",
       "  <!-- Colored Rectangle -->\n",
       "  <polygon points=\"10.0,0.0 35.41261651458248,0.0 106.00085180870013,70.58823529411765 80.58823529411765,70.58823529411765\" style=\"fill:#8B4903A0;stroke-width:0\"/>\n",
       "\n",
       "  <!-- Horizontal lines -->\n",
       "  <line x1=\"80\" y1=\"70\" x2=\"106\" y2=\"70\" style=\"stroke-width:2\" />\n",
       "  <line x1=\"80\" y1=\"96\" x2=\"106\" y2=\"96\" style=\"stroke-width:2\" />\n",
       "\n",
       "  <!-- Vertical lines -->\n",
       "  <line x1=\"80\" y1=\"70\" x2=\"80\" y2=\"96\" style=\"stroke-width:2\" />\n",
       "  <line x1=\"106\" y1=\"70\" x2=\"106\" y2=\"96\" style=\"stroke-width:2\" />\n",
       "\n",
       "  <!-- Colored Rectangle -->\n",
       "  <polygon points=\"80.58823529411765,70.58823529411765 106.00085180870013,70.58823529411765 106.00085180870013,96.00085180870013 80.58823529411765,96.00085180870013\" style=\"fill:#ECB172A0;stroke-width:0\"/>\n",
       "\n",
       "  <!-- Text -->\n",
       "  <text x=\"93.294544\" y=\"116.000852\" font-size=\"1.0rem\" font-weight=\"100\" text-anchor=\"middle\" >3</text>\n",
       "  <text x=\"126.000852\" y=\"83.294544\" font-size=\"1.0rem\" font-weight=\"100\" text-anchor=\"middle\" transform=\"rotate(0,126.000852,83.294544)\">70</text>\n",
       "  <text x=\"35.294118\" y=\"80.706734\" font-size=\"1.0rem\" font-weight=\"100\" text-anchor=\"middle\" transform=\"rotate(45,35.294118,80.706734)\">111820800</text>\n",
       "</svg>\n",
       "        </td>\n",
       "    </tr>\n",
       "</table>"
      ],
      "text/plain": [
       "dask.array<from-zarr, shape=(111820800, 70, 3), dtype=float32, chunksize=(465920, 70, 3), chunktype=numpy.ndarray>"
      ]
     },
     "execution_count": 66,
     "metadata": {},
     "output_type": "execute_result"
    }
   ],
   "source": [
    "# initialize data\n",
    "(\n",
    "    train_input,\n",
    "    train_labels,\n",
    "    _,\n",
    ") = cbh_data_definitions.load_data_from_zarr(training_data_path)\n",
    "\n",
    "(dev_input, dev_labels, _) = cbh_data_definitions.load_data_from_zarr(dev_data_path)\n",
    "\n",
    "# the cloud volume is not needed for the task, so isn't saved on the load\n",
    "# show a chunk\n",
    "train_input"
   ]
  },
  {
   "cell_type": "code",
   "execution_count": 67,
   "id": "be5efe38-0ca4-4602-98ab-81cd7d5e415a",
   "metadata": {},
   "outputs": [
    {
     "name": "stdout",
     "output_type": "stream",
     "text": [
      "Loaded zarr, file information:\n",
      " Name              : /\n",
      "Type              : zarr.hierarchy.Group\n",
      "Read-only         : False\n",
      "Synchronizer type : zarr.sync.ThreadSynchronizer\n",
      "Store type        : zarr.storage.DirectoryStore\n",
      "No. members       : 2\n",
      "No. arrays        : 2\n",
      "No. groups        : 0\n",
      "Arrays            : cloud_base_label_y.zarr, humidity_temp_pressure_x.zarr\n",
      " \n",
      "\n",
      "Loaded zarr, file information:\n",
      " Name              : /\n",
      "Type              : zarr.hierarchy.Group\n",
      "Read-only         : False\n",
      "Synchronizer type : zarr.sync.ThreadSynchronizer\n",
      "Store type        : zarr.storage.DirectoryStore\n",
      "No. members       : 2\n",
      "No. arrays        : 2\n",
      "No. groups        : 0\n",
      "Arrays            : cloud_base_label_y.zarr, humidity_temp_pressure_x.zarr\n",
      " \n",
      "\n"
     ]
    }
   ],
   "source": [
    "# initialize data\n",
    "(\n",
    "    train_input_random,\n",
    "    train_labels_random,\n",
    "    _,\n",
    ") = cbh_data_definitions.load_data_from_zarr(\n",
    "    root_data_directory / \"analysis_ready\" / \"train_randomized.zarr\"\n",
    ")\n",
    "\n",
    "(dev_input_random, dev_labels_random, _) = cbh_data_definitions.load_data_from_zarr(\n",
    "    root_data_directory / \"analysis_ready\" / \"dev_randomized.zarr\"\n",
    ")"
   ]
  },
  {
   "cell_type": "markdown",
   "id": "d5813bee-ae80-45cc-93ee-dbe819bae425",
   "metadata": {},
   "source": [
    "Find the index in the random order where the data should exist, and verify it appears in the correct place. If randomized data can be correctly transformed back to the unrandomized data as is expected, then only need to perform a check between correctness of unrandomized and raw data to verify no erroneous data will be fed into ML models."
   ]
  },
  {
   "cell_type": "code",
   "execution_count": 68,
   "id": "6b950b0c-689f-4c7b-917d-047bf0478601",
   "metadata": {},
   "outputs": [
    {
     "name": "stdout",
     "output_type": "stream",
     "text": [
      "24618946\n"
     ]
    }
   ],
   "source": [
    "ind = None\n",
    "for i in p:\n",
    "    if p[i] == 0:\n",
    "        ind = i\n",
    "print(ind)"
   ]
  },
  {
   "cell_type": "code",
   "execution_count": 69,
   "id": "1e45a03e-0173-4db8-beb5-eccd7d098539",
   "metadata": {},
   "outputs": [
    {
     "name": "stdout",
     "output_type": "stream",
     "text": [
      "245.0\n",
      "[6.8245125e+04 2.4500000e+02 4.0107965e-04]\n",
      "[6.8245125e+04 2.4500000e+02 4.0107965e-04]\n",
      "69\n",
      "69\n"
     ]
    }
   ],
   "source": [
    "print(inp_cube_temp[0][0][0][0].data)\n",
    "print(train_input[0][0].compute())\n",
    "print(train_input_random[ind][0].compute())\n",
    "print(train_labels[0].compute())\n",
    "print(train_labels_random[ind].compute())"
   ]
  },
  {
   "cell_type": "markdown",
   "id": "176f0a9a-b1b4-4a93-8871-113b8be3061d",
   "metadata": {},
   "source": [
    "Verify unrandmized data matches raw data"
   ]
  },
  {
   "cell_type": "code",
   "execution_count": null,
   "id": "9612eacb-8601-4307-8c51-76bccbb4dcd6",
   "metadata": {},
   "outputs": [],
   "source": [
    "# Now, verify that a load back in of the data preserves desired qualities\n",
    "x, lab, y = load_data_from_zarr(\n",
    "    str(\n",
    "        pathlib.Path(os.environ[\"SCRATCH\"]) / \"cbh_data\" / \"analysis_ready\" / \"dev.zarr\"\n",
    "    )\n",
    ")\n",
    "# Do the samples match up across groups?\n",
    "threshold = 2.0 / 8.0\n",
    "\n",
    "# same sample number\n",
    "assert len(x) == len(y) == len(lab)\n",
    "# preserved order (checked with between label and volume comparison\n",
    "one_percent_selection = int(0.01 * len(x))\n",
    "indices_to_test = np.random.choice(np.arange(len(x)), size=one_percent_selection)\n",
    "print(\"First 20 random indices:\", indices_to_test[0:20])\n",
    "for i in range(len(indices_to_test)):\n",
    "    vol = y[indices_to_test[i]].compute()\n",
    "    base_label_position = lab[indices_to_test[i]].compute()\n",
    "    # print(vol)\n",
    "    thresh_overcome = np.where(vol > threshold)\n",
    "\n",
    "    # print(thresh_overcome)\n",
    "    try:\n",
    "        vol_base = thresh_overcome[0][0]\n",
    "    except:\n",
    "        vol_base = len(vol) - 1\n",
    "    # print('vol_base', vol_base, 'base_label_position', base_label_position)\n",
    "    assert vol_base == base_label_position, (\n",
    "        \"base mismatch\",\n",
    "        vol_base,\n",
    "        \"vs\",\n",
    "        base_label_position,\n",
    "        \"vol=\",\n",
    "        vol,\n",
    "    )\n",
    "print(\"Pass\")"
   ]
  },
  {
   "cell_type": "code",
   "execution_count": null,
   "id": "1e54a7eb-c1a3-4bf4-ba3c-84eac8f28d89",
   "metadata": {},
   "outputs": [],
   "source": [
    "cubes = iris.load(\n",
    "    str(pathlib.Path(os.environ[\"SCRATCH\"]) / \"cbh_data\" / \"dev\" / \"dev_large.nc\")\n",
    ")\n",
    "print(cubes)  # shorter comes first\n",
    "inp_cube_humid = cubes[6]\n",
    "tar_cube = cubes[1]\n",
    "inp_cube_wrong = cubes[6]"
   ]
  },
  {
   "cell_type": "code",
   "execution_count": null,
   "id": "a614180c-c585-4a28-9997-e80ad13d4558",
   "metadata": {},
   "outputs": [],
   "source": [
    "print(inp_cube_wrong[0][0][0].data)"
   ]
  },
  {
   "cell_type": "code",
   "execution_count": null,
   "id": "f637791e-3485-4a8b-a951-4c0125803745",
   "metadata": {},
   "outputs": [],
   "source": [
    "for i in range(30):\n",
    "    print(\n",
    "        \"CUBE INP:\",\n",
    "        inp_cube_humid[0][0][i].data,\n",
    "        \"SAVED INP:\",\n",
    "        x[i, 0, 2].compute(),\n",
    "        \"CUBE OUT:\",\n",
    "        tar_cube[0][0][i].data,\n",
    "        \"SAVED OUT:\",\n",
    "        y[i, 0].compute(),\n",
    "    )"
   ]
  },
  {
   "cell_type": "markdown",
   "id": "0314f326-c7fd-4b90-9639-1216c92e3638",
   "metadata": {},
   "source": [
    "### Compute the mean and standard deviations of different features in the data, can be used to normalize the data during training\n",
    "\n",
    "as will be shown, the values per feature are imbalanaced, this may cause the model to put more importance on features that have a larger range of values. To prevent this, normalizing the input sends the values, ideally around 0 between \\[-1,1\\] will improve model performance. There are a few ways to normalize in a model, and it is not appropriate to use data from the independent set (e.g. validation data) in order to make this calculation. Transforming the data to a Z score does not guarentee our desired range, but does normalize to small values in both a positive and negative range.\n",
    "\n",
    "The means can be calculated on a feature basis, but also on a per feature per height level basis (pfpl). a pfpl matrix of means and standard deviations is desirable as temperatures may take on different distributions and will take on different values as the levels of the model output change.\n",
    "\n",
    "Other methods for normalization could be performed in the model itself, such as batch normalization. Alternatively an enforcement of the desirable range could be performed 2((x − min(x)) / (max(x)− min(x))) − 1. More techniques could be found https://developers.google.com/machine-learning/data-prep/transform/normalization\n",
    "\n",
    "some more reading with empirical results to motivate normalization https://towardsdatascience.com/understand-data-normalization-in-machine-learning-8ff3062101f0"
   ]
  },
  {
   "cell_type": "code",
   "execution_count": 2,
   "id": "ddb7b357-4def-42f8-8ecc-62bef4f9c6a5",
   "metadata": {},
   "outputs": [
    {
     "ename": "NameError",
     "evalue": "name 'train_input' is not defined",
     "output_type": "error",
     "traceback": [
      "\u001b[0;31m---------------------------------------------------------------------------\u001b[0m",
      "\u001b[0;31mNameError\u001b[0m                                 Traceback (most recent call last)",
      "Cell \u001b[0;32mIn [2], line 1\u001b[0m\n\u001b[0;32m----> 1\u001b[0m \u001b[38;5;28mprint\u001b[39m(\u001b[43mtrain_input\u001b[49m\u001b[38;5;241m.\u001b[39mshape)\n",
      "\u001b[0;31mNameError\u001b[0m: name 'train_input' is not defined"
     ]
    }
   ],
   "source": [
    "print(train_input.shape)"
   ]
  },
  {
   "cell_type": "code",
   "execution_count": 71,
   "id": "4f93b022-5bfc-444b-a0e5-c6a787fd52c4",
   "metadata": {},
   "outputs": [
    {
     "name": "stdout",
     "output_type": "stream",
     "text": [
      "38905.22\n",
      "243.97282\n",
      "0.0017872477\n"
     ]
    }
   ],
   "source": [
    "print(np.mean(train_input[:, :, 0]).compute())\n",
    "print(np.mean(train_input[:, :, 1]).compute())\n",
    "print(np.mean(train_input[:, :, 2]).compute())"
   ]
  },
  {
   "cell_type": "code",
   "execution_count": 72,
   "id": "8066bb11-81ff-4e25-9257-5cdc7b95dd20",
   "metadata": {},
   "outputs": [
    {
     "name": "stdout",
     "output_type": "stream",
     "text": [
      "34798.527\n",
      "28.81939\n",
      "0.0038212955\n"
     ]
    }
   ],
   "source": [
    "print(np.std(train_input[:, :, 0]).compute())\n",
    "print(np.std(train_input[:, :, 1]).compute())\n",
    "print(np.std(train_input[:, :, 2]).compute())"
   ]
  },
  {
   "cell_type": "code",
   "execution_count": 79,
   "id": "70ee731f-ac81-4391-ba1f-02f64e67c3c6",
   "metadata": {},
   "outputs": [
    {
     "name": "stdout",
     "output_type": "stream",
     "text": [
      "(70, 3)\n",
      "(111820800,)\n"
     ]
    }
   ],
   "source": [
    "print(train_input.shape[1:])\n",
    "print(train_input[:, 0, 2].shape)"
   ]
  },
  {
   "cell_type": "code",
   "execution_count": 83,
   "id": "dfaac337-f255-4d5f-843f-3dca443cb494",
   "metadata": {},
   "outputs": [
    {
     "name": "stdout",
     "output_type": "stream",
     "text": [
      "0\n",
      "10\n",
      "20\n",
      "30\n",
      "40\n",
      "50\n",
      "60\n"
     ]
    },
    {
     "data": {
      "text/plain": [
       "array([[9.64444297e+04, 2.77405487e+02, 7.15079065e-03],\n",
       "       [9.60648359e+04, 2.77481781e+02, 7.07853865e-03],\n",
       "       [9.55359453e+04, 2.77412109e+02, 7.02581042e-03],\n",
       "       [9.48599062e+04, 2.77295013e+02, 6.97437208e-03],\n",
       "       [9.40395781e+04, 2.77101440e+02, 6.91047730e-03],\n",
       "       [9.30783906e+04, 2.76831421e+02, 6.82856515e-03],\n",
       "       [9.19801406e+04, 2.76472443e+02, 6.70374930e-03],\n",
       "       [9.07491250e+04, 2.76043365e+02, 6.50717132e-03],\n",
       "       [8.93902891e+04, 2.75564728e+02, 6.25299662e-03],\n",
       "       [8.79089531e+04, 2.75043396e+02, 5.97102568e-03],\n",
       "       [8.63110547e+04, 2.74480286e+02, 5.67889586e-03],\n",
       "       [8.46029844e+04, 2.73879211e+02, 5.36221312e-03],\n",
       "       [8.27914219e+04, 2.73243469e+02, 5.02302498e-03],\n",
       "       [8.08834531e+04, 2.72564606e+02, 4.65803454e-03],\n",
       "       [7.88864375e+04, 2.71827118e+02, 4.26752539e-03],\n",
       "       [7.68077031e+04, 2.70994568e+02, 3.87111073e-03],\n",
       "       [7.46545391e+04, 2.70032440e+02, 3.49657563e-03],\n",
       "       [7.24343672e+04, 2.68935150e+02, 3.15617770e-03],\n",
       "       [7.01545469e+04, 2.67705750e+02, 2.85030552e-03],\n",
       "       [6.78225938e+04, 2.66334717e+02, 2.57357839e-03],\n",
       "       [6.54461562e+04, 2.64844391e+02, 2.31834338e-03],\n",
       "       [6.30328516e+04, 2.63224457e+02, 2.08144030e-03],\n",
       "       [6.05903320e+04, 2.61480316e+02, 1.86122197e-03],\n",
       "       [5.81263359e+04, 2.59610687e+02, 1.65517745e-03],\n",
       "       [5.56484180e+04, 2.57622955e+02, 1.46297331e-03],\n",
       "       [5.31641953e+04, 2.55528458e+02, 1.28366286e-03],\n",
       "       [5.06814180e+04, 2.53353622e+02, 1.10976945e-03],\n",
       "       [4.82074883e+04, 2.51057724e+02, 9.45042761e-04],\n",
       "       [4.57495039e+04, 2.48633881e+02, 7.98320572e-04],\n",
       "       [4.33145000e+04, 2.46108871e+02, 6.67328772e-04],\n",
       "       [4.09094219e+04, 2.43505127e+02, 5.50698140e-04],\n",
       "       [3.85412070e+04, 2.40858871e+02, 4.49365820e-04],\n",
       "       [3.62168672e+04, 2.38223831e+02, 3.62748367e-04],\n",
       "       [3.39433242e+04, 2.35654800e+02, 2.89116695e-04],\n",
       "       [3.17274395e+04, 2.33216782e+02, 2.27629062e-04],\n",
       "       [2.95756094e+04, 2.30949188e+02, 1.76791014e-04],\n",
       "       [2.74934336e+04, 2.28826279e+02, 1.35001304e-04],\n",
       "       [2.54851445e+04, 2.26804352e+02, 1.00844998e-04],\n",
       "       [2.35536523e+04, 2.24858459e+02, 7.34051937e-05],\n",
       "       [2.17008066e+04, 2.22974396e+02, 5.16096516e-05],\n",
       "       [1.99275625e+04, 2.21181168e+02, 3.48411304e-05],\n",
       "       [1.82341348e+04, 2.19475830e+02, 2.26103948e-05],\n",
       "       [1.66198535e+04, 2.17824799e+02, 1.41792161e-05],\n",
       "       [1.50832246e+04, 2.16182144e+02, 8.80511652e-06],\n",
       "       [1.36222090e+04, 2.14557587e+02, 5.68946962e-06],\n",
       "       [1.22346406e+04, 2.12931839e+02, 4.06818845e-06],\n",
       "       [1.09186611e+04, 2.11380920e+02, 3.34435231e-06],\n",
       "       [9.67333105e+03, 2.10006302e+02, 3.10343125e-06],\n",
       "       [8.49941602e+03, 2.09144485e+02, 3.12428438e-06],\n",
       "       [7.40073535e+03, 2.09239777e+02, 3.30583225e-06],\n",
       "       [6.38260742e+03, 2.10515839e+02, 3.55468069e-06],\n",
       "       [5.44715674e+03, 2.12351044e+02, 3.74463229e-06],\n",
       "       [4.59247754e+03, 2.14131287e+02, 3.80567508e-06],\n",
       "       [3.81629077e+03, 2.15857071e+02, 3.75336481e-06],\n",
       "       [3.11778027e+03, 2.17641678e+02, 3.64404877e-06],\n",
       "       [2.49724561e+03, 2.19634613e+02, 3.52827828e-06],\n",
       "       [1.95531726e+03, 2.22032196e+02, 3.43494889e-06],\n",
       "       [1.49180457e+03, 2.24692383e+02, 3.37218580e-06],\n",
       "       [1.10506091e+03, 2.27739517e+02, 3.33234129e-06],\n",
       "       [7.91988403e+02, 2.31686050e+02, 3.30269768e-06],\n",
       "       [5.47373962e+02, 2.36584763e+02, 3.27853309e-06],\n",
       "       [3.63759521e+02, 2.43020218e+02, 3.26089230e-06],\n",
       "       [2.31996643e+02, 2.51640305e+02, 3.24340635e-06],\n",
       "       [1.41697876e+02, 2.61091125e+02, 3.20620802e-06],\n",
       "       [8.20968018e+01, 2.64068329e+02, 3.11084591e-06],\n",
       "       [4.40615196e+01, 2.57448578e+02, 2.91166884e-06],\n",
       "       [2.11980801e+01, 2.45879547e+02, 2.60898787e-06],\n",
       "       [8.84453964e+00, 2.34165024e+02, 2.28593922e-06],\n",
       "       [3.01075101e+00, 2.08926590e+02, 1.96525821e-06],\n",
       "       [7.32478917e-01, 1.73079956e+02, 1.49011612e-06]])"
      ]
     },
     "execution_count": 83,
     "metadata": {},
     "output_type": "execute_result"
    }
   ],
   "source": [
    "per_level_per_feat_mean = np.zeros(train_input.shape[1:])\n",
    "for height_level in range(len(train_input[0])):\n",
    "    if height_level % 10 == 0:\n",
    "        print(height_level)\n",
    "    for feat_num in range(len(train_input[0][0])):\n",
    "        per_level_per_feat_mean[height_level, feat_num] = np.mean(\n",
    "            train_input[:, height_level, feat_num]\n",
    "        ).compute()\n",
    "per_level_per_feat_mean"
   ]
  },
  {
   "cell_type": "code",
   "execution_count": 84,
   "id": "604287c1-8b1a-49a2-857f-a19c3901e409",
   "metadata": {},
   "outputs": [
    {
     "name": "stdout",
     "output_type": "stream",
     "text": [
      "0\n",
      "10\n",
      "20\n",
      "30\n",
      "40\n",
      "50\n",
      "60\n"
     ]
    },
    {
     "data": {
      "text/plain": [
       "array([[9.54579297e+03, 2.09724407e+01, 6.51187496e-03],\n",
       "       [9.49059277e+03, 2.05288181e+01, 6.44596945e-03],\n",
       "       [9.41354688e+03, 2.00941315e+01, 6.39920402e-03],\n",
       "       [9.31502832e+03, 1.95592346e+01, 6.35390915e-03],\n",
       "       [9.19556934e+03, 1.89935989e+01, 6.30338071e-03],\n",
       "       [9.05591992e+03, 1.84271851e+01, 6.23682141e-03],\n",
       "       [8.89701074e+03, 1.79100647e+01, 6.12410111e-03],\n",
       "       [8.72000781e+03, 1.74767799e+01, 5.92717482e-03],\n",
       "       [8.52629199e+03, 1.71240501e+01, 5.67222154e-03],\n",
       "       [8.31735254e+03, 1.68389034e+01, 5.41108754e-03],\n",
       "       [8.09480176e+03, 1.66119537e+01, 5.16942004e-03],\n",
       "       [7.86037451e+03, 1.64433212e+01, 4.92928829e-03],\n",
       "       [7.61588477e+03, 1.63271770e+01, 4.69559338e-03],\n",
       "       [7.36324072e+03, 1.62626400e+01, 4.46154457e-03],\n",
       "       [7.10438818e+03, 1.62429981e+01, 4.21927078e-03],\n",
       "       [6.84119678e+03, 1.62516766e+01, 3.96805443e-03],\n",
       "       [6.57543164e+03, 1.62651844e+01, 3.71329347e-03],\n",
       "       [6.30878223e+03, 1.62788639e+01, 3.45922355e-03],\n",
       "       [6.04287598e+03, 1.62834930e+01, 3.21071362e-03],\n",
       "       [5.77929785e+03, 1.62928276e+01, 2.97017093e-03],\n",
       "       [5.51961865e+03, 1.62963696e+01, 2.74014310e-03],\n",
       "       [5.26532959e+03, 1.62978630e+01, 2.52050324e-03],\n",
       "       [5.01783398e+03, 1.62979145e+01, 2.31103995e-03],\n",
       "       [4.77843115e+03, 1.62988834e+01, 2.11095251e-03],\n",
       "       [4.54827930e+03, 1.63041954e+01, 1.92183233e-03],\n",
       "       [4.32841699e+03, 1.63236237e+01, 1.74138905e-03],\n",
       "       [4.11982861e+03, 1.63857384e+01, 1.54941622e-03],\n",
       "       [3.92318335e+03, 1.64345169e+01, 1.34728954e-03],\n",
       "       [3.73860767e+03, 1.64433575e+01, 1.15723186e-03],\n",
       "       [3.56573218e+03, 1.63832169e+01, 9.82342404e-04],\n",
       "       [3.40366553e+03, 1.62401752e+01, 8.23845679e-04],\n",
       "       [3.25095264e+03, 1.59762039e+01, 6.83665508e-04],\n",
       "       [3.10547510e+03, 1.55441418e+01, 5.61062770e-04],\n",
       "       [2.96453101e+03, 1.49076710e+01, 4.53698623e-04],\n",
       "       [2.82508521e+03, 1.40480547e+01, 3.61074519e-04],\n",
       "       [2.68418115e+03, 1.29863720e+01, 2.82236957e-04],\n",
       "       [2.53962329e+03, 1.18057966e+01, 2.15771637e-04],\n",
       "       [2.39027979e+03, 1.05765305e+01, 1.60481999e-04],\n",
       "       [2.23585913e+03, 9.35381413e+00, 1.15591618e-04],\n",
       "       [2.07673047e+03, 8.22744942e+00, 7.97227549e-05],\n",
       "       [1.91373218e+03, 7.31483841e+00, 5.19882960e-05],\n",
       "       [1.74800708e+03, 6.75935602e+00, 3.18054772e-05],\n",
       "       [1.58097180e+03, 6.75581932e+00, 1.80859497e-05],\n",
       "       [1.41419995e+03, 7.33450699e+00, 9.48589604e-06],\n",
       "       [1.24926147e+03, 8.47007465e+00, 4.52933318e-06],\n",
       "       [1.08789087e+03, 9.93837547e+00, 1.92034963e-06],\n",
       "       [9.32321777e+02, 1.15046864e+01, 8.72833425e-07],\n",
       "       [7.85410583e+02, 1.30115738e+01, 7.58684337e-07],\n",
       "       [6.51382324e+02, 1.41665936e+01, 7.50959771e-07],\n",
       "       [5.36200562e+02, 1.43395281e+01, 5.78602567e-07],\n",
       "       [4.44380615e+02, 1.34114285e+01, 3.68195458e-07],\n",
       "       [3.74910828e+02, 1.21980896e+01, 4.25187125e-07],\n",
       "       [3.22176666e+02, 1.13813915e+01, 5.33163018e-07],\n",
       "       [2.80109650e+02, 1.09377775e+01, 5.33283298e-07],\n",
       "       [2.44101288e+02, 1.06214075e+01, 4.55492710e-07],\n",
       "       [2.11118637e+02, 1.03973770e+01, 3.49786774e-07],\n",
       "       [1.79651062e+02, 1.02175684e+01, 2.57546844e-07],\n",
       "       [1.49142471e+02, 9.92623043e+00, 1.99793746e-07],\n",
       "       [1.19878601e+02, 9.59546280e+00, 1.82804868e-07],\n",
       "       [9.28774719e+01, 9.37916946e+00, 1.96223226e-07],\n",
       "       [6.91505814e+01, 9.25310421e+00, 2.16735387e-07],\n",
       "       [4.93099556e+01, 9.25636196e+00, 2.32280271e-07],\n",
       "       [3.35273933e+01, 9.68530083e+00, 2.37911408e-07],\n",
       "       [2.16553268e+01, 1.00196972e+01, 2.45644998e-07],\n",
       "       [1.34366741e+01, 1.07316895e+01, 2.94293187e-07],\n",
       "       [8.02147293e+00, 1.10994768e+01, 3.88851049e-07],\n",
       "       [4.35431767e+00, 1.02016888e+01, 4.82385587e-07],\n",
       "       [1.93555510e+00, 8.26494789e+00, 4.92645938e-07],\n",
       "       [6.30351186e-01, 7.62049675e+00, 3.35045485e-07],\n",
       "       [1.52437195e-01, 5.19919491e+00, 0.00000000e+00]])"
      ]
     },
     "execution_count": 84,
     "metadata": {},
     "output_type": "execute_result"
    }
   ],
   "source": [
    "per_level_per_feat_std = np.zeros(train_input.shape[1:])\n",
    "for height_level in range(len(train_input[0])):\n",
    "    if height_level % 10 == 0:\n",
    "        print(height_level)\n",
    "    for feat_num in range(len(train_input[0][0])):\n",
    "        per_level_per_feat_std[height_level][feat_num] = np.std(\n",
    "            train_input[:, height_level, feat_num]\n",
    "        ).compute()\n",
    "per_level_per_feat_std"
   ]
  },
  {
   "cell_type": "code",
   "execution_count": 89,
   "id": "85164ade-7d0a-477d-b8d7-33ca62860a6d",
   "metadata": {},
   "outputs": [],
   "source": [
    "with open(\"./per_level_per_feat_std.npz\", \"wb\") as f:\n",
    "    np.save(f, per_level_per_feat_std)\n",
    "with open(\"./per_level_per_feat_mean.npz\", \"wb\") as f:\n",
    "    np.save(f, per_level_per_feat_mean)"
   ]
  },
  {
   "cell_type": "code",
   "execution_count": 90,
   "id": "9352b4ed-2bff-4dc9-b108-ed5250843b08",
   "metadata": {},
   "outputs": [],
   "source": [
    "per_feat_mean = np.zeros(3)\n",
    "per_feat_mean[0] = np.mean(train_input[:, :, 0]).compute()\n",
    "per_feat_mean[1] = np.mean(train_input[:, :, 1]).compute()\n",
    "per_feat_mean[2] = np.mean(train_input[:, :, 2]).compute()"
   ]
  },
  {
   "cell_type": "code",
   "execution_count": 91,
   "id": "658c7fb1-ae97-4130-815a-22b26fc0f190",
   "metadata": {},
   "outputs": [],
   "source": [
    "per_feat_std = np.zeros(3)\n",
    "per_feat_std[0] = np.std(train_input[:, :, 0]).compute()\n",
    "per_feat_std[1] = np.std(train_input[:, :, 1]).compute()\n",
    "per_feat_std[2] = np.std(train_input[:, :, 2]).compute()"
   ]
  },
  {
   "cell_type": "code",
   "execution_count": 92,
   "id": "7bc7af3a-46e2-49a3-8acb-3326a2db6754",
   "metadata": {},
   "outputs": [
    {
     "data": {
      "text/plain": [
       "array([3.47985273e+04, 2.88193893e+01, 3.82129545e-03])"
      ]
     },
     "execution_count": 92,
     "metadata": {},
     "output_type": "execute_result"
    }
   ],
   "source": [
    "per_feat_std"
   ]
  },
  {
   "cell_type": "code",
   "execution_count": 93,
   "id": "6d3b90fc-2262-467a-aaf0-40fbe00b6494",
   "metadata": {},
   "outputs": [
    {
     "data": {
      "text/plain": [
       "array([3.89052188e+04, 2.43972824e+02, 1.78724772e-03])"
      ]
     },
     "execution_count": 93,
     "metadata": {},
     "output_type": "execute_result"
    }
   ],
   "source": [
    "per_feat_mean"
   ]
  },
  {
   "cell_type": "code",
   "execution_count": 94,
   "id": "737ac0f1-7fa7-4ef3-8212-9cf11fd0e862",
   "metadata": {},
   "outputs": [],
   "source": [
    "with open(\"./per_feat_std.npz\", \"wb\") as f:\n",
    "    np.save(f, per_feat_std)\n",
    "with open(\"./per_feat_mean.npz\", \"wb\") as f:\n",
    "    np.save(f, per_feat_mean)"
   ]
  },
  {
   "cell_type": "code",
   "execution_count": 85,
   "id": "2aadb2db-20dc-4f67-b6fb-875dfb96c639",
   "metadata": {},
   "outputs": [
    {
     "name": "stdout",
     "output_type": "stream",
     "text": [
      "0.375\n",
      "144.0\n",
      "-1.4305115e-06\n",
      "106368.5\n",
      "318.375\n",
      "0.025218368\n"
     ]
    }
   ],
   "source": [
    "print(np.min(train_input[:, :, 0]).compute())\n",
    "print(np.min(train_input[:, :, 1]).compute())\n",
    "print(np.min(train_input[:, :, 2]).compute())\n",
    "print(np.max(train_input[:, :, 0]).compute())\n",
    "print(np.max(train_input[:, :, 1]).compute())\n",
    "print(np.max(train_input[:, :, 2]).compute())"
   ]
  },
  {
   "cell_type": "markdown",
   "id": "749099c1-22e9-405e-850c-9180c0cbdfcb",
   "metadata": {},
   "source": [
    "## Discussion\n",
    "\n",
    "This section of the pipeline is the least tidy, but this is usually the case! Exploring the data is an open ended task which is an essential part of the ML pipeline, and should give the practicioner an understanding of the data that allows them to reason about results and challenges of the modelling at hand. More is better, but the steps to understanding the data will look different between practicioners. In addition to getting an understanding of the data, verifying that the pre-processing done in the last step is correct goes hand in hand with understanding.\n",
    "\n",
    "#### Links/resources\n",
    "\n",
    "1. https://github.com/informatics-lab/ml_weather_tutorial/blob/main/01_data_exploration.ipynb\n",
    "1. https://developers.google.com/machine-learning/data-prep/transform/normalization\n",
    "1. https://towardsdatascience.com/understand-data-normalization-in-machine-learning-8ff3062101f0"
   ]
  },
  {
   "cell_type": "code",
   "execution_count": null,
   "id": "69eabd7e-a374-40f4-b55f-6bc98e840be0",
   "metadata": {},
   "outputs": [],
   "source": []
  }
 ],
 "metadata": {
  "kernelspec": {
   "display_name": ".conda-py-lightning-cbh Python (Conda)",
   "language": "python",
   "name": "conda-env-.conda-py-lightning-cbh-py"
  },
  "language_info": {
   "codemirror_mode": {
    "name": "ipython",
    "version": 3
   },
   "file_extension": ".py",
   "mimetype": "text/x-python",
   "name": "python",
   "nbconvert_exporter": "python",
   "pygments_lexer": "ipython3",
   "version": "3.10.9"
  }
 },
 "nbformat": 4,
 "nbformat_minor": 5
}
