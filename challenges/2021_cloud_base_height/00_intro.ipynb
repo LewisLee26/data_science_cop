{
 "cells": [
  {
   "cell_type": "markdown",
   "id": "6729aad1-261a-48fa-ae59-986428165ebd",
   "metadata": {},
   "source": [
    "# Machine Learning Challenge Pipeline\n",
    "\n",
    "This series of notebooks aims to give an example pipeline for a machine learning challenge. It involves a number of notebooks, and the key parts of the pipeline are:\n",
    "\n",
    "- Raw data to machine learning friendly format\n",
    "- Exploration and verification of converted data\n",
    "- Model training and development\n",
    "- Hyperparameter tuning\n",
    "- Model Evaluation\n",
    "\n",
    "### Outcomes\n",
    "\n",
    "After a viewing of the notebook, hopefully the reader will be more comfortable with implementing an ML pipeline, and can use examples found in their own implementations of a Machine Learning challenge for the community of practice.\n",
    "\n",
    "______________________________________________________________________\n",
    "\n",
    "Additionally, some discussion around technologies, machine learning concepts, and pipeline challenges can be found"
   ]
  }
 ],
 "metadata": {
  "kernelspec": {
   "display_name": ".conda-large Python (Conda)",
   "language": "python",
   "name": "conda-env-.conda-large-py"
  },
  "language_info": {
   "codemirror_mode": {
    "name": "ipython",
    "version": 3
   },
   "file_extension": ".py",
   "mimetype": "text/x-python",
   "name": "python",
   "nbconvert_exporter": "python",
   "pygments_lexer": "ipython3",
   "version": "3.10.7"
  }
 },
 "nbformat": 4,
 "nbformat_minor": 5
}
