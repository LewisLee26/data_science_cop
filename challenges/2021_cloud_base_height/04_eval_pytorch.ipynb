{
 "cells": [
  {
   "cell_type": "markdown",
   "id": "33d4635d-9e2f-458e-a40b-6001003a0eec",
   "metadata": {},
   "source": [
    "# Evaluating a model\n",
    "\n",
    "This notebook demonstrates evaluating a trained model by exploring the results on the independent set of data, and displaying the training process.\n",
    "\n",
    "It is important to explore more than the loss produced during training in order to evaluate a model. Especially in the context of ML applied to science where it is not common that the underlying task to solve is \"minimize the RMSE\" and instead more likely to be \"Predict the height layer level of a cloud base\" where root mean square error between the desired output and the model output can help to understand how well the underlying task is going, more evaluation is required for a better picture of the model.\n",
    "\n",
    "Evaluation is explored through recalling the training process, producing classical metrics, as well as custom metrics designed for the current task (in our case SEDI and SEDS). More evaluation could be considered in order to explore the exact cases in which the model fails or implementing techniques for explainability of the model for better interpretation of the results.\n",
    "\n",
    "additionally, some testing of bespoke evaluation to ensure refactoring from the base solution is consistent with previous implementations of evaluation is performed\n",
    "\n",
    "Ideally the result of an evaluation that comes after the minimum ml pipeline is built and during model development will be to address issues with the model performance using methods informed by the evaluation. Methods can refer to a number of techniques: changes to model architecture, testing different training data sampling techniques, or reframing the ML task to enforce more robust output from the model, are some examples.\n",
    "\n",
    "### Environment\n",
    "\n",
    "This notebook is intended to be run in the py-lightning-cbh conda environment defined in requirements_torch.yml"
   ]
  },
  {
   "cell_type": "code",
   "execution_count": 1,
   "id": "19c347a5-7180-4afc-b334-9838147b748a",
   "metadata": {},
   "outputs": [],
   "source": [
    "import os\n",
    "import pathlib\n",
    "\n",
    "import matplotlib.pyplot as plt\n",
    "import mlflow\n",
    "import numpy as np\n",
    "import torch\n",
    "import zarr\n",
    "from sklearn.metrics import confusion_matrix\n",
    "\n",
    "import cbh_data_definitions\n",
    "import cbh_torch_lstm  # defined in directory (model definition)\n",
    "import cbh_torch_MLP"
   ]
  },
  {
   "cell_type": "markdown",
   "id": "0dcc99b1-83f8-4a29-86ce-f73fcf802b09",
   "metadata": {
    "tags": []
   },
   "source": [
    "## Define and initialize the evaluation data"
   ]
  },
  {
   "cell_type": "code",
   "execution_count": 2,
   "id": "b1b1c924-d784-4214-a3a8-1302f2dcf25d",
   "metadata": {},
   "outputs": [],
   "source": [
    "root_data_directory = pathlib.Path(os.environ[\"DATADIR\"]) / \"cbh_data\"\n",
    "test_data_path = (\n",
    "    root_data_directory / \"analysis_ready\" / \"dev.zarr\"\n",
    ")  # must change with available test data"
   ]
  },
  {
   "cell_type": "code",
   "execution_count": 3,
   "id": "3263ca16-6caa-442b-a1f5-b26c2428b464",
   "metadata": {},
   "outputs": [
    {
     "name": "stdout",
     "output_type": "stream",
     "text": [
      "Loaded zarr, file information:\n",
      " Name              : /\n",
      "Type              : zarr.hierarchy.Group\n",
      "Read-only         : False\n",
      "Synchronizer type : zarr.sync.ThreadSynchronizer\n",
      "Store type        : zarr.storage.DirectoryStore\n",
      "No. members       : 3\n",
      "No. arrays        : 3\n",
      "No. groups        : 0\n",
      "Arrays            : cloud_base_label_y.zarr, cloud_volume_fraction_y.zarr,\n",
      "                  : humidity_temp_pressure_x.zarr\n",
      " \n",
      "\n",
      "102400\n",
      "307200\n"
     ]
    }
   ],
   "source": [
    "test_input, test_labels, test_cloud_volume = cbh_data_definitions.load_data_from_zarr(\n",
    "    test_data_path\n",
    ")\n",
    "print(test_labels.chunksize[0])\n",
    "print(len(test_labels))"
   ]
  },
  {
   "cell_type": "code",
   "execution_count": 4,
   "id": "1bb955ac-703a-4cf2-ac65-c7313f3ae2c8",
   "metadata": {},
   "outputs": [],
   "source": [
    "collate_fn = cbh_data_definitions.dataloader_collate_with_dask\n",
    "batch_size = int(test_labels.chunksize[0] / 16)\n",
    "workers_on_system = 0\n",
    "CPU_COUNT = 4\n",
    "data_loader_hparam_dict = {\n",
    "    \"batch_size\": batch_size,\n",
    "    \"num_workers\": workers_on_system,\n",
    "    \"pin_memory\": False,\n",
    "    \"collate_fn\": collate_fn,\n",
    "}\n",
    "test_dataset = cbh_data_definitions.CBH_Dataset_Load_One_Chunk(\n",
    "    test_input, test_labels, threads=CPU_COUNT\n",
    ")"
   ]
  },
  {
   "cell_type": "code",
   "execution_count": 5,
   "id": "3165336c-9bb6-4924-af4c-31033e39e7f1",
   "metadata": {},
   "outputs": [],
   "source": [
    "test_dataloader = torch.utils.data.DataLoader(test_dataset, **data_loader_hparam_dict)"
   ]
  },
  {
   "cell_type": "markdown",
   "id": "dffba27b-d62f-4bcd-8132-e668c3479e3b",
   "metadata": {
    "tags": []
   },
   "source": [
    "## Recall a trained model, for this step a particular mlflow experiment is chosen from mlflow_artifacts to evaluate (defined in the cell below)"
   ]
  },
  {
   "cell_type": "markdown",
   "id": "ec801429-c697-4b1d-83e6-7aefae463e06",
   "metadata": {},
   "source": [
    "Below is the selection of the trained model that we want to evaluate, in this case we should take the final checkpoint from our initial training run to help spot any errors.\n",
    "\n",
    "MLFlow allows saving of artifacts for each run, and creates a hash (acting as a unique identifier), we find where the model artifact has been saved to specify the model path"
   ]
  },
  {
   "cell_type": "code",
   "execution_count": 6,
   "id": "69566bef-8229-4dd2-b746-82e8737de679",
   "metadata": {},
   "outputs": [],
   "source": [
    "model_run_hash = \"6fe61152e8374f348cf9ce75e7a4b17e\"\n",
    "checkpoint_path = \"./mlruns/3/6fe61152e8374f348cf9ce75e7a4b17e/artifacts/2022-12-08 00:49:17.641711best_model_checkpoint-step_425013.pt\""
   ]
  },
  {
   "cell_type": "code",
   "execution_count": 7,
   "id": "ed67be36-b6ec-4e0c-82dc-e8b1b1b93842",
   "metadata": {},
   "outputs": [
    {
     "name": "stdout",
     "output_type": "stream",
     "text": [
      "dict_keys(['val loss', 'global_step', 'model_state_dict', 'checkpoint'])\n"
     ]
    }
   ],
   "source": [
    "chkpt = torch.load(checkpoint_path)\n",
    "print(chkpt.keys())"
   ]
  },
  {
   "cell_type": "code",
   "execution_count": 8,
   "id": "bd6a3ef9-7cdf-47e6-aa1b-53321d5c2b98",
   "metadata": {},
   "outputs": [
    {
     "name": "stderr",
     "output_type": "stream",
     "text": [
      "Lightning automatically upgraded your loaded checkpoint from v1.7.7 to v1.9.1. To apply the upgrade to your files permanently, run `python -m pytorch_lightning.utilities.upgrade_checkpoint --file ../../../../../../../../var/tmp/tmp0yjfxsc7/ckhpt`\n"
     ]
    },
    {
     "data": {
      "text/plain": [
       "CloudBaseLSTM(\n",
       "  (LSTM_upward): LSTM(23, 100, num_layers=2, batch_first=True, bidirectional=True)\n",
       "  (height_embedding): Embedding(70, 20)\n",
       "  (loss_fn_base): CrossEntropyLoss()\n",
       "  (scale_input_layer): Conv1d(23, 100, kernel_size=(1,), stride=(1,))\n",
       "  (cap_layer): Linear(in_features=7000, out_features=70, bias=True)\n",
       ")"
      ]
     },
     "execution_count": 8,
     "metadata": {},
     "output_type": "execute_result"
    }
   ],
   "source": [
    "ckpt_instead_of_model_weights = False\n",
    "if ckpt_instead_of_model_weights:\n",
    "    model = cbh_torch_lstm.CloudBaseLSTM.load_from_checkpoint(checkpoint_path)\n",
    "else:\n",
    "    from tempfile import TemporaryDirectory\n",
    "\n",
    "    with TemporaryDirectory() as tmpdirname:\n",
    "        tempfile = tmpdirname + \"/ckhpt\"\n",
    "        torch.save(chkpt[\"checkpoint\"], tempfile)\n",
    "        model = cbh_torch_lstm.CloudBaseLSTM.load_from_checkpoint(tempfile)\n",
    "        # model = cbh_torch_MLP.CloudBaseMLP.load_from_checkpoint(tempfile)\n",
    "model.eval()"
   ]
  },
  {
   "cell_type": "markdown",
   "id": "2fd8e70f-2968-4caf-b833-5fdf75a40b56",
   "metadata": {},
   "source": [
    "## Get model predictions for Eval\n",
    "\n",
    "loop through all of the test data, collecting the targets and the model predictions."
   ]
  },
  {
   "cell_type": "code",
   "execution_count": 9,
   "id": "93c36a30-0feb-4b11-be6a-be6e6da3ef37",
   "metadata": {},
   "outputs": [],
   "source": [
    "VERIFY_FUNCTION_CORRECTNESS = True\n",
    "\n",
    "MLP = False\n",
    "LSTM = True"
   ]
  },
  {
   "cell_type": "code",
   "execution_count": 10,
   "id": "43319b26-9e48-426f-a840-766ba11f7633",
   "metadata": {},
   "outputs": [
    {
     "name": "stderr",
     "output_type": "stream",
     "text": [
      "/net/home/h02/hsouth/github_committing/data_science_cop/challenges/2021_cloud_base_height/cbh_torch_lstm.py:86: UserWarning: To copy construct from a tensor, it is recommended to use sourceTensor.clone().detach() or sourceTensor.clone().detach().requires_grad_(True), rather than torch.tensor(sourceTensor).\n",
      "  height = torch.tensor(torch.arange(0,70)).repeat((len(x),1)).reshape(len(x),70,1)\n"
     ]
    },
    {
     "name": "stdout",
     "output_type": "stream",
     "text": [
      "Length of prediction output: (307200,)\n",
      "Prediction output matches target output: True\n",
      "CPU times: user 30min 55s, sys: 5min 42s, total: 36min 37s\n",
      "Wall time: 7min 10s\n"
     ]
    }
   ],
   "source": [
    "%%time\n",
    "all_preds = np.empty(0)\n",
    "all_targs = np.empty(0)\n",
    "for i, sample_batch in enumerate(test_dataloader):\n",
    "    all_targs = np.concatenate((all_targs, sample_batch[1]), axis=0)\n",
    "    x = sample_batch[0]\n",
    "    # x = torch.flatten(x, start_dim=1)\n",
    "    with torch.no_grad():\n",
    "        batch_preds = model(x)  # self call = forward\n",
    "    class_prediction = np.argmax(batch_preds.detach().numpy(), axis=1)\n",
    "    all_preds = np.concatenate(\n",
    "        (all_preds, class_prediction), axis=0\n",
    "    )  # get second value only (since model doesn't support the other return per how it is currently defined)\n",
    "\n",
    "print(\"Length of prediction output:\", all_preds.shape)\n",
    "\n",
    "print(\"Prediction output matches target output:\", all_targs.shape == all_preds.shape)"
   ]
  },
  {
   "cell_type": "markdown",
   "id": "78e31973-70fa-49fe-b569-3411c1c4d93f",
   "metadata": {},
   "source": [
    "Here a small subset of predictions and targets are given to give the reader an idea of the kind of outputs that come about for the task, then the outputs and targets are binned for a better idea of how the model operates. Due to the class imbalance of our task, it is likely that the model will overpredict the majority classes (0 and 69)."
   ]
  },
  {
   "cell_type": "code",
   "execution_count": 11,
   "id": "2ad20a18-1170-4da1-91a6-dae7b2c2df04",
   "metadata": {},
   "outputs": [
    {
     "name": "stdout",
     "output_type": "stream",
     "text": [
      "Show of some predictions : [0. 0. 0. 0. 0. 0. 0. 0. 0. 0. 0. 0. 0. 0. 0. 0. 0. 0. 0. 0.]\n",
      "Show of some targets, same samples: [16. 15. 15. 15. 16. 16. 16. 16. 16. 16. 16. 16. 16. 16. 16. 16. 16. 16.\n",
      " 16. 16.]\n",
      "Model predictions binned: (Class labels), (Counts): (array([ 0.,  1.,  2.,  3.,  4.,  5.,  6.,  7.,  8.,  9., 10., 11., 12.,\n",
      "       13., 14., 15., 16., 17., 18., 19., 20., 21., 22., 23., 24., 25.,\n",
      "       26., 27., 28., 29., 30., 31., 32., 33., 34., 35., 36., 37., 38.,\n",
      "       39., 40., 41., 42., 43., 44., 45., 46., 69.]), array([61321,  4095,  3792,  7198,  5859,  5680,  6126,  9070,  7355,\n",
      "        7091,  8283,  8359,  6973,  8085,  4774,  4193,  3949,  2400,\n",
      "        3081,  2510,  2311,  1788,  1517,  2446,  3966,  4163,  2099,\n",
      "        2768,  3309,  1865,  2663,  1934,  2263,  2798,  3028,  2874,\n",
      "        3052,  3298,  3308,  3650,  2646,  2511,  1736,  1430,   717,\n",
      "          62,     1, 72803]))\n",
      "Target labels binned: (Class labels), (Counts): (array([ 0.,  1.,  2.,  3.,  4.,  5.,  6.,  7.,  8.,  9., 10., 11., 12.,\n",
      "       13., 14., 15., 16., 17., 18., 19., 20., 21., 22., 23., 24., 25.,\n",
      "       26., 27., 28., 29., 30., 31., 32., 33., 34., 35., 36., 37., 38.,\n",
      "       39., 40., 41., 42., 43., 44., 45., 46., 47., 48., 49., 50., 51.,\n",
      "       69.]), array([48207,  7345,  6824,  6581,  6311,  5855,  6811,  8105,  8406,\n",
      "        7745,  8055,  8211,  7782,  7082,  5604,  4535,  4367,  3159,\n",
      "        2949,  2475,  2263,  2132,  2052,  2493,  3018,  4325,  3172,\n",
      "        2532,  2182,  2454,  2408,  2293,  2251,  2644,  3003,  3200,\n",
      "        3398,  3574,  3818,  3882,  2967,  2353,  1856,  1379,   686,\n",
      "         233,   212,    50,    12,     4,     4,     4, 73937]))\n",
      "Accuracy: 0.7237760416666666\n"
     ]
    }
   ],
   "source": [
    "print(\"Show of some predictions :\", all_preds[0:20])\n",
    "print(\"Show of some targets, same samples:\", all_targs[0:20])\n",
    "print(\n",
    "    \"Model predictions binned: (Class labels), (Counts):\",\n",
    "    np.unique(all_preds, return_counts=True),\n",
    ")\n",
    "print(\n",
    "    \"Target labels binned: (Class labels), (Counts):\",\n",
    "    np.unique(all_targs, return_counts=True),\n",
    ")\n",
    "print(\"Accuracy:\", np.count_nonzero(all_preds == all_targs) / len(all_preds))"
   ]
  },
  {
   "cell_type": "markdown",
   "id": "a4a4ece4-4b89-4f2d-8206-4b07562bacf8",
   "metadata": {},
   "source": [
    "Binning the class predictions can help to diagnose model issues, more thought will have to be given to a model that only predicts a single class, perhaps: weighting the loss on minority class, choosing a different sampling method on the training data, changing the model architecture, or reframing the machine learning input and outputs which can then later be translated to the desired task."
   ]
  },
  {
   "cell_type": "markdown",
   "id": "01b70551-8b3e-4b9d-8082-91aa65c59844",
   "metadata": {},
   "source": [
    "## Evaluate model returns\n",
    "\n",
    "Next, more bespoke evaluation is performed using the metric of SEDI and SEDS for each height layer in the sample as well as more classical metrics: Accuracy, Mean Error, Mean Absolute Error, Root Mean Squared Error\n",
    "\n",
    "I have tried to speed up the execution of the SEDS and SEDI evaluation by having the functions used in the base solution of the cbh challenge here to verify their correctness through comparing my refactored functions with the old function on a couple test-cases. I also report the time of the execution to justify this effort"
   ]
  },
  {
   "cell_type": "code",
   "execution_count": 12,
   "id": "a24a37c7-9a32-416d-a0a8-bf154ecfd7f8",
   "metadata": {},
   "outputs": [],
   "source": [
    "def old_cbh_eval(preds, targs):\n",
    "    # for all tested height layers\n",
    "    abcd_list = []\n",
    "    for k in np.arange(0, 53, 1):\n",
    "        a = 0.0\n",
    "        b = 0.0\n",
    "        c = 0.0\n",
    "        d = 0.0\n",
    "        for i in np.arange(0, targs.shape[1]):\n",
    "            # Is the cloud-base at this level or below.\n",
    "            if targs[0, i] <= np.float64(k) and preds[0, i] <= np.float64(k):\n",
    "                # Hit\n",
    "                a = a + 1.0\n",
    "            elif targs[0, i] > np.float64(k) and preds[0, i] <= np.float64(k):\n",
    "                # False alarm\n",
    "                b = b + 1.0\n",
    "            elif targs[0, i] <= np.float64(k) and preds[0, i] > np.float64(k):\n",
    "                # Miss\n",
    "                c = c + 1.0\n",
    "            else:\n",
    "                # Correct negative\n",
    "                d = d + 1.0\n",
    "        if a == 0.0 or b == 0.0:\n",
    "            a += 1\n",
    "            b += 1\n",
    "        abcd_list.append((a, b, c, d))\n",
    "    return abcd_list"
   ]
  },
  {
   "cell_type": "code",
   "execution_count": 13,
   "id": "2e81b27b-a1de-43be-81a1-01eb5bfa91b8",
   "metadata": {},
   "outputs": [],
   "source": [
    "import typing\n",
    "# new function\n",
    "def new_cbh_eval(preds: typing.Iterable, targs: typing.Iterable, test_before_layer=53):\n",
    "\n",
    "    batch_length = len(targs)\n",
    "    cloud_height_expanded_array = np.column_stack(\n",
    "        np.arange(test_before_layer)\n",
    "    ).T.repeat(batch_length, 1)\n",
    "    p = targs <= cloud_height_expanded_array\n",
    "    q = preds <= cloud_height_expanded_array\n",
    "\n",
    "    a = p & q\n",
    "    b = np.logical_not(p) & q\n",
    "    c = p & np.logical_not(q)\n",
    "    d = np.logical_not(a | b | c)\n",
    "    adjust = np.logical_not(a.any(1) & b.any(1))\n",
    "\n",
    "    l = lambda x: x.sum(1)\n",
    "    return list(\n",
    "        zip(\n",
    "            (np.where(adjust, l(a) + 1, l(a))),\n",
    "            (np.where(adjust, l(b) + 1, l(b))),\n",
    "            l(c),\n",
    "            l(d),\n",
    "        )\n",
    "    )"
   ]
  },
  {
   "cell_type": "code",
   "execution_count": 14,
   "id": "f599537e-3d3a-411e-8ff8-0295211326a9",
   "metadata": {},
   "outputs": [
    {
     "name": "stdout",
     "output_type": "stream",
     "text": [
      "Equiv. function on test subset?: True\n",
      "Equiv. function on toy data?: True\n",
      "Time on new function, test data: 179 ms ± 536 µs per loop (mean ± std. dev. of 7 runs, 10 loops each)\n",
      "Time on old function, test data: 15.9 s ± 88.2 ms per loop (mean ± std. dev. of 7 runs, 1 loop each)\n",
      "Time on new function, toy data: 186 µs ± 189 ns per loop (mean ± std. dev. of 7 runs, 10,000 loops each)\n",
      "Time on old function, toy data: 501 µs ± 44.2 µs per loop (mean ± std. dev. of 7 runs, 1,000 loops each)\n"
     ]
    }
   ],
   "source": [
    "# Test function equivalance\n",
    "aa = [0, 1, 2, 3, 4, 4, 1]\n",
    "bb = [0, 3, 1, 4, 1, 4, 1]\n",
    "if VERIFY_FUNCTION_CORRECTNESS:\n",
    "    print(\n",
    "        \"Equiv. function on test subset?:\",\n",
    "        new_cbh_eval(all_preds[0:2000], all_targs[0:2000])\n",
    "        == old_cbh_eval(np.array([all_preds[0:2000]]), np.array([all_targs[0:2000]])),\n",
    "    )\n",
    "    print(\n",
    "        \"Equiv. function on toy data?:\",\n",
    "        new_cbh_eval(aa, bb) == old_cbh_eval(np.array([aa]), np.array([bb])),\n",
    "    )\n",
    "    print(\"Time on new function, test data:\", end=\" \")\n",
    "    %timeit new_cbh_eval(all_preds, all_targs)\n",
    "    print(\"Time on old function, test data:\", end=\" \")\n",
    "    %timeit old_cbh_eval(np.array([all_preds]), np.array([all_targs]))\n",
    "    print(\"Time on new function, toy data:\", end=\" \")\n",
    "    %timeit new_cbh_eval(aa, bb)\n",
    "    print(\"Time on old function, toy data:\", end=\" \")\n",
    "    %timeit old_cbh_eval(np.array([aa]), np.array([bb]))"
   ]
  },
  {
   "cell_type": "code",
   "execution_count": 15,
   "id": "a65f6007-3198-4996-8148-d550d5266669",
   "metadata": {},
   "outputs": [],
   "source": [
    "abcd_list = new_cbh_eval(all_preds, all_targs)  # save the eval result"
   ]
  },
  {
   "cell_type": "code",
   "execution_count": 16,
   "id": "c06e0607-00df-479f-b802-6087f9d79195",
   "metadata": {},
   "outputs": [],
   "source": [
    "def calc_sedi_from_abcd_list(abcd_list):\n",
    "    store_sedi, store_seds = ([], [])\n",
    "    for a, b, c, d in abcd_list:\n",
    "        n = a + b + c + d\n",
    "        ar = ((a + b) * (a + c)) / n\n",
    "        # Symmetric Extreme Dependency Score (SEDS) has advantage that it is 1.0 for perfect forecast\n",
    "        # and 0.0 for no better than climatology\n",
    "        # (unlike Equitable Threat Score [ETS] for which it is not clear at what point a low score means it is poor.\n",
    "        seds = np.log(ar / a) / np.log(a / n)\n",
    "        store_seds = np.append(store_seds, seds)\n",
    "        # Also calculate SEDI from Ferro and Stephenson (equation 2)\n",
    "        # https://journals.ametsoc.org/view/journals/wefo/26/5/waf-d-10-05030_1.xml\n",
    "        h = a / (a + c)\n",
    "        f = b / (b + d)\n",
    "        top = np.log(f) - np.log(h) - np.log(1.0 - f) + np.log(1.0 - h)\n",
    "        bottom = np.log(f) + np.log(h) + np.log(1.0 - f) + np.log(1.0 - h)\n",
    "        sedi = top / bottom\n",
    "        store_sedi = np.append(store_sedi, sedi)\n",
    "\n",
    "    return store_sedi, store_seds"
   ]
  },
  {
   "cell_type": "code",
   "execution_count": 17,
   "id": "d24350fe-c628-4d29-8a3f-3885ba3e02ae",
   "metadata": {},
   "outputs": [],
   "source": [
    "def calc_sedi_numpy(abcd_list):\n",
    "\n",
    "    sed_arr = np.array(abcd_list)\n",
    "    n = np.sum(sed_arr, axis=1)\n",
    "    a = sed_arr[:, 0]\n",
    "    b = sed_arr[:, 1]\n",
    "    c = sed_arr[:, 2]\n",
    "    d = sed_arr[:, 3]\n",
    "    ar = ((a + b) * (a + c)) / n\n",
    "    seds = np.log(ar / a) / np.log(a / n)\n",
    "\n",
    "    h = a / (a + c)\n",
    "    f = b / (b + d)\n",
    "    top = np.log((f * (1.0 - h)) / (h * (1.0 - f)))\n",
    "    bottom = np.log(f * h * (1.0 - f) * (1.0 - h))\n",
    "    sedi = top / bottom\n",
    "\n",
    "    return sedi, seds"
   ]
  },
  {
   "cell_type": "code",
   "execution_count": 18,
   "id": "fc3433ef-6b53-4462-936e-7ac10b06d5ee",
   "metadata": {},
   "outputs": [
    {
     "name": "stdout",
     "output_type": "stream",
     "text": [
      "Equiv. function for SEDS?: True\n",
      "Equiv. function for SEDI? (possible differences of approx. 1e-16): False\n",
      "Close function for SEDI? (absolute tolerance 1e-15): True\n",
      "Closer function for SEDI? (absolute tolerance 1e-16): False\n",
      "Time on new function, test data: 62.1 µs ± 44.8 ns per loop (mean ± std. dev. of 7 runs, 10,000 loops each)\n",
      "Time on old function, test data: 1.2 ms ± 7.09 µs per loop (mean ± std. dev. of 7 runs, 1,000 loops each)\n"
     ]
    }
   ],
   "source": [
    "# perform the same equiv. test but for sedi calculation from previous function output\n",
    "sedi_list_new, seds_list_new = calc_sedi_numpy(abcd_list)\n",
    "sedi_list_old, seds_list_old = calc_sedi_from_abcd_list(abcd_list)\n",
    "if VERIFY_FUNCTION_CORRECTNESS:\n",
    "    print(\"Equiv. function for SEDS?:\", np.array_equal(seds_list_new, seds_list_old))\n",
    "    print(\n",
    "        \"Equiv. function for SEDI? (possible differences of approx. 1e-16):\",\n",
    "        np.array_equal(sedi_list_new, sedi_list_old),\n",
    "    )\n",
    "    # it turns out using the property of logarithms to shorten the top/bottom sedi calculation creates differences at the 1e-16 or 1e-17 decimal\n",
    "    print(\n",
    "        \"Close function for SEDI? (absolute tolerance 1e-15):\",\n",
    "        np.allclose(sedi_list_new, sedi_list_old, rtol=0, atol=1e-15),\n",
    "    )\n",
    "    print(\n",
    "        \"Closer function for SEDI? (absolute tolerance 1e-16):\",\n",
    "        np.allclose(sedi_list_new, sedi_list_old, rtol=0, atol=1e-16),\n",
    "    )\n",
    "    print(\"Time on new function, test data:\", end=\" \")\n",
    "    %timeit calc_sedi_numpy(abcd_list)\n",
    "    print(\"Time on old function, test data:\", end=\" \")\n",
    "    %timeit calc_sedi_from_abcd_list(abcd_list)"
   ]
  },
  {
   "cell_type": "code",
   "execution_count": 19,
   "id": "ed08bf50-f999-426a-84e4-52f3f44f8759",
   "metadata": {},
   "outputs": [],
   "source": [
    "sedi_score = np.mean(sedi_list_new)\n",
    "seds_score = np.mean(seds_list_new)"
   ]
  },
  {
   "cell_type": "code",
   "execution_count": 20,
   "id": "4f1e3982-880f-4cca-9e67-9a51402325c3",
   "metadata": {},
   "outputs": [
    {
     "name": "stdout",
     "output_type": "stream",
     "text": [
      "Accuracy: 0.7237760416666666\n",
      "Mean Error: -0.7226790364583333\n",
      "Mean Absolute Error: 3.4119368489583333\n",
      "Root Mean Squared Error: 11.786159040241863\n",
      "SEDI: 0.9604880251062312\n",
      "SEDS: 0.8328676329262464\n"
     ]
    }
   ],
   "source": [
    "prediction_difference = all_preds - all_targs # elementwise subtraction of the matrices\n",
    "print(\"Accuracy:\", np.count_nonzero(all_preds == all_targs) / len(all_preds))\n",
    "print(\"Mean Error:\", np.mean(prediction_difference))\n",
    "print(\"Mean Absolute Error:\", np.mean(np.abs(prediction_difference)))\n",
    "print(\"Root Mean Squared Error:\", np.sqrt(np.mean((prediction_difference) ** 2.0)))\n",
    "print(\"SEDI:\", sedi_score)\n",
    "print(\"SEDS:\", seds_score)"
   ]
  },
  {
   "cell_type": "markdown",
   "id": "ec8143e5-f690-41c7-b2e4-cd08dc406cf6",
   "metadata": {},
   "source": [
    "The metrics above are not a catch-all for model issues, but do well when making comparisons to previous models (models previously trained by both the developer and reported metrics from other developers who have tackled the ml-challenge). Most notably, accuracy becomes a poor metric for evaluating model performance with class imbalance."
   ]
  },
  {
   "cell_type": "markdown",
   "id": "ab62ce09-e223-4b7d-a2ff-89e5eaaea53f",
   "metadata": {},
   "source": [
    "## Present Evaluation Plots\n",
    "\n",
    "Accuracy and Error are common metrics for evaluating model performances across all domains, however in classification problems, a confusion matrix is also provided to give a better idea of the class imblances of both the data and the model imbalance as a visual extension to the class binnings above.\n",
    "\n",
    "First confusion can be simplified to correct, higher, or lower. Then more detail can be added by visualizing the bins for every class in predictions vs targets"
   ]
  },
  {
   "cell_type": "code",
   "execution_count": 21,
   "id": "facbb797-004b-4441-9fd0-1943ded31844",
   "metadata": {},
   "outputs": [
    {
     "data": {
      "image/png": "[encoded data removed]",
      "text/plain": [
       "<Figure size 640x480 with 1 Axes>"
      ]
     },
     "metadata": {},
     "output_type": "display_data"
    }
   ],
   "source": [
    "prediction_higher_than_target = np.count_nonzero(all_preds > all_targs)\n",
    "prediction_lower_than_target = np.count_nonzero(all_preds < all_targs)\n",
    "prediction_equal_to_target = np.count_nonzero(all_preds == all_targs)\n",
    "labels = [\n",
    "    f\"Prediction too high ({prediction_higher_than_target})\",\n",
    "    f\"Prediction too low ({prediction_lower_than_target})\",\n",
    "    f\"Prediction correct ({prediction_equal_to_target})\",\n",
    "]\n",
    "\n",
    "plt.pie(\n",
    "    [\n",
    "        prediction_higher_than_target,\n",
    "        prediction_lower_than_target,\n",
    "        prediction_equal_to_target,\n",
    "    ],\n",
    "    labels=labels,\n",
    "    autopct=\"%1.1f%%\",\n",
    ")\n",
    "plt.title(\"Prediction difference class (count)\")\n",
    "plt.show()"
   ]
  },
  {
   "cell_type": "markdown",
   "id": "696af11a-5b31-436f-adab-3c3d6bc56295",
   "metadata": {},
   "source": [
    "A visual show of the accuracy and then binning the incorrect predictions may give some further information around how the model fails"
   ]
  },
  {
   "cell_type": "code",
   "execution_count": 22,
   "id": "3e80f35c-7f52-4622-9440-723dc0add573",
   "metadata": {},
   "outputs": [
    {
     "data": {
      "image/png": "[encoded data removed]",
      "text/plain": [
       "<Figure size 1200x1200 with 2 Axes>"
      ]
     },
     "metadata": {},
     "output_type": "display_data"
    }
   ],
   "source": [
    "# sedi like a,b,d,c mean confusion matrix\n",
    "\n",
    "plt.figure(figsize=(12, 12))\n",
    "\n",
    "confm = confusion_matrix(all_targs, all_preds, normalize=\"true\")\n",
    "plt.imshow(confm, cmap=plt.cm.viridis, interpolation=\"nearest\")\n",
    "plt.colorbar()\n",
    "plt.title(\n",
    "    \"Confusion matrix for cloud height predictions (Target count vs Prediction count)\"\n",
    ")\n",
    "plt.ylabel(\"Target height layer\")\n",
    "plt.xlabel(\"Predicted height layer\")\n",
    "plt.show()"
   ]
  },
  {
   "cell_type": "code",
   "execution_count": 23,
   "id": "8d7b3789-44bb-4363-8c21-d1545378f958",
   "metadata": {},
   "outputs": [
    {
     "name": "stdout",
     "output_type": "stream",
     "text": [
      "\n",
      "Model predictions binned: (Class label, Count): ((0.0, 61321), (1.0, 4095), (2.0, 3792), (3.0, 7198), (4.0, 5859), (5.0, 5680), (6.0, 6126), (7.0, 9070), (8.0, 7355), (9.0, 7091), (10.0, 8283), (11.0, 8359), (12.0, 6973), (13.0, 8085), (14.0, 4774), (15.0, 4193), (16.0, 3949), (17.0, 2400), (18.0, 3081), (19.0, 2510), (20.0, 2311), (21.0, 1788), (22.0, 1517), (23.0, 2446), (24.0, 3966), (25.0, 4163), (26.0, 2099), (27.0, 2768), (28.0, 3309), (29.0, 1865), (30.0, 2663), (31.0, 1934), (32.0, 2263), (33.0, 2798), (34.0, 3028), (35.0, 2874), (36.0, 3052), (37.0, 3298), (38.0, 3308), (39.0, 3650), (40.0, 2646), (41.0, 2511), (42.0, 1736), (43.0, 1430), (44.0, 717), (45.0, 62), (46.0, 1), (69.0, 72803)) \n",
      "\n",
      "Target labels binned: (Class label, Count): ((0.0, 48207), (1.0, 7345), (2.0, 6824), (3.0, 6581), (4.0, 6311), (5.0, 5855), (6.0, 6811), (7.0, 8105), (8.0, 8406), (9.0, 7745), (10.0, 8055), (11.0, 8211), (12.0, 7782), (13.0, 7082), (14.0, 5604), (15.0, 4535), (16.0, 4367), (17.0, 3159), (18.0, 2949), (19.0, 2475), (20.0, 2263), (21.0, 2132), (22.0, 2052), (23.0, 2493), (24.0, 3018), (25.0, 4325), (26.0, 3172), (27.0, 2532), (28.0, 2182), (29.0, 2454), (30.0, 2408), (31.0, 2293), (32.0, 2251), (33.0, 2644), (34.0, 3003), (35.0, 3200), (36.0, 3398), (37.0, 3574), (38.0, 3818), (39.0, 3882), (40.0, 2967), (41.0, 2353), (42.0, 1856), (43.0, 1379), (44.0, 686), (45.0, 233), (46.0, 212), (47.0, 50), (48.0, 12), (49.0, 4), (50.0, 4), (51.0, 4), (69.0, 73937))\n"
     ]
    }
   ],
   "source": [
    "labels, counts = np.unique(all_preds, return_counts=True)\n",
    "bins_pred = tuple(zip(list(labels), list(counts)))\n",
    "labels, counts = np.unique(all_targs, return_counts=True)\n",
    "bins_targ = tuple(zip(list(labels), list(counts)))\n",
    "print(\"\\nModel predictions binned: (Class label, Count):\", bins_pred, \"\\n\")\n",
    "print(\"Target labels binned: (Class label, Count):\", bins_targ)"
   ]
  },
  {
   "cell_type": "markdown",
   "id": "6e070afb-ab54-4630-8aac-0eefa8fee474",
   "metadata": {},
   "source": [
    "The binned model predictions show in a class by class confusion matrix can be the most useful of the evaluation methods. In the case of this challenge, it will be a common issue for the model to make incorrect predictions for the cloud base targets at the highest of layers (approx 44+), this is because in the training data there are few samples in these higher layers to train from."
   ]
  },
  {
   "cell_type": "markdown",
   "id": "16c427f8-b736-4c39-855b-6e2ac08d3333",
   "metadata": {},
   "source": [
    "It is possible to have a look at the individual layers of the shown confusion matrix to get a better idea of where the predictions have ended up instead of the correct class:"
   ]
  },
  {
   "cell_type": "code",
   "execution_count": 24,
   "id": "3cc4efc1-a217-41de-93bd-9b57f0d093e6",
   "metadata": {},
   "outputs": [
    {
     "name": "stdout",
     "output_type": "stream",
     "text": [
      "(53, 53)\n",
      "\n",
      " Percentage of predictions predicted at a single label height for each class\n",
      " [0.         0.         0.         0.         0.         0.\n",
      " 0.         0.         0.         0.         0.         0.\n",
      " 0.         0.         0.         0.         0.         0.\n",
      " 0.         0.         0.         0.         0.         0.\n",
      " 0.         0.         0.         0.         0.         0.\n",
      " 0.         0.         0.         0.         0.         0.\n",
      " 0.         0.         0.         0.         0.         0.\n",
      " 0.         0.         0.         0.         0.00471698 0.\n",
      " 0.         0.         0.         0.         0.        ]\n",
      "\n",
      " distribution of height predictions for a single label height:\n",
      " [0.07075472 0.         0.         0.         0.00471698 0.00943396\n",
      " 0.         0.         0.         0.         0.         0.00943396\n",
      " 0.         0.         0.         0.         0.         0.\n",
      " 0.         0.         0.         0.         0.         0.\n",
      " 0.         0.         0.         0.         0.         0.\n",
      " 0.02358491 0.         0.         0.         0.         0.\n",
      " 0.         0.         0.         0.         0.         0.\n",
      " 0.         0.         0.         0.00471698 0.00471698 0.\n",
      " 0.         0.         0.         0.         0.87264151]\n"
     ]
    }
   ],
   "source": [
    "print(confm.shape)\n",
    "label_index = 46\n",
    "print(\"\\n Percentage of predictions predicted at a single label height for each class\\n\", confm[:, label_index])\n",
    "print(\"\\n distribution of height predictions for a single label height:\\n\", confm[label_index])"
   ]
  },
  {
   "cell_type": "markdown",
   "id": "5fddb48d-fcb7-4f81-8896-2325e2053573",
   "metadata": {},
   "source": [
    "individual class matrices can be explored with their exact values by printing out the column/row of the matrix"
   ]
  },
  {
   "cell_type": "markdown",
   "id": "cc1554a9-f3dc-415b-9f38-1da9008475c9",
   "metadata": {},
   "source": [
    "In the below plot the classes from the SED evaluation are summed across the layer axis, and then compared in a plot, aiming to discover where the model is most likely to fail"
   ]
  },
  {
   "cell_type": "code",
   "execution_count": 25,
   "id": "e6196557-6550-44fe-833b-c819cd4f4a42",
   "metadata": {},
   "outputs": [
    {
     "data": {
      "image/png": "[encoded data removed]",
      "text/plain": [
       "<Figure size 2000x2400 with 4 Axes>"
      ]
     },
     "metadata": {},
     "output_type": "display_data"
    }
   ],
   "source": [
    "sed_like_conf_matrix = np.reshape(np.mean(np.array(abcd_list).T, axis=1), (2, 2))\n",
    "labels = [\"a\", \"b\", \"c\", \"d\"]\n",
    "fig = plt.figure(figsize=(20, 24))\n",
    "\n",
    "from matplotlib import colors\n",
    "\n",
    "divnorm = colors.Normalize(vmin=0.0)\n",
    "divnorm2 = colors.Normalize(vmin=0.0)\n",
    "\n",
    "ax1 = fig.add_subplot(121)\n",
    "im = ax1.imshow(\n",
    "    sed_like_conf_matrix, cmap=plt.cm.viridis, interpolation=\"nearest\", norm=divnorm\n",
    ")\n",
    "for i, lab in enumerate(labels):\n",
    "    ax1.text(i // 2, i % 2, lab, backgroundcolor=\"white\")\n",
    "plt.colorbar(im, fraction=0.046, pad=0.04)\n",
    "ax1.axis(\"off\")\n",
    "plt.title(\n",
    "    \"Confusion matrix for cloud height SED-like mean value across heights (a,b,c,d)\",\n",
    "    pad=20,\n",
    ")\n",
    "\n",
    "\n",
    "sed_like_conf_matrix_counts = np.reshape(\n",
    "    np.sum(np.array(abcd_list[0:54]).T, axis=1), (2, 2)\n",
    ")\n",
    "ax2 = fig.add_subplot(122)\n",
    "im2 = ax2.imshow(\n",
    "    sed_like_conf_matrix_counts,\n",
    "    cmap=plt.cm.viridis,\n",
    "    interpolation=\"nearest\",\n",
    "    norm=divnorm2,\n",
    ")\n",
    "for i, lab in enumerate(labels):\n",
    "    ax2.text(i // 2, i % 2, lab, backgroundcolor=\"white\")\n",
    "plt.colorbar(im2, fraction=0.046, pad=0.04)\n",
    "ax2.axis(\"off\")\n",
    "plt.title(\n",
    "    \"Confusion matrix for cloud height SED-like value: total counts before layer 54 (a,b,c,d)\",\n",
    "    pad=20,\n",
    ")\n",
    "plt.tight_layout(w_pad=15)\n",
    "\n",
    "plt.show()"
   ]
  },
  {
   "cell_type": "markdown",
   "id": "7202b03e-2e5b-48fb-a63d-d3b82f466f28",
   "metadata": {},
   "source": [
    "## Finally, show some training info for this experiment"
   ]
  },
  {
   "cell_type": "code",
   "execution_count": 26,
   "id": "4f588401-3c74-4144-9ae8-7a608f52e109",
   "metadata": {},
   "outputs": [],
   "source": [
    "# init mlflow connection\n",
    "mlflow_server_address = \"vld425\"\n",
    "mlflow_server_port = 5001\n",
    "mlflow_server_uri = f\"http://{mlflow_server_address}:{mlflow_server_port:d}\"\n",
    "mlflow_client = mlflow.tracking.MlflowClient(tracking_uri=mlflow_server_uri)"
   ]
  },
  {
   "cell_type": "code",
   "execution_count": 27,
   "id": "efc8c85a-43d1-434a-a797-3edb01b91b66",
   "metadata": {},
   "outputs": [
    {
     "ename": "MlflowException",
     "evalue": "API request to http://vld425:5001/api/2.0/mlflow/experiments/search failed with exception HTTPConnectionPool(host='webproxy.metoffice.gov.uk', port=8080): Max retries exceeded with url: http://vld425.cmpd1.metoffice.gov.uk/api/2.0/mlflow/experiments/search (Caused by ResponseError('too many 503 error responses'))",
     "output_type": "error",
     "traceback": [
      "\u001b[0;31m---------------------------------------------------------------------------\u001b[0m",
      "\u001b[0;31mMaxRetryError\u001b[0m                             Traceback (most recent call last)",
      "File \u001b[0;32m~/.conda/envs/py-lightning-cbh/lib/python3.10/site-packages/requests/adapters.py:489\u001b[0m, in \u001b[0;36mHTTPAdapter.send\u001b[0;34m(self, request, stream, timeout, verify, cert, proxies)\u001b[0m\n\u001b[1;32m    488\u001b[0m \u001b[38;5;28;01mif\u001b[39;00m \u001b[38;5;129;01mnot\u001b[39;00m chunked:\n\u001b[0;32m--> 489\u001b[0m     resp \u001b[38;5;241m=\u001b[39m \u001b[43mconn\u001b[49m\u001b[38;5;241;43m.\u001b[39;49m\u001b[43murlopen\u001b[49m\u001b[43m(\u001b[49m\n\u001b[1;32m    490\u001b[0m \u001b[43m        \u001b[49m\u001b[43mmethod\u001b[49m\u001b[38;5;241;43m=\u001b[39;49m\u001b[43mrequest\u001b[49m\u001b[38;5;241;43m.\u001b[39;49m\u001b[43mmethod\u001b[49m\u001b[43m,\u001b[49m\n\u001b[1;32m    491\u001b[0m \u001b[43m        \u001b[49m\u001b[43murl\u001b[49m\u001b[38;5;241;43m=\u001b[39;49m\u001b[43murl\u001b[49m\u001b[43m,\u001b[49m\n\u001b[1;32m    492\u001b[0m \u001b[43m        \u001b[49m\u001b[43mbody\u001b[49m\u001b[38;5;241;43m=\u001b[39;49m\u001b[43mrequest\u001b[49m\u001b[38;5;241;43m.\u001b[39;49m\u001b[43mbody\u001b[49m\u001b[43m,\u001b[49m\n\u001b[1;32m    493\u001b[0m \u001b[43m        \u001b[49m\u001b[43mheaders\u001b[49m\u001b[38;5;241;43m=\u001b[39;49m\u001b[43mrequest\u001b[49m\u001b[38;5;241;43m.\u001b[39;49m\u001b[43mheaders\u001b[49m\u001b[43m,\u001b[49m\n\u001b[1;32m    494\u001b[0m \u001b[43m        \u001b[49m\u001b[43mredirect\u001b[49m\u001b[38;5;241;43m=\u001b[39;49m\u001b[38;5;28;43;01mFalse\u001b[39;49;00m\u001b[43m,\u001b[49m\n\u001b[1;32m    495\u001b[0m \u001b[43m        \u001b[49m\u001b[43massert_same_host\u001b[49m\u001b[38;5;241;43m=\u001b[39;49m\u001b[38;5;28;43;01mFalse\u001b[39;49;00m\u001b[43m,\u001b[49m\n\u001b[1;32m    496\u001b[0m \u001b[43m        \u001b[49m\u001b[43mpreload_content\u001b[49m\u001b[38;5;241;43m=\u001b[39;49m\u001b[38;5;28;43;01mFalse\u001b[39;49;00m\u001b[43m,\u001b[49m\n\u001b[1;32m    497\u001b[0m \u001b[43m        \u001b[49m\u001b[43mdecode_content\u001b[49m\u001b[38;5;241;43m=\u001b[39;49m\u001b[38;5;28;43;01mFalse\u001b[39;49;00m\u001b[43m,\u001b[49m\n\u001b[1;32m    498\u001b[0m \u001b[43m        \u001b[49m\u001b[43mretries\u001b[49m\u001b[38;5;241;43m=\u001b[39;49m\u001b[38;5;28;43mself\u001b[39;49m\u001b[38;5;241;43m.\u001b[39;49m\u001b[43mmax_retries\u001b[49m\u001b[43m,\u001b[49m\n\u001b[1;32m    499\u001b[0m \u001b[43m        \u001b[49m\u001b[43mtimeout\u001b[49m\u001b[38;5;241;43m=\u001b[39;49m\u001b[43mtimeout\u001b[49m\u001b[43m,\u001b[49m\n\u001b[1;32m    500\u001b[0m \u001b[43m    \u001b[49m\u001b[43m)\u001b[49m\n\u001b[1;32m    502\u001b[0m \u001b[38;5;66;03m# Send the request.\u001b[39;00m\n\u001b[1;32m    503\u001b[0m \u001b[38;5;28;01melse\u001b[39;00m:\n",
      "File \u001b[0;32m~/.conda/envs/py-lightning-cbh/lib/python3.10/site-packages/urllib3/connectionpool.py:878\u001b[0m, in \u001b[0;36mHTTPConnectionPool.urlopen\u001b[0;34m(self, method, url, body, headers, retries, redirect, assert_same_host, timeout, pool_timeout, release_conn, chunked, body_pos, **response_kw)\u001b[0m\n\u001b[1;32m    877\u001b[0m     log\u001b[38;5;241m.\u001b[39mdebug(\u001b[38;5;124m\"\u001b[39m\u001b[38;5;124mRetry: \u001b[39m\u001b[38;5;132;01m%s\u001b[39;00m\u001b[38;5;124m\"\u001b[39m, url)\n\u001b[0;32m--> 878\u001b[0m     \u001b[38;5;28;01mreturn\u001b[39;00m \u001b[38;5;28;43mself\u001b[39;49m\u001b[38;5;241;43m.\u001b[39;49m\u001b[43murlopen\u001b[49m\u001b[43m(\u001b[49m\n\u001b[1;32m    879\u001b[0m \u001b[43m        \u001b[49m\u001b[43mmethod\u001b[49m\u001b[43m,\u001b[49m\n\u001b[1;32m    880\u001b[0m \u001b[43m        \u001b[49m\u001b[43murl\u001b[49m\u001b[43m,\u001b[49m\n\u001b[1;32m    881\u001b[0m \u001b[43m        \u001b[49m\u001b[43mbody\u001b[49m\u001b[43m,\u001b[49m\n\u001b[1;32m    882\u001b[0m \u001b[43m        \u001b[49m\u001b[43mheaders\u001b[49m\u001b[43m,\u001b[49m\n\u001b[1;32m    883\u001b[0m \u001b[43m        \u001b[49m\u001b[43mretries\u001b[49m\u001b[38;5;241;43m=\u001b[39;49m\u001b[43mretries\u001b[49m\u001b[43m,\u001b[49m\n\u001b[1;32m    884\u001b[0m \u001b[43m        \u001b[49m\u001b[43mredirect\u001b[49m\u001b[38;5;241;43m=\u001b[39;49m\u001b[43mredirect\u001b[49m\u001b[43m,\u001b[49m\n\u001b[1;32m    885\u001b[0m \u001b[43m        \u001b[49m\u001b[43massert_same_host\u001b[49m\u001b[38;5;241;43m=\u001b[39;49m\u001b[43massert_same_host\u001b[49m\u001b[43m,\u001b[49m\n\u001b[1;32m    886\u001b[0m \u001b[43m        \u001b[49m\u001b[43mtimeout\u001b[49m\u001b[38;5;241;43m=\u001b[39;49m\u001b[43mtimeout\u001b[49m\u001b[43m,\u001b[49m\n\u001b[1;32m    887\u001b[0m \u001b[43m        \u001b[49m\u001b[43mpool_timeout\u001b[49m\u001b[38;5;241;43m=\u001b[39;49m\u001b[43mpool_timeout\u001b[49m\u001b[43m,\u001b[49m\n\u001b[1;32m    888\u001b[0m \u001b[43m        \u001b[49m\u001b[43mrelease_conn\u001b[49m\u001b[38;5;241;43m=\u001b[39;49m\u001b[43mrelease_conn\u001b[49m\u001b[43m,\u001b[49m\n\u001b[1;32m    889\u001b[0m \u001b[43m        \u001b[49m\u001b[43mchunked\u001b[49m\u001b[38;5;241;43m=\u001b[39;49m\u001b[43mchunked\u001b[49m\u001b[43m,\u001b[49m\n\u001b[1;32m    890\u001b[0m \u001b[43m        \u001b[49m\u001b[43mbody_pos\u001b[49m\u001b[38;5;241;43m=\u001b[39;49m\u001b[43mbody_pos\u001b[49m\u001b[43m,\u001b[49m\n\u001b[1;32m    891\u001b[0m \u001b[43m        \u001b[49m\u001b[38;5;241;43m*\u001b[39;49m\u001b[38;5;241;43m*\u001b[39;49m\u001b[43mresponse_kw\u001b[49m\n\u001b[1;32m    892\u001b[0m \u001b[43m    \u001b[49m\u001b[43m)\u001b[49m\n\u001b[1;32m    894\u001b[0m \u001b[38;5;28;01mreturn\u001b[39;00m response\n",
      "File \u001b[0;32m~/.conda/envs/py-lightning-cbh/lib/python3.10/site-packages/urllib3/connectionpool.py:878\u001b[0m, in \u001b[0;36mHTTPConnectionPool.urlopen\u001b[0;34m(self, method, url, body, headers, retries, redirect, assert_same_host, timeout, pool_timeout, release_conn, chunked, body_pos, **response_kw)\u001b[0m\n\u001b[1;32m    877\u001b[0m     log\u001b[38;5;241m.\u001b[39mdebug(\u001b[38;5;124m\"\u001b[39m\u001b[38;5;124mRetry: \u001b[39m\u001b[38;5;132;01m%s\u001b[39;00m\u001b[38;5;124m\"\u001b[39m, url)\n\u001b[0;32m--> 878\u001b[0m     \u001b[38;5;28;01mreturn\u001b[39;00m \u001b[38;5;28;43mself\u001b[39;49m\u001b[38;5;241;43m.\u001b[39;49m\u001b[43murlopen\u001b[49m\u001b[43m(\u001b[49m\n\u001b[1;32m    879\u001b[0m \u001b[43m        \u001b[49m\u001b[43mmethod\u001b[49m\u001b[43m,\u001b[49m\n\u001b[1;32m    880\u001b[0m \u001b[43m        \u001b[49m\u001b[43murl\u001b[49m\u001b[43m,\u001b[49m\n\u001b[1;32m    881\u001b[0m \u001b[43m        \u001b[49m\u001b[43mbody\u001b[49m\u001b[43m,\u001b[49m\n\u001b[1;32m    882\u001b[0m \u001b[43m        \u001b[49m\u001b[43mheaders\u001b[49m\u001b[43m,\u001b[49m\n\u001b[1;32m    883\u001b[0m \u001b[43m        \u001b[49m\u001b[43mretries\u001b[49m\u001b[38;5;241;43m=\u001b[39;49m\u001b[43mretries\u001b[49m\u001b[43m,\u001b[49m\n\u001b[1;32m    884\u001b[0m \u001b[43m        \u001b[49m\u001b[43mredirect\u001b[49m\u001b[38;5;241;43m=\u001b[39;49m\u001b[43mredirect\u001b[49m\u001b[43m,\u001b[49m\n\u001b[1;32m    885\u001b[0m \u001b[43m        \u001b[49m\u001b[43massert_same_host\u001b[49m\u001b[38;5;241;43m=\u001b[39;49m\u001b[43massert_same_host\u001b[49m\u001b[43m,\u001b[49m\n\u001b[1;32m    886\u001b[0m \u001b[43m        \u001b[49m\u001b[43mtimeout\u001b[49m\u001b[38;5;241;43m=\u001b[39;49m\u001b[43mtimeout\u001b[49m\u001b[43m,\u001b[49m\n\u001b[1;32m    887\u001b[0m \u001b[43m        \u001b[49m\u001b[43mpool_timeout\u001b[49m\u001b[38;5;241;43m=\u001b[39;49m\u001b[43mpool_timeout\u001b[49m\u001b[43m,\u001b[49m\n\u001b[1;32m    888\u001b[0m \u001b[43m        \u001b[49m\u001b[43mrelease_conn\u001b[49m\u001b[38;5;241;43m=\u001b[39;49m\u001b[43mrelease_conn\u001b[49m\u001b[43m,\u001b[49m\n\u001b[1;32m    889\u001b[0m \u001b[43m        \u001b[49m\u001b[43mchunked\u001b[49m\u001b[38;5;241;43m=\u001b[39;49m\u001b[43mchunked\u001b[49m\u001b[43m,\u001b[49m\n\u001b[1;32m    890\u001b[0m \u001b[43m        \u001b[49m\u001b[43mbody_pos\u001b[49m\u001b[38;5;241;43m=\u001b[39;49m\u001b[43mbody_pos\u001b[49m\u001b[43m,\u001b[49m\n\u001b[1;32m    891\u001b[0m \u001b[43m        \u001b[49m\u001b[38;5;241;43m*\u001b[39;49m\u001b[38;5;241;43m*\u001b[39;49m\u001b[43mresponse_kw\u001b[49m\n\u001b[1;32m    892\u001b[0m \u001b[43m    \u001b[49m\u001b[43m)\u001b[49m\n\u001b[1;32m    894\u001b[0m \u001b[38;5;28;01mreturn\u001b[39;00m response\n",
      "    \u001b[0;31m[... skipping similar frames: HTTPConnectionPool.urlopen at line 878 (2 times)]\u001b[0m\n",
      "File \u001b[0;32m~/.conda/envs/py-lightning-cbh/lib/python3.10/site-packages/urllib3/connectionpool.py:878\u001b[0m, in \u001b[0;36mHTTPConnectionPool.urlopen\u001b[0;34m(self, method, url, body, headers, retries, redirect, assert_same_host, timeout, pool_timeout, release_conn, chunked, body_pos, **response_kw)\u001b[0m\n\u001b[1;32m    877\u001b[0m     log\u001b[38;5;241m.\u001b[39mdebug(\u001b[38;5;124m\"\u001b[39m\u001b[38;5;124mRetry: \u001b[39m\u001b[38;5;132;01m%s\u001b[39;00m\u001b[38;5;124m\"\u001b[39m, url)\n\u001b[0;32m--> 878\u001b[0m     \u001b[38;5;28;01mreturn\u001b[39;00m \u001b[38;5;28;43mself\u001b[39;49m\u001b[38;5;241;43m.\u001b[39;49m\u001b[43murlopen\u001b[49m\u001b[43m(\u001b[49m\n\u001b[1;32m    879\u001b[0m \u001b[43m        \u001b[49m\u001b[43mmethod\u001b[49m\u001b[43m,\u001b[49m\n\u001b[1;32m    880\u001b[0m \u001b[43m        \u001b[49m\u001b[43murl\u001b[49m\u001b[43m,\u001b[49m\n\u001b[1;32m    881\u001b[0m \u001b[43m        \u001b[49m\u001b[43mbody\u001b[49m\u001b[43m,\u001b[49m\n\u001b[1;32m    882\u001b[0m \u001b[43m        \u001b[49m\u001b[43mheaders\u001b[49m\u001b[43m,\u001b[49m\n\u001b[1;32m    883\u001b[0m \u001b[43m        \u001b[49m\u001b[43mretries\u001b[49m\u001b[38;5;241;43m=\u001b[39;49m\u001b[43mretries\u001b[49m\u001b[43m,\u001b[49m\n\u001b[1;32m    884\u001b[0m \u001b[43m        \u001b[49m\u001b[43mredirect\u001b[49m\u001b[38;5;241;43m=\u001b[39;49m\u001b[43mredirect\u001b[49m\u001b[43m,\u001b[49m\n\u001b[1;32m    885\u001b[0m \u001b[43m        \u001b[49m\u001b[43massert_same_host\u001b[49m\u001b[38;5;241;43m=\u001b[39;49m\u001b[43massert_same_host\u001b[49m\u001b[43m,\u001b[49m\n\u001b[1;32m    886\u001b[0m \u001b[43m        \u001b[49m\u001b[43mtimeout\u001b[49m\u001b[38;5;241;43m=\u001b[39;49m\u001b[43mtimeout\u001b[49m\u001b[43m,\u001b[49m\n\u001b[1;32m    887\u001b[0m \u001b[43m        \u001b[49m\u001b[43mpool_timeout\u001b[49m\u001b[38;5;241;43m=\u001b[39;49m\u001b[43mpool_timeout\u001b[49m\u001b[43m,\u001b[49m\n\u001b[1;32m    888\u001b[0m \u001b[43m        \u001b[49m\u001b[43mrelease_conn\u001b[49m\u001b[38;5;241;43m=\u001b[39;49m\u001b[43mrelease_conn\u001b[49m\u001b[43m,\u001b[49m\n\u001b[1;32m    889\u001b[0m \u001b[43m        \u001b[49m\u001b[43mchunked\u001b[49m\u001b[38;5;241;43m=\u001b[39;49m\u001b[43mchunked\u001b[49m\u001b[43m,\u001b[49m\n\u001b[1;32m    890\u001b[0m \u001b[43m        \u001b[49m\u001b[43mbody_pos\u001b[49m\u001b[38;5;241;43m=\u001b[39;49m\u001b[43mbody_pos\u001b[49m\u001b[43m,\u001b[49m\n\u001b[1;32m    891\u001b[0m \u001b[43m        \u001b[49m\u001b[38;5;241;43m*\u001b[39;49m\u001b[38;5;241;43m*\u001b[39;49m\u001b[43mresponse_kw\u001b[49m\n\u001b[1;32m    892\u001b[0m \u001b[43m    \u001b[49m\u001b[43m)\u001b[49m\n\u001b[1;32m    894\u001b[0m \u001b[38;5;28;01mreturn\u001b[39;00m response\n",
      "File \u001b[0;32m~/.conda/envs/py-lightning-cbh/lib/python3.10/site-packages/urllib3/connectionpool.py:868\u001b[0m, in \u001b[0;36mHTTPConnectionPool.urlopen\u001b[0;34m(self, method, url, body, headers, retries, redirect, assert_same_host, timeout, pool_timeout, release_conn, chunked, body_pos, **response_kw)\u001b[0m\n\u001b[1;32m    867\u001b[0m \u001b[38;5;28;01mtry\u001b[39;00m:\n\u001b[0;32m--> 868\u001b[0m     retries \u001b[38;5;241m=\u001b[39m \u001b[43mretries\u001b[49m\u001b[38;5;241;43m.\u001b[39;49m\u001b[43mincrement\u001b[49m\u001b[43m(\u001b[49m\u001b[43mmethod\u001b[49m\u001b[43m,\u001b[49m\u001b[43m \u001b[49m\u001b[43murl\u001b[49m\u001b[43m,\u001b[49m\u001b[43m \u001b[49m\u001b[43mresponse\u001b[49m\u001b[38;5;241;43m=\u001b[39;49m\u001b[43mresponse\u001b[49m\u001b[43m,\u001b[49m\u001b[43m \u001b[49m\u001b[43m_pool\u001b[49m\u001b[38;5;241;43m=\u001b[39;49m\u001b[38;5;28;43mself\u001b[39;49m\u001b[43m)\u001b[49m\n\u001b[1;32m    869\u001b[0m \u001b[38;5;28;01mexcept\u001b[39;00m MaxRetryError:\n",
      "File \u001b[0;32m~/.conda/envs/py-lightning-cbh/lib/python3.10/site-packages/urllib3/util/retry.py:592\u001b[0m, in \u001b[0;36mRetry.increment\u001b[0;34m(self, method, url, response, error, _pool, _stacktrace)\u001b[0m\n\u001b[1;32m    591\u001b[0m \u001b[38;5;28;01mif\u001b[39;00m new_retry\u001b[38;5;241m.\u001b[39mis_exhausted():\n\u001b[0;32m--> 592\u001b[0m     \u001b[38;5;28;01mraise\u001b[39;00m MaxRetryError(_pool, url, error \u001b[38;5;129;01mor\u001b[39;00m ResponseError(cause))\n\u001b[1;32m    594\u001b[0m log\u001b[38;5;241m.\u001b[39mdebug(\u001b[38;5;124m\"\u001b[39m\u001b[38;5;124mIncremented Retry for (url=\u001b[39m\u001b[38;5;124m'\u001b[39m\u001b[38;5;132;01m%s\u001b[39;00m\u001b[38;5;124m'\u001b[39m\u001b[38;5;124m): \u001b[39m\u001b[38;5;132;01m%r\u001b[39;00m\u001b[38;5;124m\"\u001b[39m, url, new_retry)\n",
      "\u001b[0;31mMaxRetryError\u001b[0m: HTTPConnectionPool(host='webproxy.metoffice.gov.uk', port=8080): Max retries exceeded with url: http://vld425.cmpd1.metoffice.gov.uk/api/2.0/mlflow/experiments/search (Caused by ResponseError('too many 503 error responses'))",
      "\nDuring handling of the above exception, another exception occurred:\n",
      "\u001b[0;31mRetryError\u001b[0m                                Traceback (most recent call last)",
      "File \u001b[0;32m~/.conda/envs/py-lightning-cbh/lib/python3.10/site-packages/mlflow/utils/rest_utils.py:166\u001b[0m, in \u001b[0;36mhttp_request\u001b[0;34m(host_creds, endpoint, method, max_retries, backoff_factor, retry_codes, timeout, **kwargs)\u001b[0m\n\u001b[1;32m    165\u001b[0m \u001b[38;5;28;01mtry\u001b[39;00m:\n\u001b[0;32m--> 166\u001b[0m     \u001b[38;5;28;01mreturn\u001b[39;00m \u001b[43m_get_http_response_with_retries\u001b[49m\u001b[43m(\u001b[49m\n\u001b[1;32m    167\u001b[0m \u001b[43m        \u001b[49m\u001b[43mmethod\u001b[49m\u001b[43m,\u001b[49m\n\u001b[1;32m    168\u001b[0m \u001b[43m        \u001b[49m\u001b[43murl\u001b[49m\u001b[43m,\u001b[49m\n\u001b[1;32m    169\u001b[0m \u001b[43m        \u001b[49m\u001b[43mmax_retries\u001b[49m\u001b[43m,\u001b[49m\n\u001b[1;32m    170\u001b[0m \u001b[43m        \u001b[49m\u001b[43mbackoff_factor\u001b[49m\u001b[43m,\u001b[49m\n\u001b[1;32m    171\u001b[0m \u001b[43m        \u001b[49m\u001b[43mretry_codes\u001b[49m\u001b[43m,\u001b[49m\n\u001b[1;32m    172\u001b[0m \u001b[43m        \u001b[49m\u001b[43mheaders\u001b[49m\u001b[38;5;241;43m=\u001b[39;49m\u001b[43mheaders\u001b[49m\u001b[43m,\u001b[49m\n\u001b[1;32m    173\u001b[0m \u001b[43m        \u001b[49m\u001b[43mverify\u001b[49m\u001b[38;5;241;43m=\u001b[39;49m\u001b[43mverify\u001b[49m\u001b[43m,\u001b[49m\n\u001b[1;32m    174\u001b[0m \u001b[43m        \u001b[49m\u001b[43mtimeout\u001b[49m\u001b[38;5;241;43m=\u001b[39;49m\u001b[43mtimeout\u001b[49m\u001b[43m,\u001b[49m\n\u001b[1;32m    175\u001b[0m \u001b[43m        \u001b[49m\u001b[38;5;241;43m*\u001b[39;49m\u001b[38;5;241;43m*\u001b[39;49m\u001b[43mkwargs\u001b[49m\u001b[43m,\u001b[49m\n\u001b[1;32m    176\u001b[0m \u001b[43m    \u001b[49m\u001b[43m)\u001b[49m\n\u001b[1;32m    177\u001b[0m \u001b[38;5;28;01mexcept\u001b[39;00m requests\u001b[38;5;241m.\u001b[39mexceptions\u001b[38;5;241m.\u001b[39mTimeout \u001b[38;5;28;01mas\u001b[39;00m to:\n",
      "File \u001b[0;32m~/.conda/envs/py-lightning-cbh/lib/python3.10/site-packages/mlflow/utils/rest_utils.py:97\u001b[0m, in \u001b[0;36m_get_http_response_with_retries\u001b[0;34m(method, url, max_retries, backoff_factor, retry_codes, **kwargs)\u001b[0m\n\u001b[1;32m     96\u001b[0m session \u001b[38;5;241m=\u001b[39m _get_request_session(max_retries, backoff_factor, retry_codes)\n\u001b[0;32m---> 97\u001b[0m \u001b[38;5;28;01mreturn\u001b[39;00m \u001b[43msession\u001b[49m\u001b[38;5;241;43m.\u001b[39;49m\u001b[43mrequest\u001b[49m\u001b[43m(\u001b[49m\u001b[43mmethod\u001b[49m\u001b[43m,\u001b[49m\u001b[43m \u001b[49m\u001b[43murl\u001b[49m\u001b[43m,\u001b[49m\u001b[43m \u001b[49m\u001b[38;5;241;43m*\u001b[39;49m\u001b[38;5;241;43m*\u001b[39;49m\u001b[43mkwargs\u001b[49m\u001b[43m)\u001b[49m\n",
      "File \u001b[0;32m~/.conda/envs/py-lightning-cbh/lib/python3.10/site-packages/requests/sessions.py:587\u001b[0m, in \u001b[0;36mSession.request\u001b[0;34m(self, method, url, params, data, headers, cookies, files, auth, timeout, allow_redirects, proxies, hooks, stream, verify, cert, json)\u001b[0m\n\u001b[1;32m    586\u001b[0m send_kwargs\u001b[38;5;241m.\u001b[39mupdate(settings)\n\u001b[0;32m--> 587\u001b[0m resp \u001b[38;5;241m=\u001b[39m \u001b[38;5;28;43mself\u001b[39;49m\u001b[38;5;241;43m.\u001b[39;49m\u001b[43msend\u001b[49m\u001b[43m(\u001b[49m\u001b[43mprep\u001b[49m\u001b[43m,\u001b[49m\u001b[43m \u001b[49m\u001b[38;5;241;43m*\u001b[39;49m\u001b[38;5;241;43m*\u001b[39;49m\u001b[43msend_kwargs\u001b[49m\u001b[43m)\u001b[49m\n\u001b[1;32m    589\u001b[0m \u001b[38;5;28;01mreturn\u001b[39;00m resp\n",
      "File \u001b[0;32m~/.conda/envs/py-lightning-cbh/lib/python3.10/site-packages/requests/sessions.py:723\u001b[0m, in \u001b[0;36mSession.send\u001b[0;34m(self, request, **kwargs)\u001b[0m\n\u001b[1;32m    722\u001b[0m     gen \u001b[38;5;241m=\u001b[39m \u001b[38;5;28mself\u001b[39m\u001b[38;5;241m.\u001b[39mresolve_redirects(r, request, \u001b[38;5;241m*\u001b[39m\u001b[38;5;241m*\u001b[39mkwargs)\n\u001b[0;32m--> 723\u001b[0m     history \u001b[38;5;241m=\u001b[39m [resp \u001b[38;5;28;01mfor\u001b[39;00m resp \u001b[38;5;129;01min\u001b[39;00m gen]\n\u001b[1;32m    724\u001b[0m \u001b[38;5;28;01melse\u001b[39;00m:\n",
      "File \u001b[0;32m~/.conda/envs/py-lightning-cbh/lib/python3.10/site-packages/requests/sessions.py:723\u001b[0m, in \u001b[0;36m<listcomp>\u001b[0;34m(.0)\u001b[0m\n\u001b[1;32m    722\u001b[0m     gen \u001b[38;5;241m=\u001b[39m \u001b[38;5;28mself\u001b[39m\u001b[38;5;241m.\u001b[39mresolve_redirects(r, request, \u001b[38;5;241m*\u001b[39m\u001b[38;5;241m*\u001b[39mkwargs)\n\u001b[0;32m--> 723\u001b[0m     history \u001b[38;5;241m=\u001b[39m [resp \u001b[38;5;28;01mfor\u001b[39;00m resp \u001b[38;5;129;01min\u001b[39;00m gen]\n\u001b[1;32m    724\u001b[0m \u001b[38;5;28;01melse\u001b[39;00m:\n",
      "File \u001b[0;32m~/.conda/envs/py-lightning-cbh/lib/python3.10/site-packages/requests/sessions.py:266\u001b[0m, in \u001b[0;36mSessionRedirectMixin.resolve_redirects\u001b[0;34m(self, resp, req, stream, timeout, verify, cert, proxies, yield_requests, **adapter_kwargs)\u001b[0m\n\u001b[1;32m    264\u001b[0m \u001b[38;5;28;01melse\u001b[39;00m:\n\u001b[0;32m--> 266\u001b[0m     resp \u001b[38;5;241m=\u001b[39m \u001b[38;5;28;43mself\u001b[39;49m\u001b[38;5;241;43m.\u001b[39;49m\u001b[43msend\u001b[49m\u001b[43m(\u001b[49m\n\u001b[1;32m    267\u001b[0m \u001b[43m        \u001b[49m\u001b[43mreq\u001b[49m\u001b[43m,\u001b[49m\n\u001b[1;32m    268\u001b[0m \u001b[43m        \u001b[49m\u001b[43mstream\u001b[49m\u001b[38;5;241;43m=\u001b[39;49m\u001b[43mstream\u001b[49m\u001b[43m,\u001b[49m\n\u001b[1;32m    269\u001b[0m \u001b[43m        \u001b[49m\u001b[43mtimeout\u001b[49m\u001b[38;5;241;43m=\u001b[39;49m\u001b[43mtimeout\u001b[49m\u001b[43m,\u001b[49m\n\u001b[1;32m    270\u001b[0m \u001b[43m        \u001b[49m\u001b[43mverify\u001b[49m\u001b[38;5;241;43m=\u001b[39;49m\u001b[43mverify\u001b[49m\u001b[43m,\u001b[49m\n\u001b[1;32m    271\u001b[0m \u001b[43m        \u001b[49m\u001b[43mcert\u001b[49m\u001b[38;5;241;43m=\u001b[39;49m\u001b[43mcert\u001b[49m\u001b[43m,\u001b[49m\n\u001b[1;32m    272\u001b[0m \u001b[43m        \u001b[49m\u001b[43mproxies\u001b[49m\u001b[38;5;241;43m=\u001b[39;49m\u001b[43mproxies\u001b[49m\u001b[43m,\u001b[49m\n\u001b[1;32m    273\u001b[0m \u001b[43m        \u001b[49m\u001b[43mallow_redirects\u001b[49m\u001b[38;5;241;43m=\u001b[39;49m\u001b[38;5;28;43;01mFalse\u001b[39;49;00m\u001b[43m,\u001b[49m\n\u001b[1;32m    274\u001b[0m \u001b[43m        \u001b[49m\u001b[38;5;241;43m*\u001b[39;49m\u001b[38;5;241;43m*\u001b[39;49m\u001b[43madapter_kwargs\u001b[49m\u001b[43m,\u001b[49m\n\u001b[1;32m    275\u001b[0m \u001b[43m    \u001b[49m\u001b[43m)\u001b[49m\n\u001b[1;32m    277\u001b[0m     extract_cookies_to_jar(\u001b[38;5;28mself\u001b[39m\u001b[38;5;241m.\u001b[39mcookies, prepared_request, resp\u001b[38;5;241m.\u001b[39mraw)\n",
      "File \u001b[0;32m~/.conda/envs/py-lightning-cbh/lib/python3.10/site-packages/requests/sessions.py:701\u001b[0m, in \u001b[0;36mSession.send\u001b[0;34m(self, request, **kwargs)\u001b[0m\n\u001b[1;32m    700\u001b[0m \u001b[38;5;66;03m# Send the request\u001b[39;00m\n\u001b[0;32m--> 701\u001b[0m r \u001b[38;5;241m=\u001b[39m \u001b[43madapter\u001b[49m\u001b[38;5;241;43m.\u001b[39;49m\u001b[43msend\u001b[49m\u001b[43m(\u001b[49m\u001b[43mrequest\u001b[49m\u001b[43m,\u001b[49m\u001b[43m \u001b[49m\u001b[38;5;241;43m*\u001b[39;49m\u001b[38;5;241;43m*\u001b[39;49m\u001b[43mkwargs\u001b[49m\u001b[43m)\u001b[49m\n\u001b[1;32m    703\u001b[0m \u001b[38;5;66;03m# Total elapsed time of the request (approximately)\u001b[39;00m\n",
      "File \u001b[0;32m~/.conda/envs/py-lightning-cbh/lib/python3.10/site-packages/requests/adapters.py:556\u001b[0m, in \u001b[0;36mHTTPAdapter.send\u001b[0;34m(self, request, stream, timeout, verify, cert, proxies)\u001b[0m\n\u001b[1;32m    555\u001b[0m \u001b[38;5;28;01mif\u001b[39;00m \u001b[38;5;28misinstance\u001b[39m(e\u001b[38;5;241m.\u001b[39mreason, ResponseError):\n\u001b[0;32m--> 556\u001b[0m     \u001b[38;5;28;01mraise\u001b[39;00m RetryError(e, request\u001b[38;5;241m=\u001b[39mrequest)\n\u001b[1;32m    558\u001b[0m \u001b[38;5;28;01mif\u001b[39;00m \u001b[38;5;28misinstance\u001b[39m(e\u001b[38;5;241m.\u001b[39mreason, _ProxyError):\n",
      "\u001b[0;31mRetryError\u001b[0m: HTTPConnectionPool(host='webproxy.metoffice.gov.uk', port=8080): Max retries exceeded with url: http://vld425.cmpd1.metoffice.gov.uk/api/2.0/mlflow/experiments/search (Caused by ResponseError('too many 503 error responses'))",
      "\nDuring handling of the above exception, another exception occurred:\n",
      "\u001b[0;31mMlflowException\u001b[0m                           Traceback (most recent call last)",
      "Cell \u001b[0;32mIn[27], line 1\u001b[0m\n\u001b[0;32m----> 1\u001b[0m \u001b[38;5;28mprint\u001b[39m(\u001b[43mmlflow_client\u001b[49m\u001b[38;5;241;43m.\u001b[39;49m\u001b[43msearch_experiments\u001b[49m\u001b[43m(\u001b[49m\u001b[43m)\u001b[49m)\n",
      "File \u001b[0;32m~/.conda/envs/py-lightning-cbh/lib/python3.10/site-packages/mlflow/tracking/client.py:514\u001b[0m, in \u001b[0;36mMlflowClient.search_experiments\u001b[0;34m(self, view_type, max_results, filter_string, order_by, page_token)\u001b[0m\n\u001b[1;32m    406\u001b[0m \u001b[38;5;28;01mdef\u001b[39;00m \u001b[38;5;21msearch_experiments\u001b[39m(\n\u001b[1;32m    407\u001b[0m     \u001b[38;5;28mself\u001b[39m,\n\u001b[1;32m    408\u001b[0m     view_type: \u001b[38;5;28mint\u001b[39m \u001b[38;5;241m=\u001b[39m ViewType\u001b[38;5;241m.\u001b[39mACTIVE_ONLY,\n\u001b[0;32m   (...)\u001b[0m\n\u001b[1;32m    412\u001b[0m     page_token\u001b[38;5;241m=\u001b[39m\u001b[38;5;28;01mNone\u001b[39;00m,\n\u001b[1;32m    413\u001b[0m ) \u001b[38;5;241m-\u001b[39m\u001b[38;5;241m>\u001b[39m PagedList[Experiment]:\n\u001b[1;32m    414\u001b[0m \u001b[38;5;250m    \u001b[39m\u001b[38;5;124;03m\"\"\"\u001b[39;00m\n\u001b[1;32m    415\u001b[0m \u001b[38;5;124;03m    Search for experiments that match the specified search query.\u001b[39;00m\n\u001b[1;32m    416\u001b[0m \n\u001b[0;32m   (...)\u001b[0m\n\u001b[1;32m    512\u001b[0m \u001b[38;5;124;03m        assert_experiment_names_equal(experiments, [\"bb\", \"ab\", \"b\", \"a\"])\u001b[39;00m\n\u001b[1;32m    513\u001b[0m \u001b[38;5;124;03m    \"\"\"\u001b[39;00m\n\u001b[0;32m--> 514\u001b[0m     \u001b[38;5;28;01mreturn\u001b[39;00m \u001b[38;5;28;43mself\u001b[39;49m\u001b[38;5;241;43m.\u001b[39;49m\u001b[43m_tracking_client\u001b[49m\u001b[38;5;241;43m.\u001b[39;49m\u001b[43msearch_experiments\u001b[49m\u001b[43m(\u001b[49m\n\u001b[1;32m    515\u001b[0m \u001b[43m        \u001b[49m\u001b[43mview_type\u001b[49m\u001b[38;5;241;43m=\u001b[39;49m\u001b[43mview_type\u001b[49m\u001b[43m,\u001b[49m\n\u001b[1;32m    516\u001b[0m \u001b[43m        \u001b[49m\u001b[43mmax_results\u001b[49m\u001b[38;5;241;43m=\u001b[39;49m\u001b[43mmax_results\u001b[49m\u001b[43m,\u001b[49m\n\u001b[1;32m    517\u001b[0m \u001b[43m        \u001b[49m\u001b[43mfilter_string\u001b[49m\u001b[38;5;241;43m=\u001b[39;49m\u001b[43mfilter_string\u001b[49m\u001b[43m,\u001b[49m\n\u001b[1;32m    518\u001b[0m \u001b[43m        \u001b[49m\u001b[43morder_by\u001b[49m\u001b[38;5;241;43m=\u001b[39;49m\u001b[43morder_by\u001b[49m\u001b[43m,\u001b[49m\n\u001b[1;32m    519\u001b[0m \u001b[43m        \u001b[49m\u001b[43mpage_token\u001b[49m\u001b[38;5;241;43m=\u001b[39;49m\u001b[43mpage_token\u001b[49m\u001b[43m,\u001b[49m\n\u001b[1;32m    520\u001b[0m \u001b[43m    \u001b[49m\u001b[43m)\u001b[49m\n",
      "File \u001b[0;32m~/.conda/envs/py-lightning-cbh/lib/python3.10/site-packages/mlflow/tracking/_tracking_service/client.py:221\u001b[0m, in \u001b[0;36mTrackingServiceClient.search_experiments\u001b[0;34m(self, view_type, max_results, filter_string, order_by, page_token)\u001b[0m\n\u001b[1;32m    160\u001b[0m \u001b[38;5;28;01mdef\u001b[39;00m \u001b[38;5;21msearch_experiments\u001b[39m(\n\u001b[1;32m    161\u001b[0m     \u001b[38;5;28mself\u001b[39m,\n\u001b[1;32m    162\u001b[0m     view_type\u001b[38;5;241m=\u001b[39mViewType\u001b[38;5;241m.\u001b[39mACTIVE_ONLY,\n\u001b[0;32m   (...)\u001b[0m\n\u001b[1;32m    166\u001b[0m     page_token\u001b[38;5;241m=\u001b[39m\u001b[38;5;28;01mNone\u001b[39;00m,\n\u001b[1;32m    167\u001b[0m ):\n\u001b[1;32m    168\u001b[0m \u001b[38;5;250m    \u001b[39m\u001b[38;5;124;03m\"\"\"\u001b[39;00m\n\u001b[1;32m    169\u001b[0m \u001b[38;5;124;03m    Search for experiments that match the specified search query.\u001b[39;00m\n\u001b[1;32m    170\u001b[0m \n\u001b[0;32m   (...)\u001b[0m\n\u001b[1;32m    219\u001b[0m \u001b[38;5;124;03m             for the next page can be obtained via the ``token`` attribute of the object.\u001b[39;00m\n\u001b[1;32m    220\u001b[0m \u001b[38;5;124;03m    \"\"\"\u001b[39;00m\n\u001b[0;32m--> 221\u001b[0m     \u001b[38;5;28;01mreturn\u001b[39;00m \u001b[38;5;28;43mself\u001b[39;49m\u001b[38;5;241;43m.\u001b[39;49m\u001b[43mstore\u001b[49m\u001b[38;5;241;43m.\u001b[39;49m\u001b[43msearch_experiments\u001b[49m\u001b[43m(\u001b[49m\n\u001b[1;32m    222\u001b[0m \u001b[43m        \u001b[49m\u001b[43mview_type\u001b[49m\u001b[38;5;241;43m=\u001b[39;49m\u001b[43mview_type\u001b[49m\u001b[43m,\u001b[49m\n\u001b[1;32m    223\u001b[0m \u001b[43m        \u001b[49m\u001b[43mmax_results\u001b[49m\u001b[38;5;241;43m=\u001b[39;49m\u001b[43mmax_results\u001b[49m\u001b[43m,\u001b[49m\n\u001b[1;32m    224\u001b[0m \u001b[43m        \u001b[49m\u001b[43mfilter_string\u001b[49m\u001b[38;5;241;43m=\u001b[39;49m\u001b[43mfilter_string\u001b[49m\u001b[43m,\u001b[49m\n\u001b[1;32m    225\u001b[0m \u001b[43m        \u001b[49m\u001b[43morder_by\u001b[49m\u001b[38;5;241;43m=\u001b[39;49m\u001b[43morder_by\u001b[49m\u001b[43m,\u001b[49m\n\u001b[1;32m    226\u001b[0m \u001b[43m        \u001b[49m\u001b[43mpage_token\u001b[49m\u001b[38;5;241;43m=\u001b[39;49m\u001b[43mpage_token\u001b[49m\u001b[43m,\u001b[49m\n\u001b[1;32m    227\u001b[0m \u001b[43m    \u001b[49m\u001b[43m)\u001b[49m\n",
      "File \u001b[0;32m~/.conda/envs/py-lightning-cbh/lib/python3.10/site-packages/mlflow/store/tracking/rest_store.py:104\u001b[0m, in \u001b[0;36mRestStore.search_experiments\u001b[0;34m(self, view_type, max_results, filter_string, order_by, page_token)\u001b[0m\n\u001b[1;32m     87\u001b[0m \u001b[38;5;28;01mdef\u001b[39;00m \u001b[38;5;21msearch_experiments\u001b[39m(\n\u001b[1;32m     88\u001b[0m     \u001b[38;5;28mself\u001b[39m,\n\u001b[1;32m     89\u001b[0m     view_type\u001b[38;5;241m=\u001b[39mViewType\u001b[38;5;241m.\u001b[39mACTIVE_ONLY,\n\u001b[0;32m   (...)\u001b[0m\n\u001b[1;32m     93\u001b[0m     page_token\u001b[38;5;241m=\u001b[39m\u001b[38;5;28;01mNone\u001b[39;00m,\n\u001b[1;32m     94\u001b[0m ):\n\u001b[1;32m     95\u001b[0m     req_body \u001b[38;5;241m=\u001b[39m message_to_json(\n\u001b[1;32m     96\u001b[0m         SearchExperiments(\n\u001b[1;32m     97\u001b[0m             view_type\u001b[38;5;241m=\u001b[39mview_type,\n\u001b[0;32m   (...)\u001b[0m\n\u001b[1;32m    102\u001b[0m         )\n\u001b[1;32m    103\u001b[0m     )\n\u001b[0;32m--> 104\u001b[0m     response_proto \u001b[38;5;241m=\u001b[39m \u001b[38;5;28;43mself\u001b[39;49m\u001b[38;5;241;43m.\u001b[39;49m\u001b[43m_call_endpoint\u001b[49m\u001b[43m(\u001b[49m\u001b[43mSearchExperiments\u001b[49m\u001b[43m,\u001b[49m\u001b[43m \u001b[49m\u001b[43mreq_body\u001b[49m\u001b[43m)\u001b[49m\n\u001b[1;32m    105\u001b[0m     experiments \u001b[38;5;241m=\u001b[39m [Experiment\u001b[38;5;241m.\u001b[39mfrom_proto(x) \u001b[38;5;28;01mfor\u001b[39;00m x \u001b[38;5;129;01min\u001b[39;00m response_proto\u001b[38;5;241m.\u001b[39mexperiments]\n\u001b[1;32m    106\u001b[0m     token \u001b[38;5;241m=\u001b[39m (\n\u001b[1;32m    107\u001b[0m         response_proto\u001b[38;5;241m.\u001b[39mnext_page_token \u001b[38;5;28;01mif\u001b[39;00m response_proto\u001b[38;5;241m.\u001b[39mHasField(\u001b[38;5;124m\"\u001b[39m\u001b[38;5;124mnext_page_token\u001b[39m\u001b[38;5;124m\"\u001b[39m) \u001b[38;5;28;01melse\u001b[39;00m \u001b[38;5;28;01mNone\u001b[39;00m\n\u001b[1;32m    108\u001b[0m     )\n",
      "File \u001b[0;32m~/.conda/envs/py-lightning-cbh/lib/python3.10/site-packages/mlflow/store/tracking/rest_store.py:57\u001b[0m, in \u001b[0;36mRestStore._call_endpoint\u001b[0;34m(self, api, json_body)\u001b[0m\n\u001b[1;32m     55\u001b[0m endpoint, method \u001b[38;5;241m=\u001b[39m _METHOD_TO_INFO[api]\n\u001b[1;32m     56\u001b[0m response_proto \u001b[38;5;241m=\u001b[39m api\u001b[38;5;241m.\u001b[39mResponse()\n\u001b[0;32m---> 57\u001b[0m \u001b[38;5;28;01mreturn\u001b[39;00m \u001b[43mcall_endpoint\u001b[49m\u001b[43m(\u001b[49m\u001b[38;5;28;43mself\u001b[39;49m\u001b[38;5;241;43m.\u001b[39;49m\u001b[43mget_host_creds\u001b[49m\u001b[43m(\u001b[49m\u001b[43m)\u001b[49m\u001b[43m,\u001b[49m\u001b[43m \u001b[49m\u001b[43mendpoint\u001b[49m\u001b[43m,\u001b[49m\u001b[43m \u001b[49m\u001b[43mmethod\u001b[49m\u001b[43m,\u001b[49m\u001b[43m \u001b[49m\u001b[43mjson_body\u001b[49m\u001b[43m,\u001b[49m\u001b[43m \u001b[49m\u001b[43mresponse_proto\u001b[49m\u001b[43m)\u001b[49m\n",
      "File \u001b[0;32m~/.conda/envs/py-lightning-cbh/lib/python3.10/site-packages/mlflow/utils/rest_utils.py:277\u001b[0m, in \u001b[0;36mcall_endpoint\u001b[0;34m(host_creds, endpoint, method, json_body, response_proto)\u001b[0m\n\u001b[1;32m    273\u001b[0m     response \u001b[38;5;241m=\u001b[39m http_request(\n\u001b[1;32m    274\u001b[0m         host_creds\u001b[38;5;241m=\u001b[39mhost_creds, endpoint\u001b[38;5;241m=\u001b[39mendpoint, method\u001b[38;5;241m=\u001b[39mmethod, params\u001b[38;5;241m=\u001b[39mjson_body\n\u001b[1;32m    275\u001b[0m     )\n\u001b[1;32m    276\u001b[0m \u001b[38;5;28;01melse\u001b[39;00m:\n\u001b[0;32m--> 277\u001b[0m     response \u001b[38;5;241m=\u001b[39m \u001b[43mhttp_request\u001b[49m\u001b[43m(\u001b[49m\n\u001b[1;32m    278\u001b[0m \u001b[43m        \u001b[49m\u001b[43mhost_creds\u001b[49m\u001b[38;5;241;43m=\u001b[39;49m\u001b[43mhost_creds\u001b[49m\u001b[43m,\u001b[49m\u001b[43m \u001b[49m\u001b[43mendpoint\u001b[49m\u001b[38;5;241;43m=\u001b[39;49m\u001b[43mendpoint\u001b[49m\u001b[43m,\u001b[49m\u001b[43m \u001b[49m\u001b[43mmethod\u001b[49m\u001b[38;5;241;43m=\u001b[39;49m\u001b[43mmethod\u001b[49m\u001b[43m,\u001b[49m\u001b[43m \u001b[49m\u001b[43mjson\u001b[49m\u001b[38;5;241;43m=\u001b[39;49m\u001b[43mjson_body\u001b[49m\n\u001b[1;32m    279\u001b[0m \u001b[43m    \u001b[49m\u001b[43m)\u001b[49m\n\u001b[1;32m    280\u001b[0m response \u001b[38;5;241m=\u001b[39m verify_rest_response(response, endpoint)\n\u001b[1;32m    281\u001b[0m js_dict \u001b[38;5;241m=\u001b[39m json\u001b[38;5;241m.\u001b[39mloads(response\u001b[38;5;241m.\u001b[39mtext)\n",
      "File \u001b[0;32m~/.conda/envs/py-lightning-cbh/lib/python3.10/site-packages/mlflow/utils/rest_utils.py:184\u001b[0m, in \u001b[0;36mhttp_request\u001b[0;34m(host_creds, endpoint, method, max_retries, backoff_factor, retry_codes, timeout, **kwargs)\u001b[0m\n\u001b[1;32m    178\u001b[0m     \u001b[38;5;28;01mraise\u001b[39;00m MlflowException(\n\u001b[1;32m    179\u001b[0m         \u001b[38;5;124mf\u001b[39m\u001b[38;5;124m\"\u001b[39m\u001b[38;5;124mAPI request to \u001b[39m\u001b[38;5;132;01m{\u001b[39;00murl\u001b[38;5;132;01m}\u001b[39;00m\u001b[38;5;124m failed with timeout exception \u001b[39m\u001b[38;5;132;01m{\u001b[39;00mto\u001b[38;5;132;01m}\u001b[39;00m\u001b[38;5;124m.\u001b[39m\u001b[38;5;124m\"\u001b[39m\n\u001b[1;32m    180\u001b[0m         \u001b[38;5;124mf\u001b[39m\u001b[38;5;124m\"\u001b[39m\u001b[38;5;124m To increase the timeout, set the environment variable \u001b[39m\u001b[38;5;132;01m{\u001b[39;00mMLFLOW_HTTP_REQUEST_TIMEOUT\u001b[38;5;132;01m}\u001b[39;00m\u001b[38;5;124m\"\u001b[39m\n\u001b[1;32m    181\u001b[0m         \u001b[38;5;124m\"\u001b[39m\u001b[38;5;124m to a larger value.\u001b[39m\u001b[38;5;124m\"\u001b[39m\n\u001b[1;32m    182\u001b[0m     )\n\u001b[1;32m    183\u001b[0m \u001b[38;5;28;01mexcept\u001b[39;00m \u001b[38;5;167;01mException\u001b[39;00m \u001b[38;5;28;01mas\u001b[39;00m e:\n\u001b[0;32m--> 184\u001b[0m     \u001b[38;5;28;01mraise\u001b[39;00m MlflowException(\u001b[38;5;124m\"\u001b[39m\u001b[38;5;124mAPI request to \u001b[39m\u001b[38;5;132;01m%s\u001b[39;00m\u001b[38;5;124m failed with exception \u001b[39m\u001b[38;5;132;01m%s\u001b[39;00m\u001b[38;5;124m\"\u001b[39m \u001b[38;5;241m%\u001b[39m (url, e))\n",
      "\u001b[0;31mMlflowException\u001b[0m: API request to http://vld425:5001/api/2.0/mlflow/experiments/search failed with exception HTTPConnectionPool(host='webproxy.metoffice.gov.uk', port=8080): Max retries exceeded with url: http://vld425.cmpd1.metoffice.gov.uk/api/2.0/mlflow/experiments/search (Caused by ResponseError('too many 503 error responses'))"
     ]
    }
   ],
   "source": [
    "print(mlflow_client.search_experiments())"
   ]
  },
  {
   "cell_type": "code",
   "execution_count": null,
   "id": "f124d055-1b30-461f-aa83-621aeefd26c6",
   "metadata": {},
   "outputs": [],
   "source": [
    "experiment_id = 3\n",
    "runs = mlflow_client.search_runs(experiment_ids=experiment_id)\n",
    "desired_run = [run for run in runs if run.info.run_id == model_run_hash][0]\n",
    "print(\"Run metrics:\", desired_run.data.metrics)\n",
    "print(\"\\nRun Hyperparams:\", desired_run.data.params)"
   ]
  },
  {
   "cell_type": "code",
   "execution_count": null,
   "id": "3b28a0a6-f4f8-4c7a-9d6d-3980fbfe1994",
   "metadata": {},
   "outputs": [],
   "source": [
    "reshp_preds = all_preds.reshape(480, 640)\n",
    "reshp_targ = all_targs.reshape(480, 640)\n",
    "fig = plt.figure(figsize=(10, 10))\n",
    "\n",
    "ax1 = fig.add_subplot(121)\n",
    "plt.title(\"Predictions (as map)\")\n",
    "pos1 = ax1.imshow(reshp_preds)\n",
    "\n",
    "ax2 = fig.add_subplot(122)\n",
    "plt.title(\"Targets (as map)\")\n",
    "pos = ax2.imshow(reshp_targ)\n",
    "\n",
    "\n",
    "fig.colorbar(pos1, ax=ax1, shrink=0.2, label=\"Cloud Base Height (70=None)\")\n",
    "fig.colorbar(pos, ax=ax2, shrink=0.2, label=\"Cloud Base Height (70=None)\")\n",
    "plt.show()"
   ]
  },
  {
   "cell_type": "markdown",
   "id": "3be5315d-6f79-4836-bec7-0d9adae8c484",
   "metadata": {},
   "source": [
    "Below is a plot of the difference between the target and predicted cloud base height. For all values that are yellow, the base was predicted to be too low, and for all blue values the value is predicted to be too high"
   ]
  },
  {
   "cell_type": "code",
   "execution_count": null,
   "id": "55658605-1960-4520-8382-18acbcc598ce",
   "metadata": {},
   "outputs": [],
   "source": [
    "fig = plt.figure(figsize=(20, 20))\n",
    "ax3 = fig.add_subplot(221)\n",
    "plt.title(\"Base Height Difference (Target base - Predicted base)\")\n",
    "diff_reshp = reshp_targ - reshp_preds\n",
    "pos3 = ax3.imshow(diff_reshp)\n",
    "fig.colorbar(pos3, ax=ax3, shrink=0.2, label=\"Base Height Difference\")\n",
    "plt.show()"
   ]
  },
  {
   "cell_type": "markdown",
   "id": "2461f7a9-ca5c-4422-96c7-6579c619cc26",
   "metadata": {},
   "source": [
    "a visualization which maps a set of challenge samples to their longitude and latitude can also aid in our understanding of where the model fails. For example if the model only performs well along the middle longitudes, it may be the case that the humidity has too much influence on the output of the model. These visualizations mapped to coordinates are useful when compared to the data exploration of data inputs ([also found in figure 1 of the paper](https://rmets.onlinelibrary.wiley.com/doi/10.1002/wea.4163))"
   ]
  },
  {
   "cell_type": "code",
   "execution_count": null,
   "id": "e9750aba-2982-4249-8c24-41b6ab3eb13c",
   "metadata": {},
   "outputs": [],
   "source": [
    "from scipy.special import softmax"
   ]
  },
  {
   "cell_type": "code",
   "execution_count": null,
   "id": "85c4a559-63fe-43e3-b46c-cb9a028cab2d",
   "metadata": {},
   "outputs": [],
   "source": [
    "all_pred_distributions = []\n",
    "for i, sample_batch in enumerate(test_dataloader):\n",
    "    all_targs = np.concatenate((all_targs, sample_batch[1]), axis=0)\n",
    "    x = sample_batch[0]\n",
    "    # x = torch.flatten(x, start_dim=1)\n",
    "    batch_preds = model(x)  # self call = forward\n",
    "    all_pred_distributions.append(softmax(batch_preds.detach().numpy(), axis=1))\n",
    "all_pred_distributions = np.array(all_pred_distributions[0])"
   ]
  },
  {
   "cell_type": "code",
   "execution_count": null,
   "id": "10f58909-02a7-4b89-a21f-a4709e51f8a3",
   "metadata": {},
   "outputs": [],
   "source": [
    "print(all_pred_distributions[0])"
   ]
  },
  {
   "cell_type": "markdown",
   "id": "f81ded2d-de67-46bc-a33b-2246bbd109e9",
   "metadata": {},
   "source": [
    "Below plots the distribution of the predictions, Since the model produces a score for every height layer(x-axis), if the model is more confident on a sample (y-axis) then the value for a single class will be colored, and a range of classes will be colored for ambiguous model predictions"
   ]
  },
  {
   "cell_type": "code",
   "execution_count": null,
   "id": "f6341e00-2b1b-4b28-a81b-dcfcbad965b0",
   "metadata": {},
   "outputs": [],
   "source": [
    "fig, ax = plt.subplots(figsize=(18,6))\n",
    "plt.title(\"Prediction distributions\")\n",
    "im = ax.imshow(np.flip(all_pred_distributions.T), extent=[0, len(all_pred_distributions), 0, 70], interpolation=\"none\", aspect='auto')\n",
    "fig.colorbar(im, cmap='rwb', label=\"Distribution of score in sample\")\n",
    "plt.xlabel(\"Sample ID\")\n",
    "plt.ylabel(\"Cloud Height (69=No Base)\")\n",
    "plt.show()"
   ]
  },
  {
   "cell_type": "markdown",
   "id": "c14ecc2e-1ee8-44a3-9865-e944aa5acad7",
   "metadata": {},
   "source": [
    "since the model produces a distribution of \"pseudo-probability\" this can be shown as above, and the truth below. see discussion on the issues with softmax as an uncertainty quantification https://stats.stackexchange.com/questions/309642/why-is-softmax-output-not-a-good-uncertainty-measure-for-deep-learning-models"
   ]
  },
  {
   "cell_type": "markdown",
   "id": "e59dcfd3-faf2-4245-879e-99ef0a460703",
   "metadata": {},
   "source": [
    "Below is the truth for the plot above, for every sample on the y-axis. the yellow coloring marks the base from 0-69 on the x-axis"
   ]
  },
  {
   "cell_type": "code",
   "execution_count": null,
   "id": "152652b3-77b5-4132-8316-ced866d9840e",
   "metadata": {},
   "outputs": [],
   "source": [
    "fig, ax = plt.subplots(figsize=(18,6))\n",
    "nb_classes = 70\n",
    "targets = all_targs.T.astype(int)\n",
    "one_hot_targets = np.eye(nb_classes)[targets]\n",
    "plt.title(\"Truth\")\n",
    "im = ax.imshow(np.flip(one_hot_targets.T), extent=[0, len(all_pred_distributions), 0, 70], interpolation=\"none\", aspect='auto')\n",
    "fig.colorbar(im, cmap='rwb')\n",
    "plt.xlabel(\"Sample ID\")\n",
    "plt.ylabel(\"Cloud Height (69=No Base)\")\n",
    "plt.show()"
   ]
  },
  {
   "cell_type": "markdown",
   "id": "4b0b95cd-aa00-45c6-a81d-ee1b9a257b1a",
   "metadata": {},
   "source": [
    "## Discussion\n",
    "\n",
    "Evaluation is the most important part of the ML pipeline, evaluation should be both general for some context around performance and specific to the problem. Evaluation should happen after any result is generated, as it helps to inform improvements that need to be made in addition to the showing current performance, revealing challenges, and verifying correctness of the pipeline.\n",
    "\n",
    "Evaluation not shown here includes inspection of the logging tools used during model training loops, which is also important.\n",
    "\n",
    "Using XAI techniques can also evaluate a model. Explainable/interpretable can also lead to understanding model failures on top of XAI's numerous benefits.\n",
    "\n",
    "#### Links/Resources\n",
    "\n",
    "1. [Cloud Base Height Challenge Paper](https://doi.org/10.1002/wea.4163)\n",
    "1. [Standard Eval Metrics](https://neptune.ai/blog/performance-metrics-in-machine-learning-complete-guide)\n",
    "1. [XAI Primer](https://openaccess.city.ac.uk/id/eprint/23405/8/)"
   ]
  },
  {
   "cell_type": "code",
   "execution_count": null,
   "id": "28db10f1-7639-4e3d-b588-a185c1f0242a",
   "metadata": {},
   "outputs": [],
   "source": []
  }
 ],
 "metadata": {
  "kernelspec": {
   "display_name": ".conda-py-lightning-cbh Python (Conda)",
   "language": "python",
   "name": "conda-env-.conda-py-lightning-cbh-py"
  },
  "language_info": {
   "codemirror_mode": {
    "name": "ipython",
    "version": 3
   },
   "file_extension": ".py",
   "mimetype": "text/x-python",
   "name": "python",
   "nbconvert_exporter": "python",
   "pygments_lexer": "ipython3",
   "version": "3.10.9"
  }
 },
 "nbformat": 4,
 "nbformat_minor": 5
}
